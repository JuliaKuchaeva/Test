{
 "cells": [
  {
   "cell_type": "markdown",
   "metadata": {},
   "source": [
    "<div style=\"border:solid green 3px; padding: 20px\">\n",
    "\n",
    "<b>Привет!</b>\n",
    "\n",
    "Меня зовут Сороколетов Илья и я буду проверять твой проект. \n",
    "\n",
    "Предлагаю общаться на «**ты**», но если тебе будет комфортнее общаться на «**вы**», то сообщи об этом в комментариях)\n",
    "\n",
    "\n",
    "Для твоего удобства, я буду выделять свои комментарии следующим образом:\n",
    "\n",
    "<div class=\"alert alert-danger\">\n",
    "<b>❌ Комментарий ревьюера v1:</b> Самые важные замечания. Они указывают на ключевые моменты, которые влияют на конечный результат проекта. </div>\n",
    "\n",
    "<div class=\"alert alert-warning\">\n",
    "<b>⚠️ Комментарий ревьюера v1:</b> Советы или замечания, которые помогут сделать твою работу лучше, но необязательны к выполнению.\n",
    "\n",
    "</div>\n",
    "\n",
    "<div class=\"alert alert-success\">\n",
    "<b>✔️ Комментарий ревьюера v1:</b> Так я выделяю все остальные комментарии.</div>\n",
    "\n",
    "\n",
    "Пометками <b>v1-v2-v3-...</b> я буду отмечать версию проверки. Так ты сможешь быстро найти мои новые комментарии.\n",
    "\n",
    "Давай работать над проектом в диалоге: если ты что-то меняешь в проекте по моим рекомендациям — пиши об этом. Выбери для своих комментариев какой-то заметный цвет, так мне будет легче отследить изменения, например вот так:\n",
    "    \n",
    "<div class=\"alert alert-info\">\n",
    "<b>Комментарий студента:</b>\n",
    "<br>\n",
    "</div>\n",
    "\n",
    "<b>Пожалуйста, не перемещай, не изменяй и не удаляй мои комментарии.</b> Если ты оставляешь свои комментарии, то делай это под моими, чтобы сообщения были расположены в хронологическом порядке. Всё это поможет выполнить повторную проверку твоего проекта быстрее. \n",
    "\n",
    "Перед отправкой работы я рекомендую нажимать Kernel -> Restart & Run All. Это перезапустит ядро и по очереди выполнит все ячейки. Так ты сможешь проверить, что всё работает корректно. Кнопка Kernel находится в панели сверху\n",
    "\n",
    "Обязательно задавай вопросы если они возникнут, а я перехожу к проверке)\n",
    "\n",
    "P.S. На всякий случай, я оставлю пустой шаблон для твоих комментариев ниже. Кликни два раза на мой комментарий, скопируй последние четыре строчки кода и вставляй их в пустую ячейку там, где ты хочешь оставить комментарий. Не забудь только перед этим сменить тип ячейки на Markdown. Быстро это можно сделать так: кликнуть на ячейку - нажать ESC - нажать M. \n",
    "    \n",
    "    \n",
    "<div class=\"alert alert-info\">\n",
    "<b>Комментарий студента:</b>\n",
    "<br>Удали этот текст и вместо него напиши свой комментарий 🙂\n",
    "</div>"
   ]
  },
  {
   "cell_type": "markdown",
   "metadata": {},
   "source": [
    "# Исследование объявлений о продаже квартир\n",
    "\n",
    "В вашем распоряжении данные сервиса Яндекс.Недвижимость — архив объявлений о продаже квартир в Санкт-Петербурге и соседних населённых пунктов за несколько лет. Нужно научиться определять рыночную стоимость объектов недвижимости. Ваша задача — установить параметры. Это позволит построить автоматизированную систему: она отследит аномалии и мошенническую деятельность. \n",
    "\n",
    "По каждой квартире на продажу доступны два вида данных. Первые вписаны пользователем, вторые — получены автоматически на основе картографических данных. Например, расстояние до центра, аэропорта, ближайшего парка и водоёма. "
   ]
  },
  {
   "cell_type": "markdown",
   "metadata": {},
   "source": [
    "### Откройте файл с данными и изучите общую информацию. "
   ]
  },
  {
   "cell_type": "code",
   "execution_count": 1,
   "metadata": {},
   "outputs": [
    {
     "name": "stdout",
     "output_type": "stream",
     "text": [
      "   total_images  last_price  total_area first_day_exposition  rooms  \\\n",
      "0            20  13000000.0       108.0  2019-03-07T00:00:00      3   \n",
      "1             7   3350000.0        40.4  2018-12-04T00:00:00      1   \n",
      "2            10   5196000.0        56.0  2015-08-20T00:00:00      2   \n",
      "3             0  64900000.0       159.0  2015-07-24T00:00:00      3   \n",
      "4             2  10000000.0       100.0  2018-06-19T00:00:00      2   \n",
      "\n",
      "   ceiling_height  floors_total  living_area  floor is_apartment  ...  \\\n",
      "0            2.70          16.0         51.0      8          NaN  ...   \n",
      "1             NaN          11.0         18.6      1          NaN  ...   \n",
      "2             NaN           5.0         34.3      4          NaN  ...   \n",
      "3             NaN          14.0          NaN      9          NaN  ...   \n",
      "4            3.03          14.0         32.0     13          NaN  ...   \n",
      "\n",
      "   kitchen_area  balcony    locality_name  airports_nearest  \\\n",
      "0          25.0      NaN  Санкт-Петербург           18863.0   \n",
      "1          11.0      2.0   посёлок Шушары           12817.0   \n",
      "2           8.3      0.0  Санкт-Петербург           21741.0   \n",
      "3           NaN      0.0  Санкт-Петербург           28098.0   \n",
      "4          41.0      NaN  Санкт-Петербург           31856.0   \n",
      "\n",
      "  cityCenters_nearest  parks_around3000  parks_nearest  ponds_around3000  \\\n",
      "0             16028.0               1.0          482.0               2.0   \n",
      "1             18603.0               0.0            NaN               0.0   \n",
      "2             13933.0               1.0           90.0               2.0   \n",
      "3              6800.0               2.0           84.0               3.0   \n",
      "4              8098.0               2.0          112.0               1.0   \n",
      "\n",
      "   ponds_nearest  days_exposition  \n",
      "0          755.0              NaN  \n",
      "1            NaN             81.0  \n",
      "2          574.0            558.0  \n",
      "3          234.0            424.0  \n",
      "4           48.0            121.0  \n",
      "\n",
      "[5 rows x 22 columns]\n",
      "<class 'pandas.core.frame.DataFrame'>\n",
      "RangeIndex: 23699 entries, 0 to 23698\n",
      "Data columns (total 22 columns):\n",
      " #   Column                Non-Null Count  Dtype  \n",
      "---  ------                --------------  -----  \n",
      " 0   total_images          23699 non-null  int64  \n",
      " 1   last_price            23699 non-null  float64\n",
      " 2   total_area            23699 non-null  float64\n",
      " 3   first_day_exposition  23699 non-null  object \n",
      " 4   rooms                 23699 non-null  int64  \n",
      " 5   ceiling_height        14504 non-null  float64\n",
      " 6   floors_total          23613 non-null  float64\n",
      " 7   living_area           21796 non-null  float64\n",
      " 8   floor                 23699 non-null  int64  \n",
      " 9   is_apartment          2775 non-null   object \n",
      " 10  studio                23699 non-null  bool   \n",
      " 11  open_plan             23699 non-null  bool   \n",
      " 12  kitchen_area          21421 non-null  float64\n",
      " 13  balcony               12180 non-null  float64\n",
      " 14  locality_name         23650 non-null  object \n",
      " 15  airports_nearest      18157 non-null  float64\n",
      " 16  cityCenters_nearest   18180 non-null  float64\n",
      " 17  parks_around3000      18181 non-null  float64\n",
      " 18  parks_nearest         8079 non-null   float64\n",
      " 19  ponds_around3000      18181 non-null  float64\n",
      " 20  ponds_nearest         9110 non-null   float64\n",
      " 21  days_exposition       20518 non-null  float64\n",
      "dtypes: bool(2), float64(14), int64(3), object(3)\n",
      "memory usage: 3.7+ MB\n",
      "None\n",
      "total_images                0\n",
      "last_price                  0\n",
      "total_area                  0\n",
      "first_day_exposition        0\n",
      "rooms                       0\n",
      "ceiling_height           9195\n",
      "floors_total               86\n",
      "living_area              1903\n",
      "floor                       0\n",
      "is_apartment            20924\n",
      "studio                      0\n",
      "open_plan                   0\n",
      "kitchen_area             2278\n",
      "balcony                 11519\n",
      "locality_name              49\n",
      "airports_nearest         5542\n",
      "cityCenters_nearest      5519\n",
      "parks_around3000         5518\n",
      "parks_nearest           15620\n",
      "ponds_around3000         5518\n",
      "ponds_nearest           14589\n",
      "days_exposition          3181\n",
      "dtype: int64\n",
      "       total_images    last_price    total_area         rooms  ceiling_height  \\\n",
      "count  23699.000000  2.369900e+04  23699.000000  23699.000000    14504.000000   \n",
      "mean       9.858475  6.541549e+06     60.348651      2.070636        2.771499   \n",
      "std        5.682529  1.088701e+07     35.654083      1.078405        1.261056   \n",
      "min        0.000000  1.219000e+04     12.000000      0.000000        1.000000   \n",
      "25%        6.000000  3.400000e+06     40.000000      1.000000        2.520000   \n",
      "50%        9.000000  4.650000e+06     52.000000      2.000000        2.650000   \n",
      "75%       14.000000  6.800000e+06     69.900000      3.000000        2.800000   \n",
      "max       50.000000  7.630000e+08    900.000000     19.000000      100.000000   \n",
      "\n",
      "       floors_total   living_area         floor  kitchen_area       balcony  \\\n",
      "count  23613.000000  21796.000000  23699.000000  21421.000000  12180.000000   \n",
      "mean      10.673824     34.457852      5.892358     10.569807      1.150082   \n",
      "std        6.597173     22.030445      4.885249      5.905438      1.071300   \n",
      "min        1.000000      2.000000      1.000000      1.300000      0.000000   \n",
      "25%        5.000000     18.600000      2.000000      7.000000      0.000000   \n",
      "50%        9.000000     30.000000      4.000000      9.100000      1.000000   \n",
      "75%       16.000000     42.300000      8.000000     12.000000      2.000000   \n",
      "max       60.000000    409.700000     33.000000    112.000000      5.000000   \n",
      "\n",
      "       airports_nearest  cityCenters_nearest  parks_around3000  parks_nearest  \\\n",
      "count      18157.000000         18180.000000      18181.000000    8079.000000   \n",
      "mean       28793.672193         14191.277833          0.611408     490.804555   \n",
      "std        12630.880622          8608.386210          0.802074     342.317995   \n",
      "min            0.000000           181.000000          0.000000       1.000000   \n",
      "25%        18585.000000          9238.000000          0.000000     288.000000   \n",
      "50%        26726.000000         13098.500000          0.000000     455.000000   \n",
      "75%        37273.000000         16293.000000          1.000000     612.000000   \n",
      "max        84869.000000         65968.000000          3.000000    3190.000000   \n",
      "\n",
      "       ponds_around3000  ponds_nearest  days_exposition  \n",
      "count      18181.000000    9110.000000     20518.000000  \n",
      "mean           0.770255     517.980900       180.888634  \n",
      "std            0.938346     277.720643       219.727988  \n",
      "min            0.000000      13.000000         1.000000  \n",
      "25%            0.000000     294.000000        45.000000  \n",
      "50%            1.000000     502.000000        95.000000  \n",
      "75%            1.000000     729.000000       232.000000  \n",
      "max            3.000000    1344.000000      1580.000000  \n"
     ]
    },
    {
     "data": {
      "image/png": "[encoded data removed]",
      "text/plain": [
       "<Figure size 1080x1440 with 20 Axes>"
      ]
     },
     "metadata": {
      "needs_background": "light"
     },
     "output_type": "display_data"
    }
   ],
   "source": [
    "import pandas as pd\n",
    "import matplotlib.pyplot as plt\n",
    "import numpy as np\n",
    "data= pd.read_csv('/datasets/real_estate_data.csv', sep ='\\t')\n",
    "print(data.head())\n",
    "print(data.info())\n",
    "print(data.isna().sum())\n",
    "print(data.describe())\n",
    "data.hist(figsize=(15, 20))\n",
    "plt.show()\n",
    "\n",
    "\n"
   ]
  },
  {
   "cell_type": "markdown",
   "metadata": {},
   "source": [
    "<div class=\"alert alert-warning\">\n",
    "<b>⚠️ Комментарий ревьюера v1:</b> \n",
    "<br>Все библиотеки лучше импортировать отдельно в первой ячейке. Это позволит тебе в любой момент добавить ещё одну библиотеку без перезаписи переменных.\n",
    "</div>"
   ]
  },
  {
   "cell_type": "markdown",
   "metadata": {},
   "source": [
    "<div class=\"alert alert-warning\">\n",
    "<b>⚠️ Комментарий ревьюера v1:</b> \n",
    "<br>Для вывода таблиц лучше использовать функцию display\n",
    "</div>"
   ]
  },
  {
   "cell_type": "markdown",
   "metadata": {},
   "source": [
    "<div class=\"alert alert-danger\">\n",
    "<b>❌ Комментарий ревьюера v1:</b> \n",
    "<br>Не выполнено задание 1.3:   \n",
    "<br>Постройте общую гистограмму для всех столбцов таблицы. Например, для датафрейма data это можно сделать командой data.hist(figsize=(15, 20)).\n",
    "</div>"
   ]
  },
  {
   "cell_type": "markdown",
   "metadata": {},
   "source": [
    "<div class=\"alert alert-info\">\n",
    "<b>Комментарий студента:</b>\n",
    "<br> Илья,привет! 🙂\n",
    "    Общую гистограмму построила.🙂\n",
    "</div>"
   ]
  },
  {
   "cell_type": "markdown",
   "metadata": {},
   "source": [
    "<div class=\"alert alert-success\">\n",
    "<b>✔️ Комментарий ревьюера v2:</b>\n",
    "<br>Правка выполнена 👍\n",
    "</div>"
   ]
  },
  {
   "cell_type": "markdown",
   "metadata": {},
   "source": [
    "<div class=\"alert alert-danger\">\n",
    "<b>❌ Комментарий ревьюера v1:</b> \n",
    "<br>Здесь необходимо написать короткий вывод о проблемах с данными (пропуски, дубликаты, неверный тип данных, странные значения и т.д.)\n",
    "</div>\n",
    "<div class=\"alert alert-info\">\n",
    "<b>Комментарий студента:</b>\n",
    "<br> \n",
    "    Вывод по результатам первого ознакомления со структурой базы данных:\\\n",
    "    \n",
    "1) наименования всех столбцов (кроме 'cityCenters_nearest') соответстуют принятой стилистике;\\\n",
    "    \n",
    "2) присутствуют пустые значения по нескольким столбцам, особенно их много в:\\\n",
    "    'is_apartment','balcony', 'ceiling_height', 'parks_nearest' и 'ponds_nearest'.\\\n",
    "3) следующие столбцы имеют некорректный тип данных: \\\n",
    "    - 'first_day_exposition' (присвоить тип 'дата');\\\n",
    "    - 'floors_total' (количество этажей не может иметь тип float);\\\n",
    "    - 'is_apartment' (корректнее присвоить тип 'bool');\\\n",
    "    - 'balcony' не может иметь тип float, необходимо изменить на integer;\\\n",
    "    - 'parks_around3000', 'ponds_around3000' и 'days_exposition' - на integer;\\\n",
    "4) необходимо проверить 'locality_name' на неявные дубликаты;\\\n",
    "5) присутствуют аномальные значения, например:\\\n",
    "    - общая площадь = 900 кв.м,\\\n",
    "    - жилая площадь = 409 кв.м,\\\n",
    "    - квартиры 'без комнат' (значение в 'rooms' =0) или с 19-тью комнатами,\\\n",
    "    - потолки по 100 м,\\\n",
    "    - 60- этажный дом, квартира на 33-ем этаже (в Спб нет таких небоскребов в силу особенностей грунта)\\\n",
    "    - кухня 1,3 метра\\\n",
    "    - 5 балконов в квартире\\🙂\n",
    "</div>"
   ]
  },
  {
   "cell_type": "markdown",
   "metadata": {},
   "source": [
    "<div class=\"alert alert-success\">\n",
    "<b>✔️ Комментарий ревьюера v2:</b>\n",
    "<br>Правка выполнена 👍\n",
    "</div>"
   ]
  },
  {
   "cell_type": "markdown",
   "metadata": {},
   "source": [
    "### Предобработка данных"
   ]
  },
  {
   "cell_type": "code",
   "execution_count": 2,
   "metadata": {},
   "outputs": [],
   "source": [
    "data.columns = data.columns.str.lower() # все буквы строчные в названии столбцов\n",
    "# изменение форматов данных:\n",
    "data['first_day_exposition'] = pd.to_datetime(data['first_day_exposition'], format='%Y-%m-%dT%H:%M:%S')# приводим к формату\n",
    "#'дата'для дальнейшей группировки по периодам.\n",
    "\n",
    "data['is_apartment'] = data['is_apartment'].fillna('False') # в столбеце \"Апартаменты\" пустые значения заменили на \"False\" \n",
    "#(допущение: если пользователь не заполнил данный параметр, то по умолчанию помещение не является апартаментом.)\n",
    "data['is_apartment'] = data['is_apartment'].astype('bool') # переводим из строкового формата в формат \"bool\" \n",
    "#(является апартаментом- True,не является - False)\n"
   ]
  },
  {
   "cell_type": "markdown",
   "metadata": {},
   "source": [
    "<div class=\"alert alert-success\">\n",
    "<b>✔️ Комментарий ревьюера v2:</b> \n",
    "<br>👌\n",
    "</div>"
   ]
  },
  {
   "cell_type": "code",
   "execution_count": 3,
   "metadata": {},
   "outputs": [],
   "source": [
    "data.dropna(subset = ['locality_name'],inplace = True) # удаление строк, в которых не указан населенный пункт (всего 49)\n",
    "data.dropna(subset = ['floors_total'],inplace = True) # удаление строк, в которых не указано общее число этажей в доме (всего 86)\n",
    "data['floors_total'] = data['floors_total'].astype('int') # количество этажей - 'целое' значение\n",
    "data['balcony'] = data['balcony'].fillna(0).astype('int') # в столбце \"количество балконов\" пустые ячейки заменили на \"0\" \n",
    "#(допущение: если пользователь не указал количество, то в квартире балконов нет), меняем тим на integer (кол-во балконов - целое)"
   ]
  },
  {
   "cell_type": "markdown",
   "metadata": {},
   "source": [
    "<div class=\"alert alert-success\">\n",
    "<b>✔️ Комментарий ревьюера v2:</b> \n",
    "<br>Удалить пропуски в этих столбцах - это хорошее решение. \n",
    "</div>"
   ]
  },
  {
   "cell_type": "markdown",
   "metadata": {},
   "source": [
    "<div class=\"alert alert-warning\">\n",
    "<b>⚠️ Комментарий ревьюера v2:</b> \n",
    "<br>Методы fillna и astype можно применить к нескольким столбюца одновременно\n",
    "\n",
    "\tdf.astype({ \"col1\": \"float64\", \"col2\": \"int64\"})\n",
    "<br>Если столбцов более двух, то можно применить цикл for для автоматизации процесса\n",
    "</div>"
   ]
  },
  {
   "cell_type": "code",
   "execution_count": 4,
   "metadata": {},
   "outputs": [
    {
     "name": "stdout",
     "output_type": "stream",
     "text": [
      "Парки:\n",
      "Empty DataFrame\n",
      "Columns: [total_images, last_price, total_area, first_day_exposition, rooms, ceiling_height, floors_total, living_area, floor, is_apartment, studio, open_plan, kitchen_area, balcony, locality_name, airports_nearest, citycenters_nearest, parks_around3000, parks_nearest, ponds_around3000, ponds_nearest, days_exposition]\n",
      "Index: []\n",
      "\n",
      "[0 rows x 22 columns]\n",
      "Empty DataFrame\n",
      "Columns: [total_images, last_price, total_area, first_day_exposition, rooms, ceiling_height, floors_total, living_area, floor, is_apartment, studio, open_plan, kitchen_area, balcony, locality_name, airports_nearest, citycenters_nearest, parks_around3000, parks_nearest, ponds_around3000, ponds_nearest, days_exposition]\n",
      "Index: []\n",
      "\n",
      "[0 rows x 22 columns]\n",
      "parks_around3000 >0 и <3000: 8026\n",
      "parks_nearest всего: 8030\n",
      "parks_nearest >3000: 4\n",
      "проверим значения в \"parks_nearest\" при \"parks_around3000\"=0: [  nan 3064. 3190. 3013.]\n",
      "\n"
     ]
    }
   ],
   "source": [
    "# анализ столбцов \"parks_around3000\" и \"parks_nearest\" на предмет ошибок в заполнении (количество пропусков в 'parks_nearest' в 3 раза болше пропусков в \"parks_around3000\"):\n",
    "# 1) проверяем есть ли строки, в которых 'parks_nearest' <3 км, при этом столбец 'parks_around3000' не заполнен \n",
    "#(таких не выявлено)\n",
    "print('Парки:')\n",
    "print(data.query('(parks_around3000 == 0 or parks_around3000.isna()) and parks_nearest < 3000')) \n",
    "# 2) проверяем есть ли строки, в которых 'parks_around3000' >0, при этом столбец 'parks_nearest' не заполнен (таких не выявлено)\n",
    "print(data.query('(parks_nearest == 0 or parks_nearest.isna()) and parks_around3000 > 0')) \n",
    "# 3) выводим количество ячеек со значением >0 в обоих столбцах:\n",
    "print(\"parks_around3000 >0 и <3000:\", data[data['parks_around3000']>0]['parks_around3000'].count()) \n",
    "print(\"parks_nearest всего:\",data['parks_nearest'].count())\n",
    "print(\"parks_nearest >3000:\",data[data['parks_nearest']>3000]['parks_nearest'].count())\n",
    "# 4) количество пропусков в 'parks_nearest' в 3 раза болше пропусков в \"parks_around3000\" ввиду того, что по многим строкам\n",
    "# в \"parks_around3000\" стоит '0' , а в 'parks_nearest' = NaN\n",
    "print('проверим значения в \"parks_nearest\" при \"parks_around3000\"=0:',data[data['parks_around3000'] == 0]['parks_nearest'].unique())\n",
    "\n",
    "# 5) Таким образом, логических ошибок в заполнении данных столбцов не выявлено, значения NaN в 'parks_around3000' заменим на '0':\n",
    "data['parks_around3000'] = data['parks_around3000'].fillna(0).astype('int') # количество парков - целое значение\n",
    "print()"
   ]
  },
  {
   "cell_type": "markdown",
   "metadata": {},
   "source": [
    "<div class=\"alert alert-success\">\n",
    "<b>✔️ Комментарий ревьюера v2:</b> \n",
    "<br>👌\n",
    "</div>"
   ]
  },
  {
   "cell_type": "code",
   "execution_count": 5,
   "metadata": {},
   "outputs": [
    {
     "name": "stdout",
     "output_type": "stream",
     "text": [
      "Пруды:\n",
      "Empty DataFrame\n",
      "Columns: [total_images, last_price, total_area, first_day_exposition, rooms, ceiling_height, floors_total, living_area, floor, is_apartment, studio, open_plan, kitchen_area, balcony, locality_name, airports_nearest, citycenters_nearest, parks_around3000, parks_nearest, ponds_around3000, ponds_nearest, days_exposition]\n",
      "Index: []\n",
      "\n",
      "[0 rows x 22 columns]\n",
      "Empty DataFrame\n",
      "Columns: [total_images, last_price, total_area, first_day_exposition, rooms, ceiling_height, floors_total, living_area, floor, is_apartment, studio, open_plan, kitchen_area, balcony, locality_name, airports_nearest, citycenters_nearest, parks_around3000, parks_nearest, ponds_around3000, ponds_nearest, days_exposition]\n",
      "Index: []\n",
      "\n",
      "[0 rows x 22 columns]\n",
      "ponds_around3000 >0 и <3000: 9036\n",
      "ponds_nearest всего: 9036\n",
      "ponds_nearest >3000: 0\n",
      "проверим значения в \"ponds_nearest\" при \"ponds_around3000\"=0: [nan]\n",
      "\n"
     ]
    }
   ],
   "source": [
    "# анализ столбцов 'ponds_around3000' и 'ponds_nearest' на предмет ошибок в заполнении (количество пропусков в 'ponds_nearest' примено в 3 раза болше пропусков в \"ponds_around3000\"):\n",
    "# 1) проверяем есть ли строки, в которых 'ponds_nearest' <3 км, при этом столбец 'ponds_around3000' не заполнен \\\n",
    "#(таких не выявлено)\n",
    "print('Пруды:')\n",
    "print(data.query('(ponds_around3000 == 0 or ponds_around3000.isna()) and ponds_nearest < 3000')) \n",
    "# 2) проверяем есть ли строки, в которых 'ponds_around3000' >0, при этом столбец 'ponds_nearest' не заполнен (таких не выявлено)\n",
    "print(data.query('(ponds_nearest == 0 or ponds_nearest.isna()) and ponds_around3000 > 0')) \n",
    "# 3) выводим количество ячеек >0 в обоих столбцах:\n",
    "print(\"ponds_around3000 >0 и <3000:\", data[data['ponds_around3000']>0]['ponds_around3000'].count()) \n",
    "print(\"ponds_nearest всего:\",data['ponds_nearest'].count())\n",
    "print(\"ponds_nearest >3000:\",data[data['ponds_nearest']>3000]['ponds_nearest'].count())\n",
    "# 4) количество пропусков в 'ponds_nearest' в 3 раза болше пропусков в \"ponds_around3000\" ввиду того, что по многим строкам\n",
    "# в \"ponds_around3000\" стоит '0' , а в 'ponds_nearest' = NaN\n",
    "print('проверим значения в \"ponds_nearest\" при \"ponds_around3000\"=0:',data[data['ponds_around3000'] == 0]['ponds_nearest'].unique())\n",
    "\n",
    "# 5) Таким образом, логических ошибок в заполнении данных столбцов не выявлено, значения NaN в 'ponds_around3000' заменим на '0':\n",
    "data['ponds_around3000'] = data['ponds_around3000'].fillna(0).astype('int') # NaN -отсутствие прудов поблизости, \\\n",
    "# меняем на '0' ,кол-во прудов - целое значение\n",
    "print()"
   ]
  },
  {
   "cell_type": "markdown",
   "metadata": {},
   "source": [
    "<div class=\"alert alert-success\">\n",
    "<b>✔️ Комментарий ревьюера v2:</b> \n",
    "<br>👌\n",
    "</div>"
   ]
  },
  {
   "cell_type": "code",
   "execution_count": 6,
   "metadata": {},
   "outputs": [
    {
     "name": "stdout",
     "output_type": "stream",
     "text": [
      "высота потолков после обработки: count    23536.000000\n",
      "mean         2.697378\n",
      "std          0.220870\n",
      "min          2.340000\n",
      "25%          2.600000\n",
      "50%          2.650000\n",
      "75%          2.700000\n",
      "max          6.000000\n",
      "Name: ceiling_height, dtype: float64\n"
     ]
    }
   ],
   "source": [
    "# Высота потолков\n",
    "data['ceiling_height'] = data['ceiling_height'].fillna(data['ceiling_height'].median()) # Пропуски в высоте потолков \n",
    "#заполняем медианой\n",
    "# потолки более 20 м считаем ошибкой пользователя при заведении и делим на 10:\n",
    "data.loc[data['ceiling_height']>20, 'ceiling_height'] = data.loc[data['ceiling_height']>20, 'ceiling_height'] / 10  \n",
    "data = data[data['ceiling_height']>2.3] # удаляем из датафрейма квартиры с потолками менее 2.3 метра.\n",
    "data = data[data['ceiling_height']<=6] # удаляем из датафрейма квартиры с потолками более 6 метров.\n",
    "print('высота потолков после обработки:', data['ceiling_height'].describe()) # проверяем характеристики данных данного столбца после внесения изменений."
   ]
  },
  {
   "cell_type": "markdown",
   "metadata": {},
   "source": [
    "<div class=\"alert alert-success\">\n",
    "<b>✔️ Комментарий ревьюера v2:</b> \n",
    "<br>Согласен с таким решением, так как основная часть данных в этом столбце находится в небольшом диапазоне.\n",
    "</div>"
   ]
  },
  {
   "cell_type": "code",
   "execution_count": 7,
   "metadata": {},
   "outputs": [
    {
     "name": "stdout",
     "output_type": "stream",
     "text": [
      "всего квартир с 0 комнат: 194 из них студий: 135\n",
      "количество комнат в студиях: [1]\n",
      "количество квартир с комнатами> 10: 8\n"
     ]
    }
   ],
   "source": [
    "#Проверка строк с rooms =0 (всего 194, из них студий - 135)\n",
    "print('всего квартир с 0 комнат:', data.query('rooms==0')['rooms'].count(), \\\n",
    "'из них студий:',data.query('rooms==0 and studio ==True')['rooms'].count())\n",
    "data.loc[data['rooms'] == 0,'rooms'] =1 # т.к. большинство квартир с rooms =0 -это студии, заменим нулевые значения на '1' .\n",
    "print('количество комнат в студиях:', data.query('studio ==True')['rooms'].unique()) # проверим, что во всех студиях 1 комната.\n",
    "\n",
    "print('количество квартир с комнатами> 10:',data[data['rooms']>10]['rooms'].count()) # выявлено 8 квартир с количеством комнат >10\n",
    "data = data[data['rooms'] <= 10] # оставляем в датафрейме только квартиры с количеством комнат <=10."
   ]
  },
  {
   "cell_type": "code",
   "execution_count": 8,
   "metadata": {},
   "outputs": [
    {
     "name": "stdout",
     "output_type": "stream",
     "text": [
      "\n",
      "Площадь кухни\n",
      "Empty DataFrame\n",
      "Columns: [total_images, last_price, total_area, first_day_exposition, rooms, ceiling_height, floors_total, living_area, floor, is_apartment, studio, open_plan, kitchen_area, balcony, locality_name, airports_nearest, citycenters_nearest, parks_around3000, parks_nearest, ponds_around3000, ponds_nearest, days_exposition]\n",
      "Index: []\n",
      "\n",
      "[0 rows x 22 columns]\n"
     ]
    }
   ],
   "source": [
    "# метраж кухни:\n",
    "print()\n",
    "print('Площадь кухни')\n",
    "print(data.query('studio ==True and kitchen_area >0')) # проверяем, что у студий c метражом кухни > 0 в датафрейме нет\n",
    "data.loc[data['studio'] == True, 'kitchen_area'] = 0 # для студий заполняем пропуски в метраже кухни = 0\n",
    "\n",
    "data['kitchen_area'] = data.groupby('rooms')['kitchen_area'].apply(lambda x: x.fillna(x.median())) # остальные пропуски \n",
    "# заполняем медианой по подгруппе в зависимости от количества комнат"
   ]
  },
  {
   "cell_type": "code",
   "execution_count": 9,
   "metadata": {},
   "outputs": [
    {
     "name": "stdout",
     "output_type": "stream",
     "text": [
      "\n",
      "Жилая площадь\n",
      "count    23516.000000\n",
      "mean        34.592712\n",
      "std         22.388028\n",
      "min          6.000000\n",
      "25%         18.900000\n",
      "50%         30.000000\n",
      "75%         42.200000\n",
      "max        394.734783\n",
      "Name: living_area, dtype: float64\n"
     ]
    }
   ],
   "source": [
    "# метраж жилой площади:\n",
    "print()\n",
    "print('Жилая площадь')\n",
    "ratio = (data['living_area']/(data['total_area']-data['kitchen_area'])).median() # для заполнения пустых строк рассчитаем долю \n",
    "# жилой площади от разницы общей площади и кухни\n",
    "data['living_area'].fillna(ratio * (data['total_area']-data['kitchen_area']), inplace=True)# заполним пропуски в жилой площади\n",
    "data = data[data['living_area'] >= 6] # оставляем в датафрейме только квартиры с жилой площадью не менее 6 кв.м.\n",
    "print(data['living_area'].describe()) # проверим основные параметры данного столбца после внесения изменений"
   ]
  },
  {
   "cell_type": "markdown",
   "metadata": {},
   "source": [
    "<div class=\"alert alert-success\">\n",
    "<b>✔️ Комментарий ревьюера v2:</b> \n",
    "<br>Прекрасный способ для замены! 👏🏻👏🏻👏🏻\n",
    "</div>"
   ]
  },
  {
   "cell_type": "code",
   "execution_count": 10,
   "metadata": {},
   "outputs": [
    {
     "name": "stdout",
     "output_type": "stream",
     "text": [
      "\n",
      "квартиры с площадью > 400 кв.м: 21\n"
     ]
    }
   ],
   "source": [
    "# общая площадь квартиры:\n",
    "print()\n",
    "print('квартиры с площадью > 400 кв.м:', data[data['total_area'] > 400]['total_area'].count()) \n",
    "# всего 23 квартиры с площадью > 400 кв.м\n",
    "data = data[data['total_area'] <= 400] # оставим в датафрейме только квартиры с площадью не более 400 кв.м."
   ]
  },
  {
   "cell_type": "code",
   "execution_count": 11,
   "metadata": {},
   "outputs": [
    {
     "name": "stdout",
     "output_type": "stream",
     "text": [
      "всего домов > 27 этажей: 53\n"
     ]
    }
   ],
   "source": [
    "# количество этажей в доме:\n",
    "print('всего домов > 27 этажей:',data[data['floors_total']>27]['floors_total'].count()) # всего 53 квартир в домах этажностью выше 27 этажей\n",
    "data = data[data['floors_total'] <= 27] # оставим в датафрейме только квартиры в домах с этажностью не более 27 этажей"
   ]
  },
  {
   "cell_type": "code",
   "execution_count": 12,
   "metadata": {},
   "outputs": [
    {
     "name": "stdout",
     "output_type": "stream",
     "text": [
      "количество квартир стоимостью> 70 млн руб.: 63\n",
      "количество квартир стоимостью< 1 млн. руб.: 225\n"
     ]
    }
   ],
   "source": [
    "# цена квартиры:\n",
    "print('количество квартир стоимостью> 70 млн руб.:',data[data['last_price']>70000000]['last_price'].count()) \n",
    "# 63 квартиры стоимостью выше 70 млн руб.\n",
    "data = data[data['last_price'] <= 70000000] # оставляем в датафрейме только квартиры стоимостью до 70 млн руб.\n",
    "\n",
    "# анализ квартир с ценой до 1 млн руб.\n",
    "print('количество квартир стоимостью< 1 млн. руб.:',data[data['last_price']<1000000]['last_price'].count()) \n",
    "# выявлено 225 квартир с ценой менее 1 млн руб.\n",
    "data = data[data['last_price'] >= 1000000] # оставим в датафрейме только квартры с ценой более 1 млн руб."
   ]
  },
  {
   "cell_type": "code",
   "execution_count": 13,
   "metadata": {},
   "outputs": [
    {
     "name": "stdout",
     "output_type": "stream",
     "text": [
      "['Санкт-Петербург' 'посёлок Шушары' 'городской посёлок Янино-1'\n",
      " 'посёлок Парголово' 'посёлок Мурино' 'Ломоносов' 'Сертолово' 'Петергоф'\n",
      " 'Пушкин' 'деревня Кудрово' 'Коммунар' 'Колпино'\n",
      " 'поселок городского типа Красный Бор' 'Гатчина' 'поселок Мурино'\n",
      " 'деревня Фёдоровское' 'Выборг' 'Кронштадт' 'Кировск'\n",
      " 'деревня Новое Девяткино' 'посёлок Металлострой'\n",
      " 'посёлок городского типа Лебяжье' 'посёлок городского типа Сиверский'\n",
      " 'поселок Молодцово' 'поселок городского типа Кузьмоловский'\n",
      " 'садовое товарищество Новая Ропша' 'Павловск' 'деревня Пикколово'\n",
      " 'Всеволожск' 'Волхов' 'Кингисепп' 'Приозерск' 'Сестрорецк'\n",
      " 'деревня Куттузи' 'посёлок Аннино' 'посёлок Плодовое' 'деревня Заклинье'\n",
      " 'поселок Торковичи' 'поселок Первомайское' 'Красное Село'\n",
      " 'посёлок Понтонный' 'Сясьстрой' 'деревня Старая' 'деревня Лесколово'\n",
      " 'посёлок Новый Свет' 'село Путилово' 'Мурино' 'Ивангород' 'Шлиссельбург'\n",
      " 'Никольское' 'Зеленогорск' 'Сосновый Бор' 'поселок Новый Свет'\n",
      " 'деревня Оржицы' 'деревня Кальтино' 'Кудрово' 'поселок Романовка'\n",
      " 'посёлок Бугры' 'поселок Бугры' 'поселок городского типа Рощино' 'Кириши'\n",
      " 'Луга' 'Волосово' 'Отрадное' 'село Павлово' 'поселок Оредеж'\n",
      " 'село Копорье' 'посёлок городского типа Красный Бор' 'посёлок Молодёжное'\n",
      " 'Тихвин' 'посёлок Победа' 'деревня Нурма' 'Тосно'\n",
      " 'посёлок городского типа Кузьмоловский' 'посёлок Стрельна'\n",
      " 'посёлок Александровская' 'деревня Лопухинка' 'Пикалёво'\n",
      " 'поселок Терволово' 'поселок городского типа Советский' 'Подпорожье'\n",
      " 'посёлок Петровское' 'посёлок городского типа Токсово' 'поселок Сельцо'\n",
      " 'деревня Кипень' 'деревня Келози' 'деревня Вартемяги' 'Сланцы'\n",
      " 'посёлок Тельмана' 'поселок Севастьяново'\n",
      " 'городской поселок Большая Ижора' 'городской посёлок Павлово'\n",
      " 'деревня Агалатово' 'посёлок Новогорелово'\n",
      " 'городской посёлок Лесогорский' 'деревня Лаголово' 'поселок Цвелодубово'\n",
      " 'поселок городского типа Рахья' 'деревня Белогорка' 'поселок Заводской'\n",
      " 'городской посёлок Новоселье' 'деревня Большие Колпаны'\n",
      " 'деревня Горбунки' 'деревня Батово' 'деревня Заневка' 'деревня Иссад'\n",
      " 'Приморск' 'городской посёлок Фёдоровское' 'деревня Мистолово'\n",
      " 'Новая Ладога' 'поселок Зимитицы' 'поселок Барышево'\n",
      " 'деревня Разметелево' 'поселок городского типа имени Свердлова'\n",
      " 'деревня Пеники' 'поселок Рябово' 'деревня Пудомяги'\n",
      " 'поселок станции Корнево' 'деревня Низино' 'деревня Бегуницы'\n",
      " 'посёлок Поляны' 'городской посёлок Мга' 'поселок Елизаветино'\n",
      " 'поселок городского типа Синявино' 'деревня Колтуши'\n",
      " 'поселок Запорожское' 'посёлок городского типа Рощино'\n",
      " 'деревня Гостилицы' 'деревня Малое Карлино' 'посёлок Мичуринское'\n",
      " 'посёлок городского типа имени Морозова' 'посёлок Песочный'\n",
      " 'посёлок Сосново' 'деревня Аро' 'поселок Ильичёво'\n",
      " 'посёлок городского типа Тайцы' 'деревня Малое Верево' 'деревня Извара'\n",
      " 'деревня Калитино' 'посёлок городского типа Ульяновка'\n",
      " 'поселок городского типа Дубровка' 'посёлок городского типа Кузнечное'\n",
      " 'деревня Мины' 'поселок Войсковицы'\n",
      " 'посёлок городского типа имени Свердлова' 'посёлок Ропша'\n",
      " 'поселок городского типа Приладожский' 'посёлок Щеглово' 'Лодейное Поле'\n",
      " 'деревня Рабитицы' 'поселок городского типа Никольский'\n",
      " 'деревня Кузьмолово' 'деревня Малые Колпаны' 'поселок Тельмана'\n",
      " 'посёлок Петро-Славянка' 'городской посёлок Назия' 'посёлок Репино'\n",
      " 'посёлок городского типа Вырица' 'посёлок Ильичёво' 'поселок Углово'\n",
      " 'поселок Старая Малукса' 'садовое товарищество Рахья' 'поселок Аннино'\n",
      " 'поселок Победа' 'деревня Меньково' 'деревня Старые Бегуницы'\n",
      " 'посёлок Сапёрный' 'поселок Семрино' 'поселок Гаврилово'\n",
      " 'поселок Кобринское' 'деревня Гарболово' 'деревня Юкки'\n",
      " 'поселок станции Приветнинское' 'деревня Мануйлово' 'деревня Пчева'\n",
      " 'поселок Поляны' 'поселок Мельниково' 'посёлок Пудость'\n",
      " 'посёлок Усть-Луга' 'поселок городского типа Вырица' 'Бокситогорск'\n",
      " 'Светогорск' 'Любань' 'поселок Селезнёво'\n",
      " 'поселок городского типа Рябово' 'Каменногорск' 'деревня Кривко'\n",
      " 'поселок Глебычево' 'деревня Парицы' 'поселок Жилпосёлок'\n",
      " 'посёлок городского типа Мга' 'городской поселок Янино-1'\n",
      " 'посёлок Войскорово' 'село Никольское' 'посёлок Терволово'\n",
      " 'поселок Стеклянный' 'посёлок Мыза-Ивановка' 'село Русско-Высоцкое'\n",
      " 'поселок городского типа Лебяжье' 'поселок городского типа Форносово'\n",
      " 'село Старая Ладога' 'городской посёлок Виллози' 'деревня Лампово'\n",
      " 'деревня Шпаньково' 'деревня Лаврики' 'посёлок Сумино'\n",
      " 'поселок станции Вещево' 'посёлок Возрождение' 'деревня Старосиверская'\n",
      " 'посёлок Кикерино' 'поселок Возрождение' 'деревня Старое Хинколово'\n",
      " 'посёлок Пригородный' 'посёлок Торфяное' 'поселок Суходолье'\n",
      " 'поселок Красная Долина' 'деревня Хапо-Ое'\n",
      " 'поселок городского типа Дружная Горка' 'поселок Лисий Нос'\n",
      " 'деревня Яльгелево' 'посёлок Стеклянный' 'село Рождествено'\n",
      " 'посёлок Левашово' 'деревня Сяськелево' 'деревня Камышовка'\n",
      " 'садоводческое некоммерческое товарищество Лесная Поляна'\n",
      " 'деревня Хязельки' 'поселок Жилгородок' 'посёлок городского типа Павлово'\n",
      " 'поселок Новый Учхоз' 'городской посёлок Рощино' 'поселок Гончарово'\n",
      " 'посёлок Сапёрное' 'посёлок Платформа 69-й километр' 'поселок Каложицы'\n",
      " 'посёлок Гаврилово' 'поселок городского типа Лесогорский'\n",
      " 'посёлок Белоостров' 'посёлок Алексеевка'\n",
      " 'посёлок городского типа Важины' 'поселок Лукаши' 'поселок Петровское'\n",
      " 'деревня Щеглово' 'поселок Мичуринское' 'деревня Тарасово'\n",
      " 'поселок Кингисеппский' 'поселок Ушаки' 'деревня Котлы'\n",
      " 'деревня Торосово' 'посёлок Форт Красная Горка' 'деревня Новолисино'\n",
      " 'посёлок станции Громово' 'деревня Глинка' 'посёлок Мельниково'\n",
      " 'поселок городского типа Назия' 'поселок Глажево'\n",
      " 'деревня Старая Пустошь' 'поселок Коммунары' 'поселок Починок'\n",
      " 'посёлок городского типа Вознесенье' 'деревня Разбегаево'\n",
      " 'посёлок городского типа Рябово' 'поселок Гладкое'\n",
      " 'посёлок при железнодорожной станции Приветнинское' 'посёлок Жилгородок'\n",
      " 'деревня Бор' 'посёлок Коробицыно' 'деревня Большая Вруда'\n",
      " 'посёлок Лисий Нос' 'городской посёлок Советский' 'посёлок Кобралово'\n",
      " 'деревня Суоранда' 'поселок Кобралово' 'коттеджный поселок Счастье'\n",
      " 'поселок Любань' 'деревня Реброво' 'городской посёлок Будогощь'\n",
      " 'деревня Зимитицы' 'деревня Тойворово' 'поселок Семиозерье'\n",
      " 'поселок Лесное' 'поселок Усть-Луга' 'посёлок Ленинское' 'посёлок Суйда'\n",
      " 'посёлок городского типа Форносово' 'деревня Нижние Осельки'\n",
      " 'поселок Перово' 'Высоцк' 'поселок Гарболово' 'село Шум'\n",
      " 'поселок Котельский' 'деревня Большая Пустомержа'\n",
      " 'поселок Красносельское' 'деревня Пижма'\n",
      " 'коттеджный поселок Кивеннапа Север' 'поселок Коробицыно'\n",
      " 'посёлок Перово' 'деревня Каськово' 'деревня Куровицы' 'посёлок Плоское'\n",
      " 'поселок Сумино' 'поселок городского типа Большая Ижора'\n",
      " 'поселок Кирпичное' 'деревня Раздолье' 'деревня Терпилицы'\n",
      " 'поселок городского типа Токсово' 'деревня Ваганово' 'поселок Пушное'\n",
      " 'садовое товарищество Садко' 'посёлок Усть-Ижора'\n",
      " 'городской посёлок Свирьстрой' 'деревня Кисельня'\n",
      " 'посёлок Старая Малукса' 'деревня Трубников Бор' 'поселок Калитино'\n",
      " 'посёлок Высокоключевой' 'садовое товарищество Приладожский'\n",
      " 'посёлок Пансионат Зелёный Бор' 'деревня Ненимяки'\n",
      " 'поселок Пансионат Зелёный Бор' 'деревня Снегирёвка' 'поселок Громово'\n",
      " 'деревня Рапполово' 'поселок Житково' 'поселок Рабитицы' 'деревня Русско'\n",
      " 'деревня Лупполово' 'деревня Большое Рейзино' 'поселок Дружноселье'\n",
      " 'село Паша' 'деревня Нижняя' 'коттеджный посёлок Лесное'\n",
      " 'деревня Борисова Грива' 'посёлок Дзержинского']\n",
      "\n",
      "<class 'pandas.core.frame.DataFrame'>\n",
      "RangeIndex: 23154 entries, 0 to 23153\n",
      "Data columns (total 22 columns):\n",
      " #   Column                Non-Null Count  Dtype         \n",
      "---  ------                --------------  -----         \n",
      " 0   total_images          23154 non-null  int64         \n",
      " 1   last_price            23154 non-null  float64       \n",
      " 2   total_area            23154 non-null  float64       \n",
      " 3   first_day_exposition  23154 non-null  datetime64[ns]\n",
      " 4   rooms                 23154 non-null  int64         \n",
      " 5   ceiling_height        23154 non-null  float64       \n",
      " 6   floors_total          23154 non-null  int64         \n",
      " 7   living_area           23154 non-null  float64       \n",
      " 8   floor                 23154 non-null  int64         \n",
      " 9   is_apartment          23154 non-null  bool          \n",
      " 10  studio                23154 non-null  bool          \n",
      " 11  open_plan             23154 non-null  bool          \n",
      " 12  kitchen_area          23154 non-null  float64       \n",
      " 13  balcony               23154 non-null  int64         \n",
      " 14  locality_name         23154 non-null  object        \n",
      " 15  airports_nearest      17879 non-null  float64       \n",
      " 16  citycenters_nearest   17900 non-null  float64       \n",
      " 17  parks_around3000      23154 non-null  int64         \n",
      " 18  parks_nearest         7944 non-null   float64       \n",
      " 19  ponds_around3000      23154 non-null  int64         \n",
      " 20  ponds_nearest         8911 non-null   float64       \n",
      " 21  days_exposition       20062 non-null  float64       \n",
      "dtypes: bool(3), datetime64[ns](1), float64(10), int64(7), object(1)\n",
      "memory usage: 3.4+ MB\n",
      "None\n",
      "       total_images    last_price    total_area         rooms  ceiling_height  \\\n",
      "count  23154.000000  2.315400e+04  23154.000000  23154.000000    23154.000000   \n",
      "mean       9.882310  6.152848e+06     59.537185      2.070398        2.695963   \n",
      "std        5.679068  5.548050e+06     30.985609      1.031346        0.215370   \n",
      "min        0.000000  1.000000e+06     12.000000      1.000000        2.340000   \n",
      "25%        6.000000  3.450000e+06     40.000000      1.000000        2.600000   \n",
      "50%        9.000000  4.650000e+06     52.000000      2.000000        2.650000   \n",
      "75%       14.000000  6.750000e+06     69.600000      3.000000        2.700000   \n",
      "max       50.000000  6.850000e+07    400.000000     10.000000        5.800000   \n",
      "\n",
      "       floors_total   living_area         floor  kitchen_area       balcony  \\\n",
      "count  23154.000000  23154.000000  23154.000000  23154.000000  23154.000000   \n",
      "mean      10.703723     34.179711      5.886672     10.320966      0.596873   \n",
      "std        6.510382     20.174426      4.843085      5.363043      0.962593   \n",
      "min        1.000000      6.000000      1.000000      0.000000      0.000000   \n",
      "25%        5.000000     18.900000      2.000000      7.200000      0.000000   \n",
      "50%        9.000000     30.000000      4.000000      9.000000      0.000000   \n",
      "75%       16.000000     42.200000      8.000000     11.500000      1.000000   \n",
      "max       27.000000    265.391739     27.000000    100.700000      5.000000   \n",
      "\n",
      "       airports_nearest  citycenters_nearest  parks_around3000  parks_nearest  \\\n",
      "count      17879.000000         17900.000000      23154.000000    7944.000000   \n",
      "mean       28815.729459         14228.011788          0.470415     490.620720   \n",
      "std        12653.423547          8609.890807          0.746845     341.651115   \n",
      "min            0.000000           181.000000          0.000000       1.000000   \n",
      "25%        18505.500000          9304.000000          0.000000     288.000000   \n",
      "50%        26791.000000         13114.000000          0.000000     454.500000   \n",
      "75%        37317.500000         16275.000000          1.000000     612.000000   \n",
      "max        84869.000000         65968.000000          3.000000    3190.000000   \n",
      "\n",
      "       ponds_around3000  ponds_nearest  days_exposition  \n",
      "count      23154.000000    8911.000000     20062.000000  \n",
      "mean           0.588235     521.450903       180.540375  \n",
      "std            0.878786     277.237201       219.767347  \n",
      "min            0.000000      13.000000         1.000000  \n",
      "25%            0.000000     298.000000        45.000000  \n",
      "50%            0.000000     506.000000        95.000000  \n",
      "75%            1.000000     733.000000       230.000000  \n",
      "max            3.000000    1344.000000      1580.000000  \n"
     ]
    }
   ],
   "source": [
    "# Названия населенных пунктов (анализ дубликатов  и ошибок в названиях)\n",
    "print(data['locality_name'].unique())\n",
    "data['locality_name'] = data['locality_name'].str.lower()\n",
    "data['locality_name'] = data['locality_name'].str.replace('посёлок','поселок')\n",
    "data['locality_name'] = data['locality_name'].str.replace('поселок городского типа','поселок')\n",
    "data['locality_name'] = data['locality_name'].str.replace('городской поселок','поселок')\n",
    "data['locality_name'] = data['locality_name'].str.replace('поселок мурино','мурино') \n",
    "   \n",
    "print()\n",
    "\n",
    "\n",
    "# проверка на наличие дубликатов строк и удаление при обнаружении ():\n",
    "data = data.drop_duplicates().reset_index(drop=True)\n",
    "print(data.info()) # количество записей не изменилось - дубликаты строк не обнаружены.\n",
    "print(data.describe())\n",
    "# таким образом, по результатам обработки датафрейма было удалено 545 строк (2% массива) с аномальными значениями"
   ]
  },
  {
   "cell_type": "markdown",
   "metadata": {},
   "source": [
    "<div class=\"alert alert-success\">\n",
    "<b>✔️ Комментарий ревьюера v2:</b> \n",
    "<br>Супер! Здесь всё верно)\n",
    "</div>"
   ]
  },
  {
   "cell_type": "markdown",
   "metadata": {},
   "source": [
    "<div class=\"alert alert-danger\">\n",
    "<b>❌ Комментарий ревьюера v1:</b> \n",
    "<br>Разбей, пожалуйста, эту часть на несколько ячеек. Так будет более наглядно и проще комментировать твой код    \n",
    "<br>Вспомни как выглядели предыдущие два проекта и сделай по аналогии с ними.\n",
    "</div>\n"
   ]
  },
  {
   "cell_type": "markdown",
   "metadata": {},
   "source": [
    "<div class=\"alert alert-info\">\n",
    "<b>Комментарий студента:</b>\n",
    "<br> Разбила на несколько ячеек.🙂\n",
    "</div>"
   ]
  },
  {
   "cell_type": "markdown",
   "metadata": {},
   "source": [
    "# Вывод:\n",
    "В результате обработки данных удалили из датафрейма 545 строк (2% от всего записей).\\\n",
    "Обработка состояла из следующих этапов:\n",
    "\n",
    "1) замена заглавных букв в названиях столбцов на строчные;\\\n",
    "2) перевод даты размещения объявлений в формат даты;\\\n",
    "3) присвоение признаку \"Апартаменты\" типа 'bool';\\\n",
    "4) удаление строк без населенных пунктов;\\\n",
    "5) удаление строк без количества этажей в доме;\\\n",
    "6) присвоение количеству балконов типа \"integer\";\\\n",
    "7) проверка столбцов по наличию парков и прудов на логические ошибки;\\\n",
    "8) заполнение пустых значений '0' по столбцам с количеством парков и прудов  и присвоение им типа \"integer\";\\\n",
    "9) высота потолков: \\\n",
    "    - пропуски заполнены медианой; \\\n",
    "    - высоту потолков > 20 м - разделили на 10 (вероятно ошибка пользователя);\\\n",
    "    - оставили в датафрейме только квартиры с высотой потолков в диапазоне 2,3 - 6 м;\\\n",
    "10) всем студиям в столбце 'rooms' присвоено значение '1' (по умолчанию - 1 комната);\\\n",
    "11) в датафрейме оставлены только квартиры с количеством комнат не более 10;\\\n",
    "12) площадь кухни:\\\n",
    "    - всем студиям присвоено значение '0';\\\n",
    "    - остальные пропуски заполнены медианами с учетом количества комнат в квартире;\\\n",
    "13) в датафрейме оставлены квартиры:\\\n",
    "    - с общей площадью не более 400 кв.м;\\\n",
    "    - с количеством этажей в доме не более 27 (в Спб нет домов выше 27 этажей);\\\n",
    "    - цена: не менее 1 млн руб. и не более 70 млн руб.\\\n",
    "14) удалены неявные дубликаты в названиях населенных пунктов;\\\n",
    "15) строки проверены на явные дубликаты (не выявлены).\n",
    "    \n",
    "\n"
   ]
  },
  {
   "cell_type": "markdown",
   "metadata": {},
   "source": [
    "<div class=\"alert alert-success\">\n",
    "<b>✔️ Комментарий ревьюера v2:</b> \n",
    "<br>Отличная работа! Ты верно заполнилa пропуски, поработалa с типами данных, а также отбросилa аномальные значения\n",
    "</div>"
   ]
  },
  {
   "cell_type": "markdown",
   "metadata": {},
   "source": [
    "### Посчитайте и добавьте в таблицу новые столбцы"
   ]
  },
  {
   "cell_type": "code",
   "execution_count": 14,
   "metadata": {},
   "outputs": [
    {
     "name": "stdout",
     "output_type": "stream",
     "text": [
      "   total_images  last_price  total_area first_day_exposition  rooms  \\\n",
      "0            20  13000000.0       108.0           2019-03-07      3   \n",
      "1             7   3350000.0        40.4           2018-12-04      1   \n",
      "2            10   5196000.0        56.0           2015-08-20      2   \n",
      "3             0  64900000.0       159.0           2015-07-24      3   \n",
      "4             2  10000000.0       100.0           2018-06-19      2   \n",
      "\n",
      "   ceiling_height  floors_total  living_area  floor  is_apartment  ...  \\\n",
      "0            2.70            16        51.00      8          True  ...   \n",
      "1            2.65            11        18.60      1          True  ...   \n",
      "2            2.65             5        34.30      4          True  ...   \n",
      "3            2.65            14       103.35      9          True  ...   \n",
      "4            3.03            14        32.00     13          True  ...   \n",
      "\n",
      "   parks_nearest  ponds_around3000  ponds_nearest  days_exposition  \\\n",
      "0          482.0                 2          755.0              NaN   \n",
      "1            NaN                 0            NaN             81.0   \n",
      "2           90.0                 2          574.0            558.0   \n",
      "3           84.0                 3          234.0            424.0   \n",
      "4          112.0                 1           48.0            121.0   \n",
      "\n",
      "  price_meter  weekday_public  month_public  year_public  floor_type  \\\n",
      "0      120370               3             3         2019      другой   \n",
      "1       82920               1            12         2018      первый   \n",
      "2       92785               3             8         2015      другой   \n",
      "3      408176               4             7         2015      другой   \n",
      "4      100000               1             6         2018      другой   \n",
      "\n",
      "   distance_center  \n",
      "0             16.0  \n",
      "1             19.0  \n",
      "2             14.0  \n",
      "3              7.0  \n",
      "4              8.0  \n",
      "\n",
      "[5 rows x 28 columns]\n",
      "<class 'pandas.core.frame.DataFrame'>\n",
      "RangeIndex: 23154 entries, 0 to 23153\n",
      "Data columns (total 28 columns):\n",
      " #   Column                Non-Null Count  Dtype         \n",
      "---  ------                --------------  -----         \n",
      " 0   total_images          23154 non-null  int64         \n",
      " 1   last_price            23154 non-null  float64       \n",
      " 2   total_area            23154 non-null  float64       \n",
      " 3   first_day_exposition  23154 non-null  datetime64[ns]\n",
      " 4   rooms                 23154 non-null  int64         \n",
      " 5   ceiling_height        23154 non-null  float64       \n",
      " 6   floors_total          23154 non-null  int64         \n",
      " 7   living_area           23154 non-null  float64       \n",
      " 8   floor                 23154 non-null  int64         \n",
      " 9   is_apartment          23154 non-null  bool          \n",
      " 10  studio                23154 non-null  bool          \n",
      " 11  open_plan             23154 non-null  bool          \n",
      " 12  kitchen_area          23154 non-null  float64       \n",
      " 13  balcony               23154 non-null  int64         \n",
      " 14  locality_name         23154 non-null  object        \n",
      " 15  airports_nearest      17879 non-null  float64       \n",
      " 16  citycenters_nearest   17900 non-null  float64       \n",
      " 17  parks_around3000      23154 non-null  int64         \n",
      " 18  parks_nearest         7944 non-null   float64       \n",
      " 19  ponds_around3000      23154 non-null  int64         \n",
      " 20  ponds_nearest         8911 non-null   float64       \n",
      " 21  days_exposition       20062 non-null  float64       \n",
      " 22  price_meter           23154 non-null  int64         \n",
      " 23  weekday_public        23154 non-null  int64         \n",
      " 24  month_public          23154 non-null  int64         \n",
      " 25  year_public           23154 non-null  int64         \n",
      " 26  floor_type            23154 non-null  object        \n",
      " 27  distance_center       17900 non-null  float64       \n",
      "dtypes: bool(3), datetime64[ns](1), float64(11), int64(11), object(2)\n",
      "memory usage: 4.5+ MB\n",
      "None\n"
     ]
    }
   ],
   "source": [
    "data['price_meter'] = (data['last_price'] / data['total_area']).astype('int')\n",
    "data['weekday_public'] = data['first_day_exposition'].dt.weekday\n",
    "data['month_public'] = data['first_day_exposition'].dt.month\n",
    "data['year_public'] =data['first_day_exposition'].dt.year\n",
    "\n",
    "data['floor_type'] = ''\n",
    "data.loc[data['floor'] == 1, 'floor_type'] = 'первый' \n",
    "data.loc[data['floor'] == data['floors_total'], 'floor_type'] = 'последний' \n",
    "data.loc[data['floor_type']=='','floor_type'] ='другой'\n",
    "data['distance_center'] = (data['citycenters_nearest']/1000).round() \n",
    "print(data.head())\n",
    "print(data.info())\n"
   ]
  },
  {
   "cell_type": "markdown",
   "metadata": {},
   "source": [
    " # Вывод:\n",
    " Новые столбцы добавлены."
   ]
  },
  {
   "cell_type": "markdown",
   "metadata": {},
   "source": [
    "<div class=\"alert alert-success\">\n",
    "<b>✔️ Комментарий ревьюера v1:</b> \n",
    "<br>Идём дальше)\n",
    "</div>"
   ]
  },
  {
   "cell_type": "markdown",
   "metadata": {},
   "source": [
    "### Проведите исследовательский анализ данных"
   ]
  },
  {
   "cell_type": "code",
   "execution_count": 15,
   "metadata": {},
   "outputs": [
    {
     "name": "stdout",
     "output_type": "stream",
     "text": [
      "Диаграмма размаха общей площади квартиры\n",
      "count    23154.000000\n",
      "mean        59.537185\n",
      "std         30.985609\n",
      "min         12.000000\n",
      "25%         40.000000\n",
      "50%         52.000000\n",
      "75%         69.600000\n",
      "max        400.000000\n",
      "Name: total_area, dtype: float64\n"
     ]
    },
    {
     "data": {
      "image/png": "[encoded data removed]",
      "text/plain": [
       "<Figure size 1080x504 with 1 Axes>"
      ]
     },
     "metadata": {
      "needs_background": "light"
     },
     "output_type": "display_data"
    },
    {
     "name": "stdout",
     "output_type": "stream",
     "text": [
      "1 квартиль- 40.0 2 квартиль 69.6 нормальные значения: 12.0 - 113.99999999999999\n"
     ]
    },
    {
     "data": {
      "image/png": "[encoded data removed]",
      "text/plain": [
       "<Figure size 432x288 with 1 Axes>"
      ]
     },
     "metadata": {
      "needs_background": "light"
     },
     "output_type": "display_data"
    },
    {
     "name": "stdout",
     "output_type": "stream",
     "text": [
      "count    21981.000000\n",
      "mean        54.380748\n",
      "std         19.241548\n",
      "min         12.000000\n",
      "25%         39.500000\n",
      "50%         50.200000\n",
      "75%         65.600000\n",
      "max        113.900000\n",
      "Name: total_area, dtype: float64\n"
     ]
    }
   ],
   "source": [
    "print('Диаграмма размаха общей площади квартиры')\n",
    "print(data['total_area'].describe())\n",
    "data.boxplot(column=['total_area'], figsize=(15,7), grid=True)\n",
    "plt.show()\n",
    "p25 = np.percentile(data['total_area'].sort_values(), 25) # первый квартиль\n",
    "p75 = np.percentile(data['total_area'].sort_values(), 75) # 3-й квартиль\n",
    "p1 = p25 -1.5*(p75-p25) # нижняя граница нормальных значений\n",
    "p2 = p75 +1.5*(p75-p25) # # верхняя граница нормальных значений\n",
    "print('1 квартиль-',p25,'2 квартиль' ,p75,'нормальные значения:' , max(p1, data['total_area'].min()),\"-\",p2)\n",
    "data_analitic = data.query('total_area <= @p2 and total_area >= @p1') # для анализа общей площади оставим квартиры \n",
    "#с общей площадью не более верхней границы нормальных значений (p2)\n",
    "data_analitic['total_area'].plot(kind='hist',bins=20, title = 'Общая площадь')\n",
    "plt.show()\n",
    "print(data_analitic['total_area'].describe())\n",
    "\n"
   ]
  },
  {
   "cell_type": "markdown",
   "metadata": {},
   "source": [
    "# Вывод: \n",
    "1) согласно диаграмме размаха - общая площадь продаваемых квартир находится в диапазоне 12 -114 кв.м \n",
    "(остальные считаем выбросами);\n",
    "\n",
    "2) гистограмма демонстрирует, что больше всего предложений квартир с общей площадью в диапазоне 38-45 кв.м (вероятно онокомнатные или двухкомнатные небольшого метража)\n",
    "\n",
    "3) медиана обшей площади квартир - 52 кв.м "
   ]
  },
  {
   "cell_type": "code",
   "execution_count": 16,
   "metadata": {},
   "outputs": [
    {
     "name": "stdout",
     "output_type": "stream",
     "text": [
      "Жилая площадь квартиры:\n"
     ]
    },
    {
     "data": {
      "image/png": "[encoded data removed]",
      "text/plain": [
       "<Figure size 360x360 with 1 Axes>"
      ]
     },
     "metadata": {
      "needs_background": "light"
     },
     "output_type": "display_data"
    },
    {
     "name": "stdout",
     "output_type": "stream",
     "text": [
      "count    23154.000000\n",
      "mean        34.179711\n",
      "std         20.174426\n",
      "min          6.000000\n",
      "25%         18.900000\n",
      "50%         30.000000\n",
      "75%         42.200000\n",
      "max        265.391739\n",
      "Name: living_area, dtype: float64\n",
      "18.5 40.0 нормальные значения: 6.0 - 72.25\n"
     ]
    },
    {
     "data": {
      "image/png": "[encoded data removed]",
      "text/plain": [
       "<Figure size 720x360 with 1 Axes>"
      ]
     },
     "metadata": {
      "needs_background": "light"
     },
     "output_type": "display_data"
    },
    {
     "name": "stdout",
     "output_type": "stream",
     "text": [
      "count    23154.000000\n",
      "mean        34.179711\n",
      "std         20.174426\n",
      "min          6.000000\n",
      "25%         18.900000\n",
      "50%         30.000000\n",
      "75%         42.200000\n",
      "max        265.391739\n",
      "Name: living_area, dtype: float64\n"
     ]
    }
   ],
   "source": [
    "print('Жилая площадь квартиры:')\n",
    "data.boxplot(column=['living_area'], figsize=(5,5), grid=True)\n",
    "plt.show()\n",
    "print(data['living_area'].describe())\n",
    "\n",
    "p25 = np.percentile(data_analitic['living_area'].sort_values(), 25) # первый квартиль\n",
    "p75 = np.percentile(data_analitic['living_area'].sort_values(), 75) # 3-й квартиль\n",
    "p1 = p25 -1.5*(p75-p25) # нижняя граница нормальных значений\n",
    "p2 = p75 +1.5*(p75-p25) #  верхняя граница нормальных значений\n",
    "print(p25, p75,'нормальные значения:' , max(p1,data_analitic['living_area'].min()),\"-\",p2)\n",
    "data['living_area'].plot(kind='hist',bins=30, figsize=(10,5), title = 'Жилая площадь',xlim =(0,150))\n",
    "plt.show()\n",
    "print(data['living_area'].describe())"
   ]
  },
  {
   "cell_type": "markdown",
   "metadata": {},
   "source": [
    "# Вывод:\n",
    "1) согласно диаграмме размаха и рассчитанным квартилям: жилая площадь продаваемых квартир находится в диапазоне 6-72 кв.м;\\\n",
    "2) наибольшее количество квартир с жилой площадью 17-22 кв.м (вероятно однокомнатные квартиры и студии)."
   ]
  },
  {
   "cell_type": "code",
   "execution_count": 17,
   "metadata": {},
   "outputs": [
    {
     "name": "stdout",
     "output_type": "stream",
     "text": [
      "Площадь кухни:\n"
     ]
    },
    {
     "data": {
      "image/png": "[encoded data removed]",
      "text/plain": [
       "<Figure size 360x360 with 1 Axes>"
      ]
     },
     "metadata": {
      "needs_background": "light"
     },
     "output_type": "display_data"
    },
    {
     "name": "stdout",
     "output_type": "stream",
     "text": [
      "count    23154.000000\n",
      "mean        10.320966\n",
      "std          5.363043\n",
      "min          0.000000\n",
      "25%          7.200000\n",
      "50%          9.000000\n",
      "75%         11.500000\n",
      "max        100.700000\n",
      "Name: kitchen_area, dtype: float64\n",
      "7.2 11.5 нормальные значения: 0.7500000000000009 - 17.95\n"
     ]
    },
    {
     "data": {
      "image/png": "[encoded data removed]",
      "text/plain": [
       "<Figure size 720x360 with 1 Axes>"
      ]
     },
     "metadata": {
      "needs_background": "light"
     },
     "output_type": "display_data"
    }
   ],
   "source": [
    "print('Площадь кухни:')\n",
    "data.boxplot(column=['kitchen_area'], figsize=(5,5),grid=True)\n",
    "plt.ylim(0,20)\n",
    "plt.show()\n",
    "print(data['kitchen_area'].describe())\n",
    "\n",
    "p25 = np.percentile(data['kitchen_area'].sort_values(), 25) # первый квартиль\n",
    "p75 = np.percentile(data['kitchen_area'].sort_values(), 75) # 3-й квартиль\n",
    "p1 = p25 -1.5*(p75-p25) # нижняя граница нормальных значений\n",
    "p2 = p75 +1.5*(p75-p25) # # верхняя граница нормальных значений\n",
    "print(p25, p75,'нормальные значения:' , p1,\"-\",p2)\n",
    "data['kitchen_area'].plot(kind='hist',bins=30, figsize=(10,5), title = 'Площадь кухни',xlim =(0,50))\n",
    "plt.show()\n"
   ]
  },
  {
   "cell_type": "markdown",
   "metadata": {},
   "source": [
    "# Вывод:\n",
    "1) наибольшее количество предложений квартир с кухнямив диапазоне 7-11 кв.м (медиана - 9 кв.м)\n",
    "\n",
    "2) квартиры с метражом кухни =0 - это студии"
   ]
  },
  {
   "cell_type": "code",
   "execution_count": 18,
   "metadata": {},
   "outputs": [
    {
     "name": "stdout",
     "output_type": "stream",
     "text": [
      "Цена объекта:\n",
      "count    2.315400e+04\n",
      "mean     6.152848e+06\n",
      "std      5.548050e+06\n",
      "min      1.000000e+06\n",
      "25%      3.450000e+06\n",
      "50%      4.650000e+06\n",
      "75%      6.750000e+06\n",
      "max      6.850000e+07\n",
      "Name: last_price, dtype: float64\n"
     ]
    },
    {
     "data": {
      "image/png": "[encoded data removed]",
      "text/plain": [
       "<Figure size 360x288 with 1 Axes>"
      ]
     },
     "metadata": {
      "needs_background": "light"
     },
     "output_type": "display_data"
    },
    {
     "name": "stdout",
     "output_type": "stream",
     "text": [
      "3450000.0 6750000.0 нормальные значения: 1000000 - 11700000.0\n"
     ]
    },
    {
     "data": {
      "image/png": "[encoded data removed]",
      "text/plain": [
       "<Figure size 720x360 with 1 Axes>"
      ]
     },
     "metadata": {
      "needs_background": "light"
     },
     "output_type": "display_data"
    }
   ],
   "source": [
    "print('Цена объекта:')\n",
    "print(data['last_price'].describe())\n",
    "\n",
    "data.boxplot(column=['last_price'], figsize=(5,4), grid=True)\n",
    "plt.ylim(0,22000000)\n",
    "plt.show()\n",
    "\n",
    "p25 = np.percentile(data['last_price'].sort_values(), 25) # первый квартиль\n",
    "p75 = np.percentile(data['last_price'].sort_values(), 75) # 3-й квартиль\n",
    "p1 = p25 -1.5*(p75-p25) # нижняя граница нормальных значений\n",
    "p2 = p75 +1.5*(p75-p25) #  верхняя граница нормальных значений\n",
    "print(p25, p75,'нормальные значения:' , max(p1,1000000),\"-\",p2)\n",
    "data_analitic_price = data.query('last_price <= @p2')\n",
    "data_analitic_price['last_price'].plot(kind='hist',bins=20, figsize=(10,5), title = 'Цена квартиры',xlim =(0,15000000))\n",
    "\n",
    "plt.show()\n"
   ]
  },
  {
   "cell_type": "markdown",
   "metadata": {},
   "source": [
    "<div class=\"alert alert-warning\">\n",
    "<b>⚠️ Комментарий ревьюера v1:</b> \n",
    "<br>Тут можно разделить все значения в столбце last_price на 1 млн, чтобы они пришли в более понятный вид)\n",
    "</div>"
   ]
  },
  {
   "cell_type": "markdown",
   "metadata": {},
   "source": [
    "# Вывод: \n",
    "1) наибольшее предложение квартир в ценовом диапазоне 3.5 - 5.5 млн руб. (медиана - 4,65 млн руб.)\\\n",
    "2) нормальные значения цены в диапазоне  от 1 до 11,7 млн руб. (остальное - выбросы)"
   ]
  },
  {
   "cell_type": "code",
   "execution_count": 19,
   "metadata": {},
   "outputs": [
    {
     "name": "stdout",
     "output_type": "stream",
     "text": [
      "Количество комнат:\n",
      "count    23154.000000\n",
      "mean         2.070398\n",
      "std          1.031346\n",
      "min          1.000000\n",
      "25%          1.000000\n",
      "50%          2.000000\n",
      "75%          3.000000\n",
      "max         10.000000\n",
      "Name: rooms, dtype: float64\n"
     ]
    },
    {
     "data": {
      "image/png": "[encoded data removed]",
      "text/plain": [
       "<Figure size 432x288 with 1 Axes>"
      ]
     },
     "metadata": {
      "needs_background": "light"
     },
     "output_type": "display_data"
    }
   ],
   "source": [
    "print('Количество комнат:')\n",
    "print(data['rooms'].describe())\n",
    "data['rooms'].hist(bins=20)\n",
    "plt.show()\n"
   ]
  },
  {
   "cell_type": "markdown",
   "metadata": {},
   "source": [
    "# Вывод:\n",
    "Больше всего предложений студий/одно- и двухкомнатных квартир."
   ]
  },
  {
   "cell_type": "code",
   "execution_count": 20,
   "metadata": {},
   "outputs": [
    {
     "name": "stdout",
     "output_type": "stream",
     "text": [
      "Высота потолков:\n",
      "count    23154.000000\n",
      "mean         2.695963\n",
      "std          0.215370\n",
      "min          2.340000\n",
      "25%          2.600000\n",
      "50%          2.650000\n",
      "75%          2.700000\n",
      "max          5.800000\n",
      "Name: ceiling_height, dtype: float64\n"
     ]
    },
    {
     "data": {
      "image/png": "[encoded data removed]",
      "text/plain": [
       "<Figure size 432x288 with 1 Axes>"
      ]
     },
     "metadata": {
      "needs_background": "light"
     },
     "output_type": "display_data"
    }
   ],
   "source": [
    "print('Высота потолков:')\n",
    "print(data['ceiling_height'].describe())\n",
    "data['ceiling_height'].plot(kind ='hist',bins=40,xlim=(2.2,3.5),title = 'Высота потолков')\n",
    "plt.show()\n",
    "\n"
   ]
  },
  {
   "cell_type": "markdown",
   "metadata": {},
   "source": [
    "# Вывод:\n",
    "Наибольшее количество предложений квартир с потолками 2.6- 2.7 м (стандартные)"
   ]
  },
  {
   "cell_type": "code",
   "execution_count": 21,
   "metadata": {},
   "outputs": [
    {
     "name": "stdout",
     "output_type": "stream",
     "text": [
      "Этаж квартиры:\n",
      "count    23154.000000\n",
      "mean         5.886672\n",
      "std          4.843085\n",
      "min          1.000000\n",
      "25%          2.000000\n",
      "50%          4.000000\n",
      "75%          8.000000\n",
      "max         27.000000\n",
      "Name: floor, dtype: float64\n"
     ]
    },
    {
     "data": {
      "image/png": "[encoded data removed]",
      "text/plain": [
       "<Figure size 432x288 with 1 Axes>"
      ]
     },
     "metadata": {
      "needs_background": "light"
     },
     "output_type": "display_data"
    }
   ],
   "source": [
    "print('Этаж квартиры:')\n",
    "print(data['floor'].describe())\n",
    "data['floor'].plot(kind='hist',bins=15,title ='Этаж квартиры:')\n",
    "plt.show()"
   ]
  },
  {
   "cell_type": "markdown",
   "metadata": {},
   "source": [
    "# Вывод:\n",
    "наибольшее количество предложений квартир ниже 6-ого этажа ( за счет вторички/\"старого\" фонда)"
   ]
  },
  {
   "cell_type": "code",
   "execution_count": 22,
   "metadata": {},
   "outputs": [
    {
     "name": "stdout",
     "output_type": "stream",
     "text": [
      "Тип этажа квартиры:\n",
      "другой       17116\n",
      "последний     3239\n",
      "первый        2799\n",
      "Name: floor_type, dtype: int64\n"
     ]
    },
    {
     "data": {
      "image/png": "[encoded data removed]",
      "text/plain": [
       "<Figure size 432x288 with 1 Axes>"
      ]
     },
     "metadata": {
      "needs_background": "light"
     },
     "output_type": "display_data"
    }
   ],
   "source": [
    "print('Тип этажа квартиры:')\n",
    "print(data['floor_type'].value_counts())\n",
    "\n",
    "data['floor_type'].hist()\n",
    "plt.show()\n"
   ]
  },
  {
   "cell_type": "markdown",
   "metadata": {},
   "source": [
    "# Вывод:\n",
    "Более 70% квартир - квартиры не на первом и не на последнем этажах."
   ]
  },
  {
   "cell_type": "code",
   "execution_count": 23,
   "metadata": {},
   "outputs": [
    {
     "name": "stdout",
     "output_type": "stream",
     "text": [
      "Общее количество этажей в доме:\n",
      "count    23154.000000\n",
      "mean        10.703723\n",
      "std          6.510382\n",
      "min          1.000000\n",
      "25%          5.000000\n",
      "50%          9.000000\n",
      "75%         16.000000\n",
      "max         27.000000\n",
      "Name: floors_total, dtype: float64\n"
     ]
    },
    {
     "data": {
      "image/png": "[encoded data removed]",
      "text/plain": [
       "<Figure size 432x288 with 1 Axes>"
      ]
     },
     "metadata": {
      "needs_background": "light"
     },
     "output_type": "display_data"
    }
   ],
   "source": [
    "print('Общее количество этажей в доме:')\n",
    "print(data['floors_total'].describe())\n",
    "\n",
    "data['floors_total'].hist(bins = 9)\n",
    "plt.show()"
   ]
  },
  {
   "cell_type": "markdown",
   "metadata": {},
   "source": [
    "# Вывод:\n",
    "наибольше предложение по квартирам в малоэтажных домах (4-9 этажей). "
   ]
  },
  {
   "cell_type": "code",
   "execution_count": 24,
   "metadata": {},
   "outputs": [
    {
     "name": "stdout",
     "output_type": "stream",
     "text": [
      "Расстояние до центра города (м):\n",
      "count    17900.000000\n",
      "mean     14228.011788\n",
      "std       8609.890807\n",
      "min        181.000000\n",
      "25%       9304.000000\n",
      "50%      13114.000000\n",
      "75%      16275.000000\n",
      "max      65968.000000\n",
      "Name: citycenters_nearest, dtype: float64\n"
     ]
    },
    {
     "data": {
      "image/png": "[encoded data removed]",
      "text/plain": [
       "<Figure size 432x288 with 1 Axes>"
      ]
     },
     "metadata": {
      "needs_background": "light"
     },
     "output_type": "display_data"
    }
   ],
   "source": [
    "print('Расстояние до центра города (м):')\n",
    "print(data['citycenters_nearest'].describe())\n",
    "\n",
    "data['citycenters_nearest'].hist(bins=15)\n",
    "plt.show()"
   ]
  },
  {
   "cell_type": "markdown",
   "metadata": {},
   "source": [
    "# Вывод:\n",
    "большинство квартир находятся на расстоянии 8 - 18 км от центра Спб."
   ]
  },
  {
   "cell_type": "code",
   "execution_count": 25,
   "metadata": {},
   "outputs": [
    {
     "name": "stdout",
     "output_type": "stream",
     "text": [
      "Расстояние до ближайшего аэропорта (м):\n",
      "count    17879.000000\n",
      "mean     28815.729459\n",
      "std      12653.423547\n",
      "min          0.000000\n",
      "25%      18505.500000\n",
      "50%      26791.000000\n",
      "75%      37317.500000\n",
      "max      84869.000000\n",
      "Name: airports_nearest, dtype: float64\n"
     ]
    },
    {
     "data": {
      "image/png": "[encoded data removed]",
      "text/plain": [
       "<Figure size 360x360 with 1 Axes>"
      ]
     },
     "metadata": {
      "needs_background": "light"
     },
     "output_type": "display_data"
    },
    {
     "data": {
      "image/png": "[encoded data removed]",
      "text/plain": [
       "<Figure size 432x288 with 1 Axes>"
      ]
     },
     "metadata": {
      "needs_background": "light"
     },
     "output_type": "display_data"
    }
   ],
   "source": [
    "print('Расстояние до ближайшего аэропорта (м):')\n",
    "print(data['airports_nearest'].describe())\n",
    "data.boxplot(column=['airports_nearest'], figsize=(5,5), grid=True)\n",
    "plt.ylim(0,100000)\n",
    "plt.show()\n",
    "\n",
    "data['airports_nearest'].hist(bins=20)\n",
    "plt.show()"
   ]
  },
  {
   "cell_type": "markdown",
   "metadata": {},
   "source": [
    "# Вывод:\n",
    "большинство квартир находится на расстоянии от 15 до 38 км от ближайшего аэропорта."
   ]
  },
  {
   "cell_type": "code",
   "execution_count": 26,
   "metadata": {},
   "outputs": [
    {
     "name": "stdout",
     "output_type": "stream",
     "text": [
      "Расстояние до ближайшего парка (м):\n",
      "count    7944.000000\n",
      "mean      490.620720\n",
      "std       341.651115\n",
      "min         1.000000\n",
      "25%       288.000000\n",
      "50%       454.500000\n",
      "75%       612.000000\n",
      "max      3190.000000\n",
      "Name: parks_nearest, dtype: float64\n"
     ]
    },
    {
     "data": {
      "image/png": "[encoded data removed]",
      "text/plain": [
       "<Figure size 432x288 with 1 Axes>"
      ]
     },
     "metadata": {
      "needs_background": "light"
     },
     "output_type": "display_data"
    }
   ],
   "source": [
    "print('Расстояние до ближайшего парка (м):')\n",
    "print(data['parks_nearest'].describe())\n",
    "\n",
    "data['parks_nearest'].hist(bins=15)\n",
    "plt.show()"
   ]
  },
  {
   "cell_type": "markdown",
   "metadata": {},
   "source": [
    "# Вывод:\n",
    "у большинства квартир в радиусе 1 км есть парк."
   ]
  },
  {
   "cell_type": "code",
   "execution_count": 27,
   "metadata": {},
   "outputs": [
    {
     "name": "stdout",
     "output_type": "stream",
     "text": [
      "День и месяц публикации объявления:\n",
      "6    1647\n",
      "5    1869\n",
      "0    3542\n",
      "2    3878\n",
      "4    3914\n",
      "1    4104\n",
      "3    4200\n",
      "Name: weekday_public, dtype: int64\n"
     ]
    },
    {
     "data": {
      "image/png": "[encoded data removed]",
      "text/plain": [
       "<Figure size 432x288 with 1 Axes>"
      ]
     },
     "metadata": {
      "needs_background": "light"
     },
     "output_type": "display_data"
    },
    {
     "name": "stdout",
     "output_type": "stream",
     "text": [
      "\n",
      "5     1236\n",
      "1     1457\n",
      "12    1606\n",
      "7     1656\n",
      "6     1711\n",
      "8     1712\n",
      "9     1935\n",
      "10    2076\n",
      "4     2318\n",
      "11    2330\n",
      "3     2532\n",
      "2     2585\n",
      "Name: month_public, dtype: int64\n"
     ]
    },
    {
     "data": {
      "image/png": "[encoded data removed]",
      "text/plain": [
       "<Figure size 432x288 with 1 Axes>"
      ]
     },
     "metadata": {
      "needs_background": "light"
     },
     "output_type": "display_data"
    }
   ],
   "source": [
    "print('День и месяц публикации объявления:')\n",
    "\n",
    "print(data['weekday_public'].value_counts(ascending = True))\n",
    "data['weekday_public'].plot(kind ='hist', bins=30, title = 'День недели публикации объявления')\n",
    "plt.show()\n",
    "print()\n",
    "print(data['month_public'].value_counts(ascending = True))\n",
    "data['month_public'].plot(kind ='hist',bins=30, title = 'Месяц публикации объявления')\n",
    "plt.show()"
   ]
  },
  {
   "cell_type": "markdown",
   "metadata": {},
   "source": [
    "# Вывод:\n",
    "Ожидаемо объявления о продаже чаще всего размещались :\\\n",
    "-со вторника по пятницу;\\\n",
    "-в феврале - апреле и в осенние месяца."
   ]
  },
  {
   "cell_type": "markdown",
   "metadata": {},
   "source": [
    "<div class=\"alert alert-success\">\n",
    "<b>✔️ Комментарий ревьюера v1:</b> \n",
    "<br>Ты корректно подбираешь основные диапазоны, а также верно читаешь графики! Отдельный плюс за то, что ты подписываешь графики \n",
    "</div>\n",
    "\n",
    "<div class=\"alert alert-warning\">\n",
    "<b>⚠️ Комментарий ревьюера v1:</b> \n",
    "<br>По ссылке ниже можно почитать подробнее как подписать оси у графика\n",
    "    \n",
    "    https://pyprog.pro/mpl/mpl_axis_signatures.html \n",
    "</div>"
   ]
  },
  {
   "cell_type": "code",
   "execution_count": 28,
   "metadata": {},
   "outputs": [
    {
     "data": {
      "image/png": "[encoded data removed]",
      "text/plain": [
       "<Figure size 360x360 with 1 Axes>"
      ]
     },
     "metadata": {
      "needs_background": "light"
     },
     "output_type": "display_data"
    },
    {
     "name": "stdout",
     "output_type": "stream",
     "text": [
      "I квартиль: 45.00000000000001 , III квартиль: 230.0 , нормальные значения: 1.0 - 507.5\n",
      "среднее количество дней размещения объявления: 180.54037483800218\n",
      "медиана количества дней размещения объявления: 95.0\n"
     ]
    },
    {
     "data": {
      "image/png": "[encoded data removed]",
      "text/plain": [
       "<Figure size 720x360 with 1 Axes>"
      ]
     },
     "metadata": {
      "needs_background": "light"
     },
     "output_type": "display_data"
    }
   ],
   "source": [
    "# как быстро продавались квартиры:\n",
    "data_day_exp = data[data['days_exposition']>0] # отсекаем квартиры, которые еще не проданы\n",
    "data_day_exp.boxplot(column=['days_exposition'], figsize=(5,5), grid=True)\n",
    "plt.ylim(0,1000)\n",
    "plt.ylabel('Время продажи квартиры')\n",
    "plt.show()\n",
    "\n",
    "p25 = np.percentile(data_day_exp['days_exposition'].sort_values(), 25) # первый квартиль\n",
    "p75 = np.percentile(data_day_exp['days_exposition'].sort_values(), 75) # 3-й квартиль\n",
    "p1 = p25 -1.5*(p75-p25) # нижняя граница нормальных значений\n",
    "p2 = p75 +1.5*(p75-p25) # # верхняя граница нормальных значений\n",
    "print('I квартиль:',p25, ',','III квартиль:' ,p75,',','нормальные значения:' , max(p1, data_day_exp['days_exposition'].min()),\"-\",p2)\n",
    "\n",
    "print(\"среднее количество дней размещения объявления:\",data_day_exp['days_exposition'].mean())\n",
    "print(\"медиана количества дней размещения объявления:\",data_day_exp['days_exposition'].median())\n",
    "\n",
    "data_day_exp.query('days_exposition <= @p2').plot(kind='hist',y='days_exposition',title='Срок продажи квартир', bins=50, figsize=(10,5))\n",
    "\n",
    "plt.xlabel('Срок размещения объявлений (в днях)')\n",
    "plt.ylabel('Количество объявлений')\n",
    "plt.show()"
   ]
  },
  {
   "cell_type": "markdown",
   "metadata": {},
   "source": [
    "# Вывод:\n",
    "1) согласно гистограмме большая часть квартир продается в течении первых 3- месяцев (медиана = 95),\\\n",
    "2) быстрыми продажами можно считать продажи в первые 45 дней (I квартиль), длинными - не ранее 230 дней (III квартиль)со дня размещения,\\\n",
    "3) выявлены квартиры, которые не могли продать в течении первых 500 дней (выбросы на диаграмме размаха)-\\\n",
    "вероятно это неликвидные квартиры с нестандартной планировкой или с плохой транспортной доступностью.\\\n",
    "4) медиана = 95, среднее = 180 (за счет выбросов с неликвидными квартирами).\n"
   ]
  },
  {
   "cell_type": "markdown",
   "metadata": {},
   "source": [
    "<div class=\"alert alert-success\">\n",
    "<b>✔️ Комментарий ревьюера v1:</b> \n",
    "<br>Согласен! Если интересно, то можно посмотреть на диапазон от 0 до 100 дней. Там есть пики, которым можно найти очень логичное объяснение</div>\n",
    "</div>\n"
   ]
  },
  {
   "cell_type": "code",
   "execution_count": 29,
   "metadata": {},
   "outputs": [
    {
     "name": "stdout",
     "output_type": "stream",
     "text": [
      "Зависимость цены от следующих параметров:\n",
      "корреляция \"цена - общая площадь\": 0.8\n",
      "корреляция \"цена - жилая площадь\": 0.7\n",
      "корреляция \"цена - площадь кухни\": 0.6\n",
      "корреляция \"цена - кол-во комнат\": 0.5\n"
     ]
    },
    {
     "data": {
      "image/png": "[encoded data removed]",
      "text/plain": [
       "<Figure size 360x288 with 1 Axes>"
      ]
     },
     "metadata": {
      "needs_background": "light"
     },
     "output_type": "display_data"
    },
    {
     "data": {
      "image/png": "[encoded data removed]",
      "text/plain": [
       "<Figure size 360x288 with 1 Axes>"
      ]
     },
     "metadata": {
      "needs_background": "light"
     },
     "output_type": "display_data"
    },
    {
     "data": {
      "image/png": "[encoded data removed]",
      "text/plain": [
       "<Figure size 720x288 with 1 Axes>"
      ]
     },
     "metadata": {
      "needs_background": "light"
     },
     "output_type": "display_data"
    },
    {
     "data": {
      "image/png": "[encoded data removed]",
      "text/plain": [
       "<Figure size 360x288 with 1 Axes>"
      ]
     },
     "metadata": {
      "needs_background": "light"
     },
     "output_type": "display_data"
    },
    {
     "data": {
      "image/png": "[encoded data removed]",
      "text/plain": [
       "<Figure size 360x288 with 1 Axes>"
      ]
     },
     "metadata": {
      "needs_background": "light"
     },
     "output_type": "display_data"
    },
    {
     "data": {
      "image/png": "[encoded data removed]",
      "text/plain": [
       "<Figure size 360x288 with 1 Axes>"
      ]
     },
     "metadata": {
      "needs_background": "light"
     },
     "output_type": "display_data"
    },
    {
     "data": {
      "image/png": "[encoded data removed]",
      "text/plain": [
       "<Figure size 360x288 with 1 Axes>"
      ]
     },
     "metadata": {
      "needs_background": "light"
     },
     "output_type": "display_data"
    },
    {
     "data": {
      "image/png": "[encoded data removed]",
      "text/plain": [
       "<Figure size 360x288 with 1 Axes>"
      ]
     },
     "metadata": {
      "needs_background": "light"
     },
     "output_type": "display_data"
    }
   ],
   "source": [
    "# Факторы,влияющие на общую стоимость объекта:\n",
    "print ('Зависимость цены от следующих параметров:')\n",
    "print('корреляция \"цена - общая площадь\":',data['total_area'].corr(data['last_price']).round(1))\n",
    "print('корреляция \"цена - жилая площадь\":',data['living_area'].corr(data['last_price']).round(1))\n",
    "print('корреляция \"цена - площадь кухни\":', data['kitchen_area'].corr(data['last_price']).round(1))\n",
    "print('корреляция \"цена - кол-во комнат\":',data['rooms'].corr(data['last_price']).round(1))\n",
    "\n",
    "data.pivot_table(index = 'total_area',values = 'last_price').plot(grid=True, style='o', figsize=(5, 4),title='Зависимость цены от площади')\n",
    "plt.show()\n",
    "\n",
    "data.pivot_table(index = 'living_area',values = 'last_price').plot(grid=True, style='o', figsize=(5, 4),title='Зависимость цены от жилой площади')\n",
    "plt.show()\n",
    "data.pivot_table(index = 'kitchen_area',values = 'last_price').plot(grid=True, style='o', figsize=(10, 4),title='Зависимость цены от площади кухни')\n",
    "plt.show()\n",
    "data.pivot_table(index = 'rooms',values = 'last_price').plot(grid=True, style='o-', figsize=(5, 4),title='Зависимость цены от количества комнат')\n",
    "plt.show()\n",
    "data.groupby('floor_type')['last_price'].median().plot(grid=True,style='o-', figsize=(5, 4),title='Зависимость цены от этажа')\n",
    "plt.show()\n",
    "data.groupby('weekday_public')['last_price'].median().plot(grid=True,style='o-', figsize=(5, 4),title='Зависимость цены от дня размещения объявления')\n",
    "plt.show()\n",
    "data.groupby('month_public')['last_price'].median().plot(grid=True,style='o-', figsize=(5, 4),title='Зависимость цены от месяца размещения объявления')\n",
    "plt.show()\n",
    "data.groupby('year_public')['last_price'].median().plot(grid=True,style='o-', figsize=(5, 4),title='Зависимость цены от года размещения объявления')\n",
    "plt.show()"
   ]
  },
  {
   "cell_type": "markdown",
   "metadata": {},
   "source": [
    "# Вывод:\n",
    "1) цена квартиры зависит от общей площади и жилой площади(высокая положительная связь\\\n",
    "-к-нт корреляция: 0,8 и 0,7), к-нт корреляции < 1 ввиду влияния и других факторов на цену.\\\n",
    "2) количество комнат и площадь кухни также влияют на цену, но в меньшей степени\\\n",
    "(к-нт корреляции : 0,5 и 0,6 соответственно), т.к. есть крупногабаритные квартиры с 1-2 комнатами и\\\n",
    "наоборт, 3-4 -х комнатные квартиры малого метража(старый фонд c 6-и метровыми комнатами и т.д.)\\\n",
    "3) этаж имеет прямое влияние на цену: \\\n",
    "покупатели предпочитают не покупать квартиры на первых и последних этажах, поэтому цены на эти квартиры ожидаемо ниже.\\\n",
    "4) квартиры, объявления о продажи которых опубликованы в середине недели, оказались самыми дорогими, в воскресенье - самыми дешевыми.\n",
    "5) самые дорогие квартиры размещались на продажу в апреле, самые дешевые - в октябре,\\\n",
    "6) максимальная цена на квартиры была зафиквирована в начале 2014 года, минимальная - 2016-2017.\\\n",
    "Причиной существенного падения в 2014-2015 годах стал экономический кризис 2014 года. \\\n",
    "Падение продолжалось на протяжении 2-х лет (до 2016 года), в  2016 году цены достигли своего минимума, \\\n",
    "в 2018 году спрос на квартиры стал восстанавливаться, что привело к росту цен."
   ]
  },
  {
   "cell_type": "markdown",
   "metadata": {},
   "source": [
    "<div class=\"alert alert-success\">\n",
    "<b>✔️ Комментарий ревьюера v1:</b>\n",
    "<br>Зависимость цены изучена верно! Ещё тут можно использовать для визуализации pairplot из библиотеки seaborn \n",
    "    \n",
    "    https://seaborn.pydata.org/generated/seaborn.pairplot.html\n",
    "</div>"
   ]
  },
  {
   "cell_type": "code",
   "execution_count": 30,
   "metadata": {},
   "outputs": [
    {
     "name": "stdout",
     "output_type": "stream",
     "text": [
      "Средняя цена 1 квадратного метра в 10 населенных пунктах с наибольшим числом объявлений:\n",
      "                   price_meter\n",
      "locality_name                 \n",
      "санкт-петербург         112942\n",
      "пушкин                  103125\n",
      "деревня кудрово          92473\n",
      "поселок парголово        90124\n",
      "мурино                   86061\n",
      "поселок шушары           78550\n",
      "колпино                  75424\n",
      "гатчина                  68934\n",
      "всеволожск               68783\n",
      "выборг                   58787\n"
     ]
    }
   ],
   "source": [
    "# Средняя цена 1 квадратного метра в 10 населенных пунктах с наибольшим числом объявлений.\n",
    "print('Средняя цена 1 квадратного метра в 10 населенных пунктах с наибольшим числом объявлений:')\n",
    "top10 = data.groupby('locality_name')['locality_name'].count().sort_values(ascending = False).head(10)\n",
    "top10_price = data.query('locality_name in @top10.index').pivot_table(index='locality_name', values='price_meter').sort_values(by = 'price_meter',ascending = False)\n",
    "top10_price['price_meter']=top10_price['price_meter'].astype('int')\n",
    "print(top10_price)\n",
    "\n"
   ]
  },
  {
   "cell_type": "markdown",
   "metadata": {},
   "source": [
    "# Вывод:\n",
    "Самая высокая стоимость квадратного метра зафиксивирована в :\n",
    "- Санкт-Петербурге, \\\n",
    "- Пушкине -стоимость метра объясняется тем, что является частью Спб (прописка Спб), исторический памятник, охраняемый ЮНЕСКО,\\\n",
    "- Кудрово (Лен.область, но хорошая транспортная доступность + метро).\\\n",
    "Самая низкая стоимость квадратного метра зафиксивирована в :\\\n",
    "-Гатчине (Лен. область, неразвитая инфраструтура, плохая транспортная доступность)\\\n",
    "-Всеволожске (Лен. область, неразвитая инфраструтура, плохая транспортная доступность)\\\n",
    "-Выборге (Лен. область, более 100 км до Спб)."
   ]
  },
  {
   "cell_type": "markdown",
   "metadata": {},
   "source": [
    "<div class=\"alert alert-success\">\n",
    "<b>✔️ Комментарий ревьюера v1:</b> \n",
    "<br>Всё верно! Как вариант, тут можно построить барплот для топ10 по средней цене, так будет более наглядно)\n",
    "</div>"
   ]
  },
  {
   "cell_type": "code",
   "execution_count": 31,
   "metadata": {},
   "outputs": [
    {
     "name": "stdout",
     "output_type": "stream",
     "text": [
      "Зависимость цены от расстояния до центра города:\n",
      "                   price_meter\n",
      "distance_center               \n",
      "0.0              223445.680000\n",
      "1.0              147756.825843\n",
      "2.0              141893.665541\n",
      "3.0              119019.133721\n",
      "4.0              128273.474926\n",
      "5.0              136237.092634\n",
      "6.0              143285.600666\n",
      "7.0              150910.985437\n",
      "8.0              124327.703578\n",
      "9.0              113350.533898\n",
      "10.0             112607.030641\n",
      "11.0             108151.301887\n",
      "12.0             107471.615674\n",
      "13.0             108110.667818\n",
      "14.0             104189.021210\n",
      "15.0             104319.495183\n",
      "\n",
      "Цена первого км от центра города достаточно высока: 75689\n",
      "Цена 1 км в диапазоне 1-10 км от центра: 3514.9\n",
      "Цена 1 км в диапазоне 11-20 км от центра: 2251.3\n",
      "Цена 1 км в диапазоне 21-40 км от центра: 526.05\n"
     ]
    },
    {
     "data": {
      "image/png": "[encoded data removed]",
      "text/plain": [
       "<Figure size 720x288 with 1 Axes>"
      ]
     },
     "metadata": {
      "needs_background": "light"
     },
     "output_type": "display_data"
    }
   ],
   "source": [
    "# Зависимость цены от расстояния до центра города:\n",
    "print('Зависимость цены от расстояния до центра города:')\n",
    "distance_price = data.pivot_table(index ='distance_center', values ='price_meter', aggfunc ='mean')\n",
    "print(distance_price.head(16))\n",
    "print()\n",
    "print(\"Цена первого км от центра города достаточно высока:\",distance_price.query('distance_center==0')['price_meter'].sum().astype('int') - \\\n",
    "distance_price.query('distance_center==1')['price_meter'].sum().astype('int'))\n",
    "print(\"Цена 1 км в диапазоне 1-10 км от центра:\",(distance_price.query('distance_center==1')['price_meter'].sum().astype('int') - \\\n",
    "distance_price.query('distance_center==10')['price_meter'].sum().astype('int'))/10)\n",
    "print(\"Цена 1 км в диапазоне 11-20 км от центра:\",(distance_price.query('distance_center==11')['price_meter'].sum().astype('int') - \\\n",
    "distance_price.query('distance_center==20')['price_meter'].sum().astype('int'))/10)\n",
    "print(\"Цена 1 км в диапазоне 21-40 км от центра:\",(distance_price.query('distance_center==21')['price_meter'].sum().astype('int') - \\\n",
    "distance_price.query('distance_center==40')['price_meter'].sum().astype('int'))/20)\n",
    "\n",
    "distance_price.plot(grid=True,style='o-', figsize=(10, 4),title='Зависимость цены от расстояния до центра города')\n",
    "plt.show()"
   ]
  },
  {
   "cell_type": "markdown",
   "metadata": {},
   "source": [
    "# Вывод:\n",
    "Цена квартиры зависит от расстояния до центра Санкт-Петербурга:\\\n",
    "- самый дорогой первый км от центра - цена за 1 кв.м  может отличаться на 76 тыс.руб.,\\\n",
    "- в радиусе 1-10 км от центра города - цена за 1 кв.м в среднем снижается на 3,5 тыс. руб. с каждым километром от центра,\\\n",
    "- в радиусе 11-20 км от центра города - цена за 1 кв.м в среднем снижается на 2,2 тыс.руб. с каждым километром,\\\n",
    "- в радиусе 21-40 км от центра города - цена за 1 кв.м практически не изменяяется (в среднем снижается на 500 руб.),\\\n",
    "- цена за 1 кв.м в радиусе более 40 км от центра города слабо зависит от удаленности (на ценообразование оказывают \\\n",
    "влияние другие факторы)\n"
   ]
  },
  {
   "cell_type": "markdown",
   "metadata": {},
   "source": [
    "<div class=\"alert alert-success\">\n",
    "<b>✔️ Комментарий ревьюера v1:</b>\n",
    "<br>Отличный анализ 👍\n",
    "</div>"
   ]
  },
  {
   "cell_type": "markdown",
   "metadata": {},
   "source": [
    "# Основной вывод:\n",
    "Проведен анализ архива объявлений за несколько лет о продаже квартир в Санкт-Петербурге и Лен.области.\n",
    "По результатам анализа выявлено следующее:\\\n",
    "1) большинства квартир, выставленных на продажу, соответстуют следующим параметрам:\\\n",
    "    - одно- и двухкомнатные квартиры небольшого метража (общая площадь:38-45 кв.м, жилая: - 17-22 кв.м)\\,\n",
    "    - кухни 7-11 кв.м,\\\n",
    "    - квартиры располоаются не выше 6-го этажа,\\\n",
    "    - дома этажностью до 9 этажей,\\\n",
    "    - потолки стандартные: 2.6-2.7 м,\\\n",
    "    - наличие парков в радиусе 1 км,\\\n",
    "    - удаленность от центра города в радиусе 8-18 км\\\n",
    "    - удаленность от аэропорта : от 15 до 38 км\\\n",
    "2) самые дорогие квартиры в Санкт-Петербурге, Пушкине и Кудрово,\\\n",
    "   самые дешевые - в Гатчине, Всеволожске и Выборге.\\\n",
    "3) цена квартиры в значительной степени зависит от общей и жилой площади, этажа и расстояния до центра\\\n",
    "   (зависимость цены от расстояния до центра города существенно снижается в радиусе более 20 км от центра),\\\n",
    "   цена в меньшей степени зависит от площади кухни и количества комнат.\\\n",
    "4) выявлены также зависимости цены от года постановки на продажу (2014-max, 2016-min),\\\n",
    "   от месяца: в апреле - самые дорогие квартиры, в июне - дешевые (возможно спрос падал в связи с летними отпусками, поэтому\\\n",
    "   цена предложения была ниже), а также от дня недели - в середине недели размещались более дорогие квартиры.\\\n",
    "5) в основном квартиры продавались в течении первых трех месяцев со дня размещения объявления, но есть и менее ликвидные\\\n",
    "   квартиры, срок продажи которых составил более 230 дней.\\\n",
    "6) в процессе работы с данными были выявлены аномальные значения, пропуски и ошибки заполнения по некоторым параметрам,\\\n",
    "   которые были отработаны/устранены (было удалено порядка 2% строк, что не является значимым для анализа). \n"
   ]
  },
  {
   "cell_type": "markdown",
   "metadata": {},
   "source": [
    "<div class=\"alert alert-danger\">\n",
    "<b>❌ Комментарий ревьюера v1:</b> \n",
    "<br>После всех внесённых правок, обязательно перепроверь общий вывод и промежуточные выводы и поправь их по необходимости\n",
    "</div>"
   ]
  },
  {
   "cell_type": "markdown",
   "metadata": {},
   "source": [
    "<div class=\"alert alert-info\">\n",
    "<b>Комментарий студента:</b>\n",
    "<br> Промежуточные выводы не изменились, в итоговом добавила метраж жилой площади и написала о снижении зависимости\n",
    "цены от удаленности до центра в радиусе  более 20 км.🙂\n",
    "</div>"
   ]
  },
  {
   "cell_type": "markdown",
   "metadata": {},
   "source": [
    "<div class=\"alert alert-danger\">\n",
    "<b>❌ Итоговый комментарий ревьюера v1:</b> \n",
    "<br>Ты хорошо потрудилась, большая часть работы сделана, но остаётся внести следующие правки:\n",
    "<br>- выполнить задание 1.3\n",
    "<br>- написать короткий вывод после первичного просмотра данных\n",
    "<br>- разбить код на ячейки\n",
    "<br>- поправить выводы там, где это необходимо\n",
    "</div>"
   ]
  },
  {
   "cell_type": "markdown",
   "metadata": {},
   "source": [
    "<div class=\"alert alert-success\">\n",
    "<b>✔️ Итоговый комментарий ревьюера v2:</b>\n",
    "<br>Все правки выполнены. Молодец!\n",
    "<br>Проделана огромная работа! У тебя подробные, понятные и логичные выводы, которые ты подкрепляешь фактами. Были использованы разные графики и способы, чтобы как можно более тщательно изучить данные и у тебя это получилось! \n",
    "<br>Я рад был поработать над проверкой твоей работы) В качестве дополнительного материала для изучения могу порекомендовать следующий ресурс:\n",
    "\n",
    "\thttps://www.python-graph-gallery.com/\n",
    "<br>В нем содержится большая библиотека графиков с готовым кодом, который можно использовать при работе.\n",
    "<br>Поздравляю со сдачей проекта и желаю удачи в дальнейшем обучении! 😉    \n",
    "</div>"
   ]
  },
  {
   "cell_type": "markdown",
   "metadata": {},
   "source": [
    "**Чек-лист готовности проекта**\n",
    "\n",
    "Поставьте 'x' в выполненных пунктах. Далее нажмите Shift+Enter."
   ]
  },
  {
   "cell_type": "markdown",
   "metadata": {},
   "source": [
    "- [x]  открыт файл\n",
    "- [x]  файлы изучены (выведены первые строки, метод `info()`, гистограммы и т.д.)\n",
    "- [x]  определены пропущенные значения\n",
    "- [x]  заполнены пропущенные значения там, где это возможно\n",
    "- [x]  есть пояснение, какие пропущенные значения обнаружены\n",
    "- [x]  изменены типы данных\n",
    "- [x]  есть пояснение, в каких столбцах изменены типы и почему\n",
    "- [x]  устранены неявные дубликаты в названиях населённых пунктов\n",
    "- [x]  устранены редкие и выбивающиеся значения (аномалии) во всех столбцах\n",
    "- [x]  посчитано и добавлено в таблицу: цена одного квадратного метра\n",
    "- [x]  посчитано и добавлено в таблицу: день публикации объявления (0 - понедельник, 1 - вторник и т.д.)\n",
    "- [x]  посчитано и добавлено в таблицу: месяц публикации объявления\n",
    "- [x]  посчитано и добавлено в таблицу: год публикации объявления\n",
    "- [x]  посчитано и добавлено в таблицу: тип этажа квартиры (значения — «первый», «последний», «другой»)\n",
    "- [x]  посчитано и добавлено в таблицу: расстояние в км до центра города\n",
    "- [x]  изучены и описаны следующие параметры:\n",
    "        - общая площадь;\n",
    "        - жилая площадь;\n",
    "        - площадь кухни;\n",
    "        - цена объекта;\n",
    "        - количество комнат;\n",
    "        - высота потолков;\n",
    "        - этаж квартиры;\n",
    "        - тип этажа квартиры («первый», «последний», «другой»);\n",
    "        - общее количество этажей в доме;\n",
    "        - расстояние до центра города в метрах;\n",
    "        - расстояние до ближайшего аэропорта;\n",
    "        - расстояние до ближайшего парка;\n",
    "        - день и месяц публикации объявления\n",
    "- [x]  построены гистограммы для каждого параметра\n",
    "- [x]  выполнено задание: \"Изучите, как быстро продавались квартиры (столбец days_exposition). Этот параметр показывает, сколько дней «висело» каждое объявление.\n",
    "    - Постройте гистограмму.\n",
    "    - Посчитайте среднее и медиану.\n",
    "    - В ячейке типа markdown опишите, сколько обычно занимает продажа. Какие продажи можно считать быстрыми, а какие — необычно долгими?\"\n",
    "- [x]  выполнено задание: \"Какие факторы больше всего влияют на общую (полную) стоимость объекта? Постройте графики, которые покажут зависимость цены от указанных ниже параметров. Для подготовки данных перед визуализацией вы можете использовать сводные таблицы.\"\n",
    "        - общей площади;\n",
    "        - жилой площади;\n",
    "        - площади кухни;\n",
    "        - количество комнат;\n",
    "        - типа этажа, на котором расположена квартира (первый, последний, другой);\n",
    "        - даты размещения (день недели, месяц, год);\n",
    "- [x]  выполнено задание: \"Посчитайте среднюю цену одного квадратного метра в 10 населённых пунктах с наибольшим числом объявлений. Выделите населённые пункты с самой высокой и низкой стоимостью квадратного метра. Эти данные можно найти по имени в столбце `locality_name`.\"\n",
    "- [x]  выполнено задание: \"Ранее вы посчитали расстояние до центра в километрах. Теперь выделите квартиры в Санкт-Петербурге с помощью столбца `locality_name` и вычислите среднюю цену каждого километра. Опишите, как стоимость объектов зависит от расстояния до центра города.\"\n",
    "- [x]  в каждом этапе есть промежуточные выводы\n",
    "- [x]  есть общий вывод"
   ]
  }
 ],
 "metadata": {
  "ExecuteTimeLog": [
   {
    "duration": 705,
    "start_time": "2023-03-08T11:40:32.899Z"
   },
   {
    "duration": 104,
    "start_time": "2023-03-08T11:42:53.759Z"
   },
   {
    "duration": 94,
    "start_time": "2023-03-08T11:43:14.639Z"
   },
   {
    "duration": 99,
    "start_time": "2023-03-08T11:43:35.746Z"
   },
   {
    "duration": 92,
    "start_time": "2023-03-08T11:44:25.727Z"
   },
   {
    "duration": 97,
    "start_time": "2023-03-08T11:44:41.368Z"
   },
   {
    "duration": 99,
    "start_time": "2023-03-08T11:47:55.114Z"
   },
   {
    "duration": 92,
    "start_time": "2023-03-08T11:48:33.612Z"
   },
   {
    "duration": 95,
    "start_time": "2023-03-08T11:51:46.005Z"
   },
   {
    "duration": 91,
    "start_time": "2023-03-08T12:01:10.608Z"
   },
   {
    "duration": 102,
    "start_time": "2023-03-08T12:01:15.677Z"
   },
   {
    "duration": 118,
    "start_time": "2023-03-08T12:02:39.820Z"
   },
   {
    "duration": 130,
    "start_time": "2023-03-08T12:06:51.746Z"
   },
   {
    "duration": 3,
    "start_time": "2023-03-08T15:25:02.460Z"
   },
   {
    "duration": 16,
    "start_time": "2023-03-08T15:25:18.485Z"
   },
   {
    "duration": 4,
    "start_time": "2023-03-08T15:25:46.911Z"
   },
   {
    "duration": 113,
    "start_time": "2023-03-08T15:31:44.503Z"
   },
   {
    "duration": 351,
    "start_time": "2023-03-08T15:31:50.639Z"
   },
   {
    "duration": 4,
    "start_time": "2023-03-08T15:31:55.247Z"
   },
   {
    "duration": 2808,
    "start_time": "2023-03-08T15:33:21.124Z"
   },
   {
    "duration": 1847,
    "start_time": "2023-03-08T15:33:46.424Z"
   },
   {
    "duration": 2440,
    "start_time": "2023-03-08T15:36:57.820Z"
   },
   {
    "duration": 2114,
    "start_time": "2023-03-08T15:42:11.525Z"
   },
   {
    "duration": 2371,
    "start_time": "2023-03-08T15:43:57.108Z"
   },
   {
    "duration": 188,
    "start_time": "2023-03-08T15:44:30.917Z"
   },
   {
    "duration": 201,
    "start_time": "2023-03-08T15:47:41.511Z"
   },
   {
    "duration": 202,
    "start_time": "2023-03-08T15:49:28.421Z"
   },
   {
    "duration": 204,
    "start_time": "2023-03-08T15:50:01.626Z"
   },
   {
    "duration": 7,
    "start_time": "2023-03-08T15:55:01.831Z"
   },
   {
    "duration": 8,
    "start_time": "2023-03-08T15:56:27.421Z"
   },
   {
    "duration": 5,
    "start_time": "2023-03-08T15:56:40.073Z"
   },
   {
    "duration": 5,
    "start_time": "2023-03-08T15:57:25.854Z"
   },
   {
    "duration": 6,
    "start_time": "2023-03-08T15:57:38.953Z"
   },
   {
    "duration": 88,
    "start_time": "2023-03-08T16:01:05.329Z"
   },
   {
    "duration": 77,
    "start_time": "2023-03-08T16:02:21.949Z"
   },
   {
    "duration": 147,
    "start_time": "2023-03-08T16:02:28.063Z"
   },
   {
    "duration": 132,
    "start_time": "2023-03-08T16:02:56.207Z"
   },
   {
    "duration": 168,
    "start_time": "2023-03-08T16:03:51.212Z"
   },
   {
    "duration": 177,
    "start_time": "2023-03-08T16:04:18.940Z"
   },
   {
    "duration": 150,
    "start_time": "2023-03-08T16:04:32.471Z"
   },
   {
    "duration": 144,
    "start_time": "2023-03-08T16:18:18.615Z"
   },
   {
    "duration": 3,
    "start_time": "2023-03-08T16:32:27.418Z"
   },
   {
    "duration": 21,
    "start_time": "2023-03-08T16:32:36.116Z"
   },
   {
    "duration": 833,
    "start_time": "2023-03-08T16:35:53.804Z"
   },
   {
    "duration": 110,
    "start_time": "2023-03-08T16:42:55.871Z"
   },
   {
    "duration": 129,
    "start_time": "2023-03-08T16:45:34.537Z"
   },
   {
    "duration": 11,
    "start_time": "2023-03-08T16:49:19.317Z"
   },
   {
    "duration": 11,
    "start_time": "2023-03-08T16:49:46.397Z"
   },
   {
    "duration": 119,
    "start_time": "2023-03-08T16:49:54.310Z"
   },
   {
    "duration": 174,
    "start_time": "2023-03-08T16:50:18.886Z"
   },
   {
    "duration": 128,
    "start_time": "2023-03-08T16:50:31.777Z"
   },
   {
    "duration": 197,
    "start_time": "2023-03-08T20:08:34.167Z"
   },
   {
    "duration": 135,
    "start_time": "2023-03-08T20:08:47.975Z"
   },
   {
    "duration": 119,
    "start_time": "2023-03-08T20:08:57.141Z"
   },
   {
    "duration": 140,
    "start_time": "2023-03-08T20:14:03.921Z"
   },
   {
    "duration": 138,
    "start_time": "2023-03-08T20:14:10.922Z"
   },
   {
    "duration": 12,
    "start_time": "2023-03-08T20:14:31.879Z"
   },
   {
    "duration": 125,
    "start_time": "2023-03-08T20:14:51.139Z"
   },
   {
    "duration": 158,
    "start_time": "2023-03-08T20:15:12.211Z"
   },
   {
    "duration": 150,
    "start_time": "2023-03-08T20:15:29.801Z"
   },
   {
    "duration": 140,
    "start_time": "2023-03-08T20:17:22.816Z"
   },
   {
    "duration": 163,
    "start_time": "2023-03-08T20:17:27.479Z"
   },
   {
    "duration": 140,
    "start_time": "2023-03-08T20:21:42.379Z"
   },
   {
    "duration": 150,
    "start_time": "2023-03-08T20:21:56.382Z"
   },
   {
    "duration": 112,
    "start_time": "2023-03-08T20:24:03.346Z"
   },
   {
    "duration": 14,
    "start_time": "2023-03-08T20:26:35.572Z"
   },
   {
    "duration": 10,
    "start_time": "2023-03-08T20:28:48.378Z"
   },
   {
    "duration": 15,
    "start_time": "2023-03-08T20:29:00.717Z"
   },
   {
    "duration": 11,
    "start_time": "2023-03-08T20:29:45.138Z"
   },
   {
    "duration": 10,
    "start_time": "2023-03-08T20:32:12.843Z"
   },
   {
    "duration": 10,
    "start_time": "2023-03-08T20:32:42.279Z"
   },
   {
    "duration": 9,
    "start_time": "2023-03-08T20:33:04.460Z"
   },
   {
    "duration": 165,
    "start_time": "2023-03-08T20:33:44.109Z"
   },
   {
    "duration": 12,
    "start_time": "2023-03-08T20:34:10.895Z"
   },
   {
    "duration": 15,
    "start_time": "2023-03-08T20:34:26.061Z"
   },
   {
    "duration": 115,
    "start_time": "2023-03-08T20:35:08.825Z"
   },
   {
    "duration": 120,
    "start_time": "2023-03-08T20:37:38.968Z"
   },
   {
    "duration": 115,
    "start_time": "2023-03-08T20:39:54.797Z"
   },
   {
    "duration": 13,
    "start_time": "2023-03-08T20:44:13.171Z"
   },
   {
    "duration": 10,
    "start_time": "2023-03-08T20:44:27.579Z"
   },
   {
    "duration": 11,
    "start_time": "2023-03-08T20:44:33.615Z"
   },
   {
    "duration": 241,
    "start_time": "2023-03-08T20:44:47.590Z"
   },
   {
    "duration": 13,
    "start_time": "2023-03-08T20:44:47.834Z"
   },
   {
    "duration": 116,
    "start_time": "2023-03-08T20:45:18.394Z"
   },
   {
    "duration": 119,
    "start_time": "2023-03-08T20:45:31.811Z"
   },
   {
    "duration": 119,
    "start_time": "2023-03-08T20:45:50.027Z"
   },
   {
    "duration": 109,
    "start_time": "2023-03-08T20:46:09.410Z"
   },
   {
    "duration": 12,
    "start_time": "2023-03-08T20:49:33.726Z"
   },
   {
    "duration": 106,
    "start_time": "2023-03-08T20:49:39.637Z"
   },
   {
    "duration": 50,
    "start_time": "2023-03-09T06:58:41.808Z"
   },
   {
    "duration": 7,
    "start_time": "2023-03-09T06:58:56.913Z"
   },
   {
    "duration": 1135,
    "start_time": "2023-03-09T06:59:14.842Z"
   },
   {
    "duration": 11,
    "start_time": "2023-03-09T06:59:15.979Z"
   },
   {
    "duration": 48,
    "start_time": "2023-03-09T07:00:35.744Z"
   },
   {
    "duration": 143,
    "start_time": "2023-03-09T07:00:49.629Z"
   },
   {
    "duration": 10,
    "start_time": "2023-03-09T07:00:58.845Z"
   },
   {
    "duration": 16,
    "start_time": "2023-03-09T07:01:13.007Z"
   },
   {
    "duration": 122,
    "start_time": "2023-03-09T07:02:32.902Z"
   },
   {
    "duration": 6,
    "start_time": "2023-03-09T07:02:46.255Z"
   },
   {
    "duration": 18,
    "start_time": "2023-03-09T07:05:45.333Z"
   },
   {
    "duration": 13,
    "start_time": "2023-03-09T07:06:04.810Z"
   },
   {
    "duration": 10,
    "start_time": "2023-03-09T07:07:38.798Z"
   },
   {
    "duration": 9,
    "start_time": "2023-03-09T07:07:47.359Z"
   },
   {
    "duration": 39,
    "start_time": "2023-03-09T07:07:57.220Z"
   },
   {
    "duration": 13,
    "start_time": "2023-03-09T07:08:45.310Z"
   },
   {
    "duration": 2791,
    "start_time": "2023-03-09T09:22:14.406Z"
   },
   {
    "duration": 79,
    "start_time": "2023-03-09T09:24:24.628Z"
   },
   {
    "duration": 20,
    "start_time": "2023-03-09T09:24:43.771Z"
   },
   {
    "duration": 31,
    "start_time": "2023-03-09T09:25:32.090Z"
   },
   {
    "duration": 15,
    "start_time": "2023-03-09T09:34:11.475Z"
   },
   {
    "duration": 75,
    "start_time": "2023-03-09T09:34:40.511Z"
   },
   {
    "duration": 18,
    "start_time": "2023-03-09T09:37:18.123Z"
   },
   {
    "duration": 1979,
    "start_time": "2023-03-09T09:37:34.007Z"
   },
   {
    "duration": 19,
    "start_time": "2023-03-09T09:37:35.987Z"
   },
   {
    "duration": 18,
    "start_time": "2023-03-09T09:39:07.150Z"
   },
   {
    "duration": 23,
    "start_time": "2023-03-09T09:48:21.821Z"
   },
   {
    "duration": 2539,
    "start_time": "2023-03-09T09:56:41.726Z"
   },
   {
    "duration": 30,
    "start_time": "2023-03-09T09:56:44.266Z"
   },
   {
    "duration": 25,
    "start_time": "2023-03-09T10:02:16.125Z"
   },
   {
    "duration": 1989,
    "start_time": "2023-03-09T10:02:36.106Z"
   },
   {
    "duration": 26,
    "start_time": "2023-03-09T10:02:38.097Z"
   },
   {
    "duration": 4,
    "start_time": "2023-03-09T10:04:21.015Z"
   },
   {
    "duration": 5,
    "start_time": "2023-03-09T10:04:26.583Z"
   },
   {
    "duration": 4,
    "start_time": "2023-03-09T10:04:34.627Z"
   },
   {
    "duration": 27,
    "start_time": "2023-03-09T10:04:52.820Z"
   },
   {
    "duration": 2004,
    "start_time": "2023-03-09T10:42:33.773Z"
   },
   {
    "duration": 28,
    "start_time": "2023-03-09T10:42:35.779Z"
   },
   {
    "duration": 41,
    "start_time": "2023-03-09T10:49:20.206Z"
   },
   {
    "duration": 32,
    "start_time": "2023-03-09T10:50:53.922Z"
   },
   {
    "duration": 32,
    "start_time": "2023-03-09T10:51:10.073Z"
   },
   {
    "duration": 29,
    "start_time": "2023-03-09T10:52:25.813Z"
   },
   {
    "duration": 42,
    "start_time": "2023-03-09T10:53:57.522Z"
   },
   {
    "duration": 60,
    "start_time": "2023-03-09T10:54:27.213Z"
   },
   {
    "duration": 16,
    "start_time": "2023-03-09T10:55:00.675Z"
   },
   {
    "duration": 30,
    "start_time": "2023-03-09T10:57:50.540Z"
   },
   {
    "duration": 51,
    "start_time": "2023-03-09T10:57:56.569Z"
   },
   {
    "duration": 33,
    "start_time": "2023-03-09T10:58:07.148Z"
   },
   {
    "duration": 30,
    "start_time": "2023-03-09T10:58:23.827Z"
   },
   {
    "duration": 23,
    "start_time": "2023-03-09T10:58:33.279Z"
   },
   {
    "duration": 44,
    "start_time": "2023-03-09T10:58:55.979Z"
   },
   {
    "duration": 42,
    "start_time": "2023-03-09T10:59:03.106Z"
   },
   {
    "duration": 19,
    "start_time": "2023-03-09T10:59:43.663Z"
   },
   {
    "duration": 20,
    "start_time": "2023-03-09T11:07:10.868Z"
   },
   {
    "duration": 22,
    "start_time": "2023-03-09T11:08:26.793Z"
   },
   {
    "duration": 18,
    "start_time": "2023-03-09T11:08:40.888Z"
   },
   {
    "duration": 18,
    "start_time": "2023-03-09T11:09:10.957Z"
   },
   {
    "duration": 2005,
    "start_time": "2023-03-09T11:09:17.341Z"
   },
   {
    "duration": 21,
    "start_time": "2023-03-09T11:09:19.348Z"
   },
   {
    "duration": 27,
    "start_time": "2023-03-09T11:09:56.047Z"
   },
   {
    "duration": 23,
    "start_time": "2023-03-09T11:24:11.207Z"
   },
   {
    "duration": 23,
    "start_time": "2023-03-09T11:24:23.009Z"
   },
   {
    "duration": 13,
    "start_time": "2023-03-09T11:26:40.130Z"
   },
   {
    "duration": 23,
    "start_time": "2023-03-09T11:27:10.709Z"
   },
   {
    "duration": 1946,
    "start_time": "2023-03-09T11:27:33.254Z"
   },
   {
    "duration": 21,
    "start_time": "2023-03-09T11:27:35.202Z"
   },
   {
    "duration": 15,
    "start_time": "2023-03-09T11:31:13.990Z"
   },
   {
    "duration": 24,
    "start_time": "2023-03-09T11:31:50.787Z"
   },
   {
    "duration": 45,
    "start_time": "2023-03-09T11:32:15.191Z"
   },
   {
    "duration": 39,
    "start_time": "2023-03-09T11:35:07.453Z"
   },
   {
    "duration": 48,
    "start_time": "2023-03-09T11:35:32.578Z"
   },
   {
    "duration": 33,
    "start_time": "2023-03-09T11:35:59.943Z"
   },
   {
    "duration": 33,
    "start_time": "2023-03-09T11:36:32.540Z"
   },
   {
    "duration": 23,
    "start_time": "2023-03-09T11:37:49.793Z"
   },
   {
    "duration": 22,
    "start_time": "2023-03-09T11:38:05.100Z"
   },
   {
    "duration": 32,
    "start_time": "2023-03-09T11:38:17.513Z"
   },
   {
    "duration": 32,
    "start_time": "2023-03-09T11:38:47.968Z"
   },
   {
    "duration": 34,
    "start_time": "2023-03-09T11:38:59.181Z"
   },
   {
    "duration": 32,
    "start_time": "2023-03-09T11:39:11.559Z"
   },
   {
    "duration": 39,
    "start_time": "2023-03-09T11:39:21.610Z"
   },
   {
    "duration": 44,
    "start_time": "2023-03-09T11:39:41.313Z"
   },
   {
    "duration": 33,
    "start_time": "2023-03-09T11:39:52.305Z"
   },
   {
    "duration": 36,
    "start_time": "2023-03-09T11:40:04.347Z"
   },
   {
    "duration": 47,
    "start_time": "2023-03-09T11:40:25.743Z"
   },
   {
    "duration": 29,
    "start_time": "2023-03-09T13:43:21.132Z"
   },
   {
    "duration": 44,
    "start_time": "2023-03-09T13:43:52.338Z"
   },
   {
    "duration": 49,
    "start_time": "2023-03-09T13:44:03.645Z"
   },
   {
    "duration": 22,
    "start_time": "2023-03-09T13:44:19.853Z"
   },
   {
    "duration": 29,
    "start_time": "2023-03-09T13:45:04.402Z"
   },
   {
    "duration": 45,
    "start_time": "2023-03-09T13:45:37.659Z"
   },
   {
    "duration": 48,
    "start_time": "2023-03-09T13:45:45.078Z"
   },
   {
    "duration": 23,
    "start_time": "2023-03-09T13:45:52.411Z"
   },
   {
    "duration": 23,
    "start_time": "2023-03-09T13:46:08.977Z"
   },
   {
    "duration": 35,
    "start_time": "2023-03-09T13:47:05.024Z"
   },
   {
    "duration": 23,
    "start_time": "2023-03-09T13:47:14.345Z"
   },
   {
    "duration": 32,
    "start_time": "2023-03-09T13:47:18.605Z"
   },
   {
    "duration": 23,
    "start_time": "2023-03-09T13:47:26.733Z"
   },
   {
    "duration": 43,
    "start_time": "2023-03-09T13:52:17.792Z"
   },
   {
    "duration": 41,
    "start_time": "2023-03-09T13:52:28.373Z"
   },
   {
    "duration": 25,
    "start_time": "2023-03-09T13:52:35.894Z"
   },
   {
    "duration": 43,
    "start_time": "2023-03-09T13:54:22.937Z"
   },
   {
    "duration": 24,
    "start_time": "2023-03-09T13:55:40.323Z"
   },
   {
    "duration": 19,
    "start_time": "2023-03-09T13:55:49.304Z"
   },
   {
    "duration": 30,
    "start_time": "2023-03-09T13:56:37.228Z"
   },
   {
    "duration": 36,
    "start_time": "2023-03-09T13:56:48.091Z"
   },
   {
    "duration": 202,
    "start_time": "2023-03-09T14:01:50.310Z"
   },
   {
    "duration": 34,
    "start_time": "2023-03-09T14:02:26.221Z"
   },
   {
    "duration": 52,
    "start_time": "2023-03-09T14:05:06.398Z"
   },
   {
    "duration": 18,
    "start_time": "2023-03-09T14:05:23.706Z"
   },
   {
    "duration": 36,
    "start_time": "2023-03-09T14:05:40.185Z"
   },
   {
    "duration": 23,
    "start_time": "2023-03-09T14:06:19.178Z"
   },
   {
    "duration": 22,
    "start_time": "2023-03-09T14:06:27.929Z"
   },
   {
    "duration": 20,
    "start_time": "2023-03-09T14:07:11.526Z"
   },
   {
    "duration": 20,
    "start_time": "2023-03-09T14:07:34.597Z"
   },
   {
    "duration": 2077,
    "start_time": "2023-03-09T14:10:39.673Z"
   },
   {
    "duration": 22,
    "start_time": "2023-03-09T14:10:41.752Z"
   },
   {
    "duration": 1854,
    "start_time": "2023-03-09T14:13:57.587Z"
   },
   {
    "duration": 28,
    "start_time": "2023-03-09T14:13:59.444Z"
   },
   {
    "duration": 21,
    "start_time": "2023-03-09T14:24:52.972Z"
   },
   {
    "duration": 48,
    "start_time": "2023-03-09T14:25:31.975Z"
   },
   {
    "duration": 42,
    "start_time": "2023-03-09T14:29:39.748Z"
   },
   {
    "duration": 236,
    "start_time": "2023-03-09T14:29:56.386Z"
   },
   {
    "duration": 24,
    "start_time": "2023-03-09T14:34:52.131Z"
   },
   {
    "duration": 26,
    "start_time": "2023-03-09T14:35:17.851Z"
   },
   {
    "duration": 26,
    "start_time": "2023-03-09T14:35:51.556Z"
   },
   {
    "duration": 41,
    "start_time": "2023-03-09T14:36:00.449Z"
   },
   {
    "duration": 38,
    "start_time": "2023-03-09T14:36:09.596Z"
   },
   {
    "duration": 40,
    "start_time": "2023-03-09T14:36:21.766Z"
   },
   {
    "duration": 45,
    "start_time": "2023-03-09T14:36:27.284Z"
   },
   {
    "duration": 25,
    "start_time": "2023-03-09T14:37:01.274Z"
   },
   {
    "duration": 25,
    "start_time": "2023-03-09T14:37:21.364Z"
   },
   {
    "duration": 37,
    "start_time": "2023-03-09T14:37:38.271Z"
   },
   {
    "duration": 38,
    "start_time": "2023-03-09T14:38:05.172Z"
   },
   {
    "duration": 1844,
    "start_time": "2023-03-09T14:38:29.176Z"
   },
   {
    "duration": 44,
    "start_time": "2023-03-09T14:38:31.022Z"
   },
   {
    "duration": 33,
    "start_time": "2023-03-09T14:44:18.870Z"
   },
   {
    "duration": 34,
    "start_time": "2023-03-09T14:45:44.902Z"
   },
   {
    "duration": 48,
    "start_time": "2023-03-09T14:46:41.019Z"
   },
   {
    "duration": 47,
    "start_time": "2023-03-09T14:47:10.874Z"
   },
   {
    "duration": 49,
    "start_time": "2023-03-09T14:47:42.372Z"
   },
   {
    "duration": 36,
    "start_time": "2023-03-09T14:48:12.857Z"
   },
   {
    "duration": 24,
    "start_time": "2023-03-09T14:48:55.955Z"
   },
   {
    "duration": 26,
    "start_time": "2023-03-09T14:49:07.121Z"
   },
   {
    "duration": 37,
    "start_time": "2023-03-09T14:49:31.299Z"
   },
   {
    "duration": 31,
    "start_time": "2023-03-09T14:49:47.465Z"
   },
   {
    "duration": 23,
    "start_time": "2023-03-09T14:51:07.349Z"
   },
   {
    "duration": 50,
    "start_time": "2023-03-09T14:53:01.146Z"
   },
   {
    "duration": 27,
    "start_time": "2023-03-09T14:53:09.977Z"
   },
   {
    "duration": 25,
    "start_time": "2023-03-09T14:53:25.947Z"
   },
   {
    "duration": 29,
    "start_time": "2023-03-09T14:54:18.827Z"
   },
   {
    "duration": 40,
    "start_time": "2023-03-09T14:54:36.074Z"
   },
   {
    "duration": 31,
    "start_time": "2023-03-09T14:57:34.450Z"
   },
   {
    "duration": 37,
    "start_time": "2023-03-09T14:57:58.745Z"
   },
   {
    "duration": 37,
    "start_time": "2023-03-09T14:58:40.036Z"
   },
   {
    "duration": 40,
    "start_time": "2023-03-09T15:01:47.119Z"
   },
   {
    "duration": 29,
    "start_time": "2023-03-09T15:02:28.640Z"
   },
   {
    "duration": 25,
    "start_time": "2023-03-09T15:03:49.954Z"
   },
   {
    "duration": 20,
    "start_time": "2023-03-09T15:03:58.542Z"
   },
   {
    "duration": 19,
    "start_time": "2023-03-09T15:04:28.052Z"
   },
   {
    "duration": 22,
    "start_time": "2023-03-09T15:05:39.285Z"
   },
   {
    "duration": 31,
    "start_time": "2023-03-09T15:07:17.064Z"
   },
   {
    "duration": 24,
    "start_time": "2023-03-09T15:07:37.924Z"
   },
   {
    "duration": 31,
    "start_time": "2023-03-09T15:11:51.720Z"
   },
   {
    "duration": 32,
    "start_time": "2023-03-09T15:29:34.283Z"
   },
   {
    "duration": 722,
    "start_time": "2023-03-09T15:31:01.044Z"
   },
   {
    "duration": 29,
    "start_time": "2023-03-09T15:31:13.976Z"
   },
   {
    "duration": 43,
    "start_time": "2023-03-09T15:32:39.638Z"
   },
   {
    "duration": 45,
    "start_time": "2023-03-09T15:33:03.796Z"
   },
   {
    "duration": 41,
    "start_time": "2023-03-09T15:34:00.357Z"
   },
   {
    "duration": 31,
    "start_time": "2023-03-09T15:34:17.268Z"
   },
   {
    "duration": 36,
    "start_time": "2023-03-09T15:34:43.445Z"
   },
   {
    "duration": 33,
    "start_time": "2023-03-09T15:35:43.866Z"
   },
   {
    "duration": 47,
    "start_time": "2023-03-09T15:39:05.961Z"
   },
   {
    "duration": 46,
    "start_time": "2023-03-09T15:39:37.945Z"
   },
   {
    "duration": 31,
    "start_time": "2023-03-09T15:40:38.502Z"
   },
   {
    "duration": 44,
    "start_time": "2023-03-09T15:41:05.095Z"
   },
   {
    "duration": 48,
    "start_time": "2023-03-09T15:41:25.158Z"
   },
   {
    "duration": 32,
    "start_time": "2023-03-09T15:42:10.931Z"
   },
   {
    "duration": 43,
    "start_time": "2023-03-09T15:43:04.039Z"
   },
   {
    "duration": 1990,
    "start_time": "2023-03-09T15:46:17.193Z"
   },
   {
    "duration": 2183,
    "start_time": "2023-03-09T15:46:56.398Z"
   },
   {
    "duration": 36,
    "start_time": "2023-03-09T15:49:04.823Z"
   },
   {
    "duration": 1898,
    "start_time": "2023-03-09T15:52:17.643Z"
   },
   {
    "duration": 41,
    "start_time": "2023-03-09T15:52:19.543Z"
   },
   {
    "duration": 49,
    "start_time": "2023-03-09T15:57:25.645Z"
   },
   {
    "duration": 2009,
    "start_time": "2023-03-09T19:06:16.104Z"
   },
   {
    "duration": 75,
    "start_time": "2023-03-09T19:06:18.115Z"
   },
   {
    "duration": 94,
    "start_time": "2023-03-09T19:08:13.410Z"
   },
   {
    "duration": 2314,
    "start_time": "2023-03-09T19:10:31.563Z"
   },
   {
    "duration": 82,
    "start_time": "2023-03-09T19:10:33.880Z"
   },
   {
    "duration": 1972,
    "start_time": "2023-03-09T19:22:13.223Z"
   },
   {
    "duration": 106,
    "start_time": "2023-03-09T19:22:15.197Z"
   },
   {
    "duration": 2042,
    "start_time": "2023-03-09T19:22:52.504Z"
   },
   {
    "duration": 77,
    "start_time": "2023-03-09T19:22:54.548Z"
   },
   {
    "duration": 113,
    "start_time": "2023-03-09T19:26:35.604Z"
   },
   {
    "duration": 2288,
    "start_time": "2023-03-09T19:26:46.292Z"
   },
   {
    "duration": 80,
    "start_time": "2023-03-09T19:26:48.582Z"
   },
   {
    "duration": 1973,
    "start_time": "2023-03-09T19:28:54.855Z"
   },
   {
    "duration": 103,
    "start_time": "2023-03-09T19:28:56.831Z"
   },
   {
    "duration": 113,
    "start_time": "2023-03-09T19:30:08.026Z"
   },
   {
    "duration": 1940,
    "start_time": "2023-03-09T19:38:07.650Z"
   },
   {
    "duration": 93,
    "start_time": "2023-03-09T19:38:09.593Z"
   },
   {
    "duration": 1917,
    "start_time": "2023-03-09T19:38:39.385Z"
   },
   {
    "duration": 94,
    "start_time": "2023-03-09T19:38:41.305Z"
   },
   {
    "duration": 71,
    "start_time": "2023-03-10T07:49:59.848Z"
   },
   {
    "duration": 18,
    "start_time": "2023-03-10T07:51:22.213Z"
   },
   {
    "duration": 20,
    "start_time": "2023-03-10T07:51:35.287Z"
   },
   {
    "duration": 3297,
    "start_time": "2023-03-10T07:52:24.162Z"
   },
   {
    "duration": 91,
    "start_time": "2023-03-10T07:52:27.461Z"
   },
   {
    "duration": 1152,
    "start_time": "2023-03-10T07:53:08.065Z"
   },
   {
    "duration": 152,
    "start_time": "2023-03-10T07:54:09.933Z"
   },
   {
    "duration": 2482,
    "start_time": "2023-03-10T07:56:13.596Z"
   },
   {
    "duration": 97,
    "start_time": "2023-03-10T07:56:16.081Z"
   },
   {
    "duration": 2540,
    "start_time": "2023-03-10T07:56:34.979Z"
   },
   {
    "duration": 121,
    "start_time": "2023-03-10T07:56:37.522Z"
   },
   {
    "duration": 2178,
    "start_time": "2023-03-10T07:57:19.700Z"
   },
   {
    "duration": 92,
    "start_time": "2023-03-10T07:57:21.880Z"
   },
   {
    "duration": 2067,
    "start_time": "2023-03-10T08:01:33.914Z"
   },
   {
    "duration": 84,
    "start_time": "2023-03-10T08:01:35.983Z"
   },
   {
    "duration": 266,
    "start_time": "2023-03-10T08:03:17.970Z"
   },
   {
    "duration": 108,
    "start_time": "2023-03-10T08:06:05.395Z"
   },
   {
    "duration": 2316,
    "start_time": "2023-03-10T08:06:30.984Z"
   },
   {
    "duration": 73,
    "start_time": "2023-03-10T08:06:33.302Z"
   },
   {
    "duration": 2545,
    "start_time": "2023-03-10T08:17:01.840Z"
   },
   {
    "duration": 71,
    "start_time": "2023-03-10T08:17:04.387Z"
   },
   {
    "duration": 2231,
    "start_time": "2023-03-10T08:21:48.068Z"
   },
   {
    "duration": 97,
    "start_time": "2023-03-10T08:21:50.301Z"
   },
   {
    "duration": 115,
    "start_time": "2023-03-10T08:22:34.006Z"
   },
   {
    "duration": 2535,
    "start_time": "2023-03-10T08:25:05.468Z"
   },
   {
    "duration": 88,
    "start_time": "2023-03-10T08:25:08.005Z"
   },
   {
    "duration": 2244,
    "start_time": "2023-03-10T08:27:10.880Z"
   },
   {
    "duration": 87,
    "start_time": "2023-03-10T08:27:13.126Z"
   },
   {
    "duration": 2349,
    "start_time": "2023-03-10T08:29:24.570Z"
   },
   {
    "duration": 150,
    "start_time": "2023-03-10T08:29:26.921Z"
   },
   {
    "duration": 2215,
    "start_time": "2023-03-10T08:46:16.201Z"
   },
   {
    "duration": 152,
    "start_time": "2023-03-10T08:46:18.417Z"
   },
   {
    "duration": 122,
    "start_time": "2023-03-10T08:47:11.374Z"
   },
   {
    "duration": 2136,
    "start_time": "2023-03-10T09:00:42.198Z"
   },
   {
    "duration": 348,
    "start_time": "2023-03-10T09:00:44.336Z"
   },
   {
    "duration": 2099,
    "start_time": "2023-03-10T09:01:18.263Z"
   },
   {
    "duration": 26,
    "start_time": "2023-03-10T09:01:20.364Z"
   },
   {
    "duration": 1980,
    "start_time": "2023-03-10T09:01:42.529Z"
   },
   {
    "duration": 44,
    "start_time": "2023-03-10T09:01:44.511Z"
   },
   {
    "duration": 74,
    "start_time": "2023-03-10T09:01:51.311Z"
   },
   {
    "duration": 2480,
    "start_time": "2023-03-10T09:08:47.327Z"
   },
   {
    "duration": 2648,
    "start_time": "2023-03-10T09:08:56.741Z"
   },
   {
    "duration": 114,
    "start_time": "2023-03-10T09:08:59.391Z"
   },
   {
    "duration": 2341,
    "start_time": "2023-03-10T09:09:46.564Z"
   },
   {
    "duration": 107,
    "start_time": "2023-03-10T09:09:48.908Z"
   },
   {
    "duration": 132,
    "start_time": "2023-03-10T09:11:01.726Z"
   },
   {
    "duration": 2276,
    "start_time": "2023-03-10T09:14:15.294Z"
   },
   {
    "duration": 104,
    "start_time": "2023-03-10T09:14:17.572Z"
   },
   {
    "duration": 2164,
    "start_time": "2023-03-10T09:15:30.699Z"
   },
   {
    "duration": 103,
    "start_time": "2023-03-10T09:15:32.865Z"
   },
   {
    "duration": 2585,
    "start_time": "2023-03-10T09:16:14.280Z"
   },
   {
    "duration": 38,
    "start_time": "2023-03-10T09:16:16.871Z"
   },
   {
    "duration": 2108,
    "start_time": "2023-03-10T09:17:29.013Z"
   },
   {
    "duration": 103,
    "start_time": "2023-03-10T09:17:31.124Z"
   },
   {
    "duration": 2239,
    "start_time": "2023-03-10T09:18:45.470Z"
   },
   {
    "duration": 96,
    "start_time": "2023-03-10T09:18:47.711Z"
   },
   {
    "duration": 1963,
    "start_time": "2023-03-10T09:20:17.214Z"
   },
   {
    "duration": 111,
    "start_time": "2023-03-10T09:20:19.179Z"
   },
   {
    "duration": 2105,
    "start_time": "2023-03-10T09:21:00.739Z"
   },
   {
    "duration": 129,
    "start_time": "2023-03-10T09:21:02.854Z"
   },
   {
    "duration": 2662,
    "start_time": "2023-03-10T09:22:36.313Z"
   },
   {
    "duration": 103,
    "start_time": "2023-03-10T09:22:38.978Z"
   },
   {
    "duration": 2274,
    "start_time": "2023-03-10T09:30:47.179Z"
   },
   {
    "duration": 129,
    "start_time": "2023-03-10T09:30:49.455Z"
   },
   {
    "duration": 2289,
    "start_time": "2023-03-10T09:31:39.622Z"
   },
   {
    "duration": 104,
    "start_time": "2023-03-10T09:31:41.913Z"
   },
   {
    "duration": 2423,
    "start_time": "2023-03-10T09:32:11.175Z"
   },
   {
    "duration": 98,
    "start_time": "2023-03-10T09:32:13.600Z"
   },
   {
    "duration": 2400,
    "start_time": "2023-03-10T09:32:55.724Z"
   },
   {
    "duration": 95,
    "start_time": "2023-03-10T09:32:58.128Z"
   },
   {
    "duration": 2528,
    "start_time": "2023-03-10T09:33:55.406Z"
   },
   {
    "duration": 129,
    "start_time": "2023-03-10T09:33:57.936Z"
   },
   {
    "duration": 3021,
    "start_time": "2023-03-10T09:35:13.755Z"
   },
   {
    "duration": 79,
    "start_time": "2023-03-10T09:35:16.778Z"
   },
   {
    "duration": 2114,
    "start_time": "2023-03-10T09:36:03.715Z"
   },
   {
    "duration": 89,
    "start_time": "2023-03-10T09:36:05.832Z"
   },
   {
    "duration": 2615,
    "start_time": "2023-03-10T09:37:02.404Z"
   },
   {
    "duration": 108,
    "start_time": "2023-03-10T09:37:05.021Z"
   },
   {
    "duration": 2282,
    "start_time": "2023-03-10T09:41:08.226Z"
   },
   {
    "duration": 97,
    "start_time": "2023-03-10T09:41:10.510Z"
   },
   {
    "duration": 2151,
    "start_time": "2023-03-10T09:41:36.278Z"
   },
   {
    "duration": 102,
    "start_time": "2023-03-10T09:41:38.431Z"
   },
   {
    "duration": 2214,
    "start_time": "2023-03-10T09:41:56.193Z"
   },
   {
    "duration": 113,
    "start_time": "2023-03-10T09:41:58.409Z"
   },
   {
    "duration": 2098,
    "start_time": "2023-03-10T09:49:29.972Z"
   },
   {
    "duration": 84,
    "start_time": "2023-03-10T09:49:32.072Z"
   },
   {
    "duration": 3183,
    "start_time": "2023-03-10T10:23:45.178Z"
   },
   {
    "duration": 100,
    "start_time": "2023-03-10T10:23:48.363Z"
   },
   {
    "duration": 56,
    "start_time": "2023-03-10T10:25:21.768Z"
   },
   {
    "duration": 618,
    "start_time": "2023-03-10T10:25:44.508Z"
   },
   {
    "duration": 593,
    "start_time": "2023-03-10T10:26:06.168Z"
   },
   {
    "duration": 114,
    "start_time": "2023-03-10T10:29:33.459Z"
   },
   {
    "duration": 195,
    "start_time": "2023-03-10T10:30:05.935Z"
   },
   {
    "duration": 121,
    "start_time": "2023-03-10T10:30:29.597Z"
   },
   {
    "duration": 123,
    "start_time": "2023-03-10T10:31:49.672Z"
   },
   {
    "duration": 123,
    "start_time": "2023-03-10T10:32:10.235Z"
   },
   {
    "duration": 139,
    "start_time": "2023-03-10T10:32:38.423Z"
   },
   {
    "duration": 135,
    "start_time": "2023-03-10T10:35:45.278Z"
   },
   {
    "duration": 158,
    "start_time": "2023-03-10T10:50:02.816Z"
   },
   {
    "duration": 106,
    "start_time": "2023-03-10T10:50:42.986Z"
   },
   {
    "duration": 2153,
    "start_time": "2023-03-10T10:51:08.396Z"
   },
   {
    "duration": 133,
    "start_time": "2023-03-10T10:51:10.556Z"
   },
   {
    "duration": 131,
    "start_time": "2023-03-10T10:51:42.593Z"
   },
   {
    "duration": 22,
    "start_time": "2023-03-10T11:48:12.263Z"
   },
   {
    "duration": 30,
    "start_time": "2023-03-10T11:48:21.195Z"
   },
   {
    "duration": 219,
    "start_time": "2023-03-10T11:48:29.040Z"
   },
   {
    "duration": 129,
    "start_time": "2023-03-10T11:48:40.469Z"
   },
   {
    "duration": 193,
    "start_time": "2023-03-10T11:49:13.632Z"
   },
   {
    "duration": 143,
    "start_time": "2023-03-10T11:49:40.683Z"
   },
   {
    "duration": 146,
    "start_time": "2023-03-10T11:51:35.916Z"
   },
   {
    "duration": 818,
    "start_time": "2023-03-10T11:53:42.569Z"
   },
   {
    "duration": 747,
    "start_time": "2023-03-10T11:54:39.886Z"
   },
   {
    "duration": 114,
    "start_time": "2023-03-10T11:55:16.224Z"
   },
   {
    "duration": 118,
    "start_time": "2023-03-10T11:56:54.484Z"
   },
   {
    "duration": 128,
    "start_time": "2023-03-10T11:57:50.235Z"
   },
   {
    "duration": 154,
    "start_time": "2023-03-10T11:58:29.460Z"
   },
   {
    "duration": 1756,
    "start_time": "2023-03-10T11:59:34.992Z"
   },
   {
    "duration": 1125,
    "start_time": "2023-03-10T12:05:21.679Z"
   },
   {
    "duration": 131,
    "start_time": "2023-03-10T12:05:53.024Z"
   },
   {
    "duration": 119,
    "start_time": "2023-03-10T12:07:01.568Z"
   },
   {
    "duration": 185,
    "start_time": "2023-03-10T12:11:01.225Z"
   },
   {
    "duration": 2186,
    "start_time": "2023-03-10T12:11:35.211Z"
   },
   {
    "duration": 100,
    "start_time": "2023-03-10T12:11:37.400Z"
   },
   {
    "duration": 114,
    "start_time": "2023-03-10T12:12:30.804Z"
   },
   {
    "duration": 1189,
    "start_time": "2023-03-10T12:16:02.522Z"
   },
   {
    "duration": 119,
    "start_time": "2023-03-10T12:16:56.774Z"
   },
   {
    "duration": 941,
    "start_time": "2023-03-10T12:19:20.985Z"
   },
   {
    "duration": 964,
    "start_time": "2023-03-10T12:19:53.271Z"
   },
   {
    "duration": 2062,
    "start_time": "2023-03-10T12:19:56.066Z"
   },
   {
    "duration": 970,
    "start_time": "2023-03-10T12:19:58.130Z"
   },
   {
    "duration": 99,
    "start_time": "2023-03-10T12:20:57.180Z"
   },
   {
    "duration": 119,
    "start_time": "2023-03-10T12:21:30.935Z"
   },
   {
    "duration": 116,
    "start_time": "2023-03-10T12:21:44.939Z"
   },
   {
    "duration": 95,
    "start_time": "2023-03-10T12:23:08.274Z"
   },
   {
    "duration": 95,
    "start_time": "2023-03-10T12:23:32.808Z"
   },
   {
    "duration": 96,
    "start_time": "2023-03-10T12:24:16.596Z"
   },
   {
    "duration": 97,
    "start_time": "2023-03-10T12:26:02.030Z"
   },
   {
    "duration": 119,
    "start_time": "2023-03-10T12:27:15.704Z"
   },
   {
    "duration": 127,
    "start_time": "2023-03-10T12:29:11.223Z"
   },
   {
    "duration": 3223,
    "start_time": "2023-03-10T12:29:59.968Z"
   },
   {
    "duration": 133,
    "start_time": "2023-03-10T12:30:03.194Z"
   },
   {
    "duration": 2093,
    "start_time": "2023-03-10T12:32:38.381Z"
   },
   {
    "duration": 118,
    "start_time": "2023-03-10T12:32:40.477Z"
   },
   {
    "duration": 2146,
    "start_time": "2023-03-10T12:34:33.566Z"
   },
   {
    "duration": 117,
    "start_time": "2023-03-10T12:34:35.714Z"
   },
   {
    "duration": 157,
    "start_time": "2023-03-10T12:35:32.598Z"
   },
   {
    "duration": 2088,
    "start_time": "2023-03-10T12:36:38.627Z"
   },
   {
    "duration": 116,
    "start_time": "2023-03-10T12:36:40.717Z"
   },
   {
    "duration": 2193,
    "start_time": "2023-03-10T12:37:38.100Z"
   },
   {
    "duration": 119,
    "start_time": "2023-03-10T12:37:40.295Z"
   },
   {
    "duration": 2291,
    "start_time": "2023-03-10T12:39:54.787Z"
   },
   {
    "duration": 53,
    "start_time": "2023-03-10T12:39:57.080Z"
   },
   {
    "duration": 2159,
    "start_time": "2023-03-10T12:40:05.507Z"
   },
   {
    "duration": 133,
    "start_time": "2023-03-10T12:40:07.670Z"
   },
   {
    "duration": 2336,
    "start_time": "2023-03-10T12:40:44.869Z"
   },
   {
    "duration": 118,
    "start_time": "2023-03-10T12:40:47.208Z"
   },
   {
    "duration": 2104,
    "start_time": "2023-03-10T12:43:58.276Z"
   },
   {
    "duration": 124,
    "start_time": "2023-03-10T12:44:00.384Z"
   },
   {
    "duration": 2095,
    "start_time": "2023-03-10T12:47:53.395Z"
   },
   {
    "duration": 111,
    "start_time": "2023-03-10T12:47:55.491Z"
   },
   {
    "duration": 3268,
    "start_time": "2023-03-10T12:48:17.418Z"
   },
   {
    "duration": 135,
    "start_time": "2023-03-10T12:48:20.688Z"
   },
   {
    "duration": 2272,
    "start_time": "2023-03-10T12:49:51.659Z"
   },
   {
    "duration": 1278,
    "start_time": "2023-03-10T12:49:53.933Z"
   },
   {
    "duration": 2158,
    "start_time": "2023-03-10T12:50:26.855Z"
   },
   {
    "duration": 166,
    "start_time": "2023-03-10T12:50:29.015Z"
   },
   {
    "duration": 2051,
    "start_time": "2023-03-10T12:52:28.691Z"
   },
   {
    "duration": 142,
    "start_time": "2023-03-10T12:52:30.744Z"
   },
   {
    "duration": 1969,
    "start_time": "2023-03-10T12:53:43.796Z"
   },
   {
    "duration": 145,
    "start_time": "2023-03-10T12:53:45.767Z"
   },
   {
    "duration": 2316,
    "start_time": "2023-03-10T12:58:41.418Z"
   },
   {
    "duration": 151,
    "start_time": "2023-03-10T12:58:43.736Z"
   },
   {
    "duration": 2334,
    "start_time": "2023-03-10T13:09:55.179Z"
   },
   {
    "duration": 1108,
    "start_time": "2023-03-10T13:09:57.515Z"
   },
   {
    "duration": 2146,
    "start_time": "2023-03-10T13:11:22.390Z"
   },
   {
    "duration": 1036,
    "start_time": "2023-03-10T13:11:24.538Z"
   },
   {
    "duration": 2217,
    "start_time": "2023-03-10T13:13:50.204Z"
   },
   {
    "duration": 26,
    "start_time": "2023-03-10T13:13:52.423Z"
   },
   {
    "duration": 2318,
    "start_time": "2023-03-10T13:15:48.458Z"
   },
   {
    "duration": 57,
    "start_time": "2023-03-10T13:15:50.780Z"
   },
   {
    "duration": 2269,
    "start_time": "2023-03-10T13:17:22.179Z"
   },
   {
    "duration": 151,
    "start_time": "2023-03-10T13:17:24.450Z"
   },
   {
    "duration": 2160,
    "start_time": "2023-03-10T13:24:15.702Z"
   },
   {
    "duration": 60,
    "start_time": "2023-03-10T13:24:17.865Z"
   },
   {
    "duration": 3552,
    "start_time": "2023-03-10T13:25:12.900Z"
   },
   {
    "duration": 67,
    "start_time": "2023-03-10T13:25:16.458Z"
   },
   {
    "duration": 2846,
    "start_time": "2023-03-10T13:26:55.470Z"
   },
   {
    "duration": 80,
    "start_time": "2023-03-10T13:26:58.319Z"
   },
   {
    "duration": 2137,
    "start_time": "2023-03-10T13:33:55.242Z"
   },
   {
    "duration": 350,
    "start_time": "2023-03-10T13:33:57.381Z"
   },
   {
    "duration": 2054,
    "start_time": "2023-03-10T13:37:33.633Z"
   },
   {
    "duration": 90,
    "start_time": "2023-03-10T13:37:35.690Z"
   },
   {
    "duration": 2108,
    "start_time": "2023-03-10T13:37:55.061Z"
   },
   {
    "duration": 57,
    "start_time": "2023-03-10T13:37:57.171Z"
   },
   {
    "duration": 2174,
    "start_time": "2023-03-10T13:39:12.804Z"
   },
   {
    "duration": 14,
    "start_time": "2023-03-10T13:39:14.981Z"
   },
   {
    "duration": 2359,
    "start_time": "2023-03-10T13:39:36.735Z"
   },
   {
    "duration": 112,
    "start_time": "2023-03-10T13:39:39.096Z"
   },
   {
    "duration": 2167,
    "start_time": "2023-03-10T13:40:05.910Z"
   },
   {
    "duration": 58,
    "start_time": "2023-03-10T13:40:08.079Z"
   },
   {
    "duration": 2341,
    "start_time": "2023-03-10T15:12:56.265Z"
   },
   {
    "duration": 183,
    "start_time": "2023-03-10T15:12:58.609Z"
   },
   {
    "duration": 2107,
    "start_time": "2023-03-10T15:37:17.391Z"
   },
   {
    "duration": 123,
    "start_time": "2023-03-10T15:37:19.500Z"
   },
   {
    "duration": 2358,
    "start_time": "2023-03-10T15:42:42.272Z"
   },
   {
    "duration": 73,
    "start_time": "2023-03-10T15:42:44.632Z"
   },
   {
    "duration": 2258,
    "start_time": "2023-03-10T15:43:58.179Z"
   },
   {
    "duration": 87,
    "start_time": "2023-03-10T15:44:00.445Z"
   },
   {
    "duration": 2256,
    "start_time": "2023-03-10T15:44:13.468Z"
   },
   {
    "duration": 166,
    "start_time": "2023-03-10T15:44:15.726Z"
   },
   {
    "duration": 2383,
    "start_time": "2023-03-10T15:45:32.890Z"
   },
   {
    "duration": 128,
    "start_time": "2023-03-10T15:45:35.278Z"
   },
   {
    "duration": 2190,
    "start_time": "2023-03-10T15:48:12.673Z"
   },
   {
    "duration": 144,
    "start_time": "2023-03-10T15:48:14.869Z"
   },
   {
    "duration": 3908,
    "start_time": "2023-03-10T15:54:28.362Z"
   },
   {
    "duration": 140,
    "start_time": "2023-03-10T15:54:32.272Z"
   },
   {
    "duration": 2043,
    "start_time": "2023-03-10T15:58:38.330Z"
   },
   {
    "duration": 122,
    "start_time": "2023-03-10T15:58:40.375Z"
   },
   {
    "duration": 2111,
    "start_time": "2023-03-10T16:06:04.472Z"
   },
   {
    "duration": 126,
    "start_time": "2023-03-10T16:06:06.585Z"
   },
   {
    "duration": 2169,
    "start_time": "2023-03-10T16:08:15.915Z"
   },
   {
    "duration": 57,
    "start_time": "2023-03-10T16:08:18.086Z"
   },
   {
    "duration": 2069,
    "start_time": "2023-03-10T16:14:04.913Z"
   },
   {
    "duration": 61,
    "start_time": "2023-03-10T16:14:06.984Z"
   },
   {
    "duration": 2033,
    "start_time": "2023-03-10T16:14:24.830Z"
   },
   {
    "duration": 62,
    "start_time": "2023-03-10T16:14:26.870Z"
   },
   {
    "duration": 2321,
    "start_time": "2023-03-10T16:14:54.413Z"
   },
   {
    "duration": 137,
    "start_time": "2023-03-10T16:14:56.736Z"
   },
   {
    "duration": 2315,
    "start_time": "2023-03-10T16:16:53.373Z"
   },
   {
    "duration": 123,
    "start_time": "2023-03-10T16:16:55.691Z"
   },
   {
    "duration": 2034,
    "start_time": "2023-03-10T16:18:37.731Z"
   },
   {
    "duration": 125,
    "start_time": "2023-03-10T16:18:39.767Z"
   },
   {
    "duration": 2072,
    "start_time": "2023-03-10T16:20:12.157Z"
   },
   {
    "duration": 142,
    "start_time": "2023-03-10T16:20:14.231Z"
   },
   {
    "duration": 2020,
    "start_time": "2023-03-10T16:21:56.453Z"
   },
   {
    "duration": 125,
    "start_time": "2023-03-10T16:21:58.475Z"
   },
   {
    "duration": 2030,
    "start_time": "2023-03-10T16:23:00.780Z"
   },
   {
    "duration": 129,
    "start_time": "2023-03-10T16:23:02.812Z"
   },
   {
    "duration": 2037,
    "start_time": "2023-03-10T16:24:09.282Z"
   },
   {
    "duration": 146,
    "start_time": "2023-03-10T16:24:11.321Z"
   },
   {
    "duration": 2180,
    "start_time": "2023-03-10T16:56:33.712Z"
   },
   {
    "duration": 80,
    "start_time": "2023-03-10T16:56:35.895Z"
   },
   {
    "duration": 2052,
    "start_time": "2023-03-10T16:58:04.568Z"
   },
   {
    "duration": 75,
    "start_time": "2023-03-10T16:58:06.623Z"
   },
   {
    "duration": 2140,
    "start_time": "2023-03-10T16:59:23.333Z"
   },
   {
    "duration": 72,
    "start_time": "2023-03-10T16:59:25.475Z"
   },
   {
    "duration": 2113,
    "start_time": "2023-03-10T16:59:59.670Z"
   },
   {
    "duration": 71,
    "start_time": "2023-03-10T17:00:01.785Z"
   },
   {
    "duration": 2174,
    "start_time": "2023-03-10T17:00:56.570Z"
   },
   {
    "duration": 68,
    "start_time": "2023-03-10T17:00:58.755Z"
   },
   {
    "duration": 4285,
    "start_time": "2023-03-10T17:01:18.374Z"
   },
   {
    "duration": 103,
    "start_time": "2023-03-10T17:01:22.661Z"
   },
   {
    "duration": 2116,
    "start_time": "2023-03-10T17:03:31.590Z"
   },
   {
    "duration": 131,
    "start_time": "2023-03-10T17:03:33.709Z"
   },
   {
    "duration": 2143,
    "start_time": "2023-03-10T17:04:22.255Z"
   },
   {
    "duration": 94,
    "start_time": "2023-03-10T17:04:24.400Z"
   },
   {
    "duration": 2193,
    "start_time": "2023-03-10T17:05:03.866Z"
   },
   {
    "duration": 110,
    "start_time": "2023-03-10T17:05:06.061Z"
   },
   {
    "duration": 2084,
    "start_time": "2023-03-10T17:06:16.194Z"
   },
   {
    "duration": 97,
    "start_time": "2023-03-10T17:06:18.280Z"
   },
   {
    "duration": 2185,
    "start_time": "2023-03-10T17:07:01.926Z"
   },
   {
    "duration": 113,
    "start_time": "2023-03-10T17:07:04.113Z"
   },
   {
    "duration": 2055,
    "start_time": "2023-03-10T17:08:34.950Z"
   },
   {
    "duration": 865,
    "start_time": "2023-03-10T17:08:37.007Z"
   },
   {
    "duration": 2108,
    "start_time": "2023-03-10T17:09:02.212Z"
   },
   {
    "duration": 114,
    "start_time": "2023-03-10T17:09:04.324Z"
   },
   {
    "duration": 2192,
    "start_time": "2023-03-10T17:09:34.630Z"
   },
   {
    "duration": 129,
    "start_time": "2023-03-10T17:09:36.824Z"
   },
   {
    "duration": 2063,
    "start_time": "2023-03-10T17:14:18.064Z"
   },
   {
    "duration": 123,
    "start_time": "2023-03-10T17:14:20.129Z"
   },
   {
    "duration": 2171,
    "start_time": "2023-03-10T17:14:59.379Z"
   },
   {
    "duration": 1171,
    "start_time": "2023-03-10T17:15:01.555Z"
   },
   {
    "duration": 2169,
    "start_time": "2023-03-10T17:15:30.394Z"
   },
   {
    "duration": 935,
    "start_time": "2023-03-10T17:15:32.569Z"
   },
   {
    "duration": 2142,
    "start_time": "2023-03-10T17:16:13.488Z"
   },
   {
    "duration": 114,
    "start_time": "2023-03-10T17:16:15.632Z"
   },
   {
    "duration": 2191,
    "start_time": "2023-03-10T17:17:01.769Z"
   },
   {
    "duration": 100,
    "start_time": "2023-03-10T17:17:03.962Z"
   },
   {
    "duration": 2080,
    "start_time": "2023-03-10T17:18:16.796Z"
   },
   {
    "duration": 107,
    "start_time": "2023-03-10T17:18:18.878Z"
   },
   {
    "duration": 2082,
    "start_time": "2023-03-10T17:18:57.725Z"
   },
   {
    "duration": 94,
    "start_time": "2023-03-10T17:18:59.808Z"
   },
   {
    "duration": 2134,
    "start_time": "2023-03-10T17:20:08.279Z"
   },
   {
    "duration": 115,
    "start_time": "2023-03-10T17:20:10.415Z"
   },
   {
    "duration": 2371,
    "start_time": "2023-03-10T17:20:31.140Z"
   },
   {
    "duration": 119,
    "start_time": "2023-03-10T17:20:33.514Z"
   },
   {
    "duration": 1997,
    "start_time": "2023-03-10T17:22:14.915Z"
   },
   {
    "duration": 115,
    "start_time": "2023-03-10T17:22:16.914Z"
   },
   {
    "duration": 2128,
    "start_time": "2023-03-10T17:26:53.078Z"
   },
   {
    "duration": 129,
    "start_time": "2023-03-10T17:26:55.208Z"
   },
   {
    "duration": 2154,
    "start_time": "2023-03-10T17:27:28.861Z"
   },
   {
    "duration": 175,
    "start_time": "2023-03-10T17:27:31.017Z"
   },
   {
    "duration": 2146,
    "start_time": "2023-03-10T17:27:47.836Z"
   },
   {
    "duration": 173,
    "start_time": "2023-03-10T17:27:49.984Z"
   },
   {
    "duration": 4778,
    "start_time": "2023-03-10T17:28:13.643Z"
   },
   {
    "duration": 158,
    "start_time": "2023-03-10T17:28:18.423Z"
   },
   {
    "duration": 2503,
    "start_time": "2023-03-10T17:29:28.984Z"
   },
   {
    "duration": 117,
    "start_time": "2023-03-10T17:29:31.491Z"
   },
   {
    "duration": 2174,
    "start_time": "2023-03-10T17:31:36.059Z"
   },
   {
    "duration": 109,
    "start_time": "2023-03-10T17:31:38.248Z"
   },
   {
    "duration": 2256,
    "start_time": "2023-03-10T17:33:50.575Z"
   },
   {
    "duration": 145,
    "start_time": "2023-03-10T17:33:52.845Z"
   },
   {
    "duration": 2350,
    "start_time": "2023-03-10T17:35:04.420Z"
   },
   {
    "duration": 184,
    "start_time": "2023-03-10T17:35:06.773Z"
   },
   {
    "duration": 2416,
    "start_time": "2023-03-10T17:36:52.065Z"
   },
   {
    "duration": 126,
    "start_time": "2023-03-10T17:36:54.483Z"
   },
   {
    "duration": 2344,
    "start_time": "2023-03-10T17:37:52.535Z"
   },
   {
    "duration": 122,
    "start_time": "2023-03-10T17:37:54.881Z"
   },
   {
    "duration": 2109,
    "start_time": "2023-03-10T17:38:40.115Z"
   },
   {
    "duration": 105,
    "start_time": "2023-03-10T17:38:42.226Z"
   },
   {
    "duration": 2126,
    "start_time": "2023-03-10T17:39:41.766Z"
   },
   {
    "duration": 98,
    "start_time": "2023-03-10T17:39:43.893Z"
   },
   {
    "duration": 2143,
    "start_time": "2023-03-10T17:41:45.861Z"
   },
   {
    "duration": 127,
    "start_time": "2023-03-10T17:41:48.006Z"
   },
   {
    "duration": 2011,
    "start_time": "2023-03-10T17:43:58.501Z"
   },
   {
    "duration": 153,
    "start_time": "2023-03-10T17:44:00.514Z"
   },
   {
    "duration": 2170,
    "start_time": "2023-03-10T17:46:10.666Z"
   },
   {
    "duration": 142,
    "start_time": "2023-03-10T17:46:12.838Z"
   },
   {
    "duration": 2128,
    "start_time": "2023-03-10T17:47:04.128Z"
   },
   {
    "duration": 122,
    "start_time": "2023-03-10T17:47:06.258Z"
   },
   {
    "duration": 2151,
    "start_time": "2023-03-10T17:51:26.969Z"
   },
   {
    "duration": 136,
    "start_time": "2023-03-10T17:51:29.122Z"
   },
   {
    "duration": 2445,
    "start_time": "2023-03-10T17:52:28.332Z"
   },
   {
    "duration": 173,
    "start_time": "2023-03-10T17:52:30.780Z"
   },
   {
    "duration": 2146,
    "start_time": "2023-03-10T17:53:36.066Z"
   },
   {
    "duration": 140,
    "start_time": "2023-03-10T17:53:38.215Z"
   },
   {
    "duration": 2042,
    "start_time": "2023-03-10T17:55:39.356Z"
   },
   {
    "duration": 1001,
    "start_time": "2023-03-10T17:55:41.400Z"
   },
   {
    "duration": 2208,
    "start_time": "2023-03-10T18:01:56.311Z"
   },
   {
    "duration": 129,
    "start_time": "2023-03-10T18:01:58.522Z"
   },
   {
    "duration": 2231,
    "start_time": "2023-03-10T18:05:21.769Z"
   },
   {
    "duration": 115,
    "start_time": "2023-03-10T18:05:24.002Z"
   },
   {
    "duration": 2121,
    "start_time": "2023-03-10T18:06:24.663Z"
   },
   {
    "duration": 148,
    "start_time": "2023-03-10T18:06:26.787Z"
   },
   {
    "duration": 2278,
    "start_time": "2023-03-10T18:07:36.621Z"
   },
   {
    "duration": 129,
    "start_time": "2023-03-10T18:07:38.901Z"
   },
   {
    "duration": 1913,
    "start_time": "2023-03-10T18:43:29.960Z"
   },
   {
    "duration": 137,
    "start_time": "2023-03-10T18:43:31.875Z"
   },
   {
    "duration": 14,
    "start_time": "2023-03-10T18:47:02.835Z"
   },
   {
    "duration": 1865,
    "start_time": "2023-03-10T18:47:17.189Z"
   },
   {
    "duration": 13,
    "start_time": "2023-03-10T18:47:19.056Z"
   },
   {
    "duration": 2046,
    "start_time": "2023-03-10T18:48:29.841Z"
   },
   {
    "duration": 13,
    "start_time": "2023-03-10T18:48:31.889Z"
   },
   {
    "duration": 1924,
    "start_time": "2023-03-10T18:49:05.627Z"
   },
   {
    "duration": 14,
    "start_time": "2023-03-10T18:49:07.552Z"
   },
   {
    "duration": 2059,
    "start_time": "2023-03-10T18:49:41.592Z"
   },
   {
    "duration": 130,
    "start_time": "2023-03-10T18:49:43.653Z"
   },
   {
    "duration": 1884,
    "start_time": "2023-03-10T18:51:37.809Z"
   },
   {
    "duration": 130,
    "start_time": "2023-03-10T18:51:39.695Z"
   },
   {
    "duration": 5063,
    "start_time": "2023-03-10T18:52:19.837Z"
   },
   {
    "duration": 128,
    "start_time": "2023-03-10T18:52:24.902Z"
   },
   {
    "duration": 1968,
    "start_time": "2023-03-10T18:54:04.796Z"
   },
   {
    "duration": 142,
    "start_time": "2023-03-10T18:54:06.766Z"
   },
   {
    "duration": 2280,
    "start_time": "2023-03-10T18:59:02.239Z"
   },
   {
    "duration": 142,
    "start_time": "2023-03-10T18:59:04.521Z"
   },
   {
    "duration": 2123,
    "start_time": "2023-03-10T18:59:33.734Z"
   },
   {
    "duration": 139,
    "start_time": "2023-03-10T18:59:35.859Z"
   },
   {
    "duration": 2352,
    "start_time": "2023-03-10T19:00:53.222Z"
   },
   {
    "duration": 156,
    "start_time": "2023-03-10T19:00:55.577Z"
   },
   {
    "duration": 2196,
    "start_time": "2023-03-10T19:01:33.362Z"
   },
   {
    "duration": 140,
    "start_time": "2023-03-10T19:01:35.567Z"
   },
   {
    "duration": 2317,
    "start_time": "2023-03-10T19:03:00.592Z"
   },
   {
    "duration": 179,
    "start_time": "2023-03-10T19:03:02.911Z"
   },
   {
    "duration": 2109,
    "start_time": "2023-03-10T19:19:17.964Z"
   },
   {
    "duration": 145,
    "start_time": "2023-03-10T19:19:20.076Z"
   },
   {
    "duration": 2034,
    "start_time": "2023-03-10T19:20:12.528Z"
   },
   {
    "duration": 125,
    "start_time": "2023-03-10T19:20:14.564Z"
   },
   {
    "duration": 2184,
    "start_time": "2023-03-10T19:20:55.574Z"
   },
   {
    "duration": 144,
    "start_time": "2023-03-10T19:20:57.761Z"
   },
   {
    "duration": 2036,
    "start_time": "2023-03-10T19:21:48.459Z"
   },
   {
    "duration": 126,
    "start_time": "2023-03-10T19:21:50.497Z"
   },
   {
    "duration": 2115,
    "start_time": "2023-03-10T19:22:32.503Z"
   },
   {
    "duration": 131,
    "start_time": "2023-03-10T19:22:34.620Z"
   },
   {
    "duration": 178,
    "start_time": "2023-03-10T19:27:08.118Z"
   },
   {
    "duration": 152,
    "start_time": "2023-03-10T19:27:08.298Z"
   },
   {
    "duration": 177,
    "start_time": "2023-03-10T19:32:17.976Z"
   },
   {
    "duration": 126,
    "start_time": "2023-03-10T19:32:18.155Z"
   },
   {
    "duration": 204,
    "start_time": "2023-03-10T19:37:52.566Z"
   },
   {
    "duration": 141,
    "start_time": "2023-03-10T19:37:52.772Z"
   },
   {
    "duration": 188,
    "start_time": "2023-03-10T19:45:01.172Z"
   },
   {
    "duration": 155,
    "start_time": "2023-03-10T19:45:01.362Z"
   },
   {
    "duration": 177,
    "start_time": "2023-03-10T19:47:06.203Z"
   },
   {
    "duration": 159,
    "start_time": "2023-03-10T19:47:06.382Z"
   },
   {
    "duration": 1084,
    "start_time": "2023-03-11T06:54:03.790Z"
   },
   {
    "duration": 158,
    "start_time": "2023-03-11T06:54:04.877Z"
   },
   {
    "duration": 184,
    "start_time": "2023-03-11T06:54:15.782Z"
   },
   {
    "duration": 80,
    "start_time": "2023-03-11T06:54:15.969Z"
   },
   {
    "duration": 214,
    "start_time": "2023-03-11T06:55:09.760Z"
   },
   {
    "duration": 216,
    "start_time": "2023-03-11T06:55:09.976Z"
   },
   {
    "duration": 204,
    "start_time": "2023-03-11T06:56:39.802Z"
   },
   {
    "duration": 194,
    "start_time": "2023-03-11T06:56:40.009Z"
   },
   {
    "duration": 171,
    "start_time": "2023-03-11T06:57:18.385Z"
   },
   {
    "duration": 175,
    "start_time": "2023-03-11T06:57:18.558Z"
   },
   {
    "duration": 185,
    "start_time": "2023-03-11T07:01:24.953Z"
   },
   {
    "duration": 163,
    "start_time": "2023-03-11T07:01:25.140Z"
   },
   {
    "duration": 217,
    "start_time": "2023-03-11T07:05:19.758Z"
   },
   {
    "duration": 198,
    "start_time": "2023-03-11T07:05:19.977Z"
   },
   {
    "duration": 171,
    "start_time": "2023-03-11T07:10:37.040Z"
   },
   {
    "duration": 167,
    "start_time": "2023-03-11T07:10:37.213Z"
   },
   {
    "duration": 204,
    "start_time": "2023-03-11T07:11:56.737Z"
   },
   {
    "duration": 267,
    "start_time": "2023-03-11T07:11:56.944Z"
   },
   {
    "duration": 222,
    "start_time": "2023-03-11T07:17:10.544Z"
   },
   {
    "duration": 232,
    "start_time": "2023-03-11T07:17:10.768Z"
   },
   {
    "duration": 234,
    "start_time": "2023-03-11T07:20:14.237Z"
   },
   {
    "duration": 73,
    "start_time": "2023-03-11T07:20:14.473Z"
   },
   {
    "duration": 196,
    "start_time": "2023-03-11T07:21:25.387Z"
   },
   {
    "duration": 221,
    "start_time": "2023-03-11T07:21:25.585Z"
   },
   {
    "duration": 201,
    "start_time": "2023-03-11T08:04:06.412Z"
   },
   {
    "duration": 220,
    "start_time": "2023-03-11T08:04:06.615Z"
   },
   {
    "duration": 225,
    "start_time": "2023-03-11T08:16:09.223Z"
   },
   {
    "duration": 268,
    "start_time": "2023-03-11T08:16:09.450Z"
   },
   {
    "duration": 214,
    "start_time": "2023-03-11T08:44:49.202Z"
   },
   {
    "duration": 249,
    "start_time": "2023-03-11T08:44:49.418Z"
   },
   {
    "duration": 279,
    "start_time": "2023-03-11T09:00:28.654Z"
   },
   {
    "duration": 834,
    "start_time": "2023-03-11T09:00:28.955Z"
   },
   {
    "duration": 196,
    "start_time": "2023-03-11T09:01:18.478Z"
   },
   {
    "duration": 137,
    "start_time": "2023-03-11T09:01:18.676Z"
   },
   {
    "duration": 224,
    "start_time": "2023-03-11T09:02:04.105Z"
   },
   {
    "duration": 133,
    "start_time": "2023-03-11T09:02:04.332Z"
   },
   {
    "duration": 206,
    "start_time": "2023-03-11T09:02:58.551Z"
   },
   {
    "duration": 159,
    "start_time": "2023-03-11T09:02:58.762Z"
   },
   {
    "duration": 211,
    "start_time": "2023-03-11T09:03:38.520Z"
   },
   {
    "duration": 130,
    "start_time": "2023-03-11T09:03:38.737Z"
   },
   {
    "duration": 235,
    "start_time": "2023-03-11T09:06:09.521Z"
   },
   {
    "duration": 246,
    "start_time": "2023-03-11T09:06:09.758Z"
   },
   {
    "duration": 172,
    "start_time": "2023-03-11T09:24:49.767Z"
   },
   {
    "duration": 203,
    "start_time": "2023-03-11T09:24:49.941Z"
   },
   {
    "duration": 169,
    "start_time": "2023-03-11T09:30:53.492Z"
   },
   {
    "duration": 185,
    "start_time": "2023-03-11T09:30:53.663Z"
   },
   {
    "duration": 192,
    "start_time": "2023-03-11T09:34:43.997Z"
   },
   {
    "duration": 200,
    "start_time": "2023-03-11T09:34:44.191Z"
   },
   {
    "duration": 207,
    "start_time": "2023-03-11T09:35:52.666Z"
   },
   {
    "duration": 173,
    "start_time": "2023-03-11T09:35:52.875Z"
   },
   {
    "duration": 202,
    "start_time": "2023-03-11T09:36:34.710Z"
   },
   {
    "duration": 214,
    "start_time": "2023-03-11T09:36:34.914Z"
   },
   {
    "duration": 183,
    "start_time": "2023-03-11T09:38:32.213Z"
   },
   {
    "duration": 100,
    "start_time": "2023-03-11T09:38:32.398Z"
   },
   {
    "duration": 164,
    "start_time": "2023-03-11T09:39:47.329Z"
   },
   {
    "duration": 99,
    "start_time": "2023-03-11T09:39:47.495Z"
   },
   {
    "duration": 193,
    "start_time": "2023-03-11T09:40:13.300Z"
   },
   {
    "duration": 113,
    "start_time": "2023-03-11T09:40:13.496Z"
   },
   {
    "duration": 184,
    "start_time": "2023-03-11T09:40:43.959Z"
   },
   {
    "duration": 106,
    "start_time": "2023-03-11T09:40:44.145Z"
   },
   {
    "duration": 186,
    "start_time": "2023-03-11T09:41:33.292Z"
   },
   {
    "duration": 105,
    "start_time": "2023-03-11T09:41:33.480Z"
   },
   {
    "duration": 192,
    "start_time": "2023-03-11T09:42:26.914Z"
   },
   {
    "duration": 96,
    "start_time": "2023-03-11T09:42:27.109Z"
   },
   {
    "duration": 175,
    "start_time": "2023-03-11T09:43:06.149Z"
   },
   {
    "duration": 83,
    "start_time": "2023-03-11T09:43:06.326Z"
   },
   {
    "duration": 201,
    "start_time": "2023-03-11T09:43:51.377Z"
   },
   {
    "duration": 97,
    "start_time": "2023-03-11T09:43:51.579Z"
   },
   {
    "duration": 185,
    "start_time": "2023-03-11T09:44:15.718Z"
   },
   {
    "duration": 225,
    "start_time": "2023-03-11T09:44:15.905Z"
   },
   {
    "duration": 191,
    "start_time": "2023-03-11T09:52:01.317Z"
   },
   {
    "duration": 94,
    "start_time": "2023-03-11T09:52:01.510Z"
   },
   {
    "duration": 213,
    "start_time": "2023-03-11T09:52:53.057Z"
   },
   {
    "duration": 209,
    "start_time": "2023-03-11T09:52:53.272Z"
   },
   {
    "duration": 170,
    "start_time": "2023-03-11T09:53:53.349Z"
   },
   {
    "duration": 204,
    "start_time": "2023-03-11T09:53:53.524Z"
   },
   {
    "duration": 193,
    "start_time": "2023-03-11T09:54:46.211Z"
   },
   {
    "duration": 205,
    "start_time": "2023-03-11T09:54:46.406Z"
   },
   {
    "duration": 172,
    "start_time": "2023-03-11T09:57:03.107Z"
   },
   {
    "duration": 206,
    "start_time": "2023-03-11T09:57:03.281Z"
   },
   {
    "duration": 196,
    "start_time": "2023-03-11T10:04:10.445Z"
   },
   {
    "duration": 264,
    "start_time": "2023-03-11T10:04:10.644Z"
   },
   {
    "duration": 183,
    "start_time": "2023-03-11T10:05:05.613Z"
   },
   {
    "duration": 150,
    "start_time": "2023-03-11T10:05:05.798Z"
   },
   {
    "duration": 179,
    "start_time": "2023-03-11T10:06:30.930Z"
   },
   {
    "duration": 226,
    "start_time": "2023-03-11T10:06:31.112Z"
   },
   {
    "duration": 196,
    "start_time": "2023-03-11T10:07:12.131Z"
   },
   {
    "duration": 256,
    "start_time": "2023-03-11T10:07:12.330Z"
   },
   {
    "duration": 180,
    "start_time": "2023-03-11T10:07:49.332Z"
   },
   {
    "duration": 193,
    "start_time": "2023-03-11T10:07:49.514Z"
   },
   {
    "duration": 212,
    "start_time": "2023-03-11T10:09:07.014Z"
   },
   {
    "duration": 282,
    "start_time": "2023-03-11T10:09:07.228Z"
   },
   {
    "duration": 204,
    "start_time": "2023-03-11T10:10:12.176Z"
   },
   {
    "duration": 220,
    "start_time": "2023-03-11T10:10:12.383Z"
   },
   {
    "duration": 190,
    "start_time": "2023-03-11T10:16:15.551Z"
   },
   {
    "duration": 255,
    "start_time": "2023-03-11T10:16:15.743Z"
   },
   {
    "duration": 183,
    "start_time": "2023-03-11T10:20:20.741Z"
   },
   {
    "duration": 237,
    "start_time": "2023-03-11T10:20:20.926Z"
   },
   {
    "duration": 190,
    "start_time": "2023-03-11T10:21:13.009Z"
   },
   {
    "duration": 215,
    "start_time": "2023-03-11T10:21:13.201Z"
   },
   {
    "duration": 174,
    "start_time": "2023-03-11T10:21:45.410Z"
   },
   {
    "duration": 241,
    "start_time": "2023-03-11T10:21:45.586Z"
   },
   {
    "duration": 199,
    "start_time": "2023-03-11T10:23:16.941Z"
   },
   {
    "duration": 302,
    "start_time": "2023-03-11T10:23:17.199Z"
   },
   {
    "duration": 165,
    "start_time": "2023-03-11T10:31:05.134Z"
   },
   {
    "duration": 175,
    "start_time": "2023-03-11T10:31:05.302Z"
   },
   {
    "duration": 214,
    "start_time": "2023-03-11T10:34:39.614Z"
   },
   {
    "duration": 293,
    "start_time": "2023-03-11T10:34:39.831Z"
   },
   {
    "duration": 177,
    "start_time": "2023-03-11T10:36:21.328Z"
   },
   {
    "duration": 265,
    "start_time": "2023-03-11T10:36:21.507Z"
   },
   {
    "duration": 194,
    "start_time": "2023-03-11T10:38:00.544Z"
   },
   {
    "duration": 265,
    "start_time": "2023-03-11T10:38:00.741Z"
   },
   {
    "duration": 211,
    "start_time": "2023-03-11T10:41:24.083Z"
   },
   {
    "duration": 63,
    "start_time": "2023-03-11T10:41:24.298Z"
   },
   {
    "duration": 191,
    "start_time": "2023-03-11T10:42:12.835Z"
   },
   {
    "duration": 67,
    "start_time": "2023-03-11T10:42:13.029Z"
   },
   {
    "duration": 180,
    "start_time": "2023-03-11T10:42:47.344Z"
   },
   {
    "duration": 267,
    "start_time": "2023-03-11T10:42:47.526Z"
   },
   {
    "duration": 273,
    "start_time": "2023-03-11T11:14:10.705Z"
   },
   {
    "duration": 429,
    "start_time": "2023-03-11T11:14:10.980Z"
   },
   {
    "duration": 202,
    "start_time": "2023-03-11T11:23:13.376Z"
   },
   {
    "duration": 378,
    "start_time": "2023-03-11T11:23:13.580Z"
   },
   {
    "duration": 218,
    "start_time": "2023-03-11T11:26:12.630Z"
   },
   {
    "duration": 391,
    "start_time": "2023-03-11T11:26:12.853Z"
   },
   {
    "duration": 210,
    "start_time": "2023-03-11T14:09:27.660Z"
   },
   {
    "duration": 53,
    "start_time": "2023-03-11T14:09:27.873Z"
   },
   {
    "duration": 264,
    "start_time": "2023-03-11T14:10:10.479Z"
   },
   {
    "duration": 454,
    "start_time": "2023-03-11T14:10:10.746Z"
   },
   {
    "duration": 194,
    "start_time": "2023-03-11T14:11:04.538Z"
   },
   {
    "duration": 307,
    "start_time": "2023-03-11T14:11:04.733Z"
   },
   {
    "duration": 207,
    "start_time": "2023-03-11T14:12:01.343Z"
   },
   {
    "duration": 366,
    "start_time": "2023-03-11T14:12:01.552Z"
   },
   {
    "duration": 197,
    "start_time": "2023-03-11T14:16:56.036Z"
   },
   {
    "duration": 1013,
    "start_time": "2023-03-11T14:16:56.236Z"
   },
   {
    "duration": 205,
    "start_time": "2023-03-11T14:18:08.339Z"
   },
   {
    "duration": 401,
    "start_time": "2023-03-11T14:18:08.547Z"
   },
   {
    "duration": 329,
    "start_time": "2023-03-11T14:19:40.250Z"
   },
   {
    "duration": 360,
    "start_time": "2023-03-11T14:19:40.583Z"
   },
   {
    "duration": 188,
    "start_time": "2023-03-11T14:21:39.486Z"
   },
   {
    "duration": 347,
    "start_time": "2023-03-11T14:21:39.677Z"
   },
   {
    "duration": 177,
    "start_time": "2023-03-11T14:23:47.803Z"
   },
   {
    "duration": 319,
    "start_time": "2023-03-11T14:23:47.982Z"
   },
   {
    "duration": 184,
    "start_time": "2023-03-11T14:27:03.997Z"
   },
   {
    "duration": 342,
    "start_time": "2023-03-11T14:27:04.183Z"
   },
   {
    "duration": 188,
    "start_time": "2023-03-11T14:27:29.883Z"
   },
   {
    "duration": 365,
    "start_time": "2023-03-11T14:27:30.073Z"
   },
   {
    "duration": 171,
    "start_time": "2023-03-11T14:28:55.866Z"
   },
   {
    "duration": 327,
    "start_time": "2023-03-11T14:28:56.039Z"
   },
   {
    "duration": 180,
    "start_time": "2023-03-11T14:29:29.308Z"
   },
   {
    "duration": 317,
    "start_time": "2023-03-11T14:29:29.491Z"
   },
   {
    "duration": 196,
    "start_time": "2023-03-11T14:31:02.255Z"
   },
   {
    "duration": 334,
    "start_time": "2023-03-11T14:31:02.454Z"
   },
   {
    "duration": 195,
    "start_time": "2023-03-11T14:35:00.749Z"
   },
   {
    "duration": 373,
    "start_time": "2023-03-11T14:35:00.946Z"
   },
   {
    "duration": 192,
    "start_time": "2023-03-11T14:35:52.304Z"
   },
   {
    "duration": 487,
    "start_time": "2023-03-11T14:35:52.499Z"
   },
   {
    "duration": 221,
    "start_time": "2023-03-11T14:36:28.865Z"
   },
   {
    "duration": 344,
    "start_time": "2023-03-11T14:36:29.089Z"
   },
   {
    "duration": 182,
    "start_time": "2023-03-11T14:39:23.922Z"
   },
   {
    "duration": 350,
    "start_time": "2023-03-11T14:39:24.106Z"
   },
   {
    "duration": 175,
    "start_time": "2023-03-11T14:42:31.699Z"
   },
   {
    "duration": 331,
    "start_time": "2023-03-11T14:42:31.877Z"
   },
   {
    "duration": 168,
    "start_time": "2023-03-11T14:43:45.150Z"
   },
   {
    "duration": 322,
    "start_time": "2023-03-11T14:43:45.325Z"
   },
   {
    "duration": 180,
    "start_time": "2023-03-11T14:45:47.650Z"
   },
   {
    "duration": 360,
    "start_time": "2023-03-11T14:45:47.832Z"
   },
   {
    "duration": 202,
    "start_time": "2023-03-11T15:04:14.757Z"
   },
   {
    "duration": 406,
    "start_time": "2023-03-11T15:04:14.961Z"
   },
   {
    "duration": 185,
    "start_time": "2023-03-11T15:30:55.638Z"
   },
   {
    "duration": 378,
    "start_time": "2023-03-11T15:30:55.827Z"
   },
   {
    "duration": 22,
    "start_time": "2023-03-11T15:30:56.207Z"
   },
   {
    "duration": 21,
    "start_time": "2023-03-11T15:31:29.453Z"
   },
   {
    "duration": 46,
    "start_time": "2023-03-11T15:43:34.422Z"
   },
   {
    "duration": 741,
    "start_time": "2023-03-11T15:44:00.817Z"
   },
   {
    "duration": 797,
    "start_time": "2023-03-11T15:44:30.726Z"
   },
   {
    "duration": 32,
    "start_time": "2023-03-11T15:46:09.284Z"
   },
   {
    "duration": 28,
    "start_time": "2023-03-11T15:47:11.406Z"
   },
   {
    "duration": 31,
    "start_time": "2023-03-11T15:48:49.410Z"
   },
   {
    "duration": 30,
    "start_time": "2023-03-11T15:49:25.399Z"
   },
   {
    "duration": 25,
    "start_time": "2023-03-11T15:51:52.743Z"
   },
   {
    "duration": 25,
    "start_time": "2023-03-11T15:52:23.721Z"
   },
   {
    "duration": 35,
    "start_time": "2023-03-11T16:01:00.433Z"
   },
   {
    "duration": 28,
    "start_time": "2023-03-11T16:01:15.949Z"
   },
   {
    "duration": 25,
    "start_time": "2023-03-11T16:01:43.024Z"
   },
   {
    "duration": 28,
    "start_time": "2023-03-11T16:02:42.027Z"
   },
   {
    "duration": 45,
    "start_time": "2023-03-11T18:37:18.491Z"
   },
   {
    "duration": 47,
    "start_time": "2023-03-11T18:37:34.938Z"
   },
   {
    "duration": 47,
    "start_time": "2023-03-11T18:38:12.925Z"
   },
   {
    "duration": 147,
    "start_time": "2023-03-11T18:38:32.068Z"
   },
   {
    "duration": 26,
    "start_time": "2023-03-11T18:39:21.999Z"
   },
   {
    "duration": 27,
    "start_time": "2023-03-11T18:43:56.939Z"
   },
   {
    "duration": 31,
    "start_time": "2023-03-11T18:44:23.036Z"
   },
   {
    "duration": 30,
    "start_time": "2023-03-11T18:45:11.257Z"
   },
   {
    "duration": 29,
    "start_time": "2023-03-11T18:45:50.440Z"
   },
   {
    "duration": 28,
    "start_time": "2023-03-11T18:46:17.357Z"
   },
   {
    "duration": 26,
    "start_time": "2023-03-11T18:46:50.913Z"
   },
   {
    "duration": 37,
    "start_time": "2023-03-11T18:47:43.846Z"
   },
   {
    "duration": 26,
    "start_time": "2023-03-11T18:48:35.809Z"
   },
   {
    "duration": 63,
    "start_time": "2023-03-11T18:52:24.139Z"
   },
   {
    "duration": 39,
    "start_time": "2023-03-11T18:52:44.415Z"
   },
   {
    "duration": 27,
    "start_time": "2023-03-11T18:53:16.060Z"
   },
   {
    "duration": 39,
    "start_time": "2023-03-11T18:53:27.922Z"
   },
   {
    "duration": 179,
    "start_time": "2023-03-11T19:01:58.100Z"
   },
   {
    "duration": 308,
    "start_time": "2023-03-11T19:01:58.282Z"
   },
   {
    "duration": 40,
    "start_time": "2023-03-11T19:01:58.592Z"
   },
   {
    "duration": 252,
    "start_time": "2023-03-11T19:03:59.191Z"
   },
   {
    "duration": 170,
    "start_time": "2023-03-11T19:05:25.877Z"
   },
   {
    "duration": 329,
    "start_time": "2023-03-11T19:05:26.050Z"
   },
   {
    "duration": 27,
    "start_time": "2023-03-11T19:05:26.381Z"
   },
   {
    "duration": 359,
    "start_time": "2023-03-11T19:12:34.442Z"
   },
   {
    "duration": 390,
    "start_time": "2023-03-11T19:13:31.808Z"
   },
   {
    "duration": 174,
    "start_time": "2023-03-11T19:16:29.382Z"
   },
   {
    "duration": 361,
    "start_time": "2023-03-11T19:16:29.557Z"
   },
   {
    "duration": 25,
    "start_time": "2023-03-11T19:16:29.924Z"
   },
   {
    "duration": 177,
    "start_time": "2023-03-11T19:17:54.570Z"
   },
   {
    "duration": 328,
    "start_time": "2023-03-11T19:17:54.750Z"
   },
   {
    "duration": 28,
    "start_time": "2023-03-11T19:17:55.080Z"
   },
   {
    "duration": 173,
    "start_time": "2023-03-11T19:18:58.314Z"
   },
   {
    "duration": 307,
    "start_time": "2023-03-11T19:18:58.489Z"
   },
   {
    "duration": 51,
    "start_time": "2023-03-11T19:18:58.799Z"
   },
   {
    "duration": 188,
    "start_time": "2023-03-11T19:20:46.348Z"
   },
   {
    "duration": 376,
    "start_time": "2023-03-11T19:20:46.539Z"
   },
   {
    "duration": 36,
    "start_time": "2023-03-11T19:20:46.917Z"
   },
   {
    "duration": 261,
    "start_time": "2023-03-11T19:23:13.547Z"
   },
   {
    "duration": 387,
    "start_time": "2023-03-11T19:24:16.473Z"
   },
   {
    "duration": 360,
    "start_time": "2023-03-11T19:26:52.814Z"
   },
   {
    "duration": 190,
    "start_time": "2023-03-11T19:28:51.877Z"
   },
   {
    "duration": 313,
    "start_time": "2023-03-11T19:28:52.069Z"
   },
   {
    "duration": 27,
    "start_time": "2023-03-11T19:28:52.384Z"
   },
   {
    "duration": 142,
    "start_time": "2023-03-11T19:41:25.744Z"
   },
   {
    "duration": 183,
    "start_time": "2023-03-11T19:45:32.406Z"
   },
   {
    "duration": 148,
    "start_time": "2023-03-11T19:46:36.932Z"
   },
   {
    "duration": 131,
    "start_time": "2023-03-11T19:49:35.005Z"
   },
   {
    "duration": 193,
    "start_time": "2023-03-11T19:49:49.107Z"
   },
   {
    "duration": 204,
    "start_time": "2023-03-11T19:50:39.847Z"
   },
   {
    "duration": 3,
    "start_time": "2023-03-11T20:08:03.886Z"
   },
   {
    "duration": 4,
    "start_time": "2023-03-11T20:10:09.298Z"
   },
   {
    "duration": 4,
    "start_time": "2023-03-11T20:14:17.935Z"
   },
   {
    "duration": 5,
    "start_time": "2023-03-11T20:14:25.762Z"
   },
   {
    "duration": 5,
    "start_time": "2023-03-11T20:16:16.812Z"
   },
   {
    "duration": 4,
    "start_time": "2023-03-11T20:16:41.341Z"
   },
   {
    "duration": 175,
    "start_time": "2023-03-11T20:17:56.209Z"
   },
   {
    "duration": 281,
    "start_time": "2023-03-11T20:17:56.386Z"
   },
   {
    "duration": 26,
    "start_time": "2023-03-11T20:17:56.668Z"
   },
   {
    "duration": 5,
    "start_time": "2023-03-11T20:17:56.696Z"
   },
   {
    "duration": 4,
    "start_time": "2023-03-11T20:19:00.991Z"
   },
   {
    "duration": 4,
    "start_time": "2023-03-11T20:19:07.362Z"
   },
   {
    "duration": 249,
    "start_time": "2023-03-11T20:19:37.989Z"
   },
   {
    "duration": 257,
    "start_time": "2023-03-11T20:19:53.010Z"
   },
   {
    "duration": 380,
    "start_time": "2023-03-11T20:20:10.668Z"
   },
   {
    "duration": 311,
    "start_time": "2023-03-11T20:20:35.973Z"
   },
   {
    "duration": 166,
    "start_time": "2023-03-11T20:20:52.986Z"
   },
   {
    "duration": 298,
    "start_time": "2023-03-11T20:20:53.154Z"
   },
   {
    "duration": 29,
    "start_time": "2023-03-11T20:20:53.453Z"
   },
   {
    "duration": 310,
    "start_time": "2023-03-11T20:20:53.483Z"
   },
   {
    "duration": 334,
    "start_time": "2023-03-11T20:21:39.070Z"
   },
   {
    "duration": 269,
    "start_time": "2023-03-11T20:21:49.831Z"
   },
   {
    "duration": 379,
    "start_time": "2023-03-11T20:22:00.375Z"
   },
   {
    "duration": 306,
    "start_time": "2023-03-11T20:22:12.500Z"
   },
   {
    "duration": 276,
    "start_time": "2023-03-11T20:22:30.490Z"
   },
   {
    "duration": 305,
    "start_time": "2023-03-11T20:23:11.675Z"
   },
   {
    "duration": 277,
    "start_time": "2023-03-11T20:23:33.446Z"
   },
   {
    "duration": 65,
    "start_time": "2023-03-12T06:38:46.124Z"
   },
   {
    "duration": 24,
    "start_time": "2023-03-12T06:39:41.498Z"
   },
   {
    "duration": 22,
    "start_time": "2023-03-12T06:40:20.350Z"
   },
   {
    "duration": 21,
    "start_time": "2023-03-12T06:42:36.870Z"
   },
   {
    "duration": 21,
    "start_time": "2023-03-12T06:44:32.915Z"
   },
   {
    "duration": 1175,
    "start_time": "2023-03-12T06:44:54.816Z"
   },
   {
    "duration": 144,
    "start_time": "2023-03-12T06:44:55.994Z"
   },
   {
    "duration": 0,
    "start_time": "2023-03-12T06:44:56.140Z"
   },
   {
    "duration": 0,
    "start_time": "2023-03-12T06:44:56.141Z"
   },
   {
    "duration": 175,
    "start_time": "2023-03-12T06:47:06.508Z"
   },
   {
    "duration": 305,
    "start_time": "2023-03-12T06:47:06.690Z"
   },
   {
    "duration": 29,
    "start_time": "2023-03-12T06:47:06.997Z"
   },
   {
    "duration": 391,
    "start_time": "2023-03-12T06:47:07.028Z"
   },
   {
    "duration": 351,
    "start_time": "2023-03-12T06:51:50.648Z"
   },
   {
    "duration": 18,
    "start_time": "2023-03-12T06:52:31.019Z"
   },
   {
    "duration": 383,
    "start_time": "2023-03-12T06:53:32.108Z"
   },
   {
    "duration": 419,
    "start_time": "2023-03-12T06:56:59.799Z"
   },
   {
    "duration": 181,
    "start_time": "2023-03-12T07:01:46.471Z"
   },
   {
    "duration": 303,
    "start_time": "2023-03-12T07:01:46.655Z"
   },
   {
    "duration": 41,
    "start_time": "2023-03-12T07:01:46.960Z"
   },
   {
    "duration": 315,
    "start_time": "2023-03-12T07:01:47.003Z"
   },
   {
    "duration": 254,
    "start_time": "2023-03-12T07:11:00.195Z"
   },
   {
    "duration": 342,
    "start_time": "2023-03-12T07:11:00.451Z"
   },
   {
    "duration": 36,
    "start_time": "2023-03-12T07:11:00.795Z"
   },
   {
    "duration": 342,
    "start_time": "2023-03-12T07:11:00.834Z"
   },
   {
    "duration": 152,
    "start_time": "2023-03-12T07:13:34.703Z"
   },
   {
    "duration": 151,
    "start_time": "2023-03-12T07:13:50.699Z"
   },
   {
    "duration": 118,
    "start_time": "2023-03-12T07:14:00.118Z"
   },
   {
    "duration": 121,
    "start_time": "2023-03-12T07:14:36.028Z"
   },
   {
    "duration": 116,
    "start_time": "2023-03-12T07:14:41.303Z"
   },
   {
    "duration": 114,
    "start_time": "2023-03-12T07:16:33.505Z"
   },
   {
    "duration": 198,
    "start_time": "2023-03-12T07:19:21.672Z"
   },
   {
    "duration": 342,
    "start_time": "2023-03-12T07:19:21.872Z"
   },
   {
    "duration": 30,
    "start_time": "2023-03-12T07:19:22.216Z"
   },
   {
    "duration": 416,
    "start_time": "2023-03-12T07:19:22.251Z"
   },
   {
    "duration": 136,
    "start_time": "2023-03-12T07:19:22.669Z"
   },
   {
    "duration": 190,
    "start_time": "2023-03-12T07:28:39.019Z"
   },
   {
    "duration": 347,
    "start_time": "2023-03-12T07:28:39.211Z"
   },
   {
    "duration": 42,
    "start_time": "2023-03-12T07:28:39.560Z"
   },
   {
    "duration": 330,
    "start_time": "2023-03-12T07:28:39.605Z"
   },
   {
    "duration": 151,
    "start_time": "2023-03-12T07:28:39.936Z"
   },
   {
    "duration": 194,
    "start_time": "2023-03-12T07:30:39.576Z"
   },
   {
    "duration": 368,
    "start_time": "2023-03-12T07:30:39.772Z"
   },
   {
    "duration": 52,
    "start_time": "2023-03-12T07:30:40.142Z"
   },
   {
    "duration": 357,
    "start_time": "2023-03-12T07:30:40.197Z"
   },
   {
    "duration": 1343,
    "start_time": "2023-03-12T07:30:40.556Z"
   },
   {
    "duration": 203,
    "start_time": "2023-03-12T07:31:51.991Z"
   },
   {
    "duration": 318,
    "start_time": "2023-03-12T07:31:52.198Z"
   },
   {
    "duration": 29,
    "start_time": "2023-03-12T07:31:52.518Z"
   },
   {
    "duration": 431,
    "start_time": "2023-03-12T07:31:52.549Z"
   },
   {
    "duration": 140,
    "start_time": "2023-03-12T07:31:52.982Z"
   },
   {
    "duration": 142,
    "start_time": "2023-03-12T07:32:40.329Z"
   },
   {
    "duration": 197,
    "start_time": "2023-03-12T07:35:55.565Z"
   },
   {
    "duration": 352,
    "start_time": "2023-03-12T07:35:55.765Z"
   },
   {
    "duration": 31,
    "start_time": "2023-03-12T07:35:56.119Z"
   },
   {
    "duration": 420,
    "start_time": "2023-03-12T07:35:56.152Z"
   },
   {
    "duration": 140,
    "start_time": "2023-03-12T07:35:56.575Z"
   },
   {
    "duration": 198,
    "start_time": "2023-03-12T07:36:20.209Z"
   },
   {
    "duration": 348,
    "start_time": "2023-03-12T07:36:20.409Z"
   },
   {
    "duration": 46,
    "start_time": "2023-03-12T07:36:20.759Z"
   },
   {
    "duration": 330,
    "start_time": "2023-03-12T07:36:20.808Z"
   },
   {
    "duration": 201,
    "start_time": "2023-03-12T07:36:21.140Z"
   },
   {
    "duration": 193,
    "start_time": "2023-03-12T07:40:25.660Z"
   },
   {
    "duration": 390,
    "start_time": "2023-03-12T07:40:25.856Z"
   },
   {
    "duration": 38,
    "start_time": "2023-03-12T07:40:26.248Z"
   },
   {
    "duration": 403,
    "start_time": "2023-03-12T07:40:26.294Z"
   },
   {
    "duration": 141,
    "start_time": "2023-03-12T07:40:26.699Z"
   },
   {
    "duration": 189,
    "start_time": "2023-03-12T07:40:40.748Z"
   },
   {
    "duration": 342,
    "start_time": "2023-03-12T07:40:40.939Z"
   },
   {
    "duration": 45,
    "start_time": "2023-03-12T07:40:41.283Z"
   },
   {
    "duration": 351,
    "start_time": "2023-03-12T07:40:41.330Z"
   },
   {
    "duration": 133,
    "start_time": "2023-03-12T07:40:41.684Z"
   },
   {
    "duration": 79,
    "start_time": "2023-03-12T07:41:11.349Z"
   },
   {
    "duration": 195,
    "start_time": "2023-03-12T07:41:34.905Z"
   },
   {
    "duration": 328,
    "start_time": "2023-03-12T07:41:35.102Z"
   },
   {
    "duration": 26,
    "start_time": "2023-03-12T07:41:35.432Z"
   },
   {
    "duration": 442,
    "start_time": "2023-03-12T07:41:35.460Z"
   },
   {
    "duration": 69,
    "start_time": "2023-03-12T07:41:35.904Z"
   },
   {
    "duration": 187,
    "start_time": "2023-03-12T07:41:52.453Z"
   },
   {
    "duration": 343,
    "start_time": "2023-03-12T07:41:52.643Z"
   },
   {
    "duration": 38,
    "start_time": "2023-03-12T07:41:52.992Z"
   },
   {
    "duration": 349,
    "start_time": "2023-03-12T07:41:53.032Z"
   },
   {
    "duration": 83,
    "start_time": "2023-03-12T07:41:53.389Z"
   },
   {
    "duration": 216,
    "start_time": "2023-03-12T07:42:10.288Z"
   },
   {
    "duration": 348,
    "start_time": "2023-03-12T07:42:10.506Z"
   },
   {
    "duration": 52,
    "start_time": "2023-03-12T07:42:10.855Z"
   },
   {
    "duration": 374,
    "start_time": "2023-03-12T07:42:10.910Z"
   },
   {
    "duration": 138,
    "start_time": "2023-03-12T07:42:11.291Z"
   },
   {
    "duration": 241,
    "start_time": "2023-03-12T07:42:21.537Z"
   },
   {
    "duration": 365,
    "start_time": "2023-03-12T07:42:21.781Z"
   },
   {
    "duration": 29,
    "start_time": "2023-03-12T07:42:22.148Z"
   },
   {
    "duration": 353,
    "start_time": "2023-03-12T07:42:22.189Z"
   },
   {
    "duration": 195,
    "start_time": "2023-03-12T07:42:22.544Z"
   },
   {
    "duration": 200,
    "start_time": "2023-03-12T07:42:46.786Z"
   },
   {
    "duration": 343,
    "start_time": "2023-03-12T07:42:46.990Z"
   },
   {
    "duration": 27,
    "start_time": "2023-03-12T07:42:47.334Z"
   },
   {
    "duration": 357,
    "start_time": "2023-03-12T07:42:47.363Z"
   },
   {
    "duration": 120,
    "start_time": "2023-03-12T07:42:47.722Z"
   },
   {
    "duration": 209,
    "start_time": "2023-03-12T07:49:03.260Z"
   },
   {
    "duration": 346,
    "start_time": "2023-03-12T07:49:03.471Z"
   },
   {
    "duration": 32,
    "start_time": "2023-03-12T07:49:03.819Z"
   },
   {
    "duration": 359,
    "start_time": "2023-03-12T07:49:03.853Z"
   },
   {
    "duration": 144,
    "start_time": "2023-03-12T07:49:04.214Z"
   },
   {
    "duration": 179,
    "start_time": "2023-03-12T07:50:15.440Z"
   },
   {
    "duration": 320,
    "start_time": "2023-03-12T07:50:15.621Z"
   },
   {
    "duration": 30,
    "start_time": "2023-03-12T07:50:15.943Z"
   },
   {
    "duration": 467,
    "start_time": "2023-03-12T07:50:15.975Z"
   },
   {
    "duration": 148,
    "start_time": "2023-03-12T07:50:16.444Z"
   },
   {
    "duration": 193,
    "start_time": "2023-03-12T08:00:45.052Z"
   },
   {
    "duration": 360,
    "start_time": "2023-03-12T08:00:45.247Z"
   },
   {
    "duration": 29,
    "start_time": "2023-03-12T08:00:45.610Z"
   },
   {
    "duration": 356,
    "start_time": "2023-03-12T08:00:45.641Z"
   },
   {
    "duration": 140,
    "start_time": "2023-03-12T08:00:45.999Z"
   },
   {
    "duration": 186,
    "start_time": "2023-03-12T08:01:10.635Z"
   },
   {
    "duration": 327,
    "start_time": "2023-03-12T08:01:10.823Z"
   },
   {
    "duration": 29,
    "start_time": "2023-03-12T08:01:11.152Z"
   },
   {
    "duration": 329,
    "start_time": "2023-03-12T08:01:11.190Z"
   },
   {
    "duration": 130,
    "start_time": "2023-03-12T08:01:11.521Z"
   },
   {
    "duration": 204,
    "start_time": "2023-03-12T08:01:51.447Z"
   },
   {
    "duration": 376,
    "start_time": "2023-03-12T08:01:51.653Z"
   },
   {
    "duration": 31,
    "start_time": "2023-03-12T08:01:52.031Z"
   },
   {
    "duration": 443,
    "start_time": "2023-03-12T08:01:52.064Z"
   },
   {
    "duration": 142,
    "start_time": "2023-03-12T08:01:52.509Z"
   },
   {
    "duration": 237,
    "start_time": "2023-03-12T08:05:37.537Z"
   },
   {
    "duration": 353,
    "start_time": "2023-03-12T08:05:37.777Z"
   },
   {
    "duration": 32,
    "start_time": "2023-03-12T08:05:38.132Z"
   },
   {
    "duration": 376,
    "start_time": "2023-03-12T08:05:38.166Z"
   },
   {
    "duration": 159,
    "start_time": "2023-03-12T08:05:38.543Z"
   },
   {
    "duration": 188,
    "start_time": "2023-03-12T08:08:49.539Z"
   },
   {
    "duration": 351,
    "start_time": "2023-03-12T08:08:49.730Z"
   },
   {
    "duration": 39,
    "start_time": "2023-03-12T08:08:50.089Z"
   },
   {
    "duration": 378,
    "start_time": "2023-03-12T08:08:50.131Z"
   },
   {
    "duration": 157,
    "start_time": "2023-03-12T08:08:50.511Z"
   },
   {
    "duration": 260,
    "start_time": "2023-03-12T08:09:34.010Z"
   },
   {
    "duration": 355,
    "start_time": "2023-03-12T08:09:34.274Z"
   },
   {
    "duration": 30,
    "start_time": "2023-03-12T08:09:34.631Z"
   },
   {
    "duration": 367,
    "start_time": "2023-03-12T08:09:34.663Z"
   },
   {
    "duration": 175,
    "start_time": "2023-03-12T08:09:35.032Z"
   },
   {
    "duration": 202,
    "start_time": "2023-03-12T08:10:59.000Z"
   },
   {
    "duration": 350,
    "start_time": "2023-03-12T08:10:59.207Z"
   },
   {
    "duration": 46,
    "start_time": "2023-03-12T08:10:59.558Z"
   },
   {
    "duration": 340,
    "start_time": "2023-03-12T08:10:59.606Z"
   },
   {
    "duration": 183,
    "start_time": "2023-03-12T08:10:59.948Z"
   },
   {
    "duration": 220,
    "start_time": "2023-03-12T08:11:48.003Z"
   },
   {
    "duration": 370,
    "start_time": "2023-03-12T08:11:48.226Z"
   },
   {
    "duration": 32,
    "start_time": "2023-03-12T08:11:48.602Z"
   },
   {
    "duration": 336,
    "start_time": "2023-03-12T08:11:48.636Z"
   },
   {
    "duration": 328,
    "start_time": "2023-03-12T08:11:48.974Z"
   },
   {
    "duration": 183,
    "start_time": "2023-03-12T08:12:33.546Z"
   },
   {
    "duration": 328,
    "start_time": "2023-03-12T08:12:33.731Z"
   },
   {
    "duration": 47,
    "start_time": "2023-03-12T08:12:34.062Z"
   },
   {
    "duration": 365,
    "start_time": "2023-03-12T08:12:34.112Z"
   },
   {
    "duration": 173,
    "start_time": "2023-03-12T08:12:34.479Z"
   },
   {
    "duration": 199,
    "start_time": "2023-03-12T08:13:18.764Z"
   },
   {
    "duration": 476,
    "start_time": "2023-03-12T08:13:18.966Z"
   },
   {
    "duration": 51,
    "start_time": "2023-03-12T08:13:19.445Z"
   },
   {
    "duration": 443,
    "start_time": "2023-03-12T08:13:19.499Z"
   },
   {
    "duration": 166,
    "start_time": "2023-03-12T08:13:19.944Z"
   },
   {
    "duration": 198,
    "start_time": "2023-03-12T08:14:26.603Z"
   },
   {
    "duration": 340,
    "start_time": "2023-03-12T08:14:26.804Z"
   },
   {
    "duration": 30,
    "start_time": "2023-03-12T08:14:27.146Z"
   },
   {
    "duration": 427,
    "start_time": "2023-03-12T08:14:27.190Z"
   },
   {
    "duration": 173,
    "start_time": "2023-03-12T08:14:27.619Z"
   },
   {
    "duration": 181,
    "start_time": "2023-03-12T08:15:21.901Z"
   },
   {
    "duration": 371,
    "start_time": "2023-03-12T08:15:22.084Z"
   },
   {
    "duration": 56,
    "start_time": "2023-03-12T08:15:22.458Z"
   },
   {
    "duration": 364,
    "start_time": "2023-03-12T08:15:22.518Z"
   },
   {
    "duration": 299,
    "start_time": "2023-03-12T08:15:22.884Z"
   },
   {
    "duration": 212,
    "start_time": "2023-03-12T08:16:26.311Z"
   },
   {
    "duration": 326,
    "start_time": "2023-03-12T08:16:26.525Z"
   },
   {
    "duration": 37,
    "start_time": "2023-03-12T08:16:26.853Z"
   },
   {
    "duration": 325,
    "start_time": "2023-03-12T08:16:26.892Z"
   },
   {
    "duration": 344,
    "start_time": "2023-03-12T08:16:27.219Z"
   },
   {
    "duration": 200,
    "start_time": "2023-03-12T08:18:24.342Z"
   },
   {
    "duration": 335,
    "start_time": "2023-03-12T08:18:24.544Z"
   },
   {
    "duration": 46,
    "start_time": "2023-03-12T08:18:24.881Z"
   },
   {
    "duration": 333,
    "start_time": "2023-03-12T08:18:24.929Z"
   },
   {
    "duration": 277,
    "start_time": "2023-03-12T08:18:25.264Z"
   },
   {
    "duration": 206,
    "start_time": "2023-03-12T08:22:17.549Z"
   },
   {
    "duration": 392,
    "start_time": "2023-03-12T08:22:17.757Z"
   },
   {
    "duration": 31,
    "start_time": "2023-03-12T08:22:18.151Z"
   },
   {
    "duration": 225,
    "start_time": "2023-03-12T08:22:18.190Z"
   },
   {
    "duration": 293,
    "start_time": "2023-03-12T08:22:18.416Z"
   },
   {
    "duration": 257,
    "start_time": "2023-03-12T08:22:50.750Z"
   },
   {
    "duration": 331,
    "start_time": "2023-03-12T08:22:51.010Z"
   },
   {
    "duration": 29,
    "start_time": "2023-03-12T08:22:51.343Z"
   },
   {
    "duration": 203,
    "start_time": "2023-03-12T08:22:51.374Z"
   },
   {
    "duration": 260,
    "start_time": "2023-03-12T08:22:51.579Z"
   },
   {
    "duration": 187,
    "start_time": "2023-03-12T08:23:14.821Z"
   },
   {
    "duration": 325,
    "start_time": "2023-03-12T08:23:15.011Z"
   },
   {
    "duration": 31,
    "start_time": "2023-03-12T08:23:15.338Z"
   },
   {
    "duration": 333,
    "start_time": "2023-03-12T08:23:15.370Z"
   },
   {
    "duration": 263,
    "start_time": "2023-03-12T08:23:15.705Z"
   },
   {
    "duration": 195,
    "start_time": "2023-03-12T08:25:17.505Z"
   },
   {
    "duration": 348,
    "start_time": "2023-03-12T08:25:17.702Z"
   },
   {
    "duration": 44,
    "start_time": "2023-03-12T08:25:18.052Z"
   },
   {
    "duration": 435,
    "start_time": "2023-03-12T08:25:18.100Z"
   },
   {
    "duration": 277,
    "start_time": "2023-03-12T08:25:18.537Z"
   },
   {
    "duration": 228,
    "start_time": "2023-03-12T08:28:15.034Z"
   },
   {
    "duration": 344,
    "start_time": "2023-03-12T08:28:15.265Z"
   },
   {
    "duration": 31,
    "start_time": "2023-03-12T08:28:15.611Z"
   },
   {
    "duration": 383,
    "start_time": "2023-03-12T08:28:15.644Z"
   },
   {
    "duration": 367,
    "start_time": "2023-03-12T08:28:16.028Z"
   },
   {
    "duration": 213,
    "start_time": "2023-03-12T08:29:06.396Z"
   },
   {
    "duration": 413,
    "start_time": "2023-03-12T08:29:06.612Z"
   },
   {
    "duration": 36,
    "start_time": "2023-03-12T08:29:07.027Z"
   },
   {
    "duration": 374,
    "start_time": "2023-03-12T08:29:07.068Z"
   },
   {
    "duration": 403,
    "start_time": "2023-03-12T08:29:07.444Z"
   },
   {
    "duration": 213,
    "start_time": "2023-03-12T08:30:40.371Z"
   },
   {
    "duration": 369,
    "start_time": "2023-03-12T08:30:40.587Z"
   },
   {
    "duration": 55,
    "start_time": "2023-03-12T08:30:40.958Z"
   },
   {
    "duration": 382,
    "start_time": "2023-03-12T08:30:41.016Z"
   },
   {
    "duration": 312,
    "start_time": "2023-03-12T08:30:41.405Z"
   },
   {
    "duration": 206,
    "start_time": "2023-03-12T08:36:10.855Z"
   },
   {
    "duration": 353,
    "start_time": "2023-03-12T08:36:11.063Z"
   },
   {
    "duration": 31,
    "start_time": "2023-03-12T08:36:11.418Z"
   },
   {
    "duration": 380,
    "start_time": "2023-03-12T08:36:11.451Z"
   },
   {
    "duration": 385,
    "start_time": "2023-03-12T08:36:11.833Z"
   },
   {
    "duration": 305,
    "start_time": "2023-03-12T08:36:12.220Z"
   },
   {
    "duration": 198,
    "start_time": "2023-03-12T08:38:40.909Z"
   },
   {
    "duration": 363,
    "start_time": "2023-03-12T08:38:41.110Z"
   },
   {
    "duration": 39,
    "start_time": "2023-03-12T08:38:41.475Z"
   },
   {
    "duration": 366,
    "start_time": "2023-03-12T08:38:41.517Z"
   },
   {
    "duration": 286,
    "start_time": "2023-03-12T08:38:41.894Z"
   },
   {
    "duration": 284,
    "start_time": "2023-03-12T08:38:42.193Z"
   },
   {
    "duration": 209,
    "start_time": "2023-03-12T09:19:15.760Z"
   },
   {
    "duration": 466,
    "start_time": "2023-03-12T09:19:15.973Z"
   },
   {
    "duration": 37,
    "start_time": "2023-03-12T09:19:16.441Z"
   },
   {
    "duration": 543,
    "start_time": "2023-03-12T09:19:16.491Z"
   },
   {
    "duration": 347,
    "start_time": "2023-03-12T09:19:17.036Z"
   },
   {
    "duration": 361,
    "start_time": "2023-03-12T09:19:17.385Z"
   },
   {
    "duration": 194,
    "start_time": "2023-03-12T09:20:22.150Z"
   },
   {
    "duration": 360,
    "start_time": "2023-03-12T09:20:22.347Z"
   },
   {
    "duration": 28,
    "start_time": "2023-03-12T09:20:22.709Z"
   },
   {
    "duration": 351,
    "start_time": "2023-03-12T09:20:22.739Z"
   },
   {
    "duration": 326,
    "start_time": "2023-03-12T09:20:23.095Z"
   },
   {
    "duration": 394,
    "start_time": "2023-03-12T09:20:23.425Z"
   },
   {
    "duration": 182,
    "start_time": "2023-03-12T09:21:24.230Z"
   },
   {
    "duration": 385,
    "start_time": "2023-03-12T09:21:24.414Z"
   },
   {
    "duration": 31,
    "start_time": "2023-03-12T09:21:24.801Z"
   },
   {
    "duration": 343,
    "start_time": "2023-03-12T09:21:24.834Z"
   },
   {
    "duration": 296,
    "start_time": "2023-03-12T09:21:25.180Z"
   },
   {
    "duration": 295,
    "start_time": "2023-03-12T09:21:25.478Z"
   },
   {
    "duration": 374,
    "start_time": "2023-03-12T09:22:30.820Z"
   },
   {
    "duration": 250,
    "start_time": "2023-03-12T09:25:13.510Z"
   },
   {
    "duration": 359,
    "start_time": "2023-03-12T09:25:13.762Z"
   },
   {
    "duration": 32,
    "start_time": "2023-03-12T09:25:14.123Z"
   },
   {
    "duration": 380,
    "start_time": "2023-03-12T09:25:14.157Z"
   },
   {
    "duration": 324,
    "start_time": "2023-03-12T09:25:14.540Z"
   },
   {
    "duration": 314,
    "start_time": "2023-03-12T09:25:14.866Z"
   },
   {
    "duration": 198,
    "start_time": "2023-03-12T09:31:19.613Z"
   },
   {
    "duration": 338,
    "start_time": "2023-03-12T09:31:19.813Z"
   },
   {
    "duration": 42,
    "start_time": "2023-03-12T09:31:20.153Z"
   },
   {
    "duration": 357,
    "start_time": "2023-03-12T09:31:20.197Z"
   },
   {
    "duration": 361,
    "start_time": "2023-03-12T09:31:20.555Z"
   },
   {
    "duration": 308,
    "start_time": "2023-03-12T09:31:20.918Z"
   },
   {
    "duration": 213,
    "start_time": "2023-03-12T09:32:31.423Z"
   },
   {
    "duration": 353,
    "start_time": "2023-03-12T09:32:31.638Z"
   },
   {
    "duration": 33,
    "start_time": "2023-03-12T09:32:31.999Z"
   },
   {
    "duration": 403,
    "start_time": "2023-03-12T09:32:32.034Z"
   },
   {
    "duration": 333,
    "start_time": "2023-03-12T09:32:32.439Z"
   },
   {
    "duration": 309,
    "start_time": "2023-03-12T09:32:32.773Z"
   },
   {
    "duration": 191,
    "start_time": "2023-03-12T09:45:17.757Z"
   },
   {
    "duration": 356,
    "start_time": "2023-03-12T09:45:17.950Z"
   },
   {
    "duration": 31,
    "start_time": "2023-03-12T09:45:18.308Z"
   },
   {
    "duration": 413,
    "start_time": "2023-03-12T09:45:18.341Z"
   },
   {
    "duration": 297,
    "start_time": "2023-03-12T09:45:18.756Z"
   },
   {
    "duration": 303,
    "start_time": "2023-03-12T09:45:19.054Z"
   },
   {
    "duration": 182,
    "start_time": "2023-03-12T09:46:37.911Z"
   },
   {
    "duration": 349,
    "start_time": "2023-03-12T09:46:38.095Z"
   },
   {
    "duration": 31,
    "start_time": "2023-03-12T09:46:38.446Z"
   },
   {
    "duration": 356,
    "start_time": "2023-03-12T09:46:38.478Z"
   },
   {
    "duration": 288,
    "start_time": "2023-03-12T09:46:38.835Z"
   },
   {
    "duration": 385,
    "start_time": "2023-03-12T09:46:39.125Z"
   },
   {
    "duration": 190,
    "start_time": "2023-03-12T09:48:15.541Z"
   },
   {
    "duration": 272,
    "start_time": "2023-03-12T09:48:15.733Z"
   },
   {
    "duration": 27,
    "start_time": "2023-03-12T09:48:16.007Z"
   },
   {
    "duration": 439,
    "start_time": "2023-03-12T09:48:16.037Z"
   },
   {
    "duration": 333,
    "start_time": "2023-03-12T09:48:16.479Z"
   },
   {
    "duration": 266,
    "start_time": "2023-03-12T09:48:16.814Z"
   },
   {
    "duration": 181,
    "start_time": "2023-03-12T09:50:24.105Z"
   },
   {
    "duration": 1585,
    "start_time": "2023-03-12T09:50:24.289Z"
   },
   {
    "duration": 0,
    "start_time": "2023-03-12T09:50:25.876Z"
   },
   {
    "duration": 0,
    "start_time": "2023-03-12T09:50:25.878Z"
   },
   {
    "duration": 0,
    "start_time": "2023-03-12T09:50:25.879Z"
   },
   {
    "duration": 0,
    "start_time": "2023-03-12T09:50:25.880Z"
   },
   {
    "duration": 191,
    "start_time": "2023-03-12T09:51:11.419Z"
   },
   {
    "duration": 288,
    "start_time": "2023-03-12T09:51:11.613Z"
   },
   {
    "duration": 30,
    "start_time": "2023-03-12T09:51:11.903Z"
   },
   {
    "duration": 405,
    "start_time": "2023-03-12T09:51:11.934Z"
   },
   {
    "duration": 289,
    "start_time": "2023-03-12T09:51:12.341Z"
   },
   {
    "duration": 295,
    "start_time": "2023-03-12T09:51:12.632Z"
   },
   {
    "duration": 173,
    "start_time": "2023-03-12T09:53:41.470Z"
   },
   {
    "duration": 324,
    "start_time": "2023-03-12T09:53:41.645Z"
   },
   {
    "duration": 33,
    "start_time": "2023-03-12T09:53:41.970Z"
   },
   {
    "duration": 315,
    "start_time": "2023-03-12T09:53:42.005Z"
   },
   {
    "duration": 281,
    "start_time": "2023-03-12T09:53:42.322Z"
   },
   {
    "duration": 339,
    "start_time": "2023-03-12T09:53:42.604Z"
   },
   {
    "duration": 177,
    "start_time": "2023-03-12T09:55:36.703Z"
   },
   {
    "duration": 322,
    "start_time": "2023-03-12T09:55:36.883Z"
   },
   {
    "duration": 27,
    "start_time": "2023-03-12T09:55:37.207Z"
   },
   {
    "duration": 326,
    "start_time": "2023-03-12T09:55:37.236Z"
   },
   {
    "duration": 277,
    "start_time": "2023-03-12T09:55:37.564Z"
   },
   {
    "duration": 280,
    "start_time": "2023-03-12T09:55:37.842Z"
   },
   {
    "duration": 185,
    "start_time": "2023-03-12T10:07:22.276Z"
   },
   {
    "duration": 328,
    "start_time": "2023-03-12T10:07:22.463Z"
   },
   {
    "duration": 29,
    "start_time": "2023-03-12T10:07:22.792Z"
   },
   {
    "duration": 342,
    "start_time": "2023-03-12T10:07:22.823Z"
   },
   {
    "duration": 346,
    "start_time": "2023-03-12T10:07:23.167Z"
   },
   {
    "duration": 298,
    "start_time": "2023-03-12T10:07:23.515Z"
   },
   {
    "duration": 196,
    "start_time": "2023-03-12T10:08:58.772Z"
   },
   {
    "duration": 374,
    "start_time": "2023-03-12T10:08:58.970Z"
   },
   {
    "duration": 29,
    "start_time": "2023-03-12T10:08:59.345Z"
   },
   {
    "duration": 357,
    "start_time": "2023-03-12T10:08:59.392Z"
   },
   {
    "duration": 297,
    "start_time": "2023-03-12T10:08:59.750Z"
   },
   {
    "duration": 305,
    "start_time": "2023-03-12T10:09:00.049Z"
   },
   {
    "duration": 258,
    "start_time": "2023-03-12T10:09:47.426Z"
   },
   {
    "duration": 338,
    "start_time": "2023-03-12T10:09:47.690Z"
   },
   {
    "duration": 32,
    "start_time": "2023-03-12T10:09:48.029Z"
   },
   {
    "duration": 394,
    "start_time": "2023-03-12T10:09:48.064Z"
   },
   {
    "duration": 307,
    "start_time": "2023-03-12T10:09:48.459Z"
   },
   {
    "duration": 355,
    "start_time": "2023-03-12T10:09:48.768Z"
   },
   {
    "duration": 179,
    "start_time": "2023-03-12T10:10:40.453Z"
   },
   {
    "duration": 314,
    "start_time": "2023-03-12T10:10:40.634Z"
   },
   {
    "duration": 40,
    "start_time": "2023-03-12T10:10:40.950Z"
   },
   {
    "duration": 331,
    "start_time": "2023-03-12T10:10:40.992Z"
   },
   {
    "duration": 334,
    "start_time": "2023-03-12T10:10:41.325Z"
   },
   {
    "duration": 288,
    "start_time": "2023-03-12T10:10:41.660Z"
   },
   {
    "duration": 187,
    "start_time": "2023-03-12T10:17:23.652Z"
   },
   {
    "duration": 376,
    "start_time": "2023-03-12T10:17:23.842Z"
   },
   {
    "duration": 28,
    "start_time": "2023-03-12T10:17:24.220Z"
   },
   {
    "duration": 358,
    "start_time": "2023-03-12T10:17:24.251Z"
   },
   {
    "duration": 269,
    "start_time": "2023-03-12T10:17:24.611Z"
   },
   {
    "duration": 277,
    "start_time": "2023-03-12T10:17:24.882Z"
   },
   {
    "duration": 184,
    "start_time": "2023-03-12T10:20:00.090Z"
   },
   {
    "duration": 342,
    "start_time": "2023-03-12T10:20:00.276Z"
   },
   {
    "duration": 31,
    "start_time": "2023-03-12T10:20:00.619Z"
   },
   {
    "duration": 440,
    "start_time": "2023-03-12T10:20:00.652Z"
   },
   {
    "duration": 281,
    "start_time": "2023-03-12T10:20:01.094Z"
   },
   {
    "duration": 288,
    "start_time": "2023-03-12T10:20:01.377Z"
   },
   {
    "duration": 190,
    "start_time": "2023-03-12T10:23:27.423Z"
   },
   {
    "duration": 326,
    "start_time": "2023-03-12T10:23:27.615Z"
   },
   {
    "duration": 30,
    "start_time": "2023-03-12T10:23:27.944Z"
   },
   {
    "duration": 343,
    "start_time": "2023-03-12T10:23:27.976Z"
   },
   {
    "duration": 293,
    "start_time": "2023-03-12T10:23:28.321Z"
   },
   {
    "duration": 385,
    "start_time": "2023-03-12T10:23:28.615Z"
   },
   {
    "duration": 295,
    "start_time": "2023-03-12T10:23:29.002Z"
   },
   {
    "duration": 196,
    "start_time": "2023-03-12T10:28:44.541Z"
   },
   {
    "duration": 376,
    "start_time": "2023-03-12T10:28:44.740Z"
   },
   {
    "duration": 32,
    "start_time": "2023-03-12T10:28:45.118Z"
   },
   {
    "duration": 358,
    "start_time": "2023-03-12T10:28:45.153Z"
   },
   {
    "duration": 296,
    "start_time": "2023-03-12T10:28:45.513Z"
   },
   {
    "duration": 294,
    "start_time": "2023-03-12T10:28:45.811Z"
   },
   {
    "duration": 371,
    "start_time": "2023-03-12T10:28:46.107Z"
   },
   {
    "duration": 420,
    "start_time": "2023-03-12T10:29:04.329Z"
   },
   {
    "duration": 343,
    "start_time": "2023-03-12T10:33:34.476Z"
   },
   {
    "duration": 205,
    "start_time": "2023-03-12T10:33:55.107Z"
   },
   {
    "duration": 344,
    "start_time": "2023-03-12T10:33:55.314Z"
   },
   {
    "duration": 46,
    "start_time": "2023-03-12T10:33:55.660Z"
   },
   {
    "duration": 348,
    "start_time": "2023-03-12T10:33:55.708Z"
   },
   {
    "duration": 373,
    "start_time": "2023-03-12T10:33:56.058Z"
   },
   {
    "duration": 410,
    "start_time": "2023-03-12T10:33:56.433Z"
   },
   {
    "duration": 304,
    "start_time": "2023-03-12T10:33:56.844Z"
   },
   {
    "duration": 217,
    "start_time": "2023-03-12T10:34:56.256Z"
   },
   {
    "duration": 419,
    "start_time": "2023-03-12T10:34:56.476Z"
   },
   {
    "duration": 33,
    "start_time": "2023-03-12T10:34:56.897Z"
   },
   {
    "duration": 478,
    "start_time": "2023-03-12T10:34:56.933Z"
   },
   {
    "duration": 327,
    "start_time": "2023-03-12T10:34:57.413Z"
   },
   {
    "duration": 353,
    "start_time": "2023-03-12T10:34:57.742Z"
   },
   {
    "duration": 429,
    "start_time": "2023-03-12T10:34:58.099Z"
   },
   {
    "duration": 291,
    "start_time": "2023-03-12T10:38:16.433Z"
   },
   {
    "duration": 218,
    "start_time": "2023-03-12T10:57:56.335Z"
   },
   {
    "duration": 371,
    "start_time": "2023-03-12T10:57:56.556Z"
   },
   {
    "duration": 29,
    "start_time": "2023-03-12T10:57:56.929Z"
   },
   {
    "duration": 366,
    "start_time": "2023-03-12T10:57:56.961Z"
   },
   {
    "duration": 313,
    "start_time": "2023-03-12T10:57:57.329Z"
   },
   {
    "duration": 316,
    "start_time": "2023-03-12T10:57:57.644Z"
   },
   {
    "duration": 377,
    "start_time": "2023-03-12T10:57:57.962Z"
   },
   {
    "duration": 176,
    "start_time": "2023-03-12T10:58:42.450Z"
   },
   {
    "duration": 311,
    "start_time": "2023-03-12T10:58:42.629Z"
   },
   {
    "duration": 28,
    "start_time": "2023-03-12T10:58:42.942Z"
   },
   {
    "duration": 336,
    "start_time": "2023-03-12T10:58:42.971Z"
   },
   {
    "duration": 252,
    "start_time": "2023-03-12T10:58:43.308Z"
   },
   {
    "duration": 276,
    "start_time": "2023-03-12T10:58:43.562Z"
   },
   {
    "duration": 273,
    "start_time": "2023-03-12T10:58:43.840Z"
   },
   {
    "duration": 15,
    "start_time": "2023-03-12T10:59:17.542Z"
   },
   {
    "duration": 336,
    "start_time": "2023-03-12T10:59:38.420Z"
   },
   {
    "duration": 253,
    "start_time": "2023-03-12T11:01:17.197Z"
   },
   {
    "duration": 181,
    "start_time": "2023-03-12T11:01:39.722Z"
   },
   {
    "duration": 327,
    "start_time": "2023-03-12T11:01:39.905Z"
   },
   {
    "duration": 30,
    "start_time": "2023-03-12T11:01:40.234Z"
   },
   {
    "duration": 364,
    "start_time": "2023-03-12T11:01:40.267Z"
   },
   {
    "duration": 278,
    "start_time": "2023-03-12T11:01:40.633Z"
   },
   {
    "duration": 294,
    "start_time": "2023-03-12T11:01:40.913Z"
   },
   {
    "duration": 346,
    "start_time": "2023-03-12T11:01:41.209Z"
   },
   {
    "duration": 255,
    "start_time": "2023-03-12T11:03:23.611Z"
   },
   {
    "duration": 295,
    "start_time": "2023-03-12T11:03:35.000Z"
   },
   {
    "duration": 197,
    "start_time": "2023-03-12T11:05:05.464Z"
   },
   {
    "duration": 335,
    "start_time": "2023-03-12T11:05:05.664Z"
   },
   {
    "duration": 33,
    "start_time": "2023-03-12T11:05:06.001Z"
   },
   {
    "duration": 412,
    "start_time": "2023-03-12T11:05:06.036Z"
   },
   {
    "duration": 288,
    "start_time": "2023-03-12T11:05:06.450Z"
   },
   {
    "duration": 368,
    "start_time": "2023-03-12T11:05:06.740Z"
   },
   {
    "duration": 322,
    "start_time": "2023-03-12T11:05:07.109Z"
   },
   {
    "duration": 245,
    "start_time": "2023-03-12T11:10:18.954Z"
   },
   {
    "duration": 261,
    "start_time": "2023-03-12T11:10:27.901Z"
   },
   {
    "duration": 256,
    "start_time": "2023-03-12T11:10:42.982Z"
   },
   {
    "duration": 358,
    "start_time": "2023-03-12T11:11:05.866Z"
   },
   {
    "duration": 273,
    "start_time": "2023-03-12T11:11:52.787Z"
   },
   {
    "duration": 273,
    "start_time": "2023-03-12T11:12:24.678Z"
   },
   {
    "duration": 282,
    "start_time": "2023-03-12T11:12:34.426Z"
   },
   {
    "duration": 186,
    "start_time": "2023-03-12T11:14:07.408Z"
   },
   {
    "duration": 337,
    "start_time": "2023-03-12T11:14:07.596Z"
   },
   {
    "duration": 31,
    "start_time": "2023-03-12T11:14:07.934Z"
   },
   {
    "duration": 363,
    "start_time": "2023-03-12T11:14:07.967Z"
   },
   {
    "duration": 352,
    "start_time": "2023-03-12T11:14:08.332Z"
   },
   {
    "duration": 276,
    "start_time": "2023-03-12T11:14:08.685Z"
   },
   {
    "duration": 276,
    "start_time": "2023-03-12T11:14:08.963Z"
   },
   {
    "duration": 132,
    "start_time": "2023-03-12T11:15:10.582Z"
   },
   {
    "duration": 276,
    "start_time": "2023-03-12T11:15:46.831Z"
   },
   {
    "duration": 249,
    "start_time": "2023-03-12T11:16:02.152Z"
   },
   {
    "duration": 349,
    "start_time": "2023-03-12T11:16:08.108Z"
   },
   {
    "duration": 289,
    "start_time": "2023-03-12T11:16:40.836Z"
   },
   {
    "duration": 173,
    "start_time": "2023-03-12T11:16:42.595Z"
   },
   {
    "duration": 303,
    "start_time": "2023-03-12T11:16:42.770Z"
   },
   {
    "duration": 43,
    "start_time": "2023-03-12T11:16:43.075Z"
   },
   {
    "duration": 332,
    "start_time": "2023-03-12T11:16:43.120Z"
   },
   {
    "duration": 255,
    "start_time": "2023-03-12T11:16:43.454Z"
   },
   {
    "duration": 287,
    "start_time": "2023-03-12T11:16:43.711Z"
   },
   {
    "duration": 347,
    "start_time": "2023-03-12T11:16:44.000Z"
   },
   {
    "duration": 181,
    "start_time": "2023-03-12T11:17:06.031Z"
   },
   {
    "duration": 386,
    "start_time": "2023-03-12T11:17:06.214Z"
   },
   {
    "duration": 28,
    "start_time": "2023-03-12T11:17:06.602Z"
   },
   {
    "duration": 327,
    "start_time": "2023-03-12T11:17:06.632Z"
   },
   {
    "duration": 267,
    "start_time": "2023-03-12T11:17:06.961Z"
   },
   {
    "duration": 280,
    "start_time": "2023-03-12T11:17:07.229Z"
   },
   {
    "duration": 279,
    "start_time": "2023-03-12T11:17:07.511Z"
   },
   {
    "duration": 328,
    "start_time": "2023-03-12T11:18:33.333Z"
   },
   {
    "duration": 173,
    "start_time": "2023-03-12T11:18:56.844Z"
   },
   {
    "duration": 319,
    "start_time": "2023-03-12T11:18:57.020Z"
   },
   {
    "duration": 28,
    "start_time": "2023-03-12T11:18:57.340Z"
   },
   {
    "duration": 328,
    "start_time": "2023-03-12T11:18:57.370Z"
   },
   {
    "duration": 259,
    "start_time": "2023-03-12T11:18:57.699Z"
   },
   {
    "duration": 298,
    "start_time": "2023-03-12T11:18:57.960Z"
   },
   {
    "duration": 290,
    "start_time": "2023-03-12T11:18:58.260Z"
   },
   {
    "duration": 351,
    "start_time": "2023-03-12T11:20:16.699Z"
   },
   {
    "duration": 177,
    "start_time": "2023-03-12T11:25:23.936Z"
   },
   {
    "duration": 307,
    "start_time": "2023-03-12T11:25:24.115Z"
   },
   {
    "duration": 31,
    "start_time": "2023-03-12T11:25:24.424Z"
   },
   {
    "duration": 345,
    "start_time": "2023-03-12T11:25:24.457Z"
   },
   {
    "duration": 263,
    "start_time": "2023-03-12T11:25:24.804Z"
   },
   {
    "duration": 279,
    "start_time": "2023-03-12T11:25:25.069Z"
   },
   {
    "duration": 280,
    "start_time": "2023-03-12T11:25:25.350Z"
   },
   {
    "duration": 354,
    "start_time": "2023-03-12T11:25:25.631Z"
   },
   {
    "duration": 288,
    "start_time": "2023-03-12T11:25:39.292Z"
   },
   {
    "duration": 280,
    "start_time": "2023-03-12T11:26:00.592Z"
   },
   {
    "duration": 283,
    "start_time": "2023-03-12T11:26:32.992Z"
   },
   {
    "duration": 249,
    "start_time": "2023-03-12T11:27:51.423Z"
   },
   {
    "duration": 316,
    "start_time": "2023-03-12T11:33:17.600Z"
   },
   {
    "duration": 349,
    "start_time": "2023-03-12T11:33:41.064Z"
   },
   {
    "duration": 264,
    "start_time": "2023-03-12T11:33:49.980Z"
   },
   {
    "duration": 276,
    "start_time": "2023-03-12T11:34:00.434Z"
   },
   {
    "duration": 276,
    "start_time": "2023-03-12T11:34:21.914Z"
   },
   {
    "duration": 261,
    "start_time": "2023-03-12T11:34:28.603Z"
   },
   {
    "duration": 316,
    "start_time": "2023-03-12T11:34:39.074Z"
   },
   {
    "duration": 287,
    "start_time": "2023-03-12T11:35:20.363Z"
   },
   {
    "duration": 257,
    "start_time": "2023-03-12T11:35:57.815Z"
   },
   {
    "duration": 262,
    "start_time": "2023-03-12T11:36:11.150Z"
   },
   {
    "duration": 265,
    "start_time": "2023-03-12T11:36:23.173Z"
   },
   {
    "duration": 270,
    "start_time": "2023-03-12T11:36:59.190Z"
   },
   {
    "duration": 240,
    "start_time": "2023-03-12T11:37:25.617Z"
   },
   {
    "duration": 309,
    "start_time": "2023-03-12T11:37:25.859Z"
   },
   {
    "duration": 37,
    "start_time": "2023-03-12T11:37:26.170Z"
   },
   {
    "duration": 391,
    "start_time": "2023-03-12T11:37:26.209Z"
   },
   {
    "duration": 247,
    "start_time": "2023-03-12T11:37:26.602Z"
   },
   {
    "duration": 283,
    "start_time": "2023-03-12T11:37:26.850Z"
   },
   {
    "duration": 289,
    "start_time": "2023-03-12T11:37:27.135Z"
   },
   {
    "duration": 271,
    "start_time": "2023-03-12T11:37:27.425Z"
   },
   {
    "duration": 345,
    "start_time": "2023-03-12T11:37:27.698Z"
   },
   {
    "duration": 287,
    "start_time": "2023-03-12T11:37:41.777Z"
   },
   {
    "duration": 253,
    "start_time": "2023-03-12T11:37:49.031Z"
   },
   {
    "duration": 258,
    "start_time": "2023-03-12T11:37:58.051Z"
   },
   {
    "duration": 245,
    "start_time": "2023-03-12T11:41:37.080Z"
   },
   {
    "duration": 331,
    "start_time": "2023-03-12T11:41:51.589Z"
   },
   {
    "duration": 259,
    "start_time": "2023-03-12T11:42:17.341Z"
   },
   {
    "duration": 263,
    "start_time": "2023-03-12T11:42:40.847Z"
   },
   {
    "duration": 244,
    "start_time": "2023-03-12T11:43:07.682Z"
   },
   {
    "duration": 262,
    "start_time": "2023-03-12T11:43:53.393Z"
   },
   {
    "duration": 248,
    "start_time": "2023-03-12T11:44:21.553Z"
   },
   {
    "duration": 194,
    "start_time": "2023-03-12T11:49:40.600Z"
   },
   {
    "duration": 334,
    "start_time": "2023-03-12T11:53:07.022Z"
   },
   {
    "duration": 13,
    "start_time": "2023-03-12T11:53:26.959Z"
   },
   {
    "duration": 122,
    "start_time": "2023-03-12T11:57:09.504Z"
   },
   {
    "duration": 187,
    "start_time": "2023-03-12T11:59:22.101Z"
   },
   {
    "duration": 340,
    "start_time": "2023-03-12T11:59:22.291Z"
   },
   {
    "duration": 31,
    "start_time": "2023-03-12T11:59:22.633Z"
   },
   {
    "duration": 343,
    "start_time": "2023-03-12T11:59:22.666Z"
   },
   {
    "duration": 263,
    "start_time": "2023-03-12T11:59:23.011Z"
   },
   {
    "duration": 302,
    "start_time": "2023-03-12T11:59:23.275Z"
   },
   {
    "duration": 290,
    "start_time": "2023-03-12T11:59:23.579Z"
   },
   {
    "duration": 325,
    "start_time": "2023-03-12T11:59:23.870Z"
   },
   {
    "duration": 276,
    "start_time": "2023-03-12T11:59:24.197Z"
   },
   {
    "duration": 283,
    "start_time": "2023-03-12T11:59:24.476Z"
   },
   {
    "duration": 14,
    "start_time": "2023-03-12T11:59:24.760Z"
   },
   {
    "duration": 17,
    "start_time": "2023-03-12T12:00:29.516Z"
   },
   {
    "duration": 184,
    "start_time": "2023-03-12T12:01:04.228Z"
   },
   {
    "duration": 345,
    "start_time": "2023-03-12T12:01:04.414Z"
   },
   {
    "duration": 35,
    "start_time": "2023-03-12T12:01:04.760Z"
   },
   {
    "duration": 352,
    "start_time": "2023-03-12T12:01:04.797Z"
   },
   {
    "duration": 270,
    "start_time": "2023-03-12T12:01:05.151Z"
   },
   {
    "duration": 373,
    "start_time": "2023-03-12T12:01:05.422Z"
   },
   {
    "duration": 293,
    "start_time": "2023-03-12T12:01:05.797Z"
   },
   {
    "duration": 286,
    "start_time": "2023-03-12T12:01:06.092Z"
   },
   {
    "duration": 313,
    "start_time": "2023-03-12T12:01:06.391Z"
   },
   {
    "duration": 274,
    "start_time": "2023-03-12T12:01:06.707Z"
   },
   {
    "duration": 16,
    "start_time": "2023-03-12T12:01:06.989Z"
   },
   {
    "duration": 18,
    "start_time": "2023-03-12T12:02:42.417Z"
   },
   {
    "duration": 189,
    "start_time": "2023-03-12T12:03:42.537Z"
   },
   {
    "duration": 329,
    "start_time": "2023-03-12T12:03:42.728Z"
   },
   {
    "duration": 46,
    "start_time": "2023-03-12T12:03:43.059Z"
   },
   {
    "duration": 398,
    "start_time": "2023-03-12T12:03:43.107Z"
   },
   {
    "duration": 264,
    "start_time": "2023-03-12T12:03:43.507Z"
   },
   {
    "duration": 302,
    "start_time": "2023-03-12T12:03:43.772Z"
   },
   {
    "duration": 288,
    "start_time": "2023-03-12T12:03:44.076Z"
   },
   {
    "duration": 288,
    "start_time": "2023-03-12T12:03:44.365Z"
   },
   {
    "duration": 371,
    "start_time": "2023-03-12T12:03:44.655Z"
   },
   {
    "duration": 278,
    "start_time": "2023-03-12T12:03:45.028Z"
   },
   {
    "duration": 15,
    "start_time": "2023-03-12T12:03:45.308Z"
   },
   {
    "duration": 13,
    "start_time": "2023-03-12T12:05:36.924Z"
   },
   {
    "duration": 114,
    "start_time": "2023-03-12T12:07:15.842Z"
   },
   {
    "duration": 143,
    "start_time": "2023-03-12T12:07:28.410Z"
   },
   {
    "duration": 308,
    "start_time": "2023-03-12T13:10:44.478Z"
   },
   {
    "duration": 66,
    "start_time": "2023-03-12T13:11:11.917Z"
   },
   {
    "duration": 9,
    "start_time": "2023-03-12T13:11:20.400Z"
   },
   {
    "duration": 13,
    "start_time": "2023-03-12T13:11:37.486Z"
   },
   {
    "duration": 14,
    "start_time": "2023-03-12T13:11:53.038Z"
   },
   {
    "duration": 340,
    "start_time": "2023-03-12T13:13:14.332Z"
   },
   {
    "duration": 340,
    "start_time": "2023-03-12T13:13:38.030Z"
   },
   {
    "duration": 128,
    "start_time": "2023-03-12T13:14:11.619Z"
   },
   {
    "duration": 11,
    "start_time": "2023-03-12T13:14:47.001Z"
   },
   {
    "duration": 144,
    "start_time": "2023-03-12T13:15:26.453Z"
   },
   {
    "duration": 134,
    "start_time": "2023-03-12T13:16:36.118Z"
   },
   {
    "duration": 125,
    "start_time": "2023-03-12T13:16:49.302Z"
   },
   {
    "duration": 179,
    "start_time": "2023-03-12T13:18:52.186Z"
   },
   {
    "duration": 323,
    "start_time": "2023-03-12T13:18:52.367Z"
   },
   {
    "duration": 29,
    "start_time": "2023-03-12T13:18:52.692Z"
   },
   {
    "duration": 401,
    "start_time": "2023-03-12T13:18:52.723Z"
   },
   {
    "duration": 267,
    "start_time": "2023-03-12T13:18:53.126Z"
   },
   {
    "duration": 270,
    "start_time": "2023-03-12T13:18:53.395Z"
   },
   {
    "duration": 300,
    "start_time": "2023-03-12T13:18:53.666Z"
   },
   {
    "duration": 274,
    "start_time": "2023-03-12T13:18:53.968Z"
   },
   {
    "duration": 301,
    "start_time": "2023-03-12T13:18:54.244Z"
   },
   {
    "duration": 366,
    "start_time": "2023-03-12T13:18:54.549Z"
   },
   {
    "duration": 144,
    "start_time": "2023-03-12T13:18:54.917Z"
   },
   {
    "duration": 275,
    "start_time": "2023-03-12T13:19:45.665Z"
   },
   {
    "duration": 125,
    "start_time": "2023-03-12T13:28:08.748Z"
   },
   {
    "duration": 129,
    "start_time": "2023-03-12T13:28:29.813Z"
   },
   {
    "duration": 143,
    "start_time": "2023-03-12T13:28:57.138Z"
   },
   {
    "duration": 136,
    "start_time": "2023-03-12T13:29:49.754Z"
   },
   {
    "duration": 135,
    "start_time": "2023-03-12T13:30:09.528Z"
   },
   {
    "duration": 140,
    "start_time": "2023-03-12T13:30:19.367Z"
   },
   {
    "duration": 235,
    "start_time": "2023-03-12T13:30:26.281Z"
   },
   {
    "duration": 258,
    "start_time": "2023-03-12T13:36:00.880Z"
   },
   {
    "duration": 257,
    "start_time": "2023-03-12T13:36:25.966Z"
   },
   {
    "duration": 253,
    "start_time": "2023-03-12T13:36:59.312Z"
   },
   {
    "duration": 135,
    "start_time": "2023-03-12T13:37:16.737Z"
   },
   {
    "duration": 1107,
    "start_time": "2023-03-12T13:41:41.085Z"
   },
   {
    "duration": 175,
    "start_time": "2023-03-12T13:42:30.185Z"
   },
   {
    "duration": 136,
    "start_time": "2023-03-12T13:42:47.156Z"
   },
   {
    "duration": 154,
    "start_time": "2023-03-12T13:44:32.983Z"
   },
   {
    "duration": 332,
    "start_time": "2023-03-12T13:45:20.637Z"
   },
   {
    "duration": 269,
    "start_time": "2023-03-12T13:45:30.649Z"
   },
   {
    "duration": 258,
    "start_time": "2023-03-12T15:03:53.315Z"
   },
   {
    "duration": 257,
    "start_time": "2023-03-12T15:04:26.634Z"
   },
   {
    "duration": 158,
    "start_time": "2023-03-12T15:04:49.582Z"
   },
   {
    "duration": 146,
    "start_time": "2023-03-12T15:05:00.332Z"
   },
   {
    "duration": 133,
    "start_time": "2023-03-12T15:05:09.043Z"
   },
   {
    "duration": 228,
    "start_time": "2023-03-12T15:24:36.808Z"
   },
   {
    "duration": 162,
    "start_time": "2023-03-12T15:25:17.720Z"
   },
   {
    "duration": 296,
    "start_time": "2023-03-12T15:26:58.683Z"
   },
   {
    "duration": 175,
    "start_time": "2023-03-12T15:47:37.742Z"
   },
   {
    "duration": 323,
    "start_time": "2023-03-12T15:47:37.919Z"
   },
   {
    "duration": 30,
    "start_time": "2023-03-12T15:47:38.244Z"
   },
   {
    "duration": 328,
    "start_time": "2023-03-12T15:47:38.276Z"
   },
   {
    "duration": 251,
    "start_time": "2023-03-12T15:47:38.606Z"
   },
   {
    "duration": 293,
    "start_time": "2023-03-12T15:47:38.859Z"
   },
   {
    "duration": 349,
    "start_time": "2023-03-12T15:47:39.154Z"
   },
   {
    "duration": 270,
    "start_time": "2023-03-12T15:47:39.505Z"
   },
   {
    "duration": 288,
    "start_time": "2023-03-12T15:47:39.777Z"
   },
   {
    "duration": 254,
    "start_time": "2023-03-12T15:47:40.068Z"
   },
   {
    "duration": 129,
    "start_time": "2023-03-12T15:47:40.323Z"
   },
   {
    "duration": 149,
    "start_time": "2023-03-12T15:47:40.454Z"
   },
   {
    "duration": 137,
    "start_time": "2023-03-12T15:47:40.605Z"
   },
   {
    "duration": 327,
    "start_time": "2023-03-12T15:47:40.744Z"
   },
   {
    "duration": 127,
    "start_time": "2023-03-12T15:47:41.073Z"
   },
   {
    "duration": 326,
    "start_time": "2023-03-12T15:47:41.202Z"
   },
   {
    "duration": 86,
    "start_time": "2023-03-12T16:04:23.283Z"
   },
   {
    "duration": 91,
    "start_time": "2023-03-12T16:13:05.782Z"
   },
   {
    "duration": 91,
    "start_time": "2023-03-12T16:17:08.648Z"
   },
   {
    "duration": 158,
    "start_time": "2023-03-12T16:30:48.201Z"
   },
   {
    "duration": 242,
    "start_time": "2023-03-12T16:44:55.943Z"
   },
   {
    "duration": 341,
    "start_time": "2023-03-12T16:45:27.755Z"
   },
   {
    "duration": 240,
    "start_time": "2023-03-12T16:46:31.111Z"
   },
   {
    "duration": 263,
    "start_time": "2023-03-12T16:47:28.284Z"
   },
   {
    "duration": 178,
    "start_time": "2023-03-12T16:49:33.702Z"
   },
   {
    "duration": 232,
    "start_time": "2023-03-12T16:49:33.883Z"
   },
   {
    "duration": 0,
    "start_time": "2023-03-12T16:49:34.118Z"
   },
   {
    "duration": 0,
    "start_time": "2023-03-12T16:49:34.119Z"
   },
   {
    "duration": 0,
    "start_time": "2023-03-12T16:49:34.120Z"
   },
   {
    "duration": 0,
    "start_time": "2023-03-12T16:49:34.121Z"
   },
   {
    "duration": 1,
    "start_time": "2023-03-12T16:49:34.122Z"
   },
   {
    "duration": 0,
    "start_time": "2023-03-12T16:49:34.124Z"
   },
   {
    "duration": 0,
    "start_time": "2023-03-12T16:49:34.126Z"
   },
   {
    "duration": 0,
    "start_time": "2023-03-12T16:49:34.127Z"
   },
   {
    "duration": 1,
    "start_time": "2023-03-12T16:49:34.128Z"
   },
   {
    "duration": 0,
    "start_time": "2023-03-12T16:49:34.132Z"
   },
   {
    "duration": 0,
    "start_time": "2023-03-12T16:49:34.133Z"
   },
   {
    "duration": 0,
    "start_time": "2023-03-12T16:49:34.134Z"
   },
   {
    "duration": 0,
    "start_time": "2023-03-12T16:49:34.135Z"
   },
   {
    "duration": 0,
    "start_time": "2023-03-12T16:49:34.136Z"
   },
   {
    "duration": 226,
    "start_time": "2023-03-12T16:51:51.552Z"
   },
   {
    "duration": 336,
    "start_time": "2023-03-12T16:52:46.224Z"
   },
   {
    "duration": 96,
    "start_time": "2023-03-12T16:54:06.993Z"
   },
   {
    "duration": 250,
    "start_time": "2023-03-12T16:54:56.427Z"
   },
   {
    "duration": 268,
    "start_time": "2023-03-12T16:55:56.344Z"
   },
   {
    "duration": 242,
    "start_time": "2023-03-12T16:56:46.888Z"
   },
   {
    "duration": 303,
    "start_time": "2023-03-12T16:57:17.787Z"
   },
   {
    "duration": 358,
    "start_time": "2023-03-12T16:58:13.587Z"
   },
   {
    "duration": 287,
    "start_time": "2023-03-12T16:59:54.909Z"
   },
   {
    "duration": 1420,
    "start_time": "2023-03-12T17:00:59.449Z"
   },
   {
    "duration": 1391,
    "start_time": "2023-03-12T17:03:28.846Z"
   },
   {
    "duration": 586,
    "start_time": "2023-03-12T17:03:46.485Z"
   },
   {
    "duration": 431,
    "start_time": "2023-03-12T17:08:08.641Z"
   },
   {
    "duration": 181,
    "start_time": "2023-03-12T17:09:28.090Z"
   },
   {
    "duration": 328,
    "start_time": "2023-03-12T17:09:28.273Z"
   },
   {
    "duration": 34,
    "start_time": "2023-03-12T17:09:28.602Z"
   },
   {
    "duration": 357,
    "start_time": "2023-03-12T17:09:28.639Z"
   },
   {
    "duration": 326,
    "start_time": "2023-03-12T17:09:28.998Z"
   },
   {
    "duration": 317,
    "start_time": "2023-03-12T17:09:29.326Z"
   },
   {
    "duration": 291,
    "start_time": "2023-03-12T17:09:29.645Z"
   },
   {
    "duration": 273,
    "start_time": "2023-03-12T17:09:29.938Z"
   },
   {
    "duration": 270,
    "start_time": "2023-03-12T17:09:30.213Z"
   },
   {
    "duration": 331,
    "start_time": "2023-03-12T17:09:30.491Z"
   },
   {
    "duration": 145,
    "start_time": "2023-03-12T17:09:30.824Z"
   },
   {
    "duration": 140,
    "start_time": "2023-03-12T17:09:30.971Z"
   },
   {
    "duration": 150,
    "start_time": "2023-03-12T17:09:31.113Z"
   },
   {
    "duration": 278,
    "start_time": "2023-03-12T17:09:31.265Z"
   },
   {
    "duration": 139,
    "start_time": "2023-03-12T17:09:31.545Z"
   },
   {
    "duration": 327,
    "start_time": "2023-03-12T17:09:31.690Z"
   },
   {
    "duration": 395,
    "start_time": "2023-03-12T17:58:32.903Z"
   },
   {
    "duration": 339,
    "start_time": "2023-03-12T17:58:38.221Z"
   },
   {
    "duration": 180,
    "start_time": "2023-03-12T17:58:55.336Z"
   },
   {
    "duration": 313,
    "start_time": "2023-03-12T17:58:55.518Z"
   },
   {
    "duration": 36,
    "start_time": "2023-03-12T17:58:55.833Z"
   },
   {
    "duration": 393,
    "start_time": "2023-03-12T17:58:55.872Z"
   },
   {
    "duration": 333,
    "start_time": "2023-03-12T17:58:56.267Z"
   },
   {
    "duration": 301,
    "start_time": "2023-03-12T17:58:56.602Z"
   },
   {
    "duration": 303,
    "start_time": "2023-03-12T17:58:56.905Z"
   },
   {
    "duration": 367,
    "start_time": "2023-03-12T17:58:57.210Z"
   },
   {
    "duration": 364,
    "start_time": "2023-03-12T17:58:57.579Z"
   },
   {
    "duration": 274,
    "start_time": "2023-03-12T17:58:57.947Z"
   },
   {
    "duration": 169,
    "start_time": "2023-03-12T17:58:58.223Z"
   },
   {
    "duration": 167,
    "start_time": "2023-03-12T17:58:58.394Z"
   },
   {
    "duration": 168,
    "start_time": "2023-03-12T17:58:58.562Z"
   },
   {
    "duration": 268,
    "start_time": "2023-03-12T17:58:58.732Z"
   },
   {
    "duration": 207,
    "start_time": "2023-03-12T17:58:59.002Z"
   },
   {
    "duration": 351,
    "start_time": "2023-03-12T17:58:59.210Z"
   },
   {
    "duration": 40,
    "start_time": "2023-03-12T18:01:38.841Z"
   },
   {
    "duration": 145,
    "start_time": "2023-03-12T18:31:43.978Z"
   },
   {
    "duration": 143,
    "start_time": "2023-03-12T18:32:03.387Z"
   },
   {
    "duration": 325,
    "start_time": "2023-03-12T18:34:18.779Z"
   },
   {
    "duration": 2369,
    "start_time": "2023-03-12T18:37:22.843Z"
   },
   {
    "duration": 325,
    "start_time": "2023-03-12T18:38:08.424Z"
   },
   {
    "duration": 317,
    "start_time": "2023-03-12T18:38:19.397Z"
   },
   {
    "duration": 310,
    "start_time": "2023-03-12T18:38:19.716Z"
   },
   {
    "duration": 42,
    "start_time": "2023-03-12T18:38:20.027Z"
   },
   {
    "duration": 335,
    "start_time": "2023-03-12T18:38:20.071Z"
   },
   {
    "duration": 274,
    "start_time": "2023-03-12T18:38:20.408Z"
   },
   {
    "duration": 309,
    "start_time": "2023-03-12T18:38:20.683Z"
   },
   {
    "duration": 299,
    "start_time": "2023-03-12T18:38:20.994Z"
   },
   {
    "duration": 286,
    "start_time": "2023-03-12T18:38:21.294Z"
   },
   {
    "duration": 359,
    "start_time": "2023-03-12T18:38:21.590Z"
   },
   {
    "duration": 256,
    "start_time": "2023-03-12T18:38:21.952Z"
   },
   {
    "duration": 145,
    "start_time": "2023-03-12T18:38:22.210Z"
   },
   {
    "duration": 166,
    "start_time": "2023-03-12T18:38:22.358Z"
   },
   {
    "duration": 154,
    "start_time": "2023-03-12T18:38:22.526Z"
   },
   {
    "duration": 282,
    "start_time": "2023-03-12T18:38:22.681Z"
   },
   {
    "duration": 140,
    "start_time": "2023-03-12T18:38:22.965Z"
   },
   {
    "duration": 467,
    "start_time": "2023-03-12T18:38:23.107Z"
   },
   {
    "duration": 408,
    "start_time": "2023-03-12T18:38:57.369Z"
   },
   {
    "duration": 355,
    "start_time": "2023-03-12T18:40:18.555Z"
   },
   {
    "duration": 198,
    "start_time": "2023-03-12T18:43:43.977Z"
   },
   {
    "duration": 350,
    "start_time": "2023-03-12T18:43:44.190Z"
   },
   {
    "duration": 63,
    "start_time": "2023-03-12T18:43:44.542Z"
   },
   {
    "duration": 358,
    "start_time": "2023-03-12T18:43:44.607Z"
   },
   {
    "duration": 278,
    "start_time": "2023-03-12T18:43:44.967Z"
   },
   {
    "duration": 388,
    "start_time": "2023-03-12T18:43:45.247Z"
   },
   {
    "duration": 317,
    "start_time": "2023-03-12T18:43:45.637Z"
   },
   {
    "duration": 287,
    "start_time": "2023-03-12T18:43:45.956Z"
   },
   {
    "duration": 446,
    "start_time": "2023-03-12T18:43:46.247Z"
   },
   {
    "duration": 263,
    "start_time": "2023-03-12T18:43:46.695Z"
   },
   {
    "duration": 172,
    "start_time": "2023-03-12T18:43:46.960Z"
   },
   {
    "duration": 177,
    "start_time": "2023-03-12T18:43:47.134Z"
   },
   {
    "duration": 270,
    "start_time": "2023-03-12T18:43:47.313Z"
   },
   {
    "duration": 303,
    "start_time": "2023-03-12T18:43:47.591Z"
   },
   {
    "duration": 138,
    "start_time": "2023-03-12T18:43:47.896Z"
   },
   {
    "duration": 359,
    "start_time": "2023-03-12T18:43:48.036Z"
   },
   {
    "duration": 269,
    "start_time": "2023-03-12T18:44:54.231Z"
   },
   {
    "duration": 249,
    "start_time": "2023-03-12T18:45:13.214Z"
   },
   {
    "duration": 338,
    "start_time": "2023-03-12T18:45:55.245Z"
   },
   {
    "duration": 89,
    "start_time": "2023-03-12T18:53:03.089Z"
   },
   {
    "duration": 193,
    "start_time": "2023-03-12T18:53:34.529Z"
   },
   {
    "duration": 227,
    "start_time": "2023-03-12T18:53:34.725Z"
   },
   {
    "duration": 44,
    "start_time": "2023-03-12T18:53:34.954Z"
   },
   {
    "duration": 253,
    "start_time": "2023-03-12T18:53:35.001Z"
   },
   {
    "duration": 0,
    "start_time": "2023-03-12T18:53:35.256Z"
   },
   {
    "duration": 0,
    "start_time": "2023-03-12T18:53:35.257Z"
   },
   {
    "duration": 0,
    "start_time": "2023-03-12T18:53:35.258Z"
   },
   {
    "duration": 0,
    "start_time": "2023-03-12T18:53:35.259Z"
   },
   {
    "duration": 0,
    "start_time": "2023-03-12T18:53:35.260Z"
   },
   {
    "duration": 0,
    "start_time": "2023-03-12T18:53:35.262Z"
   },
   {
    "duration": 0,
    "start_time": "2023-03-12T18:53:35.263Z"
   },
   {
    "duration": 0,
    "start_time": "2023-03-12T18:53:35.265Z"
   },
   {
    "duration": 0,
    "start_time": "2023-03-12T18:53:35.267Z"
   },
   {
    "duration": 0,
    "start_time": "2023-03-12T18:53:35.269Z"
   },
   {
    "duration": 0,
    "start_time": "2023-03-12T18:53:35.271Z"
   },
   {
    "duration": 0,
    "start_time": "2023-03-12T18:53:35.272Z"
   },
   {
    "duration": 192,
    "start_time": "2023-03-12T18:54:24.868Z"
   },
   {
    "duration": 362,
    "start_time": "2023-03-12T18:54:25.064Z"
   },
   {
    "duration": 45,
    "start_time": "2023-03-12T18:54:25.428Z"
   },
   {
    "duration": 387,
    "start_time": "2023-03-12T18:54:25.475Z"
   },
   {
    "duration": 316,
    "start_time": "2023-03-12T18:54:25.864Z"
   },
   {
    "duration": 370,
    "start_time": "2023-03-12T18:54:26.182Z"
   },
   {
    "duration": 526,
    "start_time": "2023-03-12T18:54:26.555Z"
   },
   {
    "duration": 318,
    "start_time": "2023-03-12T18:54:27.090Z"
   },
   {
    "duration": 321,
    "start_time": "2023-03-12T18:54:27.410Z"
   },
   {
    "duration": 316,
    "start_time": "2023-03-12T18:54:27.734Z"
   },
   {
    "duration": 175,
    "start_time": "2023-03-12T18:54:28.052Z"
   },
   {
    "duration": 192,
    "start_time": "2023-03-12T18:54:28.230Z"
   },
   {
    "duration": 195,
    "start_time": "2023-03-12T18:54:28.424Z"
   },
   {
    "duration": 459,
    "start_time": "2023-03-12T18:54:28.621Z"
   },
   {
    "duration": 166,
    "start_time": "2023-03-12T18:54:29.082Z"
   },
   {
    "duration": 366,
    "start_time": "2023-03-12T18:54:29.250Z"
   },
   {
    "duration": 286,
    "start_time": "2023-03-12T19:01:13.291Z"
   },
   {
    "duration": 326,
    "start_time": "2023-03-12T19:03:47.073Z"
   },
   {
    "duration": 308,
    "start_time": "2023-03-12T19:04:52.888Z"
   },
   {
    "duration": 478,
    "start_time": "2023-03-12T19:05:18.692Z"
   },
   {
    "duration": 308,
    "start_time": "2023-03-12T19:05:30.305Z"
   },
   {
    "duration": 298,
    "start_time": "2023-03-12T19:05:39.039Z"
   },
   {
    "duration": 285,
    "start_time": "2023-03-12T19:05:49.873Z"
   },
   {
    "duration": 151,
    "start_time": "2023-03-12T19:06:27.877Z"
   },
   {
    "duration": 146,
    "start_time": "2023-03-12T19:06:56.690Z"
   },
   {
    "duration": 168,
    "start_time": "2023-03-12T19:07:15.998Z"
   },
   {
    "duration": 785,
    "start_time": "2023-03-12T19:07:30.473Z"
   },
   {
    "duration": 223,
    "start_time": "2023-03-12T19:07:56.275Z"
   },
   {
    "duration": 328,
    "start_time": "2023-03-12T19:07:56.501Z"
   },
   {
    "duration": 59,
    "start_time": "2023-03-12T19:07:56.831Z"
   },
   {
    "duration": 358,
    "start_time": "2023-03-12T19:07:56.893Z"
   },
   {
    "duration": 287,
    "start_time": "2023-03-12T19:07:57.253Z"
   },
   {
    "duration": 398,
    "start_time": "2023-03-12T19:07:57.543Z"
   },
   {
    "duration": 639,
    "start_time": "2023-03-12T19:07:57.942Z"
   },
   {
    "duration": 0,
    "start_time": "2023-03-12T19:07:58.590Z"
   },
   {
    "duration": 0,
    "start_time": "2023-03-12T19:07:58.592Z"
   },
   {
    "duration": 0,
    "start_time": "2023-03-12T19:07:58.594Z"
   },
   {
    "duration": 0,
    "start_time": "2023-03-12T19:07:58.596Z"
   },
   {
    "duration": 0,
    "start_time": "2023-03-12T19:07:58.597Z"
   },
   {
    "duration": 0,
    "start_time": "2023-03-12T19:07:58.599Z"
   },
   {
    "duration": 0,
    "start_time": "2023-03-12T19:07:58.601Z"
   },
   {
    "duration": 0,
    "start_time": "2023-03-12T19:07:58.602Z"
   },
   {
    "duration": 0,
    "start_time": "2023-03-12T19:07:58.603Z"
   },
   {
    "duration": 267,
    "start_time": "2023-03-12T19:10:04.909Z"
   },
   {
    "duration": 421,
    "start_time": "2023-03-12T19:10:59.003Z"
   },
   {
    "duration": 276,
    "start_time": "2023-03-12T19:11:19.837Z"
   },
   {
    "duration": 294,
    "start_time": "2023-03-12T19:11:38.029Z"
   },
   {
    "duration": 287,
    "start_time": "2023-03-12T19:11:50.596Z"
   },
   {
    "duration": 274,
    "start_time": "2023-03-12T19:11:57.241Z"
   },
   {
    "duration": 282,
    "start_time": "2023-03-12T19:12:02.950Z"
   },
   {
    "duration": 415,
    "start_time": "2023-03-12T19:12:19.781Z"
   },
   {
    "duration": 304,
    "start_time": "2023-03-12T19:13:40.793Z"
   },
   {
    "duration": 295,
    "start_time": "2023-03-12T19:13:53.836Z"
   },
   {
    "duration": 364,
    "start_time": "2023-03-12T19:14:06.086Z"
   },
   {
    "duration": 300,
    "start_time": "2023-03-12T19:14:23.528Z"
   },
   {
    "duration": 317,
    "start_time": "2023-03-12T19:16:23.742Z"
   },
   {
    "duration": 422,
    "start_time": "2023-03-12T19:16:47.568Z"
   },
   {
    "duration": 297,
    "start_time": "2023-03-12T19:16:59.814Z"
   },
   {
    "duration": 310,
    "start_time": "2023-03-12T19:17:09.270Z"
   },
   {
    "duration": 300,
    "start_time": "2023-03-12T19:17:20.911Z"
   },
   {
    "duration": 157,
    "start_time": "2023-03-12T19:22:45.854Z"
   },
   {
    "duration": 184,
    "start_time": "2023-03-12T19:23:00.791Z"
   },
   {
    "duration": 170,
    "start_time": "2023-03-12T19:23:20.508Z"
   },
   {
    "duration": 415,
    "start_time": "2023-03-12T19:24:17.275Z"
   },
   {
    "duration": 145,
    "start_time": "2023-03-12T19:24:39.614Z"
   },
   {
    "duration": 119,
    "start_time": "2023-03-12T19:25:23.582Z"
   },
   {
    "duration": 162,
    "start_time": "2023-03-12T19:25:36.037Z"
   },
   {
    "duration": 154,
    "start_time": "2023-03-12T19:25:44.085Z"
   },
   {
    "duration": 138,
    "start_time": "2023-03-12T19:25:49.745Z"
   },
   {
    "duration": 154,
    "start_time": "2023-03-12T19:25:56.708Z"
   },
   {
    "duration": 153,
    "start_time": "2023-03-12T19:26:04.530Z"
   },
   {
    "duration": 159,
    "start_time": "2023-03-12T19:26:14.938Z"
   },
   {
    "duration": 142,
    "start_time": "2023-03-12T19:26:22.669Z"
   },
   {
    "duration": 210,
    "start_time": "2023-03-12T19:26:57.700Z"
   },
   {
    "duration": 182,
    "start_time": "2023-03-12T19:27:06.180Z"
   },
   {
    "duration": 152,
    "start_time": "2023-03-12T19:27:12.277Z"
   },
   {
    "duration": 135,
    "start_time": "2023-03-12T19:27:22.573Z"
   },
   {
    "duration": 143,
    "start_time": "2023-03-12T19:27:32.932Z"
   },
   {
    "duration": 150,
    "start_time": "2023-03-12T19:27:41.485Z"
   },
   {
    "duration": 149,
    "start_time": "2023-03-12T19:28:02.224Z"
   },
   {
    "duration": 148,
    "start_time": "2023-03-12T19:29:11.184Z"
   },
   {
    "duration": 169,
    "start_time": "2023-03-12T19:29:37.991Z"
   },
   {
    "duration": 157,
    "start_time": "2023-03-12T19:29:49.817Z"
   },
   {
    "duration": 349,
    "start_time": "2023-03-12T19:30:49.623Z"
   },
   {
    "duration": 123,
    "start_time": "2023-03-12T19:31:20.427Z"
   },
   {
    "duration": 161,
    "start_time": "2023-03-12T19:31:28.486Z"
   },
   {
    "duration": 146,
    "start_time": "2023-03-12T19:32:08.322Z"
   },
   {
    "duration": 140,
    "start_time": "2023-03-12T19:33:48.863Z"
   },
   {
    "duration": 137,
    "start_time": "2023-03-12T19:34:38.236Z"
   },
   {
    "duration": 140,
    "start_time": "2023-03-12T19:35:08.910Z"
   },
   {
    "duration": 281,
    "start_time": "2023-03-12T19:37:13.833Z"
   },
   {
    "duration": 262,
    "start_time": "2023-03-12T19:39:03.187Z"
   },
   {
    "duration": 200,
    "start_time": "2023-03-12T19:39:42.141Z"
   },
   {
    "duration": 140,
    "start_time": "2023-03-12T19:40:06.682Z"
   },
   {
    "duration": 371,
    "start_time": "2023-03-12T19:41:28.290Z"
   },
   {
    "duration": 216,
    "start_time": "2023-03-12T19:45:16.347Z"
   },
   {
    "duration": 331,
    "start_time": "2023-03-12T19:45:16.565Z"
   },
   {
    "duration": 45,
    "start_time": "2023-03-12T19:45:16.898Z"
   },
   {
    "duration": 345,
    "start_time": "2023-03-12T19:45:16.945Z"
   },
   {
    "duration": 270,
    "start_time": "2023-03-12T19:45:17.291Z"
   },
   {
    "duration": 312,
    "start_time": "2023-03-12T19:45:17.563Z"
   },
   {
    "duration": 416,
    "start_time": "2023-03-12T19:45:17.877Z"
   },
   {
    "duration": 199,
    "start_time": "2023-03-12T19:45:18.294Z"
   },
   {
    "duration": 179,
    "start_time": "2023-03-12T19:45:18.495Z"
   },
   {
    "duration": 152,
    "start_time": "2023-03-12T19:45:18.689Z"
   },
   {
    "duration": 138,
    "start_time": "2023-03-12T19:45:18.843Z"
   },
   {
    "duration": 155,
    "start_time": "2023-03-12T19:45:18.983Z"
   },
   {
    "duration": 152,
    "start_time": "2023-03-12T19:45:19.140Z"
   },
   {
    "duration": 268,
    "start_time": "2023-03-12T19:45:19.294Z"
   },
   {
    "duration": 149,
    "start_time": "2023-03-12T19:45:19.564Z"
   },
   {
    "duration": 431,
    "start_time": "2023-03-12T19:45:19.715Z"
   },
   {
    "duration": 52,
    "start_time": "2023-03-13T12:29:49.537Z"
   },
   {
    "duration": 1161,
    "start_time": "2023-03-13T12:29:59.305Z"
   },
   {
    "duration": 314,
    "start_time": "2023-03-13T12:30:00.469Z"
   },
   {
    "duration": 40,
    "start_time": "2023-03-13T12:30:00.785Z"
   },
   {
    "duration": 345,
    "start_time": "2023-03-13T12:30:00.827Z"
   },
   {
    "duration": 334,
    "start_time": "2023-03-13T12:30:01.173Z"
   },
   {
    "duration": 318,
    "start_time": "2023-03-13T12:30:01.508Z"
   },
   {
    "duration": 331,
    "start_time": "2023-03-13T12:30:01.828Z"
   },
   {
    "duration": 170,
    "start_time": "2023-03-13T12:30:02.161Z"
   },
   {
    "duration": 167,
    "start_time": "2023-03-13T12:30:02.333Z"
   },
   {
    "duration": 160,
    "start_time": "2023-03-13T12:30:02.503Z"
   },
   {
    "duration": 149,
    "start_time": "2023-03-13T12:30:02.665Z"
   },
   {
    "duration": 144,
    "start_time": "2023-03-13T12:30:02.815Z"
   },
   {
    "duration": 223,
    "start_time": "2023-03-13T12:30:02.960Z"
   },
   {
    "duration": 239,
    "start_time": "2023-03-13T12:30:03.185Z"
   },
   {
    "duration": 145,
    "start_time": "2023-03-13T12:30:03.425Z"
   },
   {
    "duration": 329,
    "start_time": "2023-03-13T12:30:03.572Z"
   },
   {
    "duration": 14,
    "start_time": "2023-03-13T12:30:03.902Z"
   },
   {
    "duration": 9,
    "start_time": "2023-03-13T12:36:32.009Z"
   },
   {
    "duration": 176,
    "start_time": "2023-03-13T12:37:37.144Z"
   },
   {
    "duration": 168,
    "start_time": "2023-03-13T12:38:36.994Z"
   },
   {
    "duration": 184,
    "start_time": "2023-03-13T12:38:52.491Z"
   },
   {
    "duration": 171,
    "start_time": "2023-03-13T12:40:24.072Z"
   },
   {
    "duration": 178,
    "start_time": "2023-03-13T12:40:51.556Z"
   },
   {
    "duration": 264,
    "start_time": "2023-03-13T12:41:30.764Z"
   },
   {
    "duration": 183,
    "start_time": "2023-03-13T12:44:26.165Z"
   },
   {
    "duration": 187,
    "start_time": "2023-03-13T12:44:42.181Z"
   },
   {
    "duration": 184,
    "start_time": "2023-03-13T12:45:13.799Z"
   },
   {
    "duration": 23,
    "start_time": "2023-03-13T12:45:52.501Z"
   },
   {
    "duration": 177,
    "start_time": "2023-03-13T12:46:45.725Z"
   },
   {
    "duration": 184,
    "start_time": "2023-03-13T12:47:03.615Z"
   },
   {
    "duration": 182,
    "start_time": "2023-03-13T12:51:27.438Z"
   },
   {
    "duration": 182,
    "start_time": "2023-03-13T12:52:26.721Z"
   },
   {
    "duration": 23,
    "start_time": "2023-03-13T12:53:06.393Z"
   },
   {
    "duration": 22,
    "start_time": "2023-03-13T12:53:38.021Z"
   },
   {
    "duration": 27,
    "start_time": "2023-03-13T12:54:40.411Z"
   },
   {
    "duration": 179,
    "start_time": "2023-03-13T12:55:11.889Z"
   },
   {
    "duration": 240,
    "start_time": "2023-03-13T12:56:06.533Z"
   },
   {
    "duration": 376,
    "start_time": "2023-03-13T12:57:46.885Z"
   },
   {
    "duration": 305,
    "start_time": "2023-03-13T12:57:54.409Z"
   },
   {
    "duration": 308,
    "start_time": "2023-03-13T12:58:14.122Z"
   },
   {
    "duration": 281,
    "start_time": "2023-03-13T13:14:02.913Z"
   },
   {
    "duration": 361,
    "start_time": "2023-03-13T13:14:15.297Z"
   },
   {
    "duration": 289,
    "start_time": "2023-03-13T13:16:59.123Z"
   },
   {
    "duration": 395,
    "start_time": "2023-03-13T13:25:37.808Z"
   },
   {
    "duration": 314,
    "start_time": "2023-03-13T13:27:23.031Z"
   },
   {
    "duration": 135,
    "start_time": "2023-03-13T13:28:39.813Z"
   },
   {
    "duration": 187,
    "start_time": "2023-03-13T13:29:23.201Z"
   },
   {
    "duration": 172,
    "start_time": "2023-03-13T13:30:15.283Z"
   },
   {
    "duration": 148,
    "start_time": "2023-03-13T13:33:26.555Z"
   },
   {
    "duration": 155,
    "start_time": "2023-03-13T13:37:00.517Z"
   },
   {
    "duration": 607,
    "start_time": "2023-03-13T13:40:17.294Z"
   },
   {
    "duration": 166,
    "start_time": "2023-03-13T13:43:56.504Z"
   },
   {
    "duration": 200,
    "start_time": "2023-03-13T13:44:21.838Z"
   },
   {
    "duration": 513,
    "start_time": "2023-03-13T13:44:34.516Z"
   },
   {
    "duration": 188,
    "start_time": "2023-03-13T13:45:37.894Z"
   },
   {
    "duration": 612,
    "start_time": "2023-03-13T13:45:44.893Z"
   },
   {
    "duration": 809,
    "start_time": "2023-03-13T13:46:03.557Z"
   },
   {
    "duration": 499,
    "start_time": "2023-03-13T13:47:29.734Z"
   },
   {
    "duration": 863,
    "start_time": "2023-03-13T14:22:19.683Z"
   },
   {
    "duration": 805,
    "start_time": "2023-03-13T14:22:56.088Z"
   },
   {
    "duration": 274,
    "start_time": "2023-03-13T14:24:02.851Z"
   },
   {
    "duration": 182,
    "start_time": "2023-03-13T14:24:14.901Z"
   },
   {
    "duration": 803,
    "start_time": "2023-03-13T14:25:02.523Z"
   },
   {
    "duration": 145,
    "start_time": "2023-03-13T14:27:01.497Z"
   },
   {
    "duration": 494,
    "start_time": "2023-03-13T14:27:28.117Z"
   },
   {
    "duration": 732,
    "start_time": "2023-03-13T14:29:15.762Z"
   },
   {
    "duration": 491,
    "start_time": "2023-03-13T14:29:56.500Z"
   },
   {
    "duration": 416,
    "start_time": "2023-03-13T14:30:54.787Z"
   },
   {
    "duration": 413,
    "start_time": "2023-03-13T14:39:13.085Z"
   },
   {
    "duration": 468,
    "start_time": "2023-03-13T14:39:28.300Z"
   },
   {
    "duration": 480,
    "start_time": "2023-03-13T15:03:33.786Z"
   },
   {
    "duration": 224,
    "start_time": "2023-03-13T15:04:48.683Z"
   },
   {
    "duration": 345,
    "start_time": "2023-03-13T15:04:48.909Z"
   },
   {
    "duration": 56,
    "start_time": "2023-03-13T15:04:49.259Z"
   },
   {
    "duration": 406,
    "start_time": "2023-03-13T15:04:49.317Z"
   },
   {
    "duration": 305,
    "start_time": "2023-03-13T15:04:49.725Z"
   },
   {
    "duration": 362,
    "start_time": "2023-03-13T15:04:50.032Z"
   },
   {
    "duration": 426,
    "start_time": "2023-03-13T15:04:50.407Z"
   },
   {
    "duration": 190,
    "start_time": "2023-03-13T15:04:50.834Z"
   },
   {
    "duration": 187,
    "start_time": "2023-03-13T15:04:51.026Z"
   },
   {
    "duration": 201,
    "start_time": "2023-03-13T15:04:51.216Z"
   },
   {
    "duration": 160,
    "start_time": "2023-03-13T15:04:51.419Z"
   },
   {
    "duration": 156,
    "start_time": "2023-03-13T15:04:51.585Z"
   },
   {
    "duration": 171,
    "start_time": "2023-03-13T15:04:51.743Z"
   },
   {
    "duration": 294,
    "start_time": "2023-03-13T15:04:51.916Z"
   },
   {
    "duration": 184,
    "start_time": "2023-03-13T15:04:52.212Z"
   },
   {
    "duration": 441,
    "start_time": "2023-03-13T15:04:52.403Z"
   },
   {
    "duration": 453,
    "start_time": "2023-03-13T15:04:52.846Z"
   },
   {
    "duration": 44,
    "start_time": "2023-03-13T15:04:53.301Z"
   },
   {
    "duration": 3,
    "start_time": "2023-03-13T15:28:43.014Z"
   },
   {
    "duration": 11,
    "start_time": "2023-03-13T15:32:07.918Z"
   },
   {
    "duration": 169,
    "start_time": "2023-03-13T15:32:17.936Z"
   },
   {
    "duration": 173,
    "start_time": "2023-03-13T15:33:11.571Z"
   },
   {
    "duration": 144,
    "start_time": "2023-03-13T15:34:41.988Z"
   },
   {
    "duration": 148,
    "start_time": "2023-03-13T15:35:08.838Z"
   },
   {
    "duration": 137,
    "start_time": "2023-03-13T15:35:35.245Z"
   },
   {
    "duration": 125,
    "start_time": "2023-03-13T15:36:21.421Z"
   },
   {
    "duration": 236,
    "start_time": "2023-03-13T15:36:46.207Z"
   },
   {
    "duration": 172,
    "start_time": "2023-03-13T15:38:56.439Z"
   },
   {
    "duration": 189,
    "start_time": "2023-03-13T15:40:12.672Z"
   },
   {
    "duration": 355,
    "start_time": "2023-03-13T15:44:54.256Z"
   },
   {
    "duration": 320,
    "start_time": "2023-03-13T15:48:58.223Z"
   },
   {
    "duration": 322,
    "start_time": "2023-03-13T15:49:18.309Z"
   },
   {
    "duration": 329,
    "start_time": "2023-03-13T15:49:34.623Z"
   },
   {
    "duration": 449,
    "start_time": "2023-03-13T15:54:33.848Z"
   },
   {
    "duration": 1651,
    "start_time": "2023-03-13T15:57:16.920Z"
   },
   {
    "duration": 332,
    "start_time": "2023-03-13T16:01:54.689Z"
   },
   {
    "duration": 617,
    "start_time": "2023-03-13T16:08:47.682Z"
   },
   {
    "duration": 78,
    "start_time": "2023-03-13T16:11:50.997Z"
   },
   {
    "duration": 97,
    "start_time": "2023-03-13T16:13:12.494Z"
   },
   {
    "duration": 93,
    "start_time": "2023-03-13T16:13:44.185Z"
   },
   {
    "duration": 77,
    "start_time": "2023-03-13T16:13:56.888Z"
   },
   {
    "duration": 77,
    "start_time": "2023-03-13T16:50:20.644Z"
   },
   {
    "duration": 617,
    "start_time": "2023-03-13T16:52:27.889Z"
   },
   {
    "duration": 674,
    "start_time": "2023-03-13T16:59:26.832Z"
   },
   {
    "duration": 853,
    "start_time": "2023-03-13T16:59:46.076Z"
   },
   {
    "duration": 833,
    "start_time": "2023-03-13T17:00:18.860Z"
   },
   {
    "duration": 70,
    "start_time": "2023-03-13T17:01:52.773Z"
   },
   {
    "duration": 71,
    "start_time": "2023-03-13T17:02:10.196Z"
   },
   {
    "duration": 630,
    "start_time": "2023-03-13T17:02:24.123Z"
   },
   {
    "duration": 662,
    "start_time": "2023-03-13T17:03:02.802Z"
   },
   {
    "duration": 176,
    "start_time": "2023-03-13T17:03:11.437Z"
   },
   {
    "duration": 316,
    "start_time": "2023-03-13T17:03:11.615Z"
   },
   {
    "duration": 51,
    "start_time": "2023-03-13T17:03:11.933Z"
   },
   {
    "duration": 381,
    "start_time": "2023-03-13T17:03:11.986Z"
   },
   {
    "duration": 265,
    "start_time": "2023-03-13T17:03:12.369Z"
   },
   {
    "duration": 311,
    "start_time": "2023-03-13T17:03:12.636Z"
   },
   {
    "duration": 301,
    "start_time": "2023-03-13T17:03:12.956Z"
   },
   {
    "duration": 162,
    "start_time": "2023-03-13T17:03:13.259Z"
   },
   {
    "duration": 179,
    "start_time": "2023-03-13T17:03:13.423Z"
   },
   {
    "duration": 189,
    "start_time": "2023-03-13T17:03:13.605Z"
   },
   {
    "duration": 220,
    "start_time": "2023-03-13T17:03:13.796Z"
   },
   {
    "duration": 152,
    "start_time": "2023-03-13T17:03:14.017Z"
   },
   {
    "duration": 157,
    "start_time": "2023-03-13T17:03:14.171Z"
   },
   {
    "duration": 239,
    "start_time": "2023-03-13T17:03:14.330Z"
   },
   {
    "duration": 137,
    "start_time": "2023-03-13T17:03:14.571Z"
   },
   {
    "duration": 309,
    "start_time": "2023-03-13T17:03:14.709Z"
   },
   {
    "duration": 393,
    "start_time": "2023-03-13T17:03:15.020Z"
   },
   {
    "duration": 736,
    "start_time": "2023-03-13T17:03:15.415Z"
   },
   {
    "duration": 733,
    "start_time": "2023-03-13T17:03:36.606Z"
   },
   {
    "duration": 85,
    "start_time": "2023-03-13T17:04:33.644Z"
   },
   {
    "duration": 826,
    "start_time": "2023-03-13T17:04:55.787Z"
   },
   {
    "duration": 737,
    "start_time": "2023-03-13T17:05:19.413Z"
   },
   {
    "duration": 901,
    "start_time": "2023-03-13T17:05:31.334Z"
   },
   {
    "duration": 860,
    "start_time": "2023-03-13T17:07:04.829Z"
   },
   {
    "duration": 1014,
    "start_time": "2023-03-13T17:08:23.030Z"
   },
   {
    "duration": 917,
    "start_time": "2023-03-13T17:09:13.129Z"
   },
   {
    "duration": 1135,
    "start_time": "2023-03-13T17:10:02.097Z"
   },
   {
    "duration": 1272,
    "start_time": "2023-03-13T17:10:51.781Z"
   },
   {
    "duration": 1165,
    "start_time": "2023-03-13T17:11:57.319Z"
   },
   {
    "duration": 1545,
    "start_time": "2023-03-13T17:12:09.385Z"
   },
   {
    "duration": 1281,
    "start_time": "2023-03-13T17:13:52.160Z"
   },
   {
    "duration": 1258,
    "start_time": "2023-03-13T17:15:47.579Z"
   },
   {
    "duration": 1208,
    "start_time": "2023-03-13T17:16:41.877Z"
   },
   {
    "duration": 1227,
    "start_time": "2023-03-13T17:17:11.158Z"
   },
   {
    "duration": 1224,
    "start_time": "2023-03-13T17:24:23.533Z"
   },
   {
    "duration": 17,
    "start_time": "2023-03-13T17:29:58.956Z"
   },
   {
    "duration": 1202,
    "start_time": "2023-03-13T17:30:36.269Z"
   },
   {
    "duration": 1287,
    "start_time": "2023-03-13T17:31:20.031Z"
   },
   {
    "duration": 1242,
    "start_time": "2023-03-13T17:31:34.266Z"
   },
   {
    "duration": 73,
    "start_time": "2023-03-13T17:33:07.667Z"
   },
   {
    "duration": 1254,
    "start_time": "2023-03-13T17:33:18.673Z"
   },
   {
    "duration": 1183,
    "start_time": "2023-03-13T17:33:31.651Z"
   },
   {
    "duration": 1265,
    "start_time": "2023-03-13T17:33:39.849Z"
   },
   {
    "duration": 1249,
    "start_time": "2023-03-13T17:33:50.374Z"
   },
   {
    "duration": 1281,
    "start_time": "2023-03-13T17:34:21.340Z"
   },
   {
    "duration": 1189,
    "start_time": "2023-03-13T17:35:25.772Z"
   },
   {
    "duration": 1198,
    "start_time": "2023-03-13T17:37:05.956Z"
   },
   {
    "duration": 1224,
    "start_time": "2023-03-13T17:45:27.433Z"
   },
   {
    "duration": 1112,
    "start_time": "2023-03-13T17:47:16.722Z"
   },
   {
    "duration": 27,
    "start_time": "2023-03-13T17:50:19.702Z"
   },
   {
    "duration": 1359,
    "start_time": "2023-03-13T17:50:55.321Z"
   },
   {
    "duration": 1186,
    "start_time": "2023-03-13T17:51:58.589Z"
   },
   {
    "duration": 314,
    "start_time": "2023-03-13T18:09:01.817Z"
   },
   {
    "duration": 241,
    "start_time": "2023-03-13T18:09:38.069Z"
   },
   {
    "duration": 270,
    "start_time": "2023-03-13T18:10:07.699Z"
   },
   {
    "duration": 350,
    "start_time": "2023-03-13T18:11:31.407Z"
   },
   {
    "duration": 283,
    "start_time": "2023-03-13T18:11:59.488Z"
   },
   {
    "duration": 386,
    "start_time": "2023-03-13T18:13:05.706Z"
   },
   {
    "duration": 173,
    "start_time": "2023-03-13T18:15:43.606Z"
   },
   {
    "duration": 159,
    "start_time": "2023-03-13T18:16:00.617Z"
   },
   {
    "duration": 163,
    "start_time": "2023-03-13T18:16:16.992Z"
   },
   {
    "duration": 135,
    "start_time": "2023-03-13T18:16:49.766Z"
   },
   {
    "duration": 122,
    "start_time": "2023-03-13T18:17:12.315Z"
   },
   {
    "duration": 135,
    "start_time": "2023-03-13T18:17:28.585Z"
   },
   {
    "duration": 212,
    "start_time": "2023-03-13T18:17:56.393Z"
   },
   {
    "duration": 220,
    "start_time": "2023-03-13T18:18:36.485Z"
   },
   {
    "duration": 300,
    "start_time": "2023-03-13T18:18:55.192Z"
   },
   {
    "duration": 133,
    "start_time": "2023-03-13T18:19:35.130Z"
   },
   {
    "duration": 349,
    "start_time": "2023-03-13T18:20:04.075Z"
   },
   {
    "duration": 367,
    "start_time": "2023-03-13T18:21:07.801Z"
   },
   {
    "duration": 435,
    "start_time": "2023-03-13T18:21:18.178Z"
   },
   {
    "duration": 1300,
    "start_time": "2023-03-13T18:24:34.933Z"
   },
   {
    "duration": 1202,
    "start_time": "2023-03-13T18:25:29.813Z"
   },
   {
    "duration": 1258,
    "start_time": "2023-03-13T18:26:17.820Z"
   },
   {
    "duration": 1246,
    "start_time": "2023-03-13T18:28:11.455Z"
   },
   {
    "duration": 1101,
    "start_time": "2023-03-13T18:30:49.296Z"
   },
   {
    "duration": 1170,
    "start_time": "2023-03-13T18:31:26.280Z"
   },
   {
    "duration": 9,
    "start_time": "2023-03-13T19:01:33.478Z"
   },
   {
    "duration": 10,
    "start_time": "2023-03-13T19:01:46.940Z"
   },
   {
    "duration": 10,
    "start_time": "2023-03-13T19:02:05.476Z"
   },
   {
    "duration": 9,
    "start_time": "2023-03-13T19:02:10.780Z"
   },
   {
    "duration": 10,
    "start_time": "2023-03-13T19:02:26.274Z"
   },
   {
    "duration": 10,
    "start_time": "2023-03-13T19:02:50.372Z"
   },
   {
    "duration": 15,
    "start_time": "2023-03-13T19:04:26.302Z"
   },
   {
    "duration": 9,
    "start_time": "2023-03-13T19:04:50.690Z"
   },
   {
    "duration": 9,
    "start_time": "2023-03-13T19:05:00.531Z"
   },
   {
    "duration": 1217,
    "start_time": "2023-03-13T19:06:38.489Z"
   },
   {
    "duration": 11,
    "start_time": "2023-03-13T19:06:46.839Z"
   },
   {
    "duration": 19,
    "start_time": "2023-03-13T19:06:54.351Z"
   },
   {
    "duration": 9,
    "start_time": "2023-03-13T19:07:19.981Z"
   },
   {
    "duration": 8,
    "start_time": "2023-03-13T19:07:26.283Z"
   },
   {
    "duration": 20,
    "start_time": "2023-03-13T19:11:19.278Z"
   },
   {
    "duration": 104,
    "start_time": "2023-03-13T19:14:01.678Z"
   },
   {
    "duration": 22,
    "start_time": "2023-03-13T19:14:20.762Z"
   },
   {
    "duration": 4,
    "start_time": "2023-03-13T19:15:18.993Z"
   },
   {
    "duration": 4,
    "start_time": "2023-03-13T19:15:24.979Z"
   },
   {
    "duration": 14,
    "start_time": "2023-03-13T19:15:34.483Z"
   },
   {
    "duration": 16,
    "start_time": "2023-03-13T19:17:24.898Z"
   },
   {
    "duration": 16,
    "start_time": "2023-03-13T19:18:24.078Z"
   },
   {
    "duration": 17,
    "start_time": "2023-03-13T19:19:12.925Z"
   },
   {
    "duration": 17,
    "start_time": "2023-03-13T19:19:51.548Z"
   },
   {
    "duration": 30,
    "start_time": "2023-03-13T19:21:27.679Z"
   },
   {
    "duration": 31,
    "start_time": "2023-03-13T19:22:12.489Z"
   },
   {
    "duration": 36,
    "start_time": "2023-03-13T19:23:26.325Z"
   },
   {
    "duration": 10,
    "start_time": "2023-03-13T19:26:16.151Z"
   },
   {
    "duration": 9,
    "start_time": "2023-03-13T19:26:31.279Z"
   },
   {
    "duration": 74,
    "start_time": "2023-03-13T19:28:08.130Z"
   },
   {
    "duration": 24,
    "start_time": "2023-03-13T19:28:20.601Z"
   },
   {
    "duration": 22,
    "start_time": "2023-03-13T19:29:45.137Z"
   },
   {
    "duration": 23,
    "start_time": "2023-03-13T19:30:09.687Z"
   },
   {
    "duration": 23,
    "start_time": "2023-03-13T19:30:17.763Z"
   },
   {
    "duration": 33,
    "start_time": "2023-03-13T19:30:56.890Z"
   },
   {
    "duration": 76,
    "start_time": "2023-03-13T19:32:09.231Z"
   },
   {
    "duration": 27,
    "start_time": "2023-03-13T19:32:43.293Z"
   },
   {
    "duration": 24,
    "start_time": "2023-03-13T19:32:49.504Z"
   },
   {
    "duration": 21,
    "start_time": "2023-03-13T19:32:58.300Z"
   },
   {
    "duration": 40,
    "start_time": "2023-03-13T19:34:13.539Z"
   },
   {
    "duration": 25,
    "start_time": "2023-03-13T19:34:39.551Z"
   },
   {
    "duration": 26,
    "start_time": "2023-03-13T19:35:32.546Z"
   },
   {
    "duration": 55,
    "start_time": "2023-03-14T09:43:17.635Z"
   },
   {
    "duration": 1119,
    "start_time": "2023-03-14T09:43:31.598Z"
   },
   {
    "duration": 363,
    "start_time": "2023-03-14T09:43:32.720Z"
   },
   {
    "duration": 75,
    "start_time": "2023-03-14T09:43:33.085Z"
   },
   {
    "duration": 369,
    "start_time": "2023-03-14T09:43:33.162Z"
   },
   {
    "duration": 389,
    "start_time": "2023-03-14T09:43:33.533Z"
   },
   {
    "duration": 428,
    "start_time": "2023-03-14T09:43:33.924Z"
   },
   {
    "duration": 372,
    "start_time": "2023-03-14T09:43:34.354Z"
   },
   {
    "duration": 184,
    "start_time": "2023-03-14T09:43:34.728Z"
   },
   {
    "duration": 201,
    "start_time": "2023-03-14T09:43:34.914Z"
   },
   {
    "duration": 152,
    "start_time": "2023-03-14T09:43:35.120Z"
   },
   {
    "duration": 172,
    "start_time": "2023-03-14T09:43:35.274Z"
   },
   {
    "duration": 209,
    "start_time": "2023-03-14T09:43:35.448Z"
   },
   {
    "duration": 258,
    "start_time": "2023-03-14T09:43:35.659Z"
   },
   {
    "duration": 293,
    "start_time": "2023-03-14T09:43:35.919Z"
   },
   {
    "duration": 163,
    "start_time": "2023-03-14T09:43:36.214Z"
   },
   {
    "duration": 348,
    "start_time": "2023-03-14T09:43:36.379Z"
   },
   {
    "duration": 417,
    "start_time": "2023-03-14T09:43:36.729Z"
   },
   {
    "duration": 1368,
    "start_time": "2023-03-14T09:43:37.148Z"
   },
   {
    "duration": 28,
    "start_time": "2023-03-14T09:43:38.517Z"
   },
   {
    "duration": 1319,
    "start_time": "2023-03-14T09:49:12.687Z"
   },
   {
    "duration": 1452,
    "start_time": "2023-03-14T09:50:03.969Z"
   },
   {
    "duration": 135,
    "start_time": "2023-03-14T09:51:02.044Z"
   },
   {
    "duration": 63,
    "start_time": "2023-03-14T09:51:33.485Z"
   },
   {
    "duration": 1537,
    "start_time": "2023-03-14T09:51:44.230Z"
   },
   {
    "duration": 1469,
    "start_time": "2023-03-14T09:53:30.241Z"
   },
   {
    "duration": 1154,
    "start_time": "2023-03-14T09:54:15.555Z"
   },
   {
    "duration": 1796,
    "start_time": "2023-03-14T09:55:03.529Z"
   },
   {
    "duration": 1520,
    "start_time": "2023-03-14T09:56:22.299Z"
   },
   {
    "duration": 1682,
    "start_time": "2023-03-14T09:57:25.469Z"
   },
   {
    "duration": 1604,
    "start_time": "2023-03-14T09:58:27.037Z"
   },
   {
    "duration": 1602,
    "start_time": "2023-03-14T10:01:40.090Z"
   },
   {
    "duration": 1394,
    "start_time": "2023-03-14T10:10:08.466Z"
   },
   {
    "duration": 1587,
    "start_time": "2023-03-14T10:12:22.240Z"
   },
   {
    "duration": 30,
    "start_time": "2023-03-14T10:21:25.824Z"
   },
   {
    "duration": 8,
    "start_time": "2023-03-14T10:42:15.841Z"
   },
   {
    "duration": 10,
    "start_time": "2023-03-14T10:43:01.259Z"
   },
   {
    "duration": 10,
    "start_time": "2023-03-14T10:43:31.019Z"
   },
   {
    "duration": 141,
    "start_time": "2023-03-14T10:45:10.647Z"
   },
   {
    "duration": 218,
    "start_time": "2023-03-14T10:45:25.269Z"
   },
   {
    "duration": 152,
    "start_time": "2023-03-14T10:46:54.675Z"
   },
   {
    "duration": 175,
    "start_time": "2023-03-14T10:47:25.523Z"
   },
   {
    "duration": 145,
    "start_time": "2023-03-14T10:47:41.887Z"
   },
   {
    "duration": 213,
    "start_time": "2023-03-14T10:48:20.065Z"
   },
   {
    "duration": 76,
    "start_time": "2023-03-14T11:12:27.778Z"
   },
   {
    "duration": 37,
    "start_time": "2023-03-14T11:13:09.501Z"
   },
   {
    "duration": 23,
    "start_time": "2023-03-14T11:14:10.307Z"
   },
   {
    "duration": 23,
    "start_time": "2023-03-14T11:14:31.307Z"
   },
   {
    "duration": 21,
    "start_time": "2023-03-14T11:15:18.704Z"
   },
   {
    "duration": 25,
    "start_time": "2023-03-14T11:15:57.780Z"
   },
   {
    "duration": 817,
    "start_time": "2023-03-14T11:18:23.908Z"
   },
   {
    "duration": 701,
    "start_time": "2023-03-14T11:18:42.201Z"
   },
   {
    "duration": 166,
    "start_time": "2023-03-14T11:19:18.471Z"
   },
   {
    "duration": 27,
    "start_time": "2023-03-14T11:20:08.845Z"
   },
   {
    "duration": 20,
    "start_time": "2023-03-14T11:20:26.449Z"
   },
   {
    "duration": 14,
    "start_time": "2023-03-14T11:21:12.010Z"
   },
   {
    "duration": 805,
    "start_time": "2023-03-14T11:22:32.630Z"
   },
   {
    "duration": 27,
    "start_time": "2023-03-14T11:23:25.106Z"
   },
   {
    "duration": 12,
    "start_time": "2023-03-14T11:29:44.993Z"
   },
   {
    "duration": 195,
    "start_time": "2023-03-14T11:29:55.675Z"
   },
   {
    "duration": 358,
    "start_time": "2023-03-14T11:29:55.872Z"
   },
   {
    "duration": 54,
    "start_time": "2023-03-14T11:29:56.232Z"
   },
   {
    "duration": 441,
    "start_time": "2023-03-14T11:29:56.288Z"
   },
   {
    "duration": 315,
    "start_time": "2023-03-14T11:29:56.732Z"
   },
   {
    "duration": 319,
    "start_time": "2023-03-14T11:29:57.049Z"
   },
   {
    "duration": 330,
    "start_time": "2023-03-14T11:29:57.370Z"
   },
   {
    "duration": 173,
    "start_time": "2023-03-14T11:29:57.702Z"
   },
   {
    "duration": 200,
    "start_time": "2023-03-14T11:29:57.876Z"
   },
   {
    "duration": 187,
    "start_time": "2023-03-14T11:29:58.079Z"
   },
   {
    "duration": 165,
    "start_time": "2023-03-14T11:29:58.268Z"
   },
   {
    "duration": 249,
    "start_time": "2023-03-14T11:29:58.436Z"
   },
   {
    "duration": 159,
    "start_time": "2023-03-14T11:29:58.686Z"
   },
   {
    "duration": 277,
    "start_time": "2023-03-14T11:29:58.848Z"
   },
   {
    "duration": 148,
    "start_time": "2023-03-14T11:29:59.129Z"
   },
   {
    "duration": 369,
    "start_time": "2023-03-14T11:29:59.279Z"
   },
   {
    "duration": 435,
    "start_time": "2023-03-14T11:29:59.651Z"
   },
   {
    "duration": 1345,
    "start_time": "2023-03-14T11:30:00.088Z"
   },
   {
    "duration": 27,
    "start_time": "2023-03-14T11:30:01.435Z"
   },
   {
    "duration": 88,
    "start_time": "2023-03-14T11:30:01.464Z"
   },
   {
    "duration": 13,
    "start_time": "2023-03-14T11:30:21.695Z"
   },
   {
    "duration": 15,
    "start_time": "2023-03-14T11:31:21.232Z"
   },
   {
    "duration": 18,
    "start_time": "2023-03-14T11:32:31.633Z"
   },
   {
    "duration": 17,
    "start_time": "2023-03-14T11:32:53.005Z"
   },
   {
    "duration": 757,
    "start_time": "2023-03-14T11:33:42.928Z"
   },
   {
    "duration": 832,
    "start_time": "2023-03-14T11:35:22.260Z"
   },
   {
    "duration": 20,
    "start_time": "2023-03-14T11:35:41.074Z"
   },
   {
    "duration": 758,
    "start_time": "2023-03-14T11:36:41.233Z"
   },
   {
    "duration": 17,
    "start_time": "2023-03-14T11:37:15.636Z"
   },
   {
    "duration": 21,
    "start_time": "2023-03-14T11:37:51.626Z"
   },
   {
    "duration": 784,
    "start_time": "2023-03-14T11:38:10.708Z"
   },
   {
    "duration": 23,
    "start_time": "2023-03-14T11:38:29.115Z"
   },
   {
    "duration": 18,
    "start_time": "2023-03-14T11:38:41.151Z"
   },
   {
    "duration": 19,
    "start_time": "2023-03-14T11:39:01.130Z"
   },
   {
    "duration": 43,
    "start_time": "2023-03-14T11:39:43.225Z"
   },
   {
    "duration": 54,
    "start_time": "2023-03-14T11:39:47.132Z"
   },
   {
    "duration": 22,
    "start_time": "2023-03-14T11:40:00.613Z"
   },
   {
    "duration": 20,
    "start_time": "2023-03-14T11:40:16.159Z"
   },
   {
    "duration": 19,
    "start_time": "2023-03-14T11:40:24.850Z"
   },
   {
    "duration": 27,
    "start_time": "2023-03-14T11:40:57.905Z"
   },
   {
    "duration": 1158,
    "start_time": "2023-03-14T11:41:33.997Z"
   },
   {
    "duration": 861,
    "start_time": "2023-03-14T11:41:42.426Z"
   },
   {
    "duration": 21,
    "start_time": "2023-03-14T11:42:06.247Z"
   },
   {
    "duration": 46,
    "start_time": "2023-03-14T11:42:47.065Z"
   },
   {
    "duration": 31,
    "start_time": "2023-03-14T11:43:14.206Z"
   },
   {
    "duration": 31,
    "start_time": "2023-03-14T11:44:00.550Z"
   },
   {
    "duration": 17,
    "start_time": "2023-03-14T11:44:18.642Z"
   },
   {
    "duration": 16,
    "start_time": "2023-03-14T11:44:37.034Z"
   },
   {
    "duration": 1221,
    "start_time": "2023-03-14T11:48:08.955Z"
   },
   {
    "duration": 1228,
    "start_time": "2023-03-14T11:48:23.036Z"
   },
   {
    "duration": 28,
    "start_time": "2023-03-14T11:48:40.208Z"
   },
   {
    "duration": 19,
    "start_time": "2023-03-14T11:49:03.042Z"
   },
   {
    "duration": 22,
    "start_time": "2023-03-14T11:49:10.039Z"
   },
   {
    "duration": 18,
    "start_time": "2023-03-14T11:49:46.269Z"
   },
   {
    "duration": 19,
    "start_time": "2023-03-14T11:50:55.648Z"
   },
   {
    "duration": 35,
    "start_time": "2023-03-14T11:51:11.803Z"
   },
   {
    "duration": 5,
    "start_time": "2023-03-14T11:52:22.094Z"
   },
   {
    "duration": 1011,
    "start_time": "2023-03-14T11:52:41.480Z"
   },
   {
    "duration": 21,
    "start_time": "2023-03-14T11:55:37.624Z"
   },
   {
    "duration": 22,
    "start_time": "2023-03-14T11:55:48.586Z"
   },
   {
    "duration": 17,
    "start_time": "2023-03-14T11:55:58.914Z"
   },
   {
    "duration": 26,
    "start_time": "2023-03-14T11:56:06.377Z"
   },
   {
    "duration": 34,
    "start_time": "2023-03-14T11:56:22.643Z"
   },
   {
    "duration": 26,
    "start_time": "2023-03-14T11:56:33.314Z"
   },
   {
    "duration": 31,
    "start_time": "2023-03-14T11:57:11.715Z"
   },
   {
    "duration": 26,
    "start_time": "2023-03-14T11:57:24.678Z"
   },
   {
    "duration": 19,
    "start_time": "2023-03-14T11:57:37.235Z"
   },
   {
    "duration": 976,
    "start_time": "2023-03-14T12:22:28.006Z"
   },
   {
    "duration": 816,
    "start_time": "2023-03-14T12:22:52.717Z"
   },
   {
    "duration": 770,
    "start_time": "2023-03-14T12:23:15.420Z"
   },
   {
    "duration": 18,
    "start_time": "2023-03-14T12:23:40.595Z"
   },
   {
    "duration": 19,
    "start_time": "2023-03-14T12:24:34.841Z"
   },
   {
    "duration": 192,
    "start_time": "2023-03-14T12:25:23.571Z"
   },
   {
    "duration": 213,
    "start_time": "2023-03-14T12:25:58.542Z"
   },
   {
    "duration": 184,
    "start_time": "2023-03-14T12:26:18.002Z"
   },
   {
    "duration": 189,
    "start_time": "2023-03-14T12:27:20.533Z"
   },
   {
    "duration": 260,
    "start_time": "2023-03-14T12:27:51.671Z"
   },
   {
    "duration": 179,
    "start_time": "2023-03-14T12:28:16.239Z"
   },
   {
    "duration": 185,
    "start_time": "2023-03-14T12:29:40.157Z"
   },
   {
    "duration": 195,
    "start_time": "2023-03-14T12:30:44.650Z"
   },
   {
    "duration": 198,
    "start_time": "2023-03-14T12:31:44.559Z"
   },
   {
    "duration": 208,
    "start_time": "2023-03-14T12:32:57.926Z"
   },
   {
    "duration": 194,
    "start_time": "2023-03-14T12:33:47.203Z"
   },
   {
    "duration": 210,
    "start_time": "2023-03-14T12:34:10.900Z"
   },
   {
    "duration": 213,
    "start_time": "2023-03-14T12:37:02.277Z"
   },
   {
    "duration": 201,
    "start_time": "2023-03-14T12:37:58.793Z"
   },
   {
    "duration": 37,
    "start_time": "2023-03-14T12:38:25.981Z"
   },
   {
    "duration": 219,
    "start_time": "2023-03-14T12:39:08.464Z"
   },
   {
    "duration": 464,
    "start_time": "2023-03-14T12:54:19.996Z"
   },
   {
    "duration": 389,
    "start_time": "2023-03-14T13:02:35.453Z"
   },
   {
    "duration": 51,
    "start_time": "2023-03-14T13:03:44.543Z"
   },
   {
    "duration": 356,
    "start_time": "2023-03-14T13:04:48.769Z"
   },
   {
    "duration": 356,
    "start_time": "2023-03-14T13:07:35.964Z"
   },
   {
    "duration": 749,
    "start_time": "2023-03-14T13:09:30.238Z"
   },
   {
    "duration": 393,
    "start_time": "2023-03-14T13:09:46.110Z"
   },
   {
    "duration": 364,
    "start_time": "2023-03-14T13:10:07.092Z"
   },
   {
    "duration": 307,
    "start_time": "2023-03-14T13:10:34.527Z"
   },
   {
    "duration": 396,
    "start_time": "2023-03-14T13:10:43.970Z"
   },
   {
    "duration": 331,
    "start_time": "2023-03-14T13:11:12.797Z"
   },
   {
    "duration": 326,
    "start_time": "2023-03-14T13:11:38.407Z"
   },
   {
    "duration": 430,
    "start_time": "2023-03-14T13:12:06.926Z"
   },
   {
    "duration": 318,
    "start_time": "2023-03-14T13:12:23.773Z"
   },
   {
    "duration": 316,
    "start_time": "2023-03-14T13:13:09.145Z"
   },
   {
    "duration": 348,
    "start_time": "2023-03-14T13:13:17.094Z"
   },
   {
    "duration": 334,
    "start_time": "2023-03-14T13:13:25.124Z"
   },
   {
    "duration": 421,
    "start_time": "2023-03-14T13:14:35.845Z"
   },
   {
    "duration": 349,
    "start_time": "2023-03-14T13:15:09.732Z"
   },
   {
    "duration": 324,
    "start_time": "2023-03-14T13:15:23.334Z"
   },
   {
    "duration": 345,
    "start_time": "2023-03-14T13:16:58.616Z"
   },
   {
    "duration": 197,
    "start_time": "2023-03-14T13:17:14.593Z"
   },
   {
    "duration": 312,
    "start_time": "2023-03-14T13:17:43.144Z"
   },
   {
    "duration": 535,
    "start_time": "2023-03-14T13:19:53.151Z"
   },
   {
    "duration": 201,
    "start_time": "2023-03-14T13:20:21.575Z"
   },
   {
    "duration": 404,
    "start_time": "2023-03-14T13:20:21.779Z"
   },
   {
    "duration": 60,
    "start_time": "2023-03-14T13:20:22.185Z"
   },
   {
    "duration": 394,
    "start_time": "2023-03-14T13:20:22.246Z"
   },
   {
    "duration": 345,
    "start_time": "2023-03-14T13:20:22.643Z"
   },
   {
    "duration": 342,
    "start_time": "2023-03-14T13:20:22.990Z"
   },
   {
    "duration": 357,
    "start_time": "2023-03-14T13:20:23.334Z"
   },
   {
    "duration": 254,
    "start_time": "2023-03-14T13:20:23.693Z"
   },
   {
    "duration": 242,
    "start_time": "2023-03-14T13:20:23.949Z"
   },
   {
    "duration": 0,
    "start_time": "2023-03-14T13:20:24.193Z"
   },
   {
    "duration": 0,
    "start_time": "2023-03-14T13:20:24.194Z"
   },
   {
    "duration": 0,
    "start_time": "2023-03-14T13:20:24.196Z"
   },
   {
    "duration": 0,
    "start_time": "2023-03-14T13:20:24.198Z"
   },
   {
    "duration": 0,
    "start_time": "2023-03-14T13:20:24.199Z"
   },
   {
    "duration": 0,
    "start_time": "2023-03-14T13:20:24.200Z"
   },
   {
    "duration": 0,
    "start_time": "2023-03-14T13:20:24.216Z"
   },
   {
    "duration": 0,
    "start_time": "2023-03-14T13:20:24.217Z"
   },
   {
    "duration": 0,
    "start_time": "2023-03-14T13:20:24.218Z"
   },
   {
    "duration": 0,
    "start_time": "2023-03-14T13:20:24.219Z"
   },
   {
    "duration": 0,
    "start_time": "2023-03-14T13:20:24.223Z"
   },
   {
    "duration": 193,
    "start_time": "2023-03-14T13:21:21.364Z"
   },
   {
    "duration": 203,
    "start_time": "2023-03-14T13:21:43.297Z"
   },
   {
    "duration": 179,
    "start_time": "2023-03-14T13:22:01.677Z"
   },
   {
    "duration": 211,
    "start_time": "2023-03-14T13:22:51.848Z"
   },
   {
    "duration": 214,
    "start_time": "2023-03-14T13:23:14.102Z"
   },
   {
    "duration": 197,
    "start_time": "2023-03-14T13:23:35.057Z"
   },
   {
    "duration": 158,
    "start_time": "2023-03-14T13:23:50.430Z"
   },
   {
    "duration": 151,
    "start_time": "2023-03-14T13:24:53.737Z"
   },
   {
    "duration": 136,
    "start_time": "2023-03-14T13:25:12.067Z"
   },
   {
    "duration": 251,
    "start_time": "2023-03-14T13:25:25.509Z"
   },
   {
    "duration": 282,
    "start_time": "2023-03-14T13:25:37.445Z"
   },
   {
    "duration": 222,
    "start_time": "2023-03-14T13:26:26.505Z"
   },
   {
    "duration": 345,
    "start_time": "2023-03-14T13:26:26.730Z"
   },
   {
    "duration": 64,
    "start_time": "2023-03-14T13:26:27.077Z"
   },
   {
    "duration": 392,
    "start_time": "2023-03-14T13:26:27.144Z"
   },
   {
    "duration": 406,
    "start_time": "2023-03-14T13:26:27.538Z"
   },
   {
    "duration": 320,
    "start_time": "2023-03-14T13:26:27.946Z"
   },
   {
    "duration": 426,
    "start_time": "2023-03-14T13:26:28.267Z"
   },
   {
    "duration": 172,
    "start_time": "2023-03-14T13:26:28.695Z"
   },
   {
    "duration": 204,
    "start_time": "2023-03-14T13:26:28.869Z"
   },
   {
    "duration": 170,
    "start_time": "2023-03-14T13:26:29.076Z"
   },
   {
    "duration": 145,
    "start_time": "2023-03-14T13:26:29.248Z"
   },
   {
    "duration": 180,
    "start_time": "2023-03-14T13:26:29.394Z"
   },
   {
    "duration": 180,
    "start_time": "2023-03-14T13:26:29.576Z"
   },
   {
    "duration": 273,
    "start_time": "2023-03-14T13:26:29.758Z"
   },
   {
    "duration": 156,
    "start_time": "2023-03-14T13:26:30.033Z"
   },
   {
    "duration": 456,
    "start_time": "2023-03-14T13:26:30.190Z"
   },
   {
    "duration": 452,
    "start_time": "2023-03-14T13:26:30.647Z"
   },
   {
    "duration": 1328,
    "start_time": "2023-03-14T13:26:31.101Z"
   },
   {
    "duration": 32,
    "start_time": "2023-03-14T13:26:32.431Z"
   },
   {
    "duration": 213,
    "start_time": "2023-03-14T13:26:32.465Z"
   },
   {
    "duration": 269,
    "start_time": "2023-03-14T13:27:49.811Z"
   },
   {
    "duration": 353,
    "start_time": "2023-03-14T13:33:36.649Z"
   },
   {
    "duration": 427,
    "start_time": "2023-03-14T13:35:31.452Z"
   },
   {
    "duration": 1715,
    "start_time": "2023-03-14T13:37:42.930Z"
   },
   {
    "duration": 1614,
    "start_time": "2023-03-14T13:39:27.813Z"
   },
   {
    "duration": 257,
    "start_time": "2023-03-14T13:43:01.442Z"
   },
   {
    "duration": 195,
    "start_time": "2023-03-14T14:10:55.045Z"
   },
   {
    "duration": 391,
    "start_time": "2023-03-14T14:10:55.243Z"
   },
   {
    "duration": 47,
    "start_time": "2023-03-14T14:10:55.636Z"
   },
   {
    "duration": 403,
    "start_time": "2023-03-14T14:10:55.686Z"
   },
   {
    "duration": 381,
    "start_time": "2023-03-14T14:10:56.091Z"
   },
   {
    "duration": 438,
    "start_time": "2023-03-14T14:10:56.474Z"
   },
   {
    "duration": 435,
    "start_time": "2023-03-14T14:10:56.919Z"
   },
   {
    "duration": 183,
    "start_time": "2023-03-14T14:10:57.356Z"
   },
   {
    "duration": 240,
    "start_time": "2023-03-14T14:10:57.542Z"
   },
   {
    "duration": 189,
    "start_time": "2023-03-14T14:10:57.786Z"
   },
   {
    "duration": 163,
    "start_time": "2023-03-14T14:10:57.977Z"
   },
   {
    "duration": 165,
    "start_time": "2023-03-14T14:10:58.142Z"
   },
   {
    "duration": 160,
    "start_time": "2023-03-14T14:10:58.312Z"
   },
   {
    "duration": 290,
    "start_time": "2023-03-14T14:10:58.474Z"
   },
   {
    "duration": 169,
    "start_time": "2023-03-14T14:10:58.766Z"
   },
   {
    "duration": 454,
    "start_time": "2023-03-14T14:10:58.937Z"
   },
   {
    "duration": 493,
    "start_time": "2023-03-14T14:10:59.393Z"
   },
   {
    "duration": 1472,
    "start_time": "2023-03-14T14:10:59.888Z"
   },
   {
    "duration": 30,
    "start_time": "2023-03-14T14:11:01.363Z"
   },
   {
    "duration": 261,
    "start_time": "2023-03-14T14:11:01.395Z"
   },
   {
    "duration": 183,
    "start_time": "2023-03-14T14:18:30.057Z"
   },
   {
    "duration": 362,
    "start_time": "2023-03-14T14:18:30.243Z"
   },
   {
    "duration": 54,
    "start_time": "2023-03-14T14:18:30.611Z"
   },
   {
    "duration": 385,
    "start_time": "2023-03-14T14:18:30.667Z"
   },
   {
    "duration": 383,
    "start_time": "2023-03-14T14:18:31.054Z"
   },
   {
    "duration": 326,
    "start_time": "2023-03-14T14:18:31.438Z"
   },
   {
    "duration": 406,
    "start_time": "2023-03-14T14:18:31.765Z"
   },
   {
    "duration": 177,
    "start_time": "2023-03-14T14:18:32.173Z"
   },
   {
    "duration": 227,
    "start_time": "2023-03-14T14:18:32.353Z"
   },
   {
    "duration": 177,
    "start_time": "2023-03-14T14:18:32.582Z"
   },
   {
    "duration": 295,
    "start_time": "2023-03-14T14:18:32.761Z"
   },
   {
    "duration": 196,
    "start_time": "2023-03-14T14:18:33.058Z"
   },
   {
    "duration": 173,
    "start_time": "2023-03-14T14:18:33.255Z"
   },
   {
    "duration": 299,
    "start_time": "2023-03-14T14:18:33.430Z"
   },
   {
    "duration": 148,
    "start_time": "2023-03-14T14:18:33.730Z"
   },
   {
    "duration": 519,
    "start_time": "2023-03-14T14:18:33.880Z"
   },
   {
    "duration": 535,
    "start_time": "2023-03-14T14:18:34.401Z"
   },
   {
    "duration": 1401,
    "start_time": "2023-03-14T14:18:34.938Z"
   },
   {
    "duration": 30,
    "start_time": "2023-03-14T14:18:36.341Z"
   },
   {
    "duration": 229,
    "start_time": "2023-03-14T14:18:36.373Z"
   },
   {
    "duration": 192,
    "start_time": "2023-03-14T14:22:29.885Z"
   },
   {
    "duration": 369,
    "start_time": "2023-03-14T14:22:30.080Z"
   },
   {
    "duration": 46,
    "start_time": "2023-03-14T14:22:30.451Z"
   },
   {
    "duration": 375,
    "start_time": "2023-03-14T14:22:30.514Z"
   },
   {
    "duration": 362,
    "start_time": "2023-03-14T14:22:30.890Z"
   },
   {
    "duration": 331,
    "start_time": "2023-03-14T14:22:31.253Z"
   },
   {
    "duration": 342,
    "start_time": "2023-03-14T14:22:31.586Z"
   },
   {
    "duration": 249,
    "start_time": "2023-03-14T14:22:31.930Z"
   },
   {
    "duration": 205,
    "start_time": "2023-03-14T14:22:32.182Z"
   },
   {
    "duration": 174,
    "start_time": "2023-03-14T14:22:32.390Z"
   },
   {
    "duration": 153,
    "start_time": "2023-03-14T14:22:32.566Z"
   },
   {
    "duration": 166,
    "start_time": "2023-03-14T14:22:32.723Z"
   },
   {
    "duration": 161,
    "start_time": "2023-03-14T14:22:32.891Z"
   },
   {
    "duration": 298,
    "start_time": "2023-03-14T14:22:33.054Z"
   },
   {
    "duration": 197,
    "start_time": "2023-03-14T14:22:33.354Z"
   },
   {
    "duration": 391,
    "start_time": "2023-03-14T14:22:33.554Z"
   },
   {
    "duration": 622,
    "start_time": "2023-03-14T14:22:33.947Z"
   },
   {
    "duration": 1288,
    "start_time": "2023-03-14T14:22:34.571Z"
   },
   {
    "duration": 30,
    "start_time": "2023-03-14T14:22:35.860Z"
   },
   {
    "duration": 307,
    "start_time": "2023-03-14T14:22:35.891Z"
   },
   {
    "duration": 1110,
    "start_time": "2023-03-14T15:12:46.476Z"
   },
   {
    "duration": 390,
    "start_time": "2023-03-14T15:12:47.590Z"
   },
   {
    "duration": 64,
    "start_time": "2023-03-14T15:12:47.983Z"
   },
   {
    "duration": 486,
    "start_time": "2023-03-14T15:12:48.049Z"
   },
   {
    "duration": 582,
    "start_time": "2023-03-14T15:12:48.537Z"
   },
   {
    "duration": 425,
    "start_time": "2023-03-14T15:12:49.121Z"
   },
   {
    "duration": 385,
    "start_time": "2023-03-14T15:12:49.548Z"
   },
   {
    "duration": 195,
    "start_time": "2023-03-14T15:12:49.936Z"
   },
   {
    "duration": 212,
    "start_time": "2023-03-14T15:12:50.134Z"
   },
   {
    "duration": 224,
    "start_time": "2023-03-14T15:12:50.349Z"
   },
   {
    "duration": 208,
    "start_time": "2023-03-14T15:12:50.575Z"
   },
   {
    "duration": 188,
    "start_time": "2023-03-14T15:12:50.785Z"
   },
   {
    "duration": 168,
    "start_time": "2023-03-14T15:12:50.975Z"
   },
   {
    "duration": 407,
    "start_time": "2023-03-14T15:12:51.145Z"
   },
   {
    "duration": 186,
    "start_time": "2023-03-14T15:12:51.554Z"
   },
   {
    "duration": 380,
    "start_time": "2023-03-14T15:12:51.742Z"
   },
   {
    "duration": 495,
    "start_time": "2023-03-14T15:12:52.124Z"
   },
   {
    "duration": 1433,
    "start_time": "2023-03-14T15:12:52.621Z"
   },
   {
    "duration": 40,
    "start_time": "2023-03-14T15:12:54.055Z"
   },
   {
    "duration": 243,
    "start_time": "2023-03-14T15:12:54.097Z"
   },
   {
    "duration": 9,
    "start_time": "2023-03-14T15:16:33.427Z"
   },
   {
    "duration": 18,
    "start_time": "2023-03-14T15:16:47.664Z"
   },
   {
    "duration": 106,
    "start_time": "2023-03-14T15:16:54.199Z"
   },
   {
    "duration": 11,
    "start_time": "2023-03-14T15:17:02.618Z"
   },
   {
    "duration": 95,
    "start_time": "2023-03-14T15:17:19.197Z"
   },
   {
    "duration": 6,
    "start_time": "2023-03-14T15:17:22.645Z"
   },
   {
    "duration": 3320,
    "start_time": "2023-03-14T16:52:29.025Z"
   },
   {
    "duration": 2275,
    "start_time": "2023-03-14T16:53:05.384Z"
   },
   {
    "duration": 2352,
    "start_time": "2023-03-14T16:57:33.222Z"
   },
   {
    "duration": 338,
    "start_time": "2023-03-14T16:57:35.576Z"
   },
   {
    "duration": 60,
    "start_time": "2023-03-14T16:57:35.915Z"
   },
   {
    "duration": 354,
    "start_time": "2023-03-14T16:57:35.977Z"
   },
   {
    "duration": 337,
    "start_time": "2023-03-14T16:57:36.333Z"
   },
   {
    "duration": 303,
    "start_time": "2023-03-14T16:57:36.672Z"
   },
   {
    "duration": 331,
    "start_time": "2023-03-14T16:57:36.976Z"
   },
   {
    "duration": 167,
    "start_time": "2023-03-14T16:57:37.308Z"
   },
   {
    "duration": 205,
    "start_time": "2023-03-14T16:57:37.477Z"
   },
   {
    "duration": 221,
    "start_time": "2023-03-14T16:57:37.685Z"
   },
   {
    "duration": 329,
    "start_time": "2023-03-14T16:57:37.908Z"
   },
   {
    "duration": 160,
    "start_time": "2023-03-14T16:57:38.239Z"
   },
   {
    "duration": 169,
    "start_time": "2023-03-14T16:57:38.401Z"
   },
   {
    "duration": 273,
    "start_time": "2023-03-14T16:57:38.572Z"
   },
   {
    "duration": 208,
    "start_time": "2023-03-14T16:57:38.847Z"
   },
   {
    "duration": 364,
    "start_time": "2023-03-14T16:57:39.057Z"
   },
   {
    "duration": 463,
    "start_time": "2023-03-14T16:57:39.423Z"
   },
   {
    "duration": 1424,
    "start_time": "2023-03-14T16:57:39.889Z"
   },
   {
    "duration": 31,
    "start_time": "2023-03-14T16:57:41.314Z"
   },
   {
    "duration": 249,
    "start_time": "2023-03-14T16:57:41.347Z"
   },
   {
    "duration": 2134,
    "start_time": "2023-03-14T17:07:12.559Z"
   },
   {
    "duration": 2812,
    "start_time": "2023-03-14T17:09:52.526Z"
   },
   {
    "duration": 295,
    "start_time": "2023-03-14T17:09:55.340Z"
   },
   {
    "duration": 43,
    "start_time": "2023-03-14T17:09:55.636Z"
   },
   {
    "duration": 347,
    "start_time": "2023-03-14T17:09:55.681Z"
   },
   {
    "duration": 330,
    "start_time": "2023-03-14T17:09:56.029Z"
   },
   {
    "duration": 412,
    "start_time": "2023-03-14T17:09:56.360Z"
   },
   {
    "duration": 326,
    "start_time": "2023-03-14T17:09:56.774Z"
   },
   {
    "duration": 154,
    "start_time": "2023-03-14T17:09:57.102Z"
   },
   {
    "duration": 183,
    "start_time": "2023-03-14T17:09:57.258Z"
   },
   {
    "duration": 166,
    "start_time": "2023-03-14T17:09:57.443Z"
   },
   {
    "duration": 131,
    "start_time": "2023-03-14T17:09:57.611Z"
   },
   {
    "duration": 154,
    "start_time": "2023-03-14T17:09:57.744Z"
   },
   {
    "duration": 158,
    "start_time": "2023-03-14T17:09:57.899Z"
   },
   {
    "duration": 247,
    "start_time": "2023-03-14T17:09:58.059Z"
   },
   {
    "duration": 224,
    "start_time": "2023-03-14T17:09:58.308Z"
   },
   {
    "duration": 357,
    "start_time": "2023-03-14T17:09:58.533Z"
   },
   {
    "duration": 405,
    "start_time": "2023-03-14T17:09:58.892Z"
   },
   {
    "duration": 1514,
    "start_time": "2023-03-14T17:09:59.299Z"
   },
   {
    "duration": 31,
    "start_time": "2023-03-14T17:10:00.815Z"
   },
   {
    "duration": 238,
    "start_time": "2023-03-14T17:10:00.848Z"
   },
   {
    "duration": 3199,
    "start_time": "2023-03-14T17:19:20.099Z"
   },
   {
    "duration": 450,
    "start_time": "2023-03-14T17:19:23.301Z"
   },
   {
    "duration": 45,
    "start_time": "2023-03-14T17:19:23.753Z"
   },
   {
    "duration": 381,
    "start_time": "2023-03-14T17:19:23.800Z"
   },
   {
    "duration": 337,
    "start_time": "2023-03-14T17:19:24.182Z"
   },
   {
    "duration": 411,
    "start_time": "2023-03-14T17:19:24.521Z"
   },
   {
    "duration": 352,
    "start_time": "2023-03-14T17:19:24.934Z"
   },
   {
    "duration": 162,
    "start_time": "2023-03-14T17:19:25.288Z"
   },
   {
    "duration": 203,
    "start_time": "2023-03-14T17:19:25.452Z"
   },
   {
    "duration": 157,
    "start_time": "2023-03-14T17:19:25.657Z"
   },
   {
    "duration": 144,
    "start_time": "2023-03-14T17:19:25.821Z"
   },
   {
    "duration": 172,
    "start_time": "2023-03-14T17:19:25.968Z"
   },
   {
    "duration": 160,
    "start_time": "2023-03-14T17:19:26.142Z"
   },
   {
    "duration": 278,
    "start_time": "2023-03-14T17:19:26.304Z"
   },
   {
    "duration": 249,
    "start_time": "2023-03-14T17:19:26.583Z"
   },
   {
    "duration": 377,
    "start_time": "2023-03-14T17:19:26.834Z"
   },
   {
    "duration": 436,
    "start_time": "2023-03-14T17:19:27.212Z"
   },
   {
    "duration": 1389,
    "start_time": "2023-03-14T17:19:27.656Z"
   },
   {
    "duration": 25,
    "start_time": "2023-03-14T17:19:29.047Z"
   },
   {
    "duration": 226,
    "start_time": "2023-03-14T17:19:29.073Z"
   },
   {
    "duration": 3159,
    "start_time": "2023-03-14T17:20:48.874Z"
   },
   {
    "duration": 335,
    "start_time": "2023-03-14T17:20:52.036Z"
   },
   {
    "duration": 60,
    "start_time": "2023-03-14T17:20:52.374Z"
   },
   {
    "duration": 364,
    "start_time": "2023-03-14T17:20:52.437Z"
   },
   {
    "duration": 374,
    "start_time": "2023-03-14T17:20:52.803Z"
   },
   {
    "duration": 555,
    "start_time": "2023-03-14T17:20:53.179Z"
   },
   {
    "duration": 410,
    "start_time": "2023-03-14T17:20:53.736Z"
   },
   {
    "duration": 185,
    "start_time": "2023-03-14T17:20:54.149Z"
   },
   {
    "duration": 212,
    "start_time": "2023-03-14T17:20:54.336Z"
   },
   {
    "duration": 200,
    "start_time": "2023-03-14T17:20:54.552Z"
   },
   {
    "duration": 149,
    "start_time": "2023-03-14T17:20:54.754Z"
   },
   {
    "duration": 149,
    "start_time": "2023-03-14T17:20:54.904Z"
   },
   {
    "duration": 149,
    "start_time": "2023-03-14T17:20:55.054Z"
   },
   {
    "duration": 276,
    "start_time": "2023-03-14T17:20:55.205Z"
   },
   {
    "duration": 224,
    "start_time": "2023-03-14T17:20:55.482Z"
   },
   {
    "duration": 480,
    "start_time": "2023-03-14T17:20:55.709Z"
   },
   {
    "duration": 411,
    "start_time": "2023-03-14T17:20:56.191Z"
   },
   {
    "duration": 1406,
    "start_time": "2023-03-14T17:20:56.604Z"
   },
   {
    "duration": 42,
    "start_time": "2023-03-14T17:20:58.012Z"
   },
   {
    "duration": 223,
    "start_time": "2023-03-14T17:20:58.056Z"
   },
   {
    "duration": 2285,
    "start_time": "2023-03-14T17:39:52.847Z"
   },
   {
    "duration": 2416,
    "start_time": "2023-03-14T17:40:29.257Z"
   },
   {
    "duration": 2600,
    "start_time": "2023-03-14T17:58:11.913Z"
   },
   {
    "duration": 395,
    "start_time": "2023-03-14T17:58:14.516Z"
   },
   {
    "duration": 72,
    "start_time": "2023-03-14T17:58:14.914Z"
   },
   {
    "duration": 483,
    "start_time": "2023-03-14T17:58:14.989Z"
   },
   {
    "duration": 382,
    "start_time": "2023-03-14T17:58:15.474Z"
   },
   {
    "duration": 367,
    "start_time": "2023-03-14T17:58:15.858Z"
   },
   {
    "duration": 445,
    "start_time": "2023-03-14T17:58:16.226Z"
   },
   {
    "duration": 233,
    "start_time": "2023-03-14T17:58:16.673Z"
   },
   {
    "duration": 268,
    "start_time": "2023-03-14T17:58:16.908Z"
   },
   {
    "duration": 273,
    "start_time": "2023-03-14T17:58:17.180Z"
   },
   {
    "duration": 176,
    "start_time": "2023-03-14T17:58:17.456Z"
   },
   {
    "duration": 262,
    "start_time": "2023-03-14T17:58:17.634Z"
   },
   {
    "duration": 180,
    "start_time": "2023-03-14T17:58:17.898Z"
   },
   {
    "duration": 435,
    "start_time": "2023-03-14T17:58:18.080Z"
   },
   {
    "duration": 215,
    "start_time": "2023-03-14T17:58:18.524Z"
   },
   {
    "duration": 383,
    "start_time": "2023-03-14T17:58:18.742Z"
   },
   {
    "duration": 457,
    "start_time": "2023-03-14T17:58:19.127Z"
   },
   {
    "duration": 1783,
    "start_time": "2023-03-14T17:58:19.587Z"
   },
   {
    "duration": 35,
    "start_time": "2023-03-14T17:58:21.373Z"
   },
   {
    "duration": 321,
    "start_time": "2023-03-14T17:58:21.411Z"
   },
   {
    "duration": 827,
    "start_time": "2023-03-14T18:00:04.348Z"
   },
   {
    "duration": 48,
    "start_time": "2023-03-14T18:00:48.042Z"
   },
   {
    "duration": 45,
    "start_time": "2023-03-14T18:01:18.443Z"
   },
   {
    "duration": 52,
    "start_time": "2023-03-14T18:01:41.303Z"
   },
   {
    "duration": 4295,
    "start_time": "2023-03-14T18:11:18.863Z"
   },
   {
    "duration": 344,
    "start_time": "2023-03-14T18:11:23.161Z"
   },
   {
    "duration": 57,
    "start_time": "2023-03-14T18:11:23.508Z"
   },
   {
    "duration": 408,
    "start_time": "2023-03-14T18:11:23.567Z"
   },
   {
    "duration": 396,
    "start_time": "2023-03-14T18:11:23.978Z"
   },
   {
    "duration": 534,
    "start_time": "2023-03-14T18:11:24.377Z"
   },
   {
    "duration": 432,
    "start_time": "2023-03-14T18:11:24.914Z"
   },
   {
    "duration": 205,
    "start_time": "2023-03-14T18:11:25.349Z"
   },
   {
    "duration": 244,
    "start_time": "2023-03-14T18:11:25.556Z"
   },
   {
    "duration": 231,
    "start_time": "2023-03-14T18:11:25.804Z"
   },
   {
    "duration": 161,
    "start_time": "2023-03-14T18:11:26.036Z"
   },
   {
    "duration": 176,
    "start_time": "2023-03-14T18:11:26.200Z"
   },
   {
    "duration": 179,
    "start_time": "2023-03-14T18:11:26.378Z"
   },
   {
    "duration": 312,
    "start_time": "2023-03-14T18:11:26.559Z"
   },
   {
    "duration": 296,
    "start_time": "2023-03-14T18:11:26.875Z"
   },
   {
    "duration": 436,
    "start_time": "2023-03-14T18:11:27.175Z"
   },
   {
    "duration": 467,
    "start_time": "2023-03-14T18:11:27.614Z"
   },
   {
    "duration": 1480,
    "start_time": "2023-03-14T18:11:28.083Z"
   },
   {
    "duration": 37,
    "start_time": "2023-03-14T18:11:29.565Z"
   },
   {
    "duration": 321,
    "start_time": "2023-03-14T18:11:29.603Z"
   },
   {
    "duration": 3365,
    "start_time": "2023-03-14T18:11:45.847Z"
   },
   {
    "duration": 509,
    "start_time": "2023-03-14T18:11:49.216Z"
   },
   {
    "duration": 74,
    "start_time": "2023-03-14T18:11:49.728Z"
   },
   {
    "duration": 439,
    "start_time": "2023-03-14T18:11:49.805Z"
   },
   {
    "duration": 450,
    "start_time": "2023-03-14T18:11:50.246Z"
   },
   {
    "duration": 536,
    "start_time": "2023-03-14T18:11:50.699Z"
   },
   {
    "duration": 508,
    "start_time": "2023-03-14T18:11:51.237Z"
   },
   {
    "duration": 251,
    "start_time": "2023-03-14T18:11:51.748Z"
   },
   {
    "duration": 288,
    "start_time": "2023-03-14T18:11:52.002Z"
   },
   {
    "duration": 232,
    "start_time": "2023-03-14T18:11:52.294Z"
   },
   {
    "duration": 197,
    "start_time": "2023-03-14T18:11:52.531Z"
   },
   {
    "duration": 268,
    "start_time": "2023-03-14T18:11:52.737Z"
   },
   {
    "duration": 243,
    "start_time": "2023-03-14T18:11:53.008Z"
   },
   {
    "duration": 332,
    "start_time": "2023-03-14T18:11:53.253Z"
   },
   {
    "duration": 300,
    "start_time": "2023-03-14T18:11:53.591Z"
   },
   {
    "duration": 397,
    "start_time": "2023-03-14T18:11:53.893Z"
   },
   {
    "duration": 442,
    "start_time": "2023-03-14T18:11:54.292Z"
   },
   {
    "duration": 1460,
    "start_time": "2023-03-14T18:11:54.741Z"
   },
   {
    "duration": 41,
    "start_time": "2023-03-14T18:11:56.203Z"
   },
   {
    "duration": 237,
    "start_time": "2023-03-14T18:11:56.246Z"
   },
   {
    "duration": 4375,
    "start_time": "2023-03-14T18:12:34.852Z"
   },
   {
    "duration": 500,
    "start_time": "2023-03-14T18:12:39.230Z"
   },
   {
    "duration": 67,
    "start_time": "2023-03-14T18:12:39.732Z"
   },
   {
    "duration": 578,
    "start_time": "2023-03-14T18:12:39.801Z"
   },
   {
    "duration": 481,
    "start_time": "2023-03-14T18:12:40.381Z"
   },
   {
    "duration": 526,
    "start_time": "2023-03-14T18:12:40.868Z"
   },
   {
    "duration": 456,
    "start_time": "2023-03-14T18:12:41.396Z"
   },
   {
    "duration": 199,
    "start_time": "2023-03-14T18:12:41.865Z"
   },
   {
    "duration": 228,
    "start_time": "2023-03-14T18:12:42.068Z"
   },
   {
    "duration": 274,
    "start_time": "2023-03-14T18:12:42.299Z"
   },
   {
    "duration": 218,
    "start_time": "2023-03-14T18:12:42.578Z"
   },
   {
    "duration": 262,
    "start_time": "2023-03-14T18:12:42.798Z"
   },
   {
    "duration": 228,
    "start_time": "2023-03-14T18:12:43.062Z"
   },
   {
    "duration": 395,
    "start_time": "2023-03-14T18:12:43.292Z"
   },
   {
    "duration": 322,
    "start_time": "2023-03-14T18:12:43.689Z"
   },
   {
    "duration": 530,
    "start_time": "2023-03-14T18:12:44.014Z"
   },
   {
    "duration": 584,
    "start_time": "2023-03-14T18:12:44.546Z"
   },
   {
    "duration": 1895,
    "start_time": "2023-03-14T18:12:45.138Z"
   },
   {
    "duration": 48,
    "start_time": "2023-03-14T18:12:47.043Z"
   },
   {
    "duration": 303,
    "start_time": "2023-03-14T18:12:47.093Z"
   },
   {
    "duration": 3271,
    "start_time": "2023-03-14T18:14:01.151Z"
   },
   {
    "duration": 382,
    "start_time": "2023-03-14T18:14:04.424Z"
   },
   {
    "duration": 74,
    "start_time": "2023-03-14T18:14:04.809Z"
   },
   {
    "duration": 487,
    "start_time": "2023-03-14T18:14:04.887Z"
   },
   {
    "duration": 484,
    "start_time": "2023-03-14T18:14:05.376Z"
   },
   {
    "duration": 488,
    "start_time": "2023-03-14T18:14:05.863Z"
   },
   {
    "duration": 362,
    "start_time": "2023-03-14T18:14:06.354Z"
   },
   {
    "duration": 177,
    "start_time": "2023-03-14T18:14:06.727Z"
   },
   {
    "duration": 269,
    "start_time": "2023-03-14T18:14:06.907Z"
   },
   {
    "duration": 184,
    "start_time": "2023-03-14T18:14:07.179Z"
   },
   {
    "duration": 165,
    "start_time": "2023-03-14T18:14:07.366Z"
   },
   {
    "duration": 189,
    "start_time": "2023-03-14T18:14:07.535Z"
   },
   {
    "duration": 171,
    "start_time": "2023-03-14T18:14:07.732Z"
   },
   {
    "duration": 306,
    "start_time": "2023-03-14T18:14:07.905Z"
   },
   {
    "duration": 273,
    "start_time": "2023-03-14T18:14:08.223Z"
   },
   {
    "duration": 389,
    "start_time": "2023-03-14T18:14:08.499Z"
   },
   {
    "duration": 478,
    "start_time": "2023-03-14T18:14:08.890Z"
   },
   {
    "duration": 1671,
    "start_time": "2023-03-14T18:14:09.370Z"
   },
   {
    "duration": 39,
    "start_time": "2023-03-14T18:14:11.050Z"
   },
   {
    "duration": 244,
    "start_time": "2023-03-14T18:14:11.091Z"
   },
   {
    "duration": 3304,
    "start_time": "2023-03-14T18:14:49.650Z"
   },
   {
    "duration": 451,
    "start_time": "2023-03-14T18:14:52.959Z"
   },
   {
    "duration": 55,
    "start_time": "2023-03-14T18:14:53.413Z"
   },
   {
    "duration": 416,
    "start_time": "2023-03-14T18:14:53.470Z"
   },
   {
    "duration": 402,
    "start_time": "2023-03-14T18:14:53.888Z"
   },
   {
    "duration": 521,
    "start_time": "2023-03-14T18:14:54.293Z"
   },
   {
    "duration": 361,
    "start_time": "2023-03-14T18:14:54.816Z"
   },
   {
    "duration": 202,
    "start_time": "2023-03-14T18:14:55.178Z"
   },
   {
    "duration": 250,
    "start_time": "2023-03-14T18:14:55.382Z"
   },
   {
    "duration": 243,
    "start_time": "2023-03-14T18:14:55.637Z"
   },
   {
    "duration": 222,
    "start_time": "2023-03-14T18:14:55.883Z"
   },
   {
    "duration": 221,
    "start_time": "2023-03-14T18:14:56.107Z"
   },
   {
    "duration": 221,
    "start_time": "2023-03-14T18:14:56.330Z"
   },
   {
    "duration": 315,
    "start_time": "2023-03-14T18:14:56.554Z"
   },
   {
    "duration": 358,
    "start_time": "2023-03-14T18:14:56.871Z"
   },
   {
    "duration": 530,
    "start_time": "2023-03-14T18:14:57.231Z"
   },
   {
    "duration": 458,
    "start_time": "2023-03-14T18:14:57.763Z"
   },
   {
    "duration": 1448,
    "start_time": "2023-03-14T18:14:58.224Z"
   },
   {
    "duration": 54,
    "start_time": "2023-03-14T18:14:59.674Z"
   },
   {
    "duration": 312,
    "start_time": "2023-03-14T18:14:59.730Z"
   },
   {
    "duration": 3317,
    "start_time": "2023-03-14T18:15:05.257Z"
   },
   {
    "duration": 406,
    "start_time": "2023-03-14T18:15:08.578Z"
   },
   {
    "duration": 57,
    "start_time": "2023-03-14T18:15:08.993Z"
   },
   {
    "duration": 390,
    "start_time": "2023-03-14T18:15:09.054Z"
   },
   {
    "duration": 442,
    "start_time": "2023-03-14T18:15:09.446Z"
   },
   {
    "duration": 609,
    "start_time": "2023-03-14T18:15:09.890Z"
   },
   {
    "duration": 589,
    "start_time": "2023-03-14T18:15:10.501Z"
   },
   {
    "duration": 257,
    "start_time": "2023-03-14T18:15:11.093Z"
   },
   {
    "duration": 214,
    "start_time": "2023-03-14T18:15:11.353Z"
   },
   {
    "duration": 186,
    "start_time": "2023-03-14T18:15:11.570Z"
   },
   {
    "duration": 181,
    "start_time": "2023-03-14T18:15:11.764Z"
   },
   {
    "duration": 181,
    "start_time": "2023-03-14T18:15:11.949Z"
   },
   {
    "duration": 236,
    "start_time": "2023-03-14T18:15:12.133Z"
   },
   {
    "duration": 385,
    "start_time": "2023-03-14T18:15:12.376Z"
   },
   {
    "duration": 350,
    "start_time": "2023-03-14T18:15:12.763Z"
   },
   {
    "duration": 517,
    "start_time": "2023-03-14T18:15:13.115Z"
   },
   {
    "duration": 580,
    "start_time": "2023-03-14T18:15:13.637Z"
   },
   {
    "duration": 1545,
    "start_time": "2023-03-14T18:15:14.220Z"
   },
   {
    "duration": 27,
    "start_time": "2023-03-14T18:15:15.768Z"
   },
   {
    "duration": 341,
    "start_time": "2023-03-14T18:15:15.797Z"
   },
   {
    "duration": 4091,
    "start_time": "2023-03-14T18:15:52.307Z"
   },
   {
    "duration": 479,
    "start_time": "2023-03-14T18:15:56.402Z"
   },
   {
    "duration": 73,
    "start_time": "2023-03-14T18:15:56.884Z"
   },
   {
    "duration": 467,
    "start_time": "2023-03-14T18:15:56.960Z"
   },
   {
    "duration": 364,
    "start_time": "2023-03-14T18:15:57.431Z"
   },
   {
    "duration": 558,
    "start_time": "2023-03-14T18:15:57.798Z"
   },
   {
    "duration": 385,
    "start_time": "2023-03-14T18:15:58.359Z"
   },
   {
    "duration": 207,
    "start_time": "2023-03-14T18:15:58.746Z"
   },
   {
    "duration": 314,
    "start_time": "2023-03-14T18:15:58.956Z"
   },
   {
    "duration": 214,
    "start_time": "2023-03-14T18:15:59.274Z"
   },
   {
    "duration": 228,
    "start_time": "2023-03-14T18:15:59.489Z"
   },
   {
    "duration": 240,
    "start_time": "2023-03-14T18:15:59.721Z"
   },
   {
    "duration": 178,
    "start_time": "2023-03-14T18:15:59.964Z"
   },
   {
    "duration": 311,
    "start_time": "2023-03-14T18:16:00.147Z"
   },
   {
    "duration": 368,
    "start_time": "2023-03-14T18:16:00.459Z"
   },
   {
    "duration": 476,
    "start_time": "2023-03-14T18:16:00.834Z"
   },
   {
    "duration": 445,
    "start_time": "2023-03-14T18:16:01.313Z"
   },
   {
    "duration": 1588,
    "start_time": "2023-03-14T18:16:01.761Z"
   },
   {
    "duration": 28,
    "start_time": "2023-03-14T18:16:03.351Z"
   },
   {
    "duration": 322,
    "start_time": "2023-03-14T18:16:03.381Z"
   },
   {
    "duration": 4305,
    "start_time": "2023-03-14T18:16:25.501Z"
   },
   {
    "duration": 399,
    "start_time": "2023-03-14T18:16:29.809Z"
   },
   {
    "duration": 69,
    "start_time": "2023-03-14T18:16:30.211Z"
   },
   {
    "duration": 528,
    "start_time": "2023-03-14T18:16:30.283Z"
   },
   {
    "duration": 431,
    "start_time": "2023-03-14T18:16:30.824Z"
   },
   {
    "duration": 544,
    "start_time": "2023-03-14T18:16:31.258Z"
   },
   {
    "duration": 511,
    "start_time": "2023-03-14T18:16:31.805Z"
   },
   {
    "duration": 171,
    "start_time": "2023-03-14T18:16:32.318Z"
   },
   {
    "duration": 262,
    "start_time": "2023-03-14T18:16:32.490Z"
   },
   {
    "duration": 167,
    "start_time": "2023-03-14T18:16:32.757Z"
   },
   {
    "duration": 226,
    "start_time": "2023-03-14T18:16:32.927Z"
   },
   {
    "duration": 244,
    "start_time": "2023-03-14T18:16:33.155Z"
   },
   {
    "duration": 197,
    "start_time": "2023-03-14T18:16:33.402Z"
   },
   {
    "duration": 342,
    "start_time": "2023-03-14T18:16:33.603Z"
   },
   {
    "duration": 367,
    "start_time": "2023-03-14T18:16:33.946Z"
   },
   {
    "duration": 381,
    "start_time": "2023-03-14T18:16:34.316Z"
   },
   {
    "duration": 474,
    "start_time": "2023-03-14T18:16:34.699Z"
   },
   {
    "duration": 1509,
    "start_time": "2023-03-14T18:16:35.175Z"
   },
   {
    "duration": 49,
    "start_time": "2023-03-14T18:16:36.687Z"
   },
   {
    "duration": 243,
    "start_time": "2023-03-14T18:16:36.738Z"
   },
   {
    "duration": 3286,
    "start_time": "2023-03-14T18:17:29.196Z"
   },
   {
    "duration": 363,
    "start_time": "2023-03-14T18:17:32.485Z"
   },
   {
    "duration": 55,
    "start_time": "2023-03-14T18:17:32.850Z"
   },
   {
    "duration": 387,
    "start_time": "2023-03-14T18:17:32.920Z"
   },
   {
    "duration": 358,
    "start_time": "2023-03-14T18:17:33.309Z"
   },
   {
    "duration": 475,
    "start_time": "2023-03-14T18:17:33.669Z"
   },
   {
    "duration": 362,
    "start_time": "2023-03-14T18:17:34.147Z"
   },
   {
    "duration": 185,
    "start_time": "2023-03-14T18:17:34.511Z"
   },
   {
    "duration": 221,
    "start_time": "2023-03-14T18:17:34.698Z"
   },
   {
    "duration": 172,
    "start_time": "2023-03-14T18:17:34.923Z"
   },
   {
    "duration": 176,
    "start_time": "2023-03-14T18:17:35.096Z"
   },
   {
    "duration": 175,
    "start_time": "2023-03-14T18:17:35.274Z"
   },
   {
    "duration": 159,
    "start_time": "2023-03-14T18:17:35.451Z"
   },
   {
    "duration": 327,
    "start_time": "2023-03-14T18:17:35.611Z"
   },
   {
    "duration": 271,
    "start_time": "2023-03-14T18:17:35.939Z"
   },
   {
    "duration": 432,
    "start_time": "2023-03-14T18:17:36.212Z"
   },
   {
    "duration": 416,
    "start_time": "2023-03-14T18:17:36.649Z"
   },
   {
    "duration": 1359,
    "start_time": "2023-03-14T18:17:37.068Z"
   },
   {
    "duration": 44,
    "start_time": "2023-03-14T18:17:38.429Z"
   },
   {
    "duration": 225,
    "start_time": "2023-03-14T18:17:38.475Z"
   },
   {
    "duration": 3107,
    "start_time": "2023-03-14T18:17:44.983Z"
   },
   {
    "duration": 331,
    "start_time": "2023-03-14T18:17:48.092Z"
   },
   {
    "duration": 48,
    "start_time": "2023-03-14T18:17:48.425Z"
   },
   {
    "duration": 381,
    "start_time": "2023-03-14T18:17:48.476Z"
   },
   {
    "duration": 346,
    "start_time": "2023-03-14T18:17:48.859Z"
   },
   {
    "duration": 481,
    "start_time": "2023-03-14T18:17:49.206Z"
   },
   {
    "duration": 378,
    "start_time": "2023-03-14T18:17:49.689Z"
   },
   {
    "duration": 190,
    "start_time": "2023-03-14T18:17:50.070Z"
   },
   {
    "duration": 290,
    "start_time": "2023-03-14T18:17:50.264Z"
   },
   {
    "duration": 187,
    "start_time": "2023-03-14T18:17:50.558Z"
   },
   {
    "duration": 145,
    "start_time": "2023-03-14T18:17:50.747Z"
   },
   {
    "duration": 180,
    "start_time": "2023-03-14T18:17:50.894Z"
   },
   {
    "duration": 178,
    "start_time": "2023-03-14T18:17:51.076Z"
   },
   {
    "duration": 290,
    "start_time": "2023-03-14T18:17:51.256Z"
   },
   {
    "duration": 256,
    "start_time": "2023-03-14T18:17:51.548Z"
   },
   {
    "duration": 390,
    "start_time": "2023-03-14T18:17:51.806Z"
   },
   {
    "duration": 419,
    "start_time": "2023-03-14T18:17:52.198Z"
   },
   {
    "duration": 1428,
    "start_time": "2023-03-14T18:17:52.625Z"
   },
   {
    "duration": 28,
    "start_time": "2023-03-14T18:17:54.056Z"
   },
   {
    "duration": 252,
    "start_time": "2023-03-14T18:17:54.086Z"
   },
   {
    "duration": 3215,
    "start_time": "2023-03-14T18:18:06.530Z"
   },
   {
    "duration": 370,
    "start_time": "2023-03-14T18:18:09.753Z"
   },
   {
    "duration": 49,
    "start_time": "2023-03-14T18:18:10.125Z"
   },
   {
    "duration": 490,
    "start_time": "2023-03-14T18:18:10.177Z"
   },
   {
    "duration": 367,
    "start_time": "2023-03-14T18:18:10.670Z"
   },
   {
    "duration": 451,
    "start_time": "2023-03-14T18:18:11.039Z"
   },
   {
    "duration": 335,
    "start_time": "2023-03-14T18:18:11.491Z"
   },
   {
    "duration": 183,
    "start_time": "2023-03-14T18:18:11.830Z"
   },
   {
    "duration": 214,
    "start_time": "2023-03-14T18:18:12.014Z"
   },
   {
    "duration": 170,
    "start_time": "2023-03-14T18:18:12.235Z"
   },
   {
    "duration": 163,
    "start_time": "2023-03-14T18:18:12.407Z"
   },
   {
    "duration": 175,
    "start_time": "2023-03-14T18:18:12.571Z"
   },
   {
    "duration": 185,
    "start_time": "2023-03-14T18:18:12.748Z"
   },
   {
    "duration": 272,
    "start_time": "2023-03-14T18:18:12.935Z"
   },
   {
    "duration": 248,
    "start_time": "2023-03-14T18:18:13.210Z"
   },
   {
    "duration": 416,
    "start_time": "2023-03-14T18:18:13.461Z"
   },
   {
    "duration": 439,
    "start_time": "2023-03-14T18:18:13.879Z"
   },
   {
    "duration": 1390,
    "start_time": "2023-03-14T18:18:14.320Z"
   },
   {
    "duration": 43,
    "start_time": "2023-03-14T18:18:15.711Z"
   },
   {
    "duration": 241,
    "start_time": "2023-03-14T18:18:15.756Z"
   },
   {
    "duration": 3188,
    "start_time": "2023-03-14T18:18:29.074Z"
   },
   {
    "duration": 338,
    "start_time": "2023-03-14T18:18:32.265Z"
   },
   {
    "duration": 61,
    "start_time": "2023-03-14T18:18:32.605Z"
   },
   {
    "duration": 371,
    "start_time": "2023-03-14T18:18:32.668Z"
   },
   {
    "duration": 354,
    "start_time": "2023-03-14T18:18:33.040Z"
   },
   {
    "duration": 472,
    "start_time": "2023-03-14T18:18:33.396Z"
   },
   {
    "duration": 440,
    "start_time": "2023-03-14T18:18:33.870Z"
   },
   {
    "duration": 242,
    "start_time": "2023-03-14T18:18:34.313Z"
   },
   {
    "duration": 205,
    "start_time": "2023-03-14T18:18:34.557Z"
   },
   {
    "duration": 173,
    "start_time": "2023-03-14T18:18:34.767Z"
   },
   {
    "duration": 147,
    "start_time": "2023-03-14T18:18:34.942Z"
   },
   {
    "duration": 173,
    "start_time": "2023-03-14T18:18:35.091Z"
   },
   {
    "duration": 164,
    "start_time": "2023-03-14T18:18:35.266Z"
   },
   {
    "duration": 297,
    "start_time": "2023-03-14T18:18:35.433Z"
   },
   {
    "duration": 268,
    "start_time": "2023-03-14T18:18:35.733Z"
   },
   {
    "duration": 404,
    "start_time": "2023-03-14T18:18:36.003Z"
   },
   {
    "duration": 447,
    "start_time": "2023-03-14T18:18:36.408Z"
   },
   {
    "duration": 1353,
    "start_time": "2023-03-14T18:18:36.857Z"
   },
   {
    "duration": 45,
    "start_time": "2023-03-14T18:18:38.212Z"
   },
   {
    "duration": 246,
    "start_time": "2023-03-14T18:18:38.259Z"
   },
   {
    "duration": 3215,
    "start_time": "2023-03-14T18:18:57.375Z"
   },
   {
    "duration": 466,
    "start_time": "2023-03-14T18:19:00.592Z"
   },
   {
    "duration": 62,
    "start_time": "2023-03-14T18:19:01.061Z"
   },
   {
    "duration": 370,
    "start_time": "2023-03-14T18:19:01.125Z"
   },
   {
    "duration": 406,
    "start_time": "2023-03-14T18:19:01.498Z"
   },
   {
    "duration": 452,
    "start_time": "2023-03-14T18:19:01.905Z"
   },
   {
    "duration": 327,
    "start_time": "2023-03-14T18:19:02.359Z"
   },
   {
    "duration": 192,
    "start_time": "2023-03-14T18:19:02.688Z"
   },
   {
    "duration": 212,
    "start_time": "2023-03-14T18:19:02.883Z"
   },
   {
    "duration": 176,
    "start_time": "2023-03-14T18:19:03.100Z"
   },
   {
    "duration": 171,
    "start_time": "2023-03-14T18:19:03.278Z"
   },
   {
    "duration": 179,
    "start_time": "2023-03-14T18:19:03.451Z"
   },
   {
    "duration": 172,
    "start_time": "2023-03-14T18:19:03.635Z"
   },
   {
    "duration": 326,
    "start_time": "2023-03-14T18:19:03.810Z"
   },
   {
    "duration": 289,
    "start_time": "2023-03-14T18:19:04.138Z"
   },
   {
    "duration": 391,
    "start_time": "2023-03-14T18:19:04.430Z"
   },
   {
    "duration": 436,
    "start_time": "2023-03-14T18:19:04.824Z"
   },
   {
    "duration": 1439,
    "start_time": "2023-03-14T18:19:05.262Z"
   },
   {
    "duration": 46,
    "start_time": "2023-03-14T18:19:06.703Z"
   },
   {
    "duration": 241,
    "start_time": "2023-03-14T18:19:06.751Z"
   },
   {
    "duration": 3183,
    "start_time": "2023-03-14T18:19:22.999Z"
   },
   {
    "duration": 361,
    "start_time": "2023-03-14T18:19:26.185Z"
   },
   {
    "duration": 47,
    "start_time": "2023-03-14T18:19:26.547Z"
   },
   {
    "duration": 397,
    "start_time": "2023-03-14T18:19:26.597Z"
   },
   {
    "duration": 383,
    "start_time": "2023-03-14T18:19:26.996Z"
   },
   {
    "duration": 487,
    "start_time": "2023-03-14T18:19:27.380Z"
   },
   {
    "duration": 368,
    "start_time": "2023-03-14T18:19:27.871Z"
   },
   {
    "duration": 168,
    "start_time": "2023-03-14T18:19:28.242Z"
   },
   {
    "duration": 201,
    "start_time": "2023-03-14T18:19:28.412Z"
   },
   {
    "duration": 186,
    "start_time": "2023-03-14T18:19:28.616Z"
   },
   {
    "duration": 160,
    "start_time": "2023-03-14T18:19:28.803Z"
   },
   {
    "duration": 163,
    "start_time": "2023-03-14T18:19:28.964Z"
   },
   {
    "duration": 181,
    "start_time": "2023-03-14T18:19:29.129Z"
   },
   {
    "duration": 340,
    "start_time": "2023-03-14T18:19:29.312Z"
   },
   {
    "duration": 291,
    "start_time": "2023-03-14T18:19:29.656Z"
   },
   {
    "duration": 445,
    "start_time": "2023-03-14T18:19:29.949Z"
   },
   {
    "duration": 657,
    "start_time": "2023-03-14T18:19:30.397Z"
   },
   {
    "duration": 1446,
    "start_time": "2023-03-14T18:19:31.058Z"
   },
   {
    "duration": 45,
    "start_time": "2023-03-14T18:19:32.507Z"
   },
   {
    "duration": 261,
    "start_time": "2023-03-14T18:19:32.555Z"
   },
   {
    "duration": 3245,
    "start_time": "2023-03-14T18:19:41.094Z"
   },
   {
    "duration": 463,
    "start_time": "2023-03-14T18:19:44.346Z"
   },
   {
    "duration": 64,
    "start_time": "2023-03-14T18:19:44.811Z"
   },
   {
    "duration": 382,
    "start_time": "2023-03-14T18:19:44.877Z"
   },
   {
    "duration": 419,
    "start_time": "2023-03-14T18:19:45.261Z"
   },
   {
    "duration": 484,
    "start_time": "2023-03-14T18:19:45.682Z"
   },
   {
    "duration": 381,
    "start_time": "2023-03-14T18:19:46.169Z"
   },
   {
    "duration": 217,
    "start_time": "2023-03-14T18:19:46.553Z"
   },
   {
    "duration": 217,
    "start_time": "2023-03-14T18:19:46.772Z"
   },
   {
    "duration": 179,
    "start_time": "2023-03-14T18:19:46.992Z"
   },
   {
    "duration": 182,
    "start_time": "2023-03-14T18:19:47.174Z"
   },
   {
    "duration": 195,
    "start_time": "2023-03-14T18:19:47.359Z"
   },
   {
    "duration": 190,
    "start_time": "2023-03-14T18:19:47.558Z"
   },
   {
    "duration": 311,
    "start_time": "2023-03-14T18:19:47.750Z"
   },
   {
    "duration": 253,
    "start_time": "2023-03-14T18:19:48.062Z"
   },
   {
    "duration": 393,
    "start_time": "2023-03-14T18:19:48.321Z"
   },
   {
    "duration": 423,
    "start_time": "2023-03-14T18:19:48.721Z"
   },
   {
    "duration": 1479,
    "start_time": "2023-03-14T18:19:49.146Z"
   },
   {
    "duration": 47,
    "start_time": "2023-03-14T18:19:50.628Z"
   },
   {
    "duration": 237,
    "start_time": "2023-03-14T18:19:50.677Z"
   },
   {
    "duration": 3337,
    "start_time": "2023-03-14T18:20:00.307Z"
   },
   {
    "duration": 360,
    "start_time": "2023-03-14T18:20:03.646Z"
   },
   {
    "duration": 68,
    "start_time": "2023-03-14T18:20:04.008Z"
   },
   {
    "duration": 397,
    "start_time": "2023-03-14T18:20:04.079Z"
   },
   {
    "duration": 360,
    "start_time": "2023-03-14T18:20:04.478Z"
   },
   {
    "duration": 540,
    "start_time": "2023-03-14T18:20:04.844Z"
   },
   {
    "duration": 357,
    "start_time": "2023-03-14T18:20:05.386Z"
   },
   {
    "duration": 190,
    "start_time": "2023-03-14T18:20:05.746Z"
   },
   {
    "duration": 210,
    "start_time": "2023-03-14T18:20:05.937Z"
   },
   {
    "duration": 172,
    "start_time": "2023-03-14T18:20:06.150Z"
   },
   {
    "duration": 163,
    "start_time": "2023-03-14T18:20:06.324Z"
   },
   {
    "duration": 170,
    "start_time": "2023-03-14T18:20:06.490Z"
   },
   {
    "duration": 180,
    "start_time": "2023-03-14T18:20:06.662Z"
   },
   {
    "duration": 294,
    "start_time": "2023-03-14T18:20:06.845Z"
   },
   {
    "duration": 245,
    "start_time": "2023-03-14T18:20:07.144Z"
   },
   {
    "duration": 379,
    "start_time": "2023-03-14T18:20:07.391Z"
   },
   {
    "duration": 425,
    "start_time": "2023-03-14T18:20:07.772Z"
   },
   {
    "duration": 1441,
    "start_time": "2023-03-14T18:20:08.199Z"
   },
   {
    "duration": 31,
    "start_time": "2023-03-14T18:20:09.643Z"
   },
   {
    "duration": 261,
    "start_time": "2023-03-14T18:20:09.678Z"
   },
   {
    "duration": 3128,
    "start_time": "2023-03-15T10:54:28.610Z"
   },
   {
    "duration": 12,
    "start_time": "2023-03-15T10:54:31.740Z"
   },
   {
    "duration": 30,
    "start_time": "2023-03-15T10:54:31.753Z"
   },
   {
    "duration": 32,
    "start_time": "2023-03-15T10:54:31.784Z"
   },
   {
    "duration": 31,
    "start_time": "2023-03-15T10:54:31.818Z"
   },
   {
    "duration": 19,
    "start_time": "2023-03-15T10:54:31.851Z"
   },
   {
    "duration": 20,
    "start_time": "2023-03-15T10:54:31.872Z"
   },
   {
    "duration": 43,
    "start_time": "2023-03-15T10:54:31.893Z"
   },
   {
    "duration": 17,
    "start_time": "2023-03-15T10:54:31.938Z"
   },
   {
    "duration": 20,
    "start_time": "2023-03-15T10:54:31.957Z"
   },
   {
    "duration": 7,
    "start_time": "2023-03-15T10:54:31.979Z"
   },
   {
    "duration": 12,
    "start_time": "2023-03-15T10:54:31.988Z"
   },
   {
    "duration": 169,
    "start_time": "2023-03-15T10:54:32.002Z"
   },
   {
    "duration": 55,
    "start_time": "2023-03-15T10:54:32.174Z"
   },
   {
    "duration": 340,
    "start_time": "2023-03-15T10:54:32.231Z"
   },
   {
    "duration": 314,
    "start_time": "2023-03-15T10:54:32.572Z"
   },
   {
    "duration": 408,
    "start_time": "2023-03-15T10:54:32.887Z"
   },
   {
    "duration": 314,
    "start_time": "2023-03-15T10:54:33.296Z"
   },
   {
    "duration": 153,
    "start_time": "2023-03-15T10:54:33.613Z"
   },
   {
    "duration": 191,
    "start_time": "2023-03-15T10:54:33.768Z"
   },
   {
    "duration": 151,
    "start_time": "2023-03-15T10:54:33.961Z"
   },
   {
    "duration": 153,
    "start_time": "2023-03-15T10:54:34.113Z"
   },
   {
    "duration": 155,
    "start_time": "2023-03-15T10:54:34.268Z"
   },
   {
    "duration": 151,
    "start_time": "2023-03-15T10:54:34.424Z"
   },
   {
    "duration": 249,
    "start_time": "2023-03-15T10:54:34.577Z"
   },
   {
    "duration": 219,
    "start_time": "2023-03-15T10:54:34.827Z"
   },
   {
    "duration": 348,
    "start_time": "2023-03-15T10:54:35.048Z"
   },
   {
    "duration": 388,
    "start_time": "2023-03-15T10:54:35.398Z"
   },
   {
    "duration": 1183,
    "start_time": "2023-03-15T10:54:35.788Z"
   },
   {
    "duration": 25,
    "start_time": "2023-03-15T10:54:36.973Z"
   },
   {
    "duration": 205,
    "start_time": "2023-03-15T10:54:37.000Z"
   },
   {
    "duration": 17,
    "start_time": "2023-03-15T10:54:56.995Z"
   },
   {
    "duration": 14,
    "start_time": "2023-03-15T10:55:13.477Z"
   },
   {
    "duration": 17,
    "start_time": "2023-03-15T10:55:16.833Z"
   },
   {
    "duration": 30,
    "start_time": "2023-03-15T10:55:28.008Z"
   },
   {
    "duration": 29,
    "start_time": "2023-03-15T11:01:22.107Z"
   },
   {
    "duration": 19,
    "start_time": "2023-03-15T11:01:26.011Z"
   },
   {
    "duration": 21,
    "start_time": "2023-03-15T11:01:33.564Z"
   },
   {
    "duration": 21,
    "start_time": "2023-03-15T11:02:22.278Z"
   },
   {
    "duration": 2070,
    "start_time": "2023-03-15T11:03:01.949Z"
   },
   {
    "duration": 13,
    "start_time": "2023-03-15T11:03:04.021Z"
   },
   {
    "duration": 22,
    "start_time": "2023-03-15T11:03:04.035Z"
   },
   {
    "duration": 38,
    "start_time": "2023-03-15T11:03:04.059Z"
   },
   {
    "duration": 44,
    "start_time": "2023-03-15T11:03:04.099Z"
   },
   {
    "duration": 17,
    "start_time": "2023-03-15T11:03:04.145Z"
   },
   {
    "duration": 32,
    "start_time": "2023-03-15T11:03:04.164Z"
   },
   {
    "duration": 35,
    "start_time": "2023-03-15T11:03:04.198Z"
   },
   {
    "duration": 16,
    "start_time": "2023-03-15T11:03:04.235Z"
   },
   {
    "duration": 18,
    "start_time": "2023-03-15T11:03:04.254Z"
   },
   {
    "duration": 12,
    "start_time": "2023-03-15T11:03:04.274Z"
   },
   {
    "duration": 14,
    "start_time": "2023-03-15T11:03:04.288Z"
   },
   {
    "duration": 180,
    "start_time": "2023-03-15T11:03:04.303Z"
   },
   {
    "duration": 53,
    "start_time": "2023-03-15T11:03:04.485Z"
   },
   {
    "duration": 327,
    "start_time": "2023-03-15T11:03:04.540Z"
   },
   {
    "duration": 326,
    "start_time": "2023-03-15T11:03:04.869Z"
   },
   {
    "duration": 309,
    "start_time": "2023-03-15T11:03:05.197Z"
   },
   {
    "duration": 402,
    "start_time": "2023-03-15T11:03:05.507Z"
   },
   {
    "duration": 148,
    "start_time": "2023-03-15T11:03:05.911Z"
   },
   {
    "duration": 175,
    "start_time": "2023-03-15T11:03:06.061Z"
   },
   {
    "duration": 158,
    "start_time": "2023-03-15T11:03:06.237Z"
   },
   {
    "duration": 131,
    "start_time": "2023-03-15T11:03:06.397Z"
   },
   {
    "duration": 145,
    "start_time": "2023-03-15T11:03:06.529Z"
   },
   {
    "duration": 145,
    "start_time": "2023-03-15T11:03:06.676Z"
   },
   {
    "duration": 266,
    "start_time": "2023-03-15T11:03:06.823Z"
   },
   {
    "duration": 150,
    "start_time": "2023-03-15T11:03:07.091Z"
   },
   {
    "duration": 440,
    "start_time": "2023-03-15T11:03:07.243Z"
   },
   {
    "duration": 371,
    "start_time": "2023-03-15T11:03:07.686Z"
   },
   {
    "duration": 1212,
    "start_time": "2023-03-15T11:03:08.059Z"
   },
   {
    "duration": 25,
    "start_time": "2023-03-15T11:03:09.272Z"
   },
   {
    "duration": 210,
    "start_time": "2023-03-15T11:03:09.299Z"
   },
   {
    "duration": 22,
    "start_time": "2023-03-15T11:03:45.338Z"
   },
   {
    "duration": 23,
    "start_time": "2023-03-15T11:03:54.379Z"
   },
   {
    "duration": 15,
    "start_time": "2023-03-15T11:04:28.605Z"
   },
   {
    "duration": 9,
    "start_time": "2023-03-15T11:04:32.479Z"
   },
   {
    "duration": 2089,
    "start_time": "2023-03-15T11:04:40.908Z"
   },
   {
    "duration": 21,
    "start_time": "2023-03-15T11:04:43.000Z"
   },
   {
    "duration": 19,
    "start_time": "2023-03-15T11:04:43.023Z"
   },
   {
    "duration": 27,
    "start_time": "2023-03-15T11:04:43.044Z"
   },
   {
    "duration": 52,
    "start_time": "2023-03-15T11:04:43.074Z"
   },
   {
    "duration": 17,
    "start_time": "2023-03-15T11:04:43.128Z"
   },
   {
    "duration": 27,
    "start_time": "2023-03-15T11:04:43.146Z"
   },
   {
    "duration": 23,
    "start_time": "2023-03-15T11:04:43.175Z"
   },
   {
    "duration": 33,
    "start_time": "2023-03-15T11:04:43.199Z"
   },
   {
    "duration": 8,
    "start_time": "2023-03-15T11:04:43.233Z"
   },
   {
    "duration": 9,
    "start_time": "2023-03-15T11:04:43.242Z"
   },
   {
    "duration": 12,
    "start_time": "2023-03-15T11:04:43.253Z"
   },
   {
    "duration": 189,
    "start_time": "2023-03-15T11:04:43.267Z"
   },
   {
    "duration": 40,
    "start_time": "2023-03-15T11:04:43.459Z"
   },
   {
    "duration": 328,
    "start_time": "2023-03-15T11:04:43.500Z"
   },
   {
    "duration": 303,
    "start_time": "2023-03-15T11:04:43.830Z"
   },
   {
    "duration": 299,
    "start_time": "2023-03-15T11:04:44.135Z"
   },
   {
    "duration": 304,
    "start_time": "2023-03-15T11:04:44.436Z"
   },
   {
    "duration": 156,
    "start_time": "2023-03-15T11:04:44.742Z"
   },
   {
    "duration": 177,
    "start_time": "2023-03-15T11:04:44.900Z"
   },
   {
    "duration": 269,
    "start_time": "2023-03-15T11:04:45.079Z"
   },
   {
    "duration": 126,
    "start_time": "2023-03-15T11:04:45.350Z"
   },
   {
    "duration": 152,
    "start_time": "2023-03-15T11:04:45.478Z"
   },
   {
    "duration": 140,
    "start_time": "2023-03-15T11:04:45.632Z"
   },
   {
    "duration": 245,
    "start_time": "2023-03-15T11:04:45.774Z"
   },
   {
    "duration": 134,
    "start_time": "2023-03-15T11:04:46.020Z"
   },
   {
    "duration": 337,
    "start_time": "2023-03-15T11:04:46.155Z"
   },
   {
    "duration": 355,
    "start_time": "2023-03-15T11:04:46.493Z"
   },
   {
    "duration": 1256,
    "start_time": "2023-03-15T11:04:46.850Z"
   },
   {
    "duration": 31,
    "start_time": "2023-03-15T11:04:48.108Z"
   },
   {
    "duration": 211,
    "start_time": "2023-03-15T11:04:48.141Z"
   },
   {
    "duration": 2302,
    "start_time": "2023-03-15T11:08:08.209Z"
   },
   {
    "duration": 24,
    "start_time": "2023-03-15T11:08:10.514Z"
   },
   {
    "duration": 43,
    "start_time": "2023-03-15T11:08:10.540Z"
   },
   {
    "duration": 43,
    "start_time": "2023-03-15T11:08:10.586Z"
   },
   {
    "duration": 41,
    "start_time": "2023-03-15T11:08:10.631Z"
   },
   {
    "duration": 22,
    "start_time": "2023-03-15T11:08:10.674Z"
   },
   {
    "duration": 47,
    "start_time": "2023-03-15T11:08:10.698Z"
   },
   {
    "duration": 22,
    "start_time": "2023-03-15T11:08:10.747Z"
   },
   {
    "duration": 14,
    "start_time": "2023-03-15T11:08:10.771Z"
   },
   {
    "duration": 35,
    "start_time": "2023-03-15T11:08:10.787Z"
   },
   {
    "duration": 9,
    "start_time": "2023-03-15T11:08:10.824Z"
   },
   {
    "duration": 11,
    "start_time": "2023-03-15T11:08:10.835Z"
   },
   {
    "duration": 198,
    "start_time": "2023-03-15T11:08:10.848Z"
   },
   {
    "duration": 49,
    "start_time": "2023-03-15T11:08:11.049Z"
   },
   {
    "duration": 339,
    "start_time": "2023-03-15T11:08:11.099Z"
   },
   {
    "duration": 315,
    "start_time": "2023-03-15T11:08:11.440Z"
   },
   {
    "duration": 407,
    "start_time": "2023-03-15T11:08:11.756Z"
   },
   {
    "duration": 328,
    "start_time": "2023-03-15T11:08:12.165Z"
   },
   {
    "duration": 166,
    "start_time": "2023-03-15T11:08:12.495Z"
   },
   {
    "duration": 190,
    "start_time": "2023-03-15T11:08:12.663Z"
   },
   {
    "duration": 166,
    "start_time": "2023-03-15T11:08:12.855Z"
   },
   {
    "duration": 147,
    "start_time": "2023-03-15T11:08:13.023Z"
   },
   {
    "duration": 143,
    "start_time": "2023-03-15T11:08:13.171Z"
   },
   {
    "duration": 147,
    "start_time": "2023-03-15T11:08:13.320Z"
   },
   {
    "duration": 332,
    "start_time": "2023-03-15T11:08:13.470Z"
   },
   {
    "duration": 147,
    "start_time": "2023-03-15T11:08:13.804Z"
   },
   {
    "duration": 350,
    "start_time": "2023-03-15T11:08:13.953Z"
   },
   {
    "duration": 402,
    "start_time": "2023-03-15T11:08:14.307Z"
   },
   {
    "duration": 1272,
    "start_time": "2023-03-15T11:08:14.711Z"
   },
   {
    "duration": 36,
    "start_time": "2023-03-15T11:08:15.985Z"
   },
   {
    "duration": 207,
    "start_time": "2023-03-15T11:08:16.023Z"
   },
   {
    "duration": 2126,
    "start_time": "2023-03-15T11:10:51.976Z"
   },
   {
    "duration": 19,
    "start_time": "2023-03-15T11:10:54.104Z"
   },
   {
    "duration": 17,
    "start_time": "2023-03-15T11:10:54.125Z"
   },
   {
    "duration": 30,
    "start_time": "2023-03-15T11:10:54.144Z"
   },
   {
    "duration": 58,
    "start_time": "2023-03-15T11:10:54.176Z"
   },
   {
    "duration": 18,
    "start_time": "2023-03-15T11:10:54.235Z"
   },
   {
    "duration": 21,
    "start_time": "2023-03-15T11:10:54.255Z"
   },
   {
    "duration": 54,
    "start_time": "2023-03-15T11:10:54.278Z"
   },
   {
    "duration": 15,
    "start_time": "2023-03-15T11:10:54.334Z"
   },
   {
    "duration": 8,
    "start_time": "2023-03-15T11:10:54.352Z"
   },
   {
    "duration": 8,
    "start_time": "2023-03-15T11:10:54.361Z"
   },
   {
    "duration": 12,
    "start_time": "2023-03-15T11:10:54.371Z"
   },
   {
    "duration": 187,
    "start_time": "2023-03-15T11:10:54.422Z"
   },
   {
    "duration": 48,
    "start_time": "2023-03-15T11:10:54.611Z"
   },
   {
    "duration": 345,
    "start_time": "2023-03-15T11:10:54.661Z"
   },
   {
    "duration": 318,
    "start_time": "2023-03-15T11:10:55.008Z"
   },
   {
    "duration": 296,
    "start_time": "2023-03-15T11:10:55.327Z"
   },
   {
    "duration": 325,
    "start_time": "2023-03-15T11:10:55.625Z"
   },
   {
    "duration": 289,
    "start_time": "2023-03-15T11:10:55.952Z"
   },
   {
    "duration": 173,
    "start_time": "2023-03-15T11:10:56.243Z"
   },
   {
    "duration": 164,
    "start_time": "2023-03-15T11:10:56.422Z"
   },
   {
    "duration": 139,
    "start_time": "2023-03-15T11:10:56.588Z"
   },
   {
    "duration": 158,
    "start_time": "2023-03-15T11:10:56.730Z"
   },
   {
    "duration": 161,
    "start_time": "2023-03-15T11:10:56.889Z"
   },
   {
    "duration": 247,
    "start_time": "2023-03-15T11:10:57.051Z"
   },
   {
    "duration": 153,
    "start_time": "2023-03-15T11:10:57.300Z"
   },
   {
    "duration": 343,
    "start_time": "2023-03-15T11:10:57.454Z"
   },
   {
    "duration": 460,
    "start_time": "2023-03-15T11:10:57.800Z"
   },
   {
    "duration": 1173,
    "start_time": "2023-03-15T11:10:58.262Z"
   },
   {
    "duration": 29,
    "start_time": "2023-03-15T11:10:59.437Z"
   },
   {
    "duration": 309,
    "start_time": "2023-03-15T11:10:59.467Z"
   },
   {
    "duration": 2135,
    "start_time": "2023-03-15T11:40:24.632Z"
   },
   {
    "duration": 12,
    "start_time": "2023-03-15T11:40:26.769Z"
   },
   {
    "duration": 24,
    "start_time": "2023-03-15T11:40:26.782Z"
   },
   {
    "duration": 38,
    "start_time": "2023-03-15T11:40:26.808Z"
   },
   {
    "duration": 30,
    "start_time": "2023-03-15T11:40:26.849Z"
   },
   {
    "duration": 46,
    "start_time": "2023-03-15T11:40:26.881Z"
   },
   {
    "duration": 23,
    "start_time": "2023-03-15T11:40:26.929Z"
   },
   {
    "duration": 42,
    "start_time": "2023-03-15T11:40:26.954Z"
   },
   {
    "duration": 23,
    "start_time": "2023-03-15T11:40:26.998Z"
   },
   {
    "duration": 11,
    "start_time": "2023-03-15T11:40:27.023Z"
   },
   {
    "duration": 12,
    "start_time": "2023-03-15T11:40:27.036Z"
   },
   {
    "duration": 32,
    "start_time": "2023-03-15T11:40:27.050Z"
   },
   {
    "duration": 268,
    "start_time": "2023-03-15T11:40:27.084Z"
   },
   {
    "duration": 43,
    "start_time": "2023-03-15T11:40:27.355Z"
   },
   {
    "duration": 422,
    "start_time": "2023-03-15T11:40:27.400Z"
   },
   {
    "duration": 311,
    "start_time": "2023-03-15T11:40:27.824Z"
   },
   {
    "duration": 312,
    "start_time": "2023-03-15T11:40:28.137Z"
   },
   {
    "duration": 312,
    "start_time": "2023-03-15T11:40:28.450Z"
   },
   {
    "duration": 161,
    "start_time": "2023-03-15T11:40:28.764Z"
   },
   {
    "duration": 197,
    "start_time": "2023-03-15T11:40:28.927Z"
   },
   {
    "duration": 162,
    "start_time": "2023-03-15T11:40:29.126Z"
   },
   {
    "duration": 180,
    "start_time": "2023-03-15T11:40:29.289Z"
   },
   {
    "duration": 289,
    "start_time": "2023-03-15T11:40:29.470Z"
   },
   {
    "duration": 261,
    "start_time": "2023-03-15T11:40:29.760Z"
   },
   {
    "duration": 251,
    "start_time": "2023-03-15T11:40:30.023Z"
   },
   {
    "duration": 207,
    "start_time": "2023-03-15T11:40:30.276Z"
   },
   {
    "duration": 407,
    "start_time": "2023-03-15T11:40:30.485Z"
   },
   {
    "duration": 389,
    "start_time": "2023-03-15T11:40:30.895Z"
   },
   {
    "duration": 1277,
    "start_time": "2023-03-15T11:40:31.286Z"
   },
   {
    "duration": 29,
    "start_time": "2023-03-15T11:40:32.565Z"
   },
   {
    "duration": 208,
    "start_time": "2023-03-15T11:40:32.596Z"
   },
   {
    "duration": 46,
    "start_time": "2023-03-15T11:40:32.806Z"
   },
   {
    "duration": 2090,
    "start_time": "2023-03-15T11:40:55.937Z"
   },
   {
    "duration": 13,
    "start_time": "2023-03-15T11:40:58.029Z"
   },
   {
    "duration": 16,
    "start_time": "2023-03-15T11:40:58.044Z"
   },
   {
    "duration": 36,
    "start_time": "2023-03-15T11:40:58.063Z"
   },
   {
    "duration": 46,
    "start_time": "2023-03-15T11:40:58.101Z"
   },
   {
    "duration": 17,
    "start_time": "2023-03-15T11:40:58.149Z"
   },
   {
    "duration": 22,
    "start_time": "2023-03-15T11:40:58.167Z"
   },
   {
    "duration": 51,
    "start_time": "2023-03-15T11:40:58.190Z"
   },
   {
    "duration": 28,
    "start_time": "2023-03-15T11:40:58.243Z"
   },
   {
    "duration": 12,
    "start_time": "2023-03-15T11:40:58.274Z"
   },
   {
    "duration": 20,
    "start_time": "2023-03-15T11:40:58.288Z"
   },
   {
    "duration": 28,
    "start_time": "2023-03-15T11:40:58.310Z"
   },
   {
    "duration": 173,
    "start_time": "2023-03-15T11:40:58.340Z"
   },
   {
    "duration": 47,
    "start_time": "2023-03-15T11:40:58.521Z"
   },
   {
    "duration": 360,
    "start_time": "2023-03-15T11:40:58.569Z"
   },
   {
    "duration": 313,
    "start_time": "2023-03-15T11:40:58.931Z"
   },
   {
    "duration": 481,
    "start_time": "2023-03-15T11:40:59.246Z"
   },
   {
    "duration": 315,
    "start_time": "2023-03-15T11:40:59.730Z"
   },
   {
    "duration": 168,
    "start_time": "2023-03-15T11:41:00.046Z"
   },
   {
    "duration": 257,
    "start_time": "2023-03-15T11:41:00.216Z"
   },
   {
    "duration": 163,
    "start_time": "2023-03-15T11:41:00.475Z"
   },
   {
    "duration": 146,
    "start_time": "2023-03-15T11:41:00.640Z"
   },
   {
    "duration": 158,
    "start_time": "2023-03-15T11:41:00.788Z"
   },
   {
    "duration": 149,
    "start_time": "2023-03-15T11:41:00.948Z"
   },
   {
    "duration": 264,
    "start_time": "2023-03-15T11:41:01.098Z"
   },
   {
    "duration": 222,
    "start_time": "2023-03-15T11:41:01.363Z"
   },
   {
    "duration": 376,
    "start_time": "2023-03-15T11:41:01.587Z"
   },
   {
    "duration": 379,
    "start_time": "2023-03-15T11:41:01.966Z"
   },
   {
    "duration": 1238,
    "start_time": "2023-03-15T11:41:02.346Z"
   },
   {
    "duration": 26,
    "start_time": "2023-03-15T11:41:03.586Z"
   },
   {
    "duration": 201,
    "start_time": "2023-03-15T11:41:03.622Z"
   },
   {
    "duration": 2274,
    "start_time": "2023-03-15T11:41:10.806Z"
   },
   {
    "duration": 12,
    "start_time": "2023-03-15T11:41:13.083Z"
   },
   {
    "duration": 29,
    "start_time": "2023-03-15T11:41:13.097Z"
   },
   {
    "duration": 30,
    "start_time": "2023-03-15T11:41:13.128Z"
   },
   {
    "duration": 31,
    "start_time": "2023-03-15T11:41:13.161Z"
   },
   {
    "duration": 41,
    "start_time": "2023-03-15T11:41:13.194Z"
   },
   {
    "duration": 21,
    "start_time": "2023-03-15T11:41:13.237Z"
   },
   {
    "duration": 22,
    "start_time": "2023-03-15T11:41:13.260Z"
   },
   {
    "duration": 43,
    "start_time": "2023-03-15T11:41:13.284Z"
   },
   {
    "duration": 7,
    "start_time": "2023-03-15T11:41:13.329Z"
   },
   {
    "duration": 16,
    "start_time": "2023-03-15T11:41:13.338Z"
   },
   {
    "duration": 13,
    "start_time": "2023-03-15T11:41:13.356Z"
   },
   {
    "duration": 185,
    "start_time": "2023-03-15T11:41:13.371Z"
   },
   {
    "duration": 44,
    "start_time": "2023-03-15T11:41:13.559Z"
   },
   {
    "duration": 373,
    "start_time": "2023-03-15T11:41:13.604Z"
   },
   {
    "duration": 315,
    "start_time": "2023-03-15T11:41:13.979Z"
   },
   {
    "duration": 312,
    "start_time": "2023-03-15T11:41:14.295Z"
   },
   {
    "duration": 327,
    "start_time": "2023-03-15T11:41:14.608Z"
   },
   {
    "duration": 158,
    "start_time": "2023-03-15T11:41:14.937Z"
   },
   {
    "duration": 327,
    "start_time": "2023-03-15T11:41:15.097Z"
   },
   {
    "duration": 156,
    "start_time": "2023-03-15T11:41:15.426Z"
   },
   {
    "duration": 142,
    "start_time": "2023-03-15T11:41:15.584Z"
   },
   {
    "duration": 160,
    "start_time": "2023-03-15T11:41:15.728Z"
   },
   {
    "duration": 154,
    "start_time": "2023-03-15T11:41:15.890Z"
   },
   {
    "duration": 243,
    "start_time": "2023-03-15T11:41:16.046Z"
   },
   {
    "duration": 144,
    "start_time": "2023-03-15T11:41:16.291Z"
   },
   {
    "duration": 348,
    "start_time": "2023-03-15T11:41:16.437Z"
   },
   {
    "duration": 458,
    "start_time": "2023-03-15T11:41:16.787Z"
   },
   {
    "duration": 1202,
    "start_time": "2023-03-15T11:41:17.247Z"
   },
   {
    "duration": 30,
    "start_time": "2023-03-15T11:41:18.451Z"
   },
   {
    "duration": 248,
    "start_time": "2023-03-15T11:41:18.483Z"
   },
   {
    "duration": 2171,
    "start_time": "2023-03-15T11:41:23.012Z"
   },
   {
    "duration": 13,
    "start_time": "2023-03-15T11:41:25.185Z"
   },
   {
    "duration": 52,
    "start_time": "2023-03-15T11:41:25.200Z"
   },
   {
    "duration": 35,
    "start_time": "2023-03-15T11:41:25.254Z"
   },
   {
    "duration": 38,
    "start_time": "2023-03-15T11:41:25.291Z"
   },
   {
    "duration": 17,
    "start_time": "2023-03-15T11:41:25.331Z"
   },
   {
    "duration": 21,
    "start_time": "2023-03-15T11:41:25.350Z"
   },
   {
    "duration": 54,
    "start_time": "2023-03-15T11:41:25.373Z"
   },
   {
    "duration": 16,
    "start_time": "2023-03-15T11:41:25.429Z"
   },
   {
    "duration": 7,
    "start_time": "2023-03-15T11:41:25.448Z"
   },
   {
    "duration": 10,
    "start_time": "2023-03-15T11:41:25.457Z"
   },
   {
    "duration": 14,
    "start_time": "2023-03-15T11:41:25.469Z"
   },
   {
    "duration": 212,
    "start_time": "2023-03-15T11:41:25.485Z"
   },
   {
    "duration": 56,
    "start_time": "2023-03-15T11:41:25.699Z"
   },
   {
    "duration": 337,
    "start_time": "2023-03-15T11:41:25.757Z"
   },
   {
    "duration": 441,
    "start_time": "2023-03-15T11:41:26.096Z"
   },
   {
    "duration": 325,
    "start_time": "2023-03-15T11:41:26.539Z"
   },
   {
    "duration": 322,
    "start_time": "2023-03-15T11:41:26.865Z"
   },
   {
    "duration": 164,
    "start_time": "2023-03-15T11:41:27.189Z"
   },
   {
    "duration": 185,
    "start_time": "2023-03-15T11:41:27.355Z"
   },
   {
    "duration": 155,
    "start_time": "2023-03-15T11:41:27.542Z"
   },
   {
    "duration": 149,
    "start_time": "2023-03-15T11:41:27.699Z"
   },
   {
    "duration": 154,
    "start_time": "2023-03-15T11:41:27.850Z"
   },
   {
    "duration": 163,
    "start_time": "2023-03-15T11:41:28.005Z"
   },
   {
    "duration": 344,
    "start_time": "2023-03-15T11:41:28.169Z"
   },
   {
    "duration": 147,
    "start_time": "2023-03-15T11:41:28.514Z"
   },
   {
    "duration": 343,
    "start_time": "2023-03-15T11:41:28.663Z"
   },
   {
    "duration": 385,
    "start_time": "2023-03-15T11:41:29.009Z"
   },
   {
    "duration": 1412,
    "start_time": "2023-03-15T11:41:29.395Z"
   },
   {
    "duration": 33,
    "start_time": "2023-03-15T11:41:30.809Z"
   },
   {
    "duration": 226,
    "start_time": "2023-03-15T11:41:30.844Z"
   },
   {
    "duration": 3200,
    "start_time": "2023-03-15T11:41:39.857Z"
   },
   {
    "duration": 14,
    "start_time": "2023-03-15T11:41:43.060Z"
   },
   {
    "duration": 20,
    "start_time": "2023-03-15T11:41:43.076Z"
   },
   {
    "duration": 34,
    "start_time": "2023-03-15T11:41:43.098Z"
   },
   {
    "duration": 33,
    "start_time": "2023-03-15T11:41:43.134Z"
   },
   {
    "duration": 25,
    "start_time": "2023-03-15T11:41:43.169Z"
   },
   {
    "duration": 44,
    "start_time": "2023-03-15T11:41:43.197Z"
   },
   {
    "duration": 21,
    "start_time": "2023-03-15T11:41:43.243Z"
   },
   {
    "duration": 14,
    "start_time": "2023-03-15T11:41:43.266Z"
   },
   {
    "duration": 8,
    "start_time": "2023-03-15T11:41:43.282Z"
   },
   {
    "duration": 8,
    "start_time": "2023-03-15T11:41:43.322Z"
   },
   {
    "duration": 12,
    "start_time": "2023-03-15T11:41:43.331Z"
   },
   {
    "duration": 198,
    "start_time": "2023-03-15T11:41:43.345Z"
   },
   {
    "duration": 43,
    "start_time": "2023-03-15T11:41:43.544Z"
   },
   {
    "duration": 349,
    "start_time": "2023-03-15T11:41:43.588Z"
   },
   {
    "duration": 323,
    "start_time": "2023-03-15T11:41:43.939Z"
   },
   {
    "duration": 408,
    "start_time": "2023-03-15T11:41:44.264Z"
   },
   {
    "duration": 324,
    "start_time": "2023-03-15T11:41:44.674Z"
   },
   {
    "duration": 160,
    "start_time": "2023-03-15T11:41:45.000Z"
   },
   {
    "duration": 186,
    "start_time": "2023-03-15T11:41:45.162Z"
   },
   {
    "duration": 180,
    "start_time": "2023-03-15T11:41:45.350Z"
   },
   {
    "duration": 180,
    "start_time": "2023-03-15T11:41:45.533Z"
   },
   {
    "duration": 157,
    "start_time": "2023-03-15T11:41:45.720Z"
   },
   {
    "duration": 172,
    "start_time": "2023-03-15T11:41:45.880Z"
   },
   {
    "duration": 251,
    "start_time": "2023-03-15T11:41:46.054Z"
   },
   {
    "duration": 216,
    "start_time": "2023-03-15T11:41:46.308Z"
   },
   {
    "duration": 355,
    "start_time": "2023-03-15T11:41:46.526Z"
   },
   {
    "duration": 391,
    "start_time": "2023-03-15T11:41:46.885Z"
   },
   {
    "duration": 1238,
    "start_time": "2023-03-15T11:41:47.278Z"
   },
   {
    "duration": 26,
    "start_time": "2023-03-15T11:41:48.518Z"
   },
   {
    "duration": 227,
    "start_time": "2023-03-15T11:41:48.546Z"
   },
   {
    "duration": 2133,
    "start_time": "2023-03-15T11:41:54.222Z"
   },
   {
    "duration": 13,
    "start_time": "2023-03-15T11:41:56.357Z"
   },
   {
    "duration": 33,
    "start_time": "2023-03-15T11:41:56.372Z"
   },
   {
    "duration": 47,
    "start_time": "2023-03-15T11:41:56.408Z"
   },
   {
    "duration": 33,
    "start_time": "2023-03-15T11:41:56.459Z"
   },
   {
    "duration": 39,
    "start_time": "2023-03-15T11:41:56.494Z"
   },
   {
    "duration": 18,
    "start_time": "2023-03-15T11:41:56.535Z"
   },
   {
    "duration": 22,
    "start_time": "2023-03-15T11:41:56.555Z"
   },
   {
    "duration": 42,
    "start_time": "2023-03-15T11:41:56.579Z"
   },
   {
    "duration": 10,
    "start_time": "2023-03-15T11:41:56.623Z"
   },
   {
    "duration": 9,
    "start_time": "2023-03-15T11:41:56.635Z"
   },
   {
    "duration": 14,
    "start_time": "2023-03-15T11:41:56.646Z"
   },
   {
    "duration": 201,
    "start_time": "2023-03-15T11:41:56.662Z"
   },
   {
    "duration": 54,
    "start_time": "2023-03-15T11:41:56.867Z"
   },
   {
    "duration": 348,
    "start_time": "2023-03-15T11:41:56.923Z"
   },
   {
    "duration": 336,
    "start_time": "2023-03-15T11:41:57.273Z"
   },
   {
    "duration": 298,
    "start_time": "2023-03-15T11:41:57.610Z"
   },
   {
    "duration": 330,
    "start_time": "2023-03-15T11:41:57.910Z"
   },
   {
    "duration": 163,
    "start_time": "2023-03-15T11:41:58.243Z"
   },
   {
    "duration": 340,
    "start_time": "2023-03-15T11:41:58.407Z"
   },
   {
    "duration": 152,
    "start_time": "2023-03-15T11:41:58.748Z"
   },
   {
    "duration": 181,
    "start_time": "2023-03-15T11:41:58.902Z"
   },
   {
    "duration": 152,
    "start_time": "2023-03-15T11:41:59.085Z"
   },
   {
    "duration": 160,
    "start_time": "2023-03-15T11:41:59.239Z"
   },
   {
    "duration": 285,
    "start_time": "2023-03-15T11:41:59.400Z"
   },
   {
    "duration": 140,
    "start_time": "2023-03-15T11:41:59.686Z"
   },
   {
    "duration": 347,
    "start_time": "2023-03-15T11:41:59.828Z"
   },
   {
    "duration": 533,
    "start_time": "2023-03-15T11:42:00.177Z"
   },
   {
    "duration": 1203,
    "start_time": "2023-03-15T11:42:00.711Z"
   },
   {
    "duration": 26,
    "start_time": "2023-03-15T11:42:01.916Z"
   },
   {
    "duration": 211,
    "start_time": "2023-03-15T11:42:01.944Z"
   },
   {
    "duration": 3001,
    "start_time": "2023-03-15T21:44:00.807Z"
   },
   {
    "duration": 33,
    "start_time": "2023-03-15T21:44:03.811Z"
   },
   {
    "duration": 20,
    "start_time": "2023-03-15T21:44:03.845Z"
   },
   {
    "duration": 28,
    "start_time": "2023-03-15T21:44:03.866Z"
   },
   {
    "duration": 50,
    "start_time": "2023-03-15T21:44:03.897Z"
   },
   {
    "duration": 17,
    "start_time": "2023-03-15T21:44:03.948Z"
   },
   {
    "duration": 21,
    "start_time": "2023-03-15T21:44:03.968Z"
   },
   {
    "duration": 51,
    "start_time": "2023-03-15T21:44:03.990Z"
   },
   {
    "duration": 14,
    "start_time": "2023-03-15T21:44:04.043Z"
   },
   {
    "duration": 8,
    "start_time": "2023-03-15T21:44:04.059Z"
   },
   {
    "duration": 15,
    "start_time": "2023-03-15T21:44:04.069Z"
   },
   {
    "duration": 46,
    "start_time": "2023-03-15T21:44:04.085Z"
   },
   {
    "duration": 204,
    "start_time": "2023-03-15T21:44:04.133Z"
   },
   {
    "duration": 48,
    "start_time": "2023-03-15T21:44:04.341Z"
   },
   {
    "duration": 359,
    "start_time": "2023-03-15T21:44:04.391Z"
   },
   {
    "duration": 321,
    "start_time": "2023-03-15T21:44:04.752Z"
   },
   {
    "duration": 433,
    "start_time": "2023-03-15T21:44:05.075Z"
   },
   {
    "duration": 322,
    "start_time": "2023-03-15T21:44:05.510Z"
   },
   {
    "duration": 155,
    "start_time": "2023-03-15T21:44:05.837Z"
   },
   {
    "duration": 184,
    "start_time": "2023-03-15T21:44:05.994Z"
   },
   {
    "duration": 173,
    "start_time": "2023-03-15T21:44:06.179Z"
   },
   {
    "duration": 137,
    "start_time": "2023-03-15T21:44:06.354Z"
   },
   {
    "duration": 147,
    "start_time": "2023-03-15T21:44:06.493Z"
   },
   {
    "duration": 151,
    "start_time": "2023-03-15T21:44:06.642Z"
   },
   {
    "duration": 260,
    "start_time": "2023-03-15T21:44:06.795Z"
   },
   {
    "duration": 224,
    "start_time": "2023-03-15T21:44:07.057Z"
   },
   {
    "duration": 362,
    "start_time": "2023-03-15T21:44:07.283Z"
   },
   {
    "duration": 391,
    "start_time": "2023-03-15T21:44:07.647Z"
   },
   {
    "duration": 1315,
    "start_time": "2023-03-15T21:44:08.040Z"
   },
   {
    "duration": 25,
    "start_time": "2023-03-15T21:44:09.357Z"
   },
   {
    "duration": 220,
    "start_time": "2023-03-15T21:44:09.384Z"
   },
   {
    "duration": 8,
    "start_time": "2023-03-15T21:45:57.685Z"
   },
   {
    "duration": 15,
    "start_time": "2023-03-15T21:46:20.037Z"
   },
   {
    "duration": 89,
    "start_time": "2023-03-15T21:46:24.456Z"
   }
  ],
  "kernelspec": {
   "display_name": "Python 3 (ipykernel)",
   "language": "python",
   "name": "python3"
  },
  "language_info": {
   "codemirror_mode": {
    "name": "ipython",
    "version": 3
   },
   "file_extension": ".py",
   "mimetype": "text/x-python",
   "name": "python",
   "nbconvert_exporter": "python",
   "pygments_lexer": "ipython3",
   "version": "3.9.5"
  },
  "toc": {
   "base_numbering": 1,
   "nav_menu": {},
   "number_sections": true,
   "sideBar": true,
   "skip_h1_title": true,
   "title_cell": "Table of Contents",
   "title_sidebar": "Contents",
   "toc_cell": false,
   "toc_position": {},
   "toc_section_display": true,
   "toc_window_display": false
  }
 },
 "nbformat": 4,
 "nbformat_minor": 2
}
